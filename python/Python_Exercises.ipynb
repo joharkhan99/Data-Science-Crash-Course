{
 "cells": [
  {
   "cell_type": "code",
   "execution_count": 1,
   "id": "21854470",
   "metadata": {},
   "outputs": [
    {
     "data": {
      "text/plain": [
       "2401"
      ]
     },
     "execution_count": 1,
     "metadata": {},
     "output_type": "execute_result"
    }
   ],
   "source": [
    "7**4"
   ]
  },
  {
   "cell_type": "code",
   "execution_count": 2,
   "id": "299b9450",
   "metadata": {},
   "outputs": [
    {
     "data": {
      "text/plain": [
       "['Hi', 'I', 'am', 'human']"
      ]
     },
     "execution_count": 2,
     "metadata": {},
     "output_type": "execute_result"
    }
   ],
   "source": [
    "s = \"Hi I am human\"\n",
    "s.split(\" \")"
   ]
  },
  {
   "cell_type": "code",
   "execution_count": 3,
   "id": "a10d9b45",
   "metadata": {},
   "outputs": [
    {
     "data": {
      "text/plain": [
       "'hello'"
      ]
     },
     "execution_count": 3,
     "metadata": {},
     "output_type": "execute_result"
    }
   ],
   "source": [
    "d = {'K1':[1,2,3, {'tricky': ['oh', 'man', {'target':[1,2,3, 'hello']}]}]}\n",
    "d['K1'][3]['tricky'][2]['target'][3]"
   ]
  },
  {
   "cell_type": "code",
   "execution_count": 5,
   "id": "a8cf5f17",
   "metadata": {},
   "outputs": [
    {
     "name": "stdout",
     "output_type": "stream",
     "text": [
      "The diameter of Earth is 12742 kilometers.\n"
     ]
    }
   ],
   "source": [
    "planet = \"Earth\"\n",
    "diameter = 12742\n",
    "\n",
    "print(\"The diameter of {0} is {1} kilometers.\".format(planet, diameter))"
   ]
  },
  {
   "cell_type": "code",
   "execution_count": 6,
   "id": "ed839856",
   "metadata": {},
   "outputs": [
    {
     "data": {
      "text/plain": [
       "'hello'"
      ]
     },
     "execution_count": 6,
     "metadata": {},
     "output_type": "execute_result"
    }
   ],
   "source": [
    "lst = [1,2,[3,4],[5,[100,200,['hello']],23,11],1,7]\n",
    "\n",
    "lst[3][1][2][0]"
   ]
  },
  {
   "cell_type": "markdown",
   "id": "c6bd6552",
   "metadata": {},
   "source": [
    "tuples are immutable and cannot be changed while lists are mutable and can be changed or modified"
   ]
  },
  {
   "cell_type": "code",
   "execution_count": 7,
   "id": "b6f70848",
   "metadata": {},
   "outputs": [
    {
     "data": {
      "text/plain": [
       "'domain.com'"
      ]
     },
     "execution_count": 7,
     "metadata": {},
     "output_type": "execute_result"
    }
   ],
   "source": [
    "s = \"user@domain.com\"\n",
    "s.split(\"@\")[1]"
   ]
  },
  {
   "cell_type": "code",
   "execution_count": 12,
   "id": "9562036b",
   "metadata": {},
   "outputs": [
    {
     "name": "stdout",
     "output_type": "stream",
     "text": [
      "True\n"
     ]
    }
   ],
   "source": [
    "def findDog(st):\n",
    "    if st.find(\"dog\") != -1:\n",
    "        return True\n",
    "    else:\n",
    "        return False\n",
    "    \n",
    "print(findDog(\"I have a dog!\"))"
   ]
  },
  {
   "cell_type": "code",
   "execution_count": 14,
   "id": "c55ce242",
   "metadata": {},
   "outputs": [
    {
     "name": "stdout",
     "output_type": "stream",
     "text": [
      "2\n"
     ]
    }
   ],
   "source": [
    "def findDog(st):\n",
    "    return st.lower().split().count(\"dog\")\n",
    "\n",
    "print(findDog(\"Dog has a friend dog\"))"
   ]
  },
  {
   "cell_type": "code",
   "execution_count": 21,
   "id": "7a8b2794",
   "metadata": {},
   "outputs": [
    {
     "name": "stdout",
     "output_type": "stream",
     "text": [
      "['soup', 'salad']\n"
     ]
    }
   ],
   "source": [
    "seq = ['soup','dog','salad','cat','great']\n",
    "\n",
    "print(list(filter(lambda item: item.startswith('s'), seq)))"
   ]
  },
  {
   "cell_type": "code",
   "execution_count": 24,
   "id": "f6a5f96b",
   "metadata": {},
   "outputs": [
    {
     "name": "stdout",
     "output_type": "stream",
     "text": [
      "Small ticket\n"
     ]
    }
   ],
   "source": [
    "def Speeding(speed, is_birthday):\n",
    "    if is_birthday:\n",
    "        speed = speed - 5\n",
    "\n",
    "    result = \"\"\n",
    "    if speed<60:\n",
    "        result = \"No ticket\"\n",
    "    elif speed>=61 and speed<=80:\n",
    "        result = \"Small ticket\"\n",
    "    elif speed>=81:\n",
    "        result = \"Big Ticket\"\n",
    "    print(result)\n",
    "\n",
    "Speeding(81, True)"
   ]
  },
  {
   "cell_type": "code",
   "execution_count": null,
   "id": "5e79aff3",
   "metadata": {},
   "outputs": [],
   "source": []
  }
 ],
 "metadata": {
  "kernelspec": {
   "display_name": "Python 3 (ipykernel)",
   "language": "python",
   "name": "python3"
  },
  "language_info": {
   "codemirror_mode": {
    "name": "ipython",
    "version": 3
   },
   "file_extension": ".py",
   "mimetype": "text/x-python",
   "name": "python",
   "nbconvert_exporter": "python",
   "pygments_lexer": "ipython3",
   "version": "3.9.12"
  }
 },
 "nbformat": 4,
 "nbformat_minor": 5
}
