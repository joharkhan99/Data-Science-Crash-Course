{
 "cells": [
  {
   "cell_type": "code",
   "execution_count": 1,
   "id": "d362d98f",
   "metadata": {},
   "outputs": [
    {
     "name": "stdout",
     "output_type": "stream",
     "text": [
      "Collecting cufflinks\n",
      "  Downloading cufflinks-0.17.3.tar.gz (81 kB)\n",
      "                                              0.0/81.7 kB ? eta -:--:--\n",
      "     -----------------------------------      71.7/81.7 kB 2.0 MB/s eta 0:00:01\n",
      "     ---------------------------------------- 81.7/81.7 kB 1.5 MB/s eta 0:00:00\n",
      "  Preparing metadata (setup.py): started\n",
      "  Preparing metadata (setup.py): finished with status 'done'\n",
      "Requirement already satisfied: numpy>=1.9.2 in d:\\apps\\anaconda\\files\\lib\\site-packages (from cufflinks) (1.23.5)\n",
      "Requirement already satisfied: pandas>=0.19.2 in d:\\apps\\anaconda\\files\\lib\\site-packages (from cufflinks) (1.4.2)\n",
      "Requirement already satisfied: plotly>=4.1.1 in d:\\apps\\anaconda\\files\\lib\\site-packages (from cufflinks) (5.15.0)\n",
      "Requirement already satisfied: six>=1.9.0 in d:\\apps\\anaconda\\files\\lib\\site-packages (from cufflinks) (1.15.0)\n",
      "Collecting colorlover>=0.2.1 (from cufflinks)\n",
      "  Downloading colorlover-0.3.0-py3-none-any.whl (8.9 kB)\n",
      "Requirement already satisfied: setuptools>=34.4.1 in d:\\apps\\anaconda\\files\\lib\\site-packages (from cufflinks) (65.6.3)\n",
      "Requirement already satisfied: ipython>=5.3.0 in d:\\apps\\anaconda\\files\\lib\\site-packages (from cufflinks) (8.12.0)\n",
      "Requirement already satisfied: ipywidgets>=7.0.0 in d:\\apps\\anaconda\\files\\lib\\site-packages (from cufflinks) (8.0.4)\n",
      "Requirement already satisfied: backcall in d:\\apps\\anaconda\\files\\lib\\site-packages (from ipython>=5.3.0->cufflinks) (0.2.0)\n",
      "Requirement already satisfied: decorator in d:\\apps\\anaconda\\files\\lib\\site-packages (from ipython>=5.3.0->cufflinks) (5.1.1)\n",
      "Requirement already satisfied: jedi>=0.16 in d:\\apps\\anaconda\\files\\lib\\site-packages (from ipython>=5.3.0->cufflinks) (0.18.1)\n",
      "Requirement already satisfied: matplotlib-inline in d:\\apps\\anaconda\\files\\lib\\site-packages (from ipython>=5.3.0->cufflinks) (0.1.6)\n",
      "Requirement already satisfied: pickleshare in d:\\apps\\anaconda\\files\\lib\\site-packages (from ipython>=5.3.0->cufflinks) (0.7.5)\n",
      "Requirement already satisfied: prompt-toolkit!=3.0.37,<3.1.0,>=3.0.30 in d:\\apps\\anaconda\\files\\lib\\site-packages (from ipython>=5.3.0->cufflinks) (3.0.36)\n",
      "Requirement already satisfied: pygments>=2.4.0 in d:\\apps\\anaconda\\files\\lib\\site-packages (from ipython>=5.3.0->cufflinks) (2.11.2)\n",
      "Requirement already satisfied: stack-data in d:\\apps\\anaconda\\files\\lib\\site-packages (from ipython>=5.3.0->cufflinks) (0.2.0)\n",
      "Requirement already satisfied: traitlets>=5 in d:\\apps\\anaconda\\files\\lib\\site-packages (from ipython>=5.3.0->cufflinks) (5.7.1)\n",
      "Requirement already satisfied: typing-extensions in d:\\apps\\anaconda\\files\\lib\\site-packages (from ipython>=5.3.0->cufflinks) (3.7.4.3)\n",
      "Requirement already satisfied: colorama in d:\\apps\\anaconda\\files\\lib\\site-packages (from ipython>=5.3.0->cufflinks) (0.4.6)\n",
      "Requirement already satisfied: ipykernel>=4.5.1 in d:\\apps\\anaconda\\files\\lib\\site-packages (from ipywidgets>=7.0.0->cufflinks) (6.19.2)\n",
      "Requirement already satisfied: widgetsnbextension~=4.0 in d:\\apps\\anaconda\\files\\lib\\site-packages (from ipywidgets>=7.0.0->cufflinks) (4.0.5)\n",
      "Requirement already satisfied: jupyterlab-widgets~=3.0 in d:\\apps\\anaconda\\files\\lib\\site-packages (from ipywidgets>=7.0.0->cufflinks) (3.0.5)\n",
      "Requirement already satisfied: python-dateutil>=2.8.1 in d:\\apps\\anaconda\\files\\lib\\site-packages (from pandas>=0.19.2->cufflinks) (2.8.2)\n",
      "Requirement already satisfied: pytz>=2020.1 in d:\\apps\\anaconda\\files\\lib\\site-packages (from pandas>=0.19.2->cufflinks) (2022.7)\n",
      "Requirement already satisfied: tenacity>=6.2.0 in d:\\apps\\anaconda\\files\\lib\\site-packages (from plotly>=4.1.1->cufflinks) (8.0.1)\n",
      "Requirement already satisfied: packaging in d:\\apps\\anaconda\\files\\lib\\site-packages (from plotly>=4.1.1->cufflinks) (23.0)\n",
      "Requirement already satisfied: comm>=0.1.1 in d:\\apps\\anaconda\\files\\lib\\site-packages (from ipykernel>=4.5.1->ipywidgets>=7.0.0->cufflinks) (0.1.2)\n",
      "Requirement already satisfied: debugpy>=1.0 in d:\\apps\\anaconda\\files\\lib\\site-packages (from ipykernel>=4.5.1->ipywidgets>=7.0.0->cufflinks) (1.5.1)\n",
      "Requirement already satisfied: jupyter-client>=6.1.12 in d:\\apps\\anaconda\\files\\lib\\site-packages (from ipykernel>=4.5.1->ipywidgets>=7.0.0->cufflinks) (8.1.0)\n",
      "Requirement already satisfied: nest-asyncio in d:\\apps\\anaconda\\files\\lib\\site-packages (from ipykernel>=4.5.1->ipywidgets>=7.0.0->cufflinks) (1.5.6)\n",
      "Requirement already satisfied: psutil in d:\\apps\\anaconda\\files\\lib\\site-packages (from ipykernel>=4.5.1->ipywidgets>=7.0.0->cufflinks) (5.9.0)\n",
      "Requirement already satisfied: pyzmq>=17 in d:\\apps\\anaconda\\files\\lib\\site-packages (from ipykernel>=4.5.1->ipywidgets>=7.0.0->cufflinks) (23.2.0)\n",
      "Requirement already satisfied: tornado>=6.1 in d:\\apps\\anaconda\\files\\lib\\site-packages (from ipykernel>=4.5.1->ipywidgets>=7.0.0->cufflinks) (6.2)\n",
      "Requirement already satisfied: parso<0.9.0,>=0.8.0 in d:\\apps\\anaconda\\files\\lib\\site-packages (from jedi>=0.16->ipython>=5.3.0->cufflinks) (0.8.3)\n",
      "Requirement already satisfied: wcwidth in d:\\apps\\anaconda\\files\\lib\\site-packages (from prompt-toolkit!=3.0.37,<3.1.0,>=3.0.30->ipython>=5.3.0->cufflinks) (0.2.5)\n",
      "Requirement already satisfied: executing in d:\\apps\\anaconda\\files\\lib\\site-packages (from stack-data->ipython>=5.3.0->cufflinks) (0.8.3)\n",
      "Requirement already satisfied: asttokens in d:\\apps\\anaconda\\files\\lib\\site-packages (from stack-data->ipython>=5.3.0->cufflinks) (2.0.5)\n",
      "Requirement already satisfied: pure-eval in d:\\apps\\anaconda\\files\\lib\\site-packages (from stack-data->ipython>=5.3.0->cufflinks) (0.2.2)\n",
      "Requirement already satisfied: importlib-metadata>=4.8.3 in d:\\apps\\anaconda\\files\\lib\\site-packages (from jupyter-client>=6.1.12->ipykernel>=4.5.1->ipywidgets>=7.0.0->cufflinks) (6.0.0)\n",
      "Requirement already satisfied: jupyter-core!=5.0.*,>=4.12 in d:\\apps\\anaconda\\files\\lib\\site-packages (from jupyter-client>=6.1.12->ipykernel>=4.5.1->ipywidgets>=7.0.0->cufflinks) (5.3.0)\n",
      "Requirement already satisfied: zipp>=0.5 in d:\\apps\\anaconda\\files\\lib\\site-packages (from importlib-metadata>=4.8.3->jupyter-client>=6.1.12->ipykernel>=4.5.1->ipywidgets>=7.0.0->cufflinks) (3.11.0)\n",
      "Requirement already satisfied: platformdirs>=2.5 in d:\\apps\\anaconda\\files\\lib\\site-packages (from jupyter-core!=5.0.*,>=4.12->jupyter-client>=6.1.12->ipykernel>=4.5.1->ipywidgets>=7.0.0->cufflinks) (2.5.2)\n",
      "Requirement already satisfied: pywin32>=300 in d:\\apps\\anaconda\\files\\lib\\site-packages (from jupyter-core!=5.0.*,>=4.12->jupyter-client>=6.1.12->ipykernel>=4.5.1->ipywidgets>=7.0.0->cufflinks) (305.1)\n",
      "Building wheels for collected packages: cufflinks\n",
      "  Building wheel for cufflinks (setup.py): started\n",
      "  Building wheel for cufflinks (setup.py): finished with status 'done'\n",
      "  Created wheel for cufflinks: filename=cufflinks-0.17.3-py3-none-any.whl size=68725 sha256=3b3a828b7091b71fdc4fa98d32e536d006ba48014004f424e731acacbb8c6c15\n",
      "  Stored in directory: c:\\users\\hp\\appdata\\local\\pip\\cache\\wheels\\29\\b4\\f8\\2fd2206eeeba6ccad8167e4e8894b8c4ec27bf1342037fd136\n",
      "Successfully built cufflinks\n",
      "Installing collected packages: colorlover, cufflinks\n",
      "Successfully installed colorlover-0.3.0 cufflinks-0.17.3\n",
      "Note: you may need to restart the kernel to use updated packages.\n"
     ]
    },
    {
     "name": "stderr",
     "output_type": "stream",
     "text": [
      "WARNING: Ignoring invalid distribution - (d:\\apps\\anaconda\\files\\lib\\site-packages)\n",
      "WARNING: Ignoring invalid distribution -ensorflow-intel (d:\\apps\\anaconda\\files\\lib\\site-packages)\n",
      "WARNING: Ignoring invalid distribution -rotobuf (d:\\apps\\anaconda\\files\\lib\\site-packages)\n",
      "WARNING: Ignoring invalid distribution - (d:\\apps\\anaconda\\files\\lib\\site-packages)\n",
      "WARNING: Ignoring invalid distribution -ensorflow-intel (d:\\apps\\anaconda\\files\\lib\\site-packages)\n",
      "WARNING: Ignoring invalid distribution -rotobuf (d:\\apps\\anaconda\\files\\lib\\site-packages)\n",
      "\n",
      "[notice] A new release of pip is available: 23.1.2 -> 23.2.1\n",
      "[notice] To update, run: D:\\apps\\anaconda\\files\\python.exe -m pip install --upgrade pip\n"
     ]
    }
   ],
   "source": [
    "pip install cufflinks"
   ]
  },
  {
   "cell_type": "code",
   "execution_count": 2,
   "id": "443a0aad",
   "metadata": {},
   "outputs": [],
   "source": [
    "import pandas as pd\n",
    "import numpy as np"
   ]
  },
  {
   "cell_type": "code",
   "execution_count": 4,
   "id": "bf952464",
   "metadata": {},
   "outputs": [],
   "source": [
    "from plotly import __version__"
   ]
  },
  {
   "cell_type": "code",
   "execution_count": 6,
   "id": "4fa1b398",
   "metadata": {},
   "outputs": [],
   "source": [
    "import cufflinks as cf"
   ]
  },
  {
   "cell_type": "code",
   "execution_count": 7,
   "id": "80bea054",
   "metadata": {},
   "outputs": [],
   "source": [
    "from plotly.offline import download_plotlyjs, init_notebook_mode, plot, iplot"
   ]
  },
  {
   "cell_type": "code",
   "execution_count": 8,
   "id": "a8b61317",
   "metadata": {},
   "outputs": [
    {
     "data": {
      "text/html": [
       "        <script type=\"text/javascript\">\n",
       "        window.PlotlyConfig = {MathJaxConfig: 'local'};\n",
       "        if (window.MathJax && window.MathJax.Hub && window.MathJax.Hub.Config) {window.MathJax.Hub.Config({SVG: {font: \"STIX-Web\"}});}\n",
       "        if (typeof require !== 'undefined') {\n",
       "        require.undef(\"plotly\");\n",
       "        requirejs.config({\n",
       "            paths: {\n",
       "                'plotly': ['https://cdn.plot.ly/plotly-2.24.1.min']\n",
       "            }\n",
       "        });\n",
       "        require(['plotly'], function(Plotly) {\n",
       "            window._Plotly = Plotly;\n",
       "        });\n",
       "        }\n",
       "        </script>\n",
       "        "
      ]
     },
     "metadata": {},
     "output_type": "display_data"
    }
   ],
   "source": [
    "init_notebook_mode(connected=True)"
   ]
  },
  {
   "cell_type": "code",
   "execution_count": 9,
   "id": "c6f0b9e7",
   "metadata": {},
   "outputs": [
    {
     "data": {
      "text/html": [
       "        <script type=\"text/javascript\">\n",
       "        window.PlotlyConfig = {MathJaxConfig: 'local'};\n",
       "        if (window.MathJax && window.MathJax.Hub && window.MathJax.Hub.Config) {window.MathJax.Hub.Config({SVG: {font: \"STIX-Web\"}});}\n",
       "        if (typeof require !== 'undefined') {\n",
       "        require.undef(\"plotly\");\n",
       "        requirejs.config({\n",
       "            paths: {\n",
       "                'plotly': ['https://cdn.plot.ly/plotly-2.24.1.min']\n",
       "            }\n",
       "        });\n",
       "        require(['plotly'], function(Plotly) {\n",
       "            window._Plotly = Plotly;\n",
       "        });\n",
       "        }\n",
       "        </script>\n",
       "        "
      ]
     },
     "metadata": {},
     "output_type": "display_data"
    }
   ],
   "source": [
    "cf.go_offline()"
   ]
  },
  {
   "cell_type": "code",
   "execution_count": 10,
   "id": "49794117",
   "metadata": {},
   "outputs": [],
   "source": [
    "# Data\n",
    "df = pd.DataFrame(np.random.randn(100, 4), columns=['A','B','C','D'])"
   ]
  },
  {
   "cell_type": "code",
   "execution_count": 11,
   "id": "e8d60a45",
   "metadata": {},
   "outputs": [
    {
     "data": {
      "text/html": [
       "<div>\n",
       "<style scoped>\n",
       "    .dataframe tbody tr th:only-of-type {\n",
       "        vertical-align: middle;\n",
       "    }\n",
       "\n",
       "    .dataframe tbody tr th {\n",
       "        vertical-align: top;\n",
       "    }\n",
       "\n",
       "    .dataframe thead th {\n",
       "        text-align: right;\n",
       "    }\n",
       "</style>\n",
       "<table border=\"1\" class=\"dataframe\">\n",
       "  <thead>\n",
       "    <tr style=\"text-align: right;\">\n",
       "      <th></th>\n",
       "      <th>A</th>\n",
       "      <th>B</th>\n",
       "      <th>C</th>\n",
       "      <th>D</th>\n",
       "    </tr>\n",
       "  </thead>\n",
       "  <tbody>\n",
       "    <tr>\n",
       "      <th>0</th>\n",
       "      <td>-0.546078</td>\n",
       "      <td>0.891655</td>\n",
       "      <td>-0.203302</td>\n",
       "      <td>0.635385</td>\n",
       "    </tr>\n",
       "    <tr>\n",
       "      <th>1</th>\n",
       "      <td>1.301451</td>\n",
       "      <td>-0.338193</td>\n",
       "      <td>0.328501</td>\n",
       "      <td>1.200942</td>\n",
       "    </tr>\n",
       "    <tr>\n",
       "      <th>2</th>\n",
       "      <td>0.268149</td>\n",
       "      <td>-0.374282</td>\n",
       "      <td>0.529543</td>\n",
       "      <td>-1.654844</td>\n",
       "    </tr>\n",
       "    <tr>\n",
       "      <th>3</th>\n",
       "      <td>-0.361819</td>\n",
       "      <td>-0.941952</td>\n",
       "      <td>-1.686944</td>\n",
       "      <td>-0.863552</td>\n",
       "    </tr>\n",
       "    <tr>\n",
       "      <th>4</th>\n",
       "      <td>-0.736924</td>\n",
       "      <td>-1.014598</td>\n",
       "      <td>-0.129160</td>\n",
       "      <td>0.843607</td>\n",
       "    </tr>\n",
       "  </tbody>\n",
       "</table>\n",
       "</div>"
      ],
      "text/plain": [
       "          A         B         C         D\n",
       "0 -0.546078  0.891655 -0.203302  0.635385\n",
       "1  1.301451 -0.338193  0.328501  1.200942\n",
       "2  0.268149 -0.374282  0.529543 -1.654844\n",
       "3 -0.361819 -0.941952 -1.686944 -0.863552\n",
       "4 -0.736924 -1.014598 -0.129160  0.843607"
      ]
     },
     "execution_count": 11,
     "metadata": {},
     "output_type": "execute_result"
    }
   ],
   "source": [
    "df.head()"
   ]
  },
  {
   "cell_type": "code",
   "execution_count": 13,
   "id": "9a3a13df",
   "metadata": {},
   "outputs": [],
   "source": [
    "df2 = pd.DataFrame({'Category': ['A','B','C'], 'Values':[32,43,45]})"
   ]
  },
  {
   "cell_type": "code",
   "execution_count": 14,
   "id": "107b238b",
   "metadata": {},
   "outputs": [
    {
     "data": {
      "text/html": [
       "<div>\n",
       "<style scoped>\n",
       "    .dataframe tbody tr th:only-of-type {\n",
       "        vertical-align: middle;\n",
       "    }\n",
       "\n",
       "    .dataframe tbody tr th {\n",
       "        vertical-align: top;\n",
       "    }\n",
       "\n",
       "    .dataframe thead th {\n",
       "        text-align: right;\n",
       "    }\n",
       "</style>\n",
       "<table border=\"1\" class=\"dataframe\">\n",
       "  <thead>\n",
       "    <tr style=\"text-align: right;\">\n",
       "      <th></th>\n",
       "      <th>Category</th>\n",
       "      <th>Values</th>\n",
       "    </tr>\n",
       "  </thead>\n",
       "  <tbody>\n",
       "    <tr>\n",
       "      <th>0</th>\n",
       "      <td>A</td>\n",
       "      <td>32</td>\n",
       "    </tr>\n",
       "    <tr>\n",
       "      <th>1</th>\n",
       "      <td>B</td>\n",
       "      <td>43</td>\n",
       "    </tr>\n",
       "    <tr>\n",
       "      <th>2</th>\n",
       "      <td>C</td>\n",
       "      <td>45</td>\n",
       "    </tr>\n",
       "  </tbody>\n",
       "</table>\n",
       "</div>"
      ],
      "text/plain": [
       "  Category  Values\n",
       "0        A      32\n",
       "1        B      43\n",
       "2        C      45"
      ]
     },
     "execution_count": 14,
     "metadata": {},
     "output_type": "execute_result"
    }
   ],
   "source": [
    "df2"
   ]
  },
  {
   "cell_type": "code",
   "execution_count": 16,
   "id": "51e53593",
   "metadata": {},
   "outputs": [
    {
     "data": {
      "application/vnd.plotly.v1+json": {
       "config": {
        "linkText": "Export to plot.ly",
        "plotlyServerURL": "https://plot.ly",
        "showLink": true
       },
       "data": [
        {
         "line": {
          "color": "rgba(255, 153, 51, 1.0)",
          "dash": "solid",
          "shape": "linear",
          "width": 1.3
         },
         "mode": "lines",
         "name": "A",
         "text": "",
         "type": "scatter",
         "x": [
          0,
          1,
          2,
          3,
          4,
          5,
          6,
          7,
          8,
          9,
          10,
          11,
          12,
          13,
          14,
          15,
          16,
          17,
          18,
          19,
          20,
          21,
          22,
          23,
          24,
          25,
          26,
          27,
          28,
          29,
          30,
          31,
          32,
          33,
          34,
          35,
          36,
          37,
          38,
          39,
          40,
          41,
          42,
          43,
          44,
          45,
          46,
          47,
          48,
          49,
          50,
          51,
          52,
          53,
          54,
          55,
          56,
          57,
          58,
          59,
          60,
          61,
          62,
          63,
          64,
          65,
          66,
          67,
          68,
          69,
          70,
          71,
          72,
          73,
          74,
          75,
          76,
          77,
          78,
          79,
          80,
          81,
          82,
          83,
          84,
          85,
          86,
          87,
          88,
          89,
          90,
          91,
          92,
          93,
          94,
          95,
          96,
          97,
          98,
          99
         ],
         "y": [
          -0.5460778957347936,
          1.3014510422065746,
          0.26814934478756514,
          -0.3618191044714592,
          -0.7369237834399675,
          3.232474390779266,
          0.4502317191922599,
          0.29996219651162587,
          0.1722537891268259,
          -0.6669176939726003,
          1.1578674537274418,
          -1.476432366982033,
          -0.5472396471244979,
          -1.2937811853587022,
          -0.9013967416102897,
          0.8853025381342631,
          -1.1366898385165811,
          -2.6962483782363815,
          -1.6788450175371639,
          0.3546081661265342,
          0.7442380110818622,
          0.5619392224263491,
          0.6065249503129646,
          0.04089407242636777,
          -1.3342789853786823,
          -0.9369940551036597,
          0.10034758564092557,
          0.8075163635955258,
          0.38351490019648027,
          -0.3324193008656376,
          0.2797743330160391,
          -0.0026682896222340285,
          1.5101952298787567,
          0.8875873921209985,
          1.1495772264048136,
          -0.2464421692232896,
          1.8616344700460064,
          -0.2713449451449245,
          -1.8734698359308377,
          -0.4375931728140298,
          0.782786598083783,
          1.1427488896160929,
          -1.7014930434140594,
          0.7267623595379041,
          -0.007002364510007742,
          0.17509129779533658,
          -0.4781056073352823,
          0.5832965159892182,
          -0.6331491917976095,
          -0.3161961767682029,
          -2.3572250533205223,
          1.3512672934632202,
          0.05341203365733753,
          0.7670034141178904,
          0.18073432373892828,
          -0.7672344771558023,
          0.20558654605709664,
          -0.5544513388284268,
          1.5287039845218173,
          -1.1332355093479762,
          -1.4748315025375673,
          -1.1462469684745658,
          -1.052650035154753,
          -0.3907382513473276,
          -1.627183772248113,
          -0.3783231268569761,
          -0.1597912113636773,
          -1.3535219949676072,
          -0.23935950379079585,
          1.0159738780171244,
          -0.576711046906184,
          -0.7274673897933394,
          -1.4907578857702473,
          -0.7921446366064933,
          -0.08994575562284873,
          0.930250935265208,
          -1.3191164860374893,
          -1.3857346608655399,
          1.6340683152012712,
          1.170193417939178,
          -1.9931400227970575,
          -0.13615296286206194,
          0.0648707514248098,
          -0.5025897956063995,
          -1.845513405796715,
          -0.9477950010886944,
          0.2791081770738883,
          -0.9684113216516099,
          0.8229249871332075,
          0.4314515011373696,
          0.14872909873619033,
          0.2138849867192027,
          -1.2573571642428092,
          1.9379795654275749,
          -0.375126110803408,
          0.8139291956018956,
          0.37433213952728006,
          0.8346004863771042,
          -0.5062703709980042,
          0.6998141405879368
         ]
        },
        {
         "line": {
          "color": "rgba(55, 128, 191, 1.0)",
          "dash": "solid",
          "shape": "linear",
          "width": 1.3
         },
         "mode": "lines",
         "name": "B",
         "text": "",
         "type": "scatter",
         "x": [
          0,
          1,
          2,
          3,
          4,
          5,
          6,
          7,
          8,
          9,
          10,
          11,
          12,
          13,
          14,
          15,
          16,
          17,
          18,
          19,
          20,
          21,
          22,
          23,
          24,
          25,
          26,
          27,
          28,
          29,
          30,
          31,
          32,
          33,
          34,
          35,
          36,
          37,
          38,
          39,
          40,
          41,
          42,
          43,
          44,
          45,
          46,
          47,
          48,
          49,
          50,
          51,
          52,
          53,
          54,
          55,
          56,
          57,
          58,
          59,
          60,
          61,
          62,
          63,
          64,
          65,
          66,
          67,
          68,
          69,
          70,
          71,
          72,
          73,
          74,
          75,
          76,
          77,
          78,
          79,
          80,
          81,
          82,
          83,
          84,
          85,
          86,
          87,
          88,
          89,
          90,
          91,
          92,
          93,
          94,
          95,
          96,
          97,
          98,
          99
         ],
         "y": [
          0.8916549146321898,
          -0.3381931403080011,
          -0.37428192595009857,
          -0.9419524005632491,
          -1.0145977706243687,
          1.5583890754009588,
          -0.6852630085642236,
          0.6651332215213197,
          -0.9910188176038004,
          0.6161978813106868,
          0.3861938231042876,
          -0.60882693154804,
          0.19890215422838792,
          0.6775658736229073,
          0.797828468832904,
          0.07682513904133999,
          0.025107642292884074,
          -1.5576726094219517,
          1.4264356314033277,
          1.2666998992120595,
          -0.6943473865446161,
          -0.053895565447558316,
          0.4284264262379757,
          0.13208468398082687,
          0.7670307156234072,
          0.38390668729911087,
          0.6347177042230788,
          1.1974467440918999,
          0.2020632736198323,
          -1.0022455128645296,
          0.18371926512091438,
          -0.04109060733714235,
          -1.5481413250921956,
          -0.54934779822259,
          0.09252072296337743,
          -0.5367295945730247,
          -0.4777903101063822,
          0.10604568652569685,
          -0.8718547064946718,
          0.5708956722518306,
          0.06589086041506216,
          0.25580174667143174,
          -0.4312599780802227,
          -0.12443614311985786,
          1.5806599712009868,
          0.2870922514198373,
          0.5512944944835362,
          1.4527579119089358,
          0.2699387949848012,
          0.7904290473921192,
          -0.7816302662769503,
          -0.12821896698885438,
          -0.4225712340699086,
          -2.440144305643967,
          -0.9927129109667006,
          -0.18918780352731643,
          -0.09610392449157452,
          0.3554190174115922,
          -1.7864214361926745,
          -1.1073055045960427,
          -0.9630782474751012,
          0.10812185719468097,
          1.073523936772271,
          -0.19935412263787683,
          0.6908359830853447,
          -0.4429809411287429,
          -1.4187058463861983,
          -1.6721208685617281,
          -0.6786398548037761,
          0.7268002142268188,
          -0.4360824977259846,
          -0.23765490366988942,
          -1.4728284198921924,
          -0.01910884940631543,
          0.10765546033029476,
          1.8927129965967484,
          0.03255345460140715,
          1.0744477403084196,
          0.5661276059273651,
          -1.0592431238903615,
          0.786919426390002,
          1.2764749857577515,
          -0.14162598466362158,
          -0.5133580850066126,
          1.5161755740926746,
          -0.33416049948343557,
          1.7833299073862408,
          0.5139386130455855,
          -0.6842137040540731,
          -2.6483956539321154,
          1.111781386043757,
          2.744841648153119,
          0.011608699926791748,
          -0.2978790480255613,
          -1.5686049470141332,
          -1.3527125996567446,
          -0.8069995269798872,
          -0.8649491875996753,
          -1.129641165354729,
          1.933060854543772
         ]
        },
        {
         "line": {
          "color": "rgba(50, 171, 96, 1.0)",
          "dash": "solid",
          "shape": "linear",
          "width": 1.3
         },
         "mode": "lines",
         "name": "C",
         "text": "",
         "type": "scatter",
         "x": [
          0,
          1,
          2,
          3,
          4,
          5,
          6,
          7,
          8,
          9,
          10,
          11,
          12,
          13,
          14,
          15,
          16,
          17,
          18,
          19,
          20,
          21,
          22,
          23,
          24,
          25,
          26,
          27,
          28,
          29,
          30,
          31,
          32,
          33,
          34,
          35,
          36,
          37,
          38,
          39,
          40,
          41,
          42,
          43,
          44,
          45,
          46,
          47,
          48,
          49,
          50,
          51,
          52,
          53,
          54,
          55,
          56,
          57,
          58,
          59,
          60,
          61,
          62,
          63,
          64,
          65,
          66,
          67,
          68,
          69,
          70,
          71,
          72,
          73,
          74,
          75,
          76,
          77,
          78,
          79,
          80,
          81,
          82,
          83,
          84,
          85,
          86,
          87,
          88,
          89,
          90,
          91,
          92,
          93,
          94,
          95,
          96,
          97,
          98,
          99
         ],
         "y": [
          -0.20330239236774128,
          0.32850101568085893,
          0.529542595028742,
          -1.6869438521556148,
          -0.12915954035899646,
          -0.29361414034583905,
          -1.0411915378410137,
          0.1655450402186426,
          0.6245227599578845,
          0.6780299903342727,
          -2.9290857736047786,
          0.461077292314986,
          1.1091891520463508,
          0.33644402919592176,
          0.4127408790834404,
          0.4176719457751997,
          -0.7460023909998824,
          -0.18561711514336504,
          -0.46564454618751433,
          0.15926935447160537,
          0.5783156105882734,
          0.6498088371009316,
          -0.5119302580892772,
          -0.01638721511848431,
          0.310058348939363,
          0.038928256609700576,
          -0.26008888312749373,
          -1.2617315627247143,
          0.06454665859839183,
          0.47483185016901536,
          -0.05846809624656749,
          1.4470724106911268,
          -1.8437534447744601,
          -0.021823481334008542,
          -0.4598326516335303,
          0.3157084829852417,
          -1.086482265263441,
          0.1126458838976049,
          -1.8193251733435594,
          1.3315552594184057,
          1.7596809193450778,
          1.739835596293713,
          -0.7630474665988405,
          0.10544336197836349,
          1.4076948529659261,
          -0.9138687942754058,
          0.2111116933980099,
          -0.42235606752361854,
          0.2679189907173422,
          0.5080811830371827,
          -0.8529529166914348,
          -0.5195609166522553,
          0.8811768808600744,
          -0.038377272851005687,
          1.4782130095657346,
          0.19355006817445572,
          1.0508600294180694,
          0.47121959127528307,
          -0.1999034912474286,
          1.7346578774154435,
          -0.2873035910578778,
          0.3893424633119317,
          -2.078545664242502,
          -0.8266949553779602,
          1.0827891174777793,
          1.5546785887935657,
          -0.4752780928615553,
          0.002957871234240924,
          -0.9326126230951465,
          1.2195596769465835,
          -0.7956573787575608,
          2.8696588406462302,
          -0.25251788733211367,
          -0.8305892104633876,
          0.08919573756281855,
          -0.7044374495911413,
          0.28848531661875715,
          -0.3717414926024388,
          0.8288440550131508,
          -0.38340128043684973,
          0.06574562706397219,
          2.0524525605093,
          -0.6405528750002505,
          -0.3340064376926966,
          1.2219996473694095,
          0.2194755290359963,
          2.955198772573274,
          -0.02685772437217304,
          0.26146694935304754,
          -1.0888714908255899,
          0.5099640075793971,
          -1.2173602966953139,
          -0.3036137386756566,
          0.8471957766098436,
          1.0297840502997417,
          1.8537466066157755,
          -0.7559521685658589,
          0.2445071826661215,
          0.7429875949033095,
          0.4823261097522082
         ]
        },
        {
         "line": {
          "color": "rgba(128, 0, 128, 1.0)",
          "dash": "solid",
          "shape": "linear",
          "width": 1.3
         },
         "mode": "lines",
         "name": "D",
         "text": "",
         "type": "scatter",
         "x": [
          0,
          1,
          2,
          3,
          4,
          5,
          6,
          7,
          8,
          9,
          10,
          11,
          12,
          13,
          14,
          15,
          16,
          17,
          18,
          19,
          20,
          21,
          22,
          23,
          24,
          25,
          26,
          27,
          28,
          29,
          30,
          31,
          32,
          33,
          34,
          35,
          36,
          37,
          38,
          39,
          40,
          41,
          42,
          43,
          44,
          45,
          46,
          47,
          48,
          49,
          50,
          51,
          52,
          53,
          54,
          55,
          56,
          57,
          58,
          59,
          60,
          61,
          62,
          63,
          64,
          65,
          66,
          67,
          68,
          69,
          70,
          71,
          72,
          73,
          74,
          75,
          76,
          77,
          78,
          79,
          80,
          81,
          82,
          83,
          84,
          85,
          86,
          87,
          88,
          89,
          90,
          91,
          92,
          93,
          94,
          95,
          96,
          97,
          98,
          99
         ],
         "y": [
          0.6353847301831402,
          1.2009423784267994,
          -1.654844320111015,
          -0.8635523832067165,
          0.8436073081690776,
          0.0010283296707705861,
          0.7213232234941241,
          1.2615979277353082,
          1.4292327016337216,
          0.027287191889307012,
          -1.5180573636122134,
          -1.0131139254746897,
          0.7948617640038231,
          -1.408160297894933,
          -0.5012501529865498,
          1.5280332963554248,
          -0.7879092031693243,
          0.7669901510070474,
          -1.091735910194253,
          0.662536340034536,
          0.550001997833688,
          -0.3214729696376683,
          0.008292011859685321,
          -1.3698158321629847,
          0.8391122567630139,
          1.2785094720503718,
          1.1309681951149693,
          0.43715762373237255,
          -0.8719283319074831,
          0.5232332637202878,
          -0.9427769729935915,
          1.749152052334987,
          -0.7332203655606052,
          -1.730022600119727,
          -0.3071717755780072,
          -0.6574275508278046,
          -0.11120726606697393,
          -0.29807283502782583,
          2.007007347945856,
          -1.1248393061937714,
          -0.08331589907942558,
          -0.9624694892468075,
          -1.1772773034412958,
          0.5443833685090267,
          -2.383209166152728,
          -0.5654893309716007,
          0.15432201119291886,
          0.8195508234542466,
          0.41835284465192496,
          -0.10531200162672043,
          1.0245802846927696,
          -0.00916744004768294,
          -0.3619809134335411,
          1.0455709500178472,
          1.1226952193325705,
          -1.243767426208508,
          -0.1269245788752039,
          -1.138560695098012,
          0.012152255094927601,
          -0.3773469384695606,
          -0.1271188690590761,
          0.7691413459651985,
          0.6395681120462738,
          0.38786868367917465,
          0.7814950610131641,
          -0.003065856032941088,
          -0.08052791958464772,
          -0.000862227830624004,
          -0.14667204540993645,
          -0.6588016529198943,
          0.4760288970780797,
          -0.5010391118114504,
          -0.9547048325860107,
          1.4747680524072513,
          0.4344091007512491,
          -0.1871813519464555,
          -0.31693463148729906,
          0.16707302260475737,
          -1.3669967745199492,
          -0.12552365732428736,
          0.16638159317079995,
          0.33491507513827795,
          0.15025043754502934,
          -0.3472800351808697,
          1.7591954772545582,
          -0.29790728038059144,
          -3.201777800234756,
          -0.4018680720562205,
          0.808560116272953,
          0.37745942884408784,
          0.9703784233765854,
          -0.7888595069519375,
          0.3101314954838077,
          0.24078793877636165,
          0.9229850887876242,
          0.12831890641507618,
          0.7564594134938638,
          0.2643149845870508,
          1.2868130886986313,
          -1.4659236256700496
         ]
        }
       ],
       "layout": {
        "legend": {
         "bgcolor": "#F5F6F9",
         "font": {
          "color": "#4D5663"
         }
        },
        "paper_bgcolor": "#F5F6F9",
        "plot_bgcolor": "#F5F6F9",
        "template": {
         "data": {
          "bar": [
           {
            "error_x": {
             "color": "#2a3f5f"
            },
            "error_y": {
             "color": "#2a3f5f"
            },
            "marker": {
             "line": {
              "color": "#E5ECF6",
              "width": 0.5
             },
             "pattern": {
              "fillmode": "overlay",
              "size": 10,
              "solidity": 0.2
             }
            },
            "type": "bar"
           }
          ],
          "barpolar": [
           {
            "marker": {
             "line": {
              "color": "#E5ECF6",
              "width": 0.5
             },
             "pattern": {
              "fillmode": "overlay",
              "size": 10,
              "solidity": 0.2
             }
            },
            "type": "barpolar"
           }
          ],
          "carpet": [
           {
            "aaxis": {
             "endlinecolor": "#2a3f5f",
             "gridcolor": "white",
             "linecolor": "white",
             "minorgridcolor": "white",
             "startlinecolor": "#2a3f5f"
            },
            "baxis": {
             "endlinecolor": "#2a3f5f",
             "gridcolor": "white",
             "linecolor": "white",
             "minorgridcolor": "white",
             "startlinecolor": "#2a3f5f"
            },
            "type": "carpet"
           }
          ],
          "choropleth": [
           {
            "colorbar": {
             "outlinewidth": 0,
             "ticks": ""
            },
            "type": "choropleth"
           }
          ],
          "contour": [
           {
            "colorbar": {
             "outlinewidth": 0,
             "ticks": ""
            },
            "colorscale": [
             [
              0,
              "#0d0887"
             ],
             [
              0.1111111111111111,
              "#46039f"
             ],
             [
              0.2222222222222222,
              "#7201a8"
             ],
             [
              0.3333333333333333,
              "#9c179e"
             ],
             [
              0.4444444444444444,
              "#bd3786"
             ],
             [
              0.5555555555555556,
              "#d8576b"
             ],
             [
              0.6666666666666666,
              "#ed7953"
             ],
             [
              0.7777777777777778,
              "#fb9f3a"
             ],
             [
              0.8888888888888888,
              "#fdca26"
             ],
             [
              1,
              "#f0f921"
             ]
            ],
            "type": "contour"
           }
          ],
          "contourcarpet": [
           {
            "colorbar": {
             "outlinewidth": 0,
             "ticks": ""
            },
            "type": "contourcarpet"
           }
          ],
          "heatmap": [
           {
            "colorbar": {
             "outlinewidth": 0,
             "ticks": ""
            },
            "colorscale": [
             [
              0,
              "#0d0887"
             ],
             [
              0.1111111111111111,
              "#46039f"
             ],
             [
              0.2222222222222222,
              "#7201a8"
             ],
             [
              0.3333333333333333,
              "#9c179e"
             ],
             [
              0.4444444444444444,
              "#bd3786"
             ],
             [
              0.5555555555555556,
              "#d8576b"
             ],
             [
              0.6666666666666666,
              "#ed7953"
             ],
             [
              0.7777777777777778,
              "#fb9f3a"
             ],
             [
              0.8888888888888888,
              "#fdca26"
             ],
             [
              1,
              "#f0f921"
             ]
            ],
            "type": "heatmap"
           }
          ],
          "heatmapgl": [
           {
            "colorbar": {
             "outlinewidth": 0,
             "ticks": ""
            },
            "colorscale": [
             [
              0,
              "#0d0887"
             ],
             [
              0.1111111111111111,
              "#46039f"
             ],
             [
              0.2222222222222222,
              "#7201a8"
             ],
             [
              0.3333333333333333,
              "#9c179e"
             ],
             [
              0.4444444444444444,
              "#bd3786"
             ],
             [
              0.5555555555555556,
              "#d8576b"
             ],
             [
              0.6666666666666666,
              "#ed7953"
             ],
             [
              0.7777777777777778,
              "#fb9f3a"
             ],
             [
              0.8888888888888888,
              "#fdca26"
             ],
             [
              1,
              "#f0f921"
             ]
            ],
            "type": "heatmapgl"
           }
          ],
          "histogram": [
           {
            "marker": {
             "pattern": {
              "fillmode": "overlay",
              "size": 10,
              "solidity": 0.2
             }
            },
            "type": "histogram"
           }
          ],
          "histogram2d": [
           {
            "colorbar": {
             "outlinewidth": 0,
             "ticks": ""
            },
            "colorscale": [
             [
              0,
              "#0d0887"
             ],
             [
              0.1111111111111111,
              "#46039f"
             ],
             [
              0.2222222222222222,
              "#7201a8"
             ],
             [
              0.3333333333333333,
              "#9c179e"
             ],
             [
              0.4444444444444444,
              "#bd3786"
             ],
             [
              0.5555555555555556,
              "#d8576b"
             ],
             [
              0.6666666666666666,
              "#ed7953"
             ],
             [
              0.7777777777777778,
              "#fb9f3a"
             ],
             [
              0.8888888888888888,
              "#fdca26"
             ],
             [
              1,
              "#f0f921"
             ]
            ],
            "type": "histogram2d"
           }
          ],
          "histogram2dcontour": [
           {
            "colorbar": {
             "outlinewidth": 0,
             "ticks": ""
            },
            "colorscale": [
             [
              0,
              "#0d0887"
             ],
             [
              0.1111111111111111,
              "#46039f"
             ],
             [
              0.2222222222222222,
              "#7201a8"
             ],
             [
              0.3333333333333333,
              "#9c179e"
             ],
             [
              0.4444444444444444,
              "#bd3786"
             ],
             [
              0.5555555555555556,
              "#d8576b"
             ],
             [
              0.6666666666666666,
              "#ed7953"
             ],
             [
              0.7777777777777778,
              "#fb9f3a"
             ],
             [
              0.8888888888888888,
              "#fdca26"
             ],
             [
              1,
              "#f0f921"
             ]
            ],
            "type": "histogram2dcontour"
           }
          ],
          "mesh3d": [
           {
            "colorbar": {
             "outlinewidth": 0,
             "ticks": ""
            },
            "type": "mesh3d"
           }
          ],
          "parcoords": [
           {
            "line": {
             "colorbar": {
              "outlinewidth": 0,
              "ticks": ""
             }
            },
            "type": "parcoords"
           }
          ],
          "pie": [
           {
            "automargin": true,
            "type": "pie"
           }
          ],
          "scatter": [
           {
            "fillpattern": {
             "fillmode": "overlay",
             "size": 10,
             "solidity": 0.2
            },
            "type": "scatter"
           }
          ],
          "scatter3d": [
           {
            "line": {
             "colorbar": {
              "outlinewidth": 0,
              "ticks": ""
             }
            },
            "marker": {
             "colorbar": {
              "outlinewidth": 0,
              "ticks": ""
             }
            },
            "type": "scatter3d"
           }
          ],
          "scattercarpet": [
           {
            "marker": {
             "colorbar": {
              "outlinewidth": 0,
              "ticks": ""
             }
            },
            "type": "scattercarpet"
           }
          ],
          "scattergeo": [
           {
            "marker": {
             "colorbar": {
              "outlinewidth": 0,
              "ticks": ""
             }
            },
            "type": "scattergeo"
           }
          ],
          "scattergl": [
           {
            "marker": {
             "colorbar": {
              "outlinewidth": 0,
              "ticks": ""
             }
            },
            "type": "scattergl"
           }
          ],
          "scattermapbox": [
           {
            "marker": {
             "colorbar": {
              "outlinewidth": 0,
              "ticks": ""
             }
            },
            "type": "scattermapbox"
           }
          ],
          "scatterpolar": [
           {
            "marker": {
             "colorbar": {
              "outlinewidth": 0,
              "ticks": ""
             }
            },
            "type": "scatterpolar"
           }
          ],
          "scatterpolargl": [
           {
            "marker": {
             "colorbar": {
              "outlinewidth": 0,
              "ticks": ""
             }
            },
            "type": "scatterpolargl"
           }
          ],
          "scatterternary": [
           {
            "marker": {
             "colorbar": {
              "outlinewidth": 0,
              "ticks": ""
             }
            },
            "type": "scatterternary"
           }
          ],
          "surface": [
           {
            "colorbar": {
             "outlinewidth": 0,
             "ticks": ""
            },
            "colorscale": [
             [
              0,
              "#0d0887"
             ],
             [
              0.1111111111111111,
              "#46039f"
             ],
             [
              0.2222222222222222,
              "#7201a8"
             ],
             [
              0.3333333333333333,
              "#9c179e"
             ],
             [
              0.4444444444444444,
              "#bd3786"
             ],
             [
              0.5555555555555556,
              "#d8576b"
             ],
             [
              0.6666666666666666,
              "#ed7953"
             ],
             [
              0.7777777777777778,
              "#fb9f3a"
             ],
             [
              0.8888888888888888,
              "#fdca26"
             ],
             [
              1,
              "#f0f921"
             ]
            ],
            "type": "surface"
           }
          ],
          "table": [
           {
            "cells": {
             "fill": {
              "color": "#EBF0F8"
             },
             "line": {
              "color": "white"
             }
            },
            "header": {
             "fill": {
              "color": "#C8D4E3"
             },
             "line": {
              "color": "white"
             }
            },
            "type": "table"
           }
          ]
         },
         "layout": {
          "annotationdefaults": {
           "arrowcolor": "#2a3f5f",
           "arrowhead": 0,
           "arrowwidth": 1
          },
          "autotypenumbers": "strict",
          "coloraxis": {
           "colorbar": {
            "outlinewidth": 0,
            "ticks": ""
           }
          },
          "colorscale": {
           "diverging": [
            [
             0,
             "#8e0152"
            ],
            [
             0.1,
             "#c51b7d"
            ],
            [
             0.2,
             "#de77ae"
            ],
            [
             0.3,
             "#f1b6da"
            ],
            [
             0.4,
             "#fde0ef"
            ],
            [
             0.5,
             "#f7f7f7"
            ],
            [
             0.6,
             "#e6f5d0"
            ],
            [
             0.7,
             "#b8e186"
            ],
            [
             0.8,
             "#7fbc41"
            ],
            [
             0.9,
             "#4d9221"
            ],
            [
             1,
             "#276419"
            ]
           ],
           "sequential": [
            [
             0,
             "#0d0887"
            ],
            [
             0.1111111111111111,
             "#46039f"
            ],
            [
             0.2222222222222222,
             "#7201a8"
            ],
            [
             0.3333333333333333,
             "#9c179e"
            ],
            [
             0.4444444444444444,
             "#bd3786"
            ],
            [
             0.5555555555555556,
             "#d8576b"
            ],
            [
             0.6666666666666666,
             "#ed7953"
            ],
            [
             0.7777777777777778,
             "#fb9f3a"
            ],
            [
             0.8888888888888888,
             "#fdca26"
            ],
            [
             1,
             "#f0f921"
            ]
           ],
           "sequentialminus": [
            [
             0,
             "#0d0887"
            ],
            [
             0.1111111111111111,
             "#46039f"
            ],
            [
             0.2222222222222222,
             "#7201a8"
            ],
            [
             0.3333333333333333,
             "#9c179e"
            ],
            [
             0.4444444444444444,
             "#bd3786"
            ],
            [
             0.5555555555555556,
             "#d8576b"
            ],
            [
             0.6666666666666666,
             "#ed7953"
            ],
            [
             0.7777777777777778,
             "#fb9f3a"
            ],
            [
             0.8888888888888888,
             "#fdca26"
            ],
            [
             1,
             "#f0f921"
            ]
           ]
          },
          "colorway": [
           "#636efa",
           "#EF553B",
           "#00cc96",
           "#ab63fa",
           "#FFA15A",
           "#19d3f3",
           "#FF6692",
           "#B6E880",
           "#FF97FF",
           "#FECB52"
          ],
          "font": {
           "color": "#2a3f5f"
          },
          "geo": {
           "bgcolor": "white",
           "lakecolor": "white",
           "landcolor": "#E5ECF6",
           "showlakes": true,
           "showland": true,
           "subunitcolor": "white"
          },
          "hoverlabel": {
           "align": "left"
          },
          "hovermode": "closest",
          "mapbox": {
           "style": "light"
          },
          "paper_bgcolor": "white",
          "plot_bgcolor": "#E5ECF6",
          "polar": {
           "angularaxis": {
            "gridcolor": "white",
            "linecolor": "white",
            "ticks": ""
           },
           "bgcolor": "#E5ECF6",
           "radialaxis": {
            "gridcolor": "white",
            "linecolor": "white",
            "ticks": ""
           }
          },
          "scene": {
           "xaxis": {
            "backgroundcolor": "#E5ECF6",
            "gridcolor": "white",
            "gridwidth": 2,
            "linecolor": "white",
            "showbackground": true,
            "ticks": "",
            "zerolinecolor": "white"
           },
           "yaxis": {
            "backgroundcolor": "#E5ECF6",
            "gridcolor": "white",
            "gridwidth": 2,
            "linecolor": "white",
            "showbackground": true,
            "ticks": "",
            "zerolinecolor": "white"
           },
           "zaxis": {
            "backgroundcolor": "#E5ECF6",
            "gridcolor": "white",
            "gridwidth": 2,
            "linecolor": "white",
            "showbackground": true,
            "ticks": "",
            "zerolinecolor": "white"
           }
          },
          "shapedefaults": {
           "line": {
            "color": "#2a3f5f"
           }
          },
          "ternary": {
           "aaxis": {
            "gridcolor": "white",
            "linecolor": "white",
            "ticks": ""
           },
           "baxis": {
            "gridcolor": "white",
            "linecolor": "white",
            "ticks": ""
           },
           "bgcolor": "#E5ECF6",
           "caxis": {
            "gridcolor": "white",
            "linecolor": "white",
            "ticks": ""
           }
          },
          "title": {
           "x": 0.05
          },
          "xaxis": {
           "automargin": true,
           "gridcolor": "white",
           "linecolor": "white",
           "ticks": "",
           "title": {
            "standoff": 15
           },
           "zerolinecolor": "white",
           "zerolinewidth": 2
          },
          "yaxis": {
           "automargin": true,
           "gridcolor": "white",
           "linecolor": "white",
           "ticks": "",
           "title": {
            "standoff": 15
           },
           "zerolinecolor": "white",
           "zerolinewidth": 2
          }
         }
        },
        "title": {
         "font": {
          "color": "#4D5663"
         }
        },
        "xaxis": {
         "gridcolor": "#E1E5ED",
         "showgrid": true,
         "tickfont": {
          "color": "#4D5663"
         },
         "title": {
          "font": {
           "color": "#4D5663"
          },
          "text": ""
         },
         "zerolinecolor": "#E1E5ED"
        },
        "yaxis": {
         "gridcolor": "#E1E5ED",
         "showgrid": true,
         "tickfont": {
          "color": "#4D5663"
         },
         "title": {
          "font": {
           "color": "#4D5663"
          },
          "text": ""
         },
         "zerolinecolor": "#E1E5ED"
        }
       }
      },
      "text/html": [
       "<div>                            <div id=\"53f0a5c2-e5e5-4c07-a985-5941b3cd6f2e\" class=\"plotly-graph-div\" style=\"height:525px; width:100%;\"></div>            <script type=\"text/javascript\">                require([\"plotly\"], function(Plotly) {                    window.PLOTLYENV=window.PLOTLYENV || {};\n",
       "                    window.PLOTLYENV.BASE_URL='https://plot.ly';                                    if (document.getElementById(\"53f0a5c2-e5e5-4c07-a985-5941b3cd6f2e\")) {                    Plotly.newPlot(                        \"53f0a5c2-e5e5-4c07-a985-5941b3cd6f2e\",                        [{\"line\":{\"color\":\"rgba(255, 153, 51, 1.0)\",\"dash\":\"solid\",\"shape\":\"linear\",\"width\":1.3},\"mode\":\"lines\",\"name\":\"A\",\"text\":\"\",\"x\":[0,1,2,3,4,5,6,7,8,9,10,11,12,13,14,15,16,17,18,19,20,21,22,23,24,25,26,27,28,29,30,31,32,33,34,35,36,37,38,39,40,41,42,43,44,45,46,47,48,49,50,51,52,53,54,55,56,57,58,59,60,61,62,63,64,65,66,67,68,69,70,71,72,73,74,75,76,77,78,79,80,81,82,83,84,85,86,87,88,89,90,91,92,93,94,95,96,97,98,99],\"y\":[-0.5460778957347936,1.3014510422065746,0.26814934478756514,-0.3618191044714592,-0.7369237834399675,3.232474390779266,0.4502317191922599,0.29996219651162587,0.1722537891268259,-0.6669176939726003,1.1578674537274418,-1.476432366982033,-0.5472396471244979,-1.2937811853587022,-0.9013967416102897,0.8853025381342631,-1.1366898385165811,-2.6962483782363815,-1.6788450175371639,0.3546081661265342,0.7442380110818622,0.5619392224263491,0.6065249503129646,0.04089407242636777,-1.3342789853786823,-0.9369940551036597,0.10034758564092557,0.8075163635955258,0.38351490019648027,-0.3324193008656376,0.2797743330160391,-0.0026682896222340285,1.5101952298787567,0.8875873921209985,1.1495772264048136,-0.2464421692232896,1.8616344700460064,-0.2713449451449245,-1.8734698359308377,-0.4375931728140298,0.782786598083783,1.1427488896160929,-1.7014930434140594,0.7267623595379041,-0.007002364510007742,0.17509129779533658,-0.4781056073352823,0.5832965159892182,-0.6331491917976095,-0.3161961767682029,-2.3572250533205223,1.3512672934632202,0.05341203365733753,0.7670034141178904,0.18073432373892828,-0.7672344771558023,0.20558654605709664,-0.5544513388284268,1.5287039845218173,-1.1332355093479762,-1.4748315025375673,-1.1462469684745658,-1.052650035154753,-0.3907382513473276,-1.627183772248113,-0.3783231268569761,-0.1597912113636773,-1.3535219949676072,-0.23935950379079585,1.0159738780171244,-0.576711046906184,-0.7274673897933394,-1.4907578857702473,-0.7921446366064933,-0.08994575562284873,0.930250935265208,-1.3191164860374893,-1.3857346608655399,1.6340683152012712,1.170193417939178,-1.9931400227970575,-0.13615296286206194,0.0648707514248098,-0.5025897956063995,-1.845513405796715,-0.9477950010886944,0.2791081770738883,-0.9684113216516099,0.8229249871332075,0.4314515011373696,0.14872909873619033,0.2138849867192027,-1.2573571642428092,1.9379795654275749,-0.375126110803408,0.8139291956018956,0.37433213952728006,0.8346004863771042,-0.5062703709980042,0.6998141405879368],\"type\":\"scatter\"},{\"line\":{\"color\":\"rgba(55, 128, 191, 1.0)\",\"dash\":\"solid\",\"shape\":\"linear\",\"width\":1.3},\"mode\":\"lines\",\"name\":\"B\",\"text\":\"\",\"x\":[0,1,2,3,4,5,6,7,8,9,10,11,12,13,14,15,16,17,18,19,20,21,22,23,24,25,26,27,28,29,30,31,32,33,34,35,36,37,38,39,40,41,42,43,44,45,46,47,48,49,50,51,52,53,54,55,56,57,58,59,60,61,62,63,64,65,66,67,68,69,70,71,72,73,74,75,76,77,78,79,80,81,82,83,84,85,86,87,88,89,90,91,92,93,94,95,96,97,98,99],\"y\":[0.8916549146321898,-0.3381931403080011,-0.37428192595009857,-0.9419524005632491,-1.0145977706243687,1.5583890754009588,-0.6852630085642236,0.6651332215213197,-0.9910188176038004,0.6161978813106868,0.3861938231042876,-0.60882693154804,0.19890215422838792,0.6775658736229073,0.797828468832904,0.07682513904133999,0.025107642292884074,-1.5576726094219517,1.4264356314033277,1.2666998992120595,-0.6943473865446161,-0.053895565447558316,0.4284264262379757,0.13208468398082687,0.7670307156234072,0.38390668729911087,0.6347177042230788,1.1974467440918999,0.2020632736198323,-1.0022455128645296,0.18371926512091438,-0.04109060733714235,-1.5481413250921956,-0.54934779822259,0.09252072296337743,-0.5367295945730247,-0.4777903101063822,0.10604568652569685,-0.8718547064946718,0.5708956722518306,0.06589086041506216,0.25580174667143174,-0.4312599780802227,-0.12443614311985786,1.5806599712009868,0.2870922514198373,0.5512944944835362,1.4527579119089358,0.2699387949848012,0.7904290473921192,-0.7816302662769503,-0.12821896698885438,-0.4225712340699086,-2.440144305643967,-0.9927129109667006,-0.18918780352731643,-0.09610392449157452,0.3554190174115922,-1.7864214361926745,-1.1073055045960427,-0.9630782474751012,0.10812185719468097,1.073523936772271,-0.19935412263787683,0.6908359830853447,-0.4429809411287429,-1.4187058463861983,-1.6721208685617281,-0.6786398548037761,0.7268002142268188,-0.4360824977259846,-0.23765490366988942,-1.4728284198921924,-0.01910884940631543,0.10765546033029476,1.8927129965967484,0.03255345460140715,1.0744477403084196,0.5661276059273651,-1.0592431238903615,0.786919426390002,1.2764749857577515,-0.14162598466362158,-0.5133580850066126,1.5161755740926746,-0.33416049948343557,1.7833299073862408,0.5139386130455855,-0.6842137040540731,-2.6483956539321154,1.111781386043757,2.744841648153119,0.011608699926791748,-0.2978790480255613,-1.5686049470141332,-1.3527125996567446,-0.8069995269798872,-0.8649491875996753,-1.129641165354729,1.933060854543772],\"type\":\"scatter\"},{\"line\":{\"color\":\"rgba(50, 171, 96, 1.0)\",\"dash\":\"solid\",\"shape\":\"linear\",\"width\":1.3},\"mode\":\"lines\",\"name\":\"C\",\"text\":\"\",\"x\":[0,1,2,3,4,5,6,7,8,9,10,11,12,13,14,15,16,17,18,19,20,21,22,23,24,25,26,27,28,29,30,31,32,33,34,35,36,37,38,39,40,41,42,43,44,45,46,47,48,49,50,51,52,53,54,55,56,57,58,59,60,61,62,63,64,65,66,67,68,69,70,71,72,73,74,75,76,77,78,79,80,81,82,83,84,85,86,87,88,89,90,91,92,93,94,95,96,97,98,99],\"y\":[-0.20330239236774128,0.32850101568085893,0.529542595028742,-1.6869438521556148,-0.12915954035899646,-0.29361414034583905,-1.0411915378410137,0.1655450402186426,0.6245227599578845,0.6780299903342727,-2.9290857736047786,0.461077292314986,1.1091891520463508,0.33644402919592176,0.4127408790834404,0.4176719457751997,-0.7460023909998824,-0.18561711514336504,-0.46564454618751433,0.15926935447160537,0.5783156105882734,0.6498088371009316,-0.5119302580892772,-0.01638721511848431,0.310058348939363,0.038928256609700576,-0.26008888312749373,-1.2617315627247143,0.06454665859839183,0.47483185016901536,-0.05846809624656749,1.4470724106911268,-1.8437534447744601,-0.021823481334008542,-0.4598326516335303,0.3157084829852417,-1.086482265263441,0.1126458838976049,-1.8193251733435594,1.3315552594184057,1.7596809193450778,1.739835596293713,-0.7630474665988405,0.10544336197836349,1.4076948529659261,-0.9138687942754058,0.2111116933980099,-0.42235606752361854,0.2679189907173422,0.5080811830371827,-0.8529529166914348,-0.5195609166522553,0.8811768808600744,-0.038377272851005687,1.4782130095657346,0.19355006817445572,1.0508600294180694,0.47121959127528307,-0.1999034912474286,1.7346578774154435,-0.2873035910578778,0.3893424633119317,-2.078545664242502,-0.8266949553779602,1.0827891174777793,1.5546785887935657,-0.4752780928615553,0.002957871234240924,-0.9326126230951465,1.2195596769465835,-0.7956573787575608,2.8696588406462302,-0.25251788733211367,-0.8305892104633876,0.08919573756281855,-0.7044374495911413,0.28848531661875715,-0.3717414926024388,0.8288440550131508,-0.38340128043684973,0.06574562706397219,2.0524525605093,-0.6405528750002505,-0.3340064376926966,1.2219996473694095,0.2194755290359963,2.955198772573274,-0.02685772437217304,0.26146694935304754,-1.0888714908255899,0.5099640075793971,-1.2173602966953139,-0.3036137386756566,0.8471957766098436,1.0297840502997417,1.8537466066157755,-0.7559521685658589,0.2445071826661215,0.7429875949033095,0.4823261097522082],\"type\":\"scatter\"},{\"line\":{\"color\":\"rgba(128, 0, 128, 1.0)\",\"dash\":\"solid\",\"shape\":\"linear\",\"width\":1.3},\"mode\":\"lines\",\"name\":\"D\",\"text\":\"\",\"x\":[0,1,2,3,4,5,6,7,8,9,10,11,12,13,14,15,16,17,18,19,20,21,22,23,24,25,26,27,28,29,30,31,32,33,34,35,36,37,38,39,40,41,42,43,44,45,46,47,48,49,50,51,52,53,54,55,56,57,58,59,60,61,62,63,64,65,66,67,68,69,70,71,72,73,74,75,76,77,78,79,80,81,82,83,84,85,86,87,88,89,90,91,92,93,94,95,96,97,98,99],\"y\":[0.6353847301831402,1.2009423784267994,-1.654844320111015,-0.8635523832067165,0.8436073081690776,0.0010283296707705861,0.7213232234941241,1.2615979277353082,1.4292327016337216,0.027287191889307012,-1.5180573636122134,-1.0131139254746897,0.7948617640038231,-1.408160297894933,-0.5012501529865498,1.5280332963554248,-0.7879092031693243,0.7669901510070474,-1.091735910194253,0.662536340034536,0.550001997833688,-0.3214729696376683,0.008292011859685321,-1.3698158321629847,0.8391122567630139,1.2785094720503718,1.1309681951149693,0.43715762373237255,-0.8719283319074831,0.5232332637202878,-0.9427769729935915,1.749152052334987,-0.7332203655606052,-1.730022600119727,-0.3071717755780072,-0.6574275508278046,-0.11120726606697393,-0.29807283502782583,2.007007347945856,-1.1248393061937714,-0.08331589907942558,-0.9624694892468075,-1.1772773034412958,0.5443833685090267,-2.383209166152728,-0.5654893309716007,0.15432201119291886,0.8195508234542466,0.41835284465192496,-0.10531200162672043,1.0245802846927696,-0.00916744004768294,-0.3619809134335411,1.0455709500178472,1.1226952193325705,-1.243767426208508,-0.1269245788752039,-1.138560695098012,0.012152255094927601,-0.3773469384695606,-0.1271188690590761,0.7691413459651985,0.6395681120462738,0.38786868367917465,0.7814950610131641,-0.003065856032941088,-0.08052791958464772,-0.000862227830624004,-0.14667204540993645,-0.6588016529198943,0.4760288970780797,-0.5010391118114504,-0.9547048325860107,1.4747680524072513,0.4344091007512491,-0.1871813519464555,-0.31693463148729906,0.16707302260475737,-1.3669967745199492,-0.12552365732428736,0.16638159317079995,0.33491507513827795,0.15025043754502934,-0.3472800351808697,1.7591954772545582,-0.29790728038059144,-3.201777800234756,-0.4018680720562205,0.808560116272953,0.37745942884408784,0.9703784233765854,-0.7888595069519375,0.3101314954838077,0.24078793877636165,0.9229850887876242,0.12831890641507618,0.7564594134938638,0.2643149845870508,1.2868130886986313,-1.4659236256700496],\"type\":\"scatter\"}],                        {\"legend\":{\"bgcolor\":\"#F5F6F9\",\"font\":{\"color\":\"#4D5663\"}},\"paper_bgcolor\":\"#F5F6F9\",\"plot_bgcolor\":\"#F5F6F9\",\"template\":{\"data\":{\"barpolar\":[{\"marker\":{\"line\":{\"color\":\"#E5ECF6\",\"width\":0.5},\"pattern\":{\"fillmode\":\"overlay\",\"size\":10,\"solidity\":0.2}},\"type\":\"barpolar\"}],\"bar\":[{\"error_x\":{\"color\":\"#2a3f5f\"},\"error_y\":{\"color\":\"#2a3f5f\"},\"marker\":{\"line\":{\"color\":\"#E5ECF6\",\"width\":0.5},\"pattern\":{\"fillmode\":\"overlay\",\"size\":10,\"solidity\":0.2}},\"type\":\"bar\"}],\"carpet\":[{\"aaxis\":{\"endlinecolor\":\"#2a3f5f\",\"gridcolor\":\"white\",\"linecolor\":\"white\",\"minorgridcolor\":\"white\",\"startlinecolor\":\"#2a3f5f\"},\"baxis\":{\"endlinecolor\":\"#2a3f5f\",\"gridcolor\":\"white\",\"linecolor\":\"white\",\"minorgridcolor\":\"white\",\"startlinecolor\":\"#2a3f5f\"},\"type\":\"carpet\"}],\"choropleth\":[{\"colorbar\":{\"outlinewidth\":0,\"ticks\":\"\"},\"type\":\"choropleth\"}],\"contourcarpet\":[{\"colorbar\":{\"outlinewidth\":0,\"ticks\":\"\"},\"type\":\"contourcarpet\"}],\"contour\":[{\"colorbar\":{\"outlinewidth\":0,\"ticks\":\"\"},\"colorscale\":[[0.0,\"#0d0887\"],[0.1111111111111111,\"#46039f\"],[0.2222222222222222,\"#7201a8\"],[0.3333333333333333,\"#9c179e\"],[0.4444444444444444,\"#bd3786\"],[0.5555555555555556,\"#d8576b\"],[0.6666666666666666,\"#ed7953\"],[0.7777777777777778,\"#fb9f3a\"],[0.8888888888888888,\"#fdca26\"],[1.0,\"#f0f921\"]],\"type\":\"contour\"}],\"heatmapgl\":[{\"colorbar\":{\"outlinewidth\":0,\"ticks\":\"\"},\"colorscale\":[[0.0,\"#0d0887\"],[0.1111111111111111,\"#46039f\"],[0.2222222222222222,\"#7201a8\"],[0.3333333333333333,\"#9c179e\"],[0.4444444444444444,\"#bd3786\"],[0.5555555555555556,\"#d8576b\"],[0.6666666666666666,\"#ed7953\"],[0.7777777777777778,\"#fb9f3a\"],[0.8888888888888888,\"#fdca26\"],[1.0,\"#f0f921\"]],\"type\":\"heatmapgl\"}],\"heatmap\":[{\"colorbar\":{\"outlinewidth\":0,\"ticks\":\"\"},\"colorscale\":[[0.0,\"#0d0887\"],[0.1111111111111111,\"#46039f\"],[0.2222222222222222,\"#7201a8\"],[0.3333333333333333,\"#9c179e\"],[0.4444444444444444,\"#bd3786\"],[0.5555555555555556,\"#d8576b\"],[0.6666666666666666,\"#ed7953\"],[0.7777777777777778,\"#fb9f3a\"],[0.8888888888888888,\"#fdca26\"],[1.0,\"#f0f921\"]],\"type\":\"heatmap\"}],\"histogram2dcontour\":[{\"colorbar\":{\"outlinewidth\":0,\"ticks\":\"\"},\"colorscale\":[[0.0,\"#0d0887\"],[0.1111111111111111,\"#46039f\"],[0.2222222222222222,\"#7201a8\"],[0.3333333333333333,\"#9c179e\"],[0.4444444444444444,\"#bd3786\"],[0.5555555555555556,\"#d8576b\"],[0.6666666666666666,\"#ed7953\"],[0.7777777777777778,\"#fb9f3a\"],[0.8888888888888888,\"#fdca26\"],[1.0,\"#f0f921\"]],\"type\":\"histogram2dcontour\"}],\"histogram2d\":[{\"colorbar\":{\"outlinewidth\":0,\"ticks\":\"\"},\"colorscale\":[[0.0,\"#0d0887\"],[0.1111111111111111,\"#46039f\"],[0.2222222222222222,\"#7201a8\"],[0.3333333333333333,\"#9c179e\"],[0.4444444444444444,\"#bd3786\"],[0.5555555555555556,\"#d8576b\"],[0.6666666666666666,\"#ed7953\"],[0.7777777777777778,\"#fb9f3a\"],[0.8888888888888888,\"#fdca26\"],[1.0,\"#f0f921\"]],\"type\":\"histogram2d\"}],\"histogram\":[{\"marker\":{\"pattern\":{\"fillmode\":\"overlay\",\"size\":10,\"solidity\":0.2}},\"type\":\"histogram\"}],\"mesh3d\":[{\"colorbar\":{\"outlinewidth\":0,\"ticks\":\"\"},\"type\":\"mesh3d\"}],\"parcoords\":[{\"line\":{\"colorbar\":{\"outlinewidth\":0,\"ticks\":\"\"}},\"type\":\"parcoords\"}],\"pie\":[{\"automargin\":true,\"type\":\"pie\"}],\"scatter3d\":[{\"line\":{\"colorbar\":{\"outlinewidth\":0,\"ticks\":\"\"}},\"marker\":{\"colorbar\":{\"outlinewidth\":0,\"ticks\":\"\"}},\"type\":\"scatter3d\"}],\"scattercarpet\":[{\"marker\":{\"colorbar\":{\"outlinewidth\":0,\"ticks\":\"\"}},\"type\":\"scattercarpet\"}],\"scattergeo\":[{\"marker\":{\"colorbar\":{\"outlinewidth\":0,\"ticks\":\"\"}},\"type\":\"scattergeo\"}],\"scattergl\":[{\"marker\":{\"colorbar\":{\"outlinewidth\":0,\"ticks\":\"\"}},\"type\":\"scattergl\"}],\"scattermapbox\":[{\"marker\":{\"colorbar\":{\"outlinewidth\":0,\"ticks\":\"\"}},\"type\":\"scattermapbox\"}],\"scatterpolargl\":[{\"marker\":{\"colorbar\":{\"outlinewidth\":0,\"ticks\":\"\"}},\"type\":\"scatterpolargl\"}],\"scatterpolar\":[{\"marker\":{\"colorbar\":{\"outlinewidth\":0,\"ticks\":\"\"}},\"type\":\"scatterpolar\"}],\"scatter\":[{\"fillpattern\":{\"fillmode\":\"overlay\",\"size\":10,\"solidity\":0.2},\"type\":\"scatter\"}],\"scatterternary\":[{\"marker\":{\"colorbar\":{\"outlinewidth\":0,\"ticks\":\"\"}},\"type\":\"scatterternary\"}],\"surface\":[{\"colorbar\":{\"outlinewidth\":0,\"ticks\":\"\"},\"colorscale\":[[0.0,\"#0d0887\"],[0.1111111111111111,\"#46039f\"],[0.2222222222222222,\"#7201a8\"],[0.3333333333333333,\"#9c179e\"],[0.4444444444444444,\"#bd3786\"],[0.5555555555555556,\"#d8576b\"],[0.6666666666666666,\"#ed7953\"],[0.7777777777777778,\"#fb9f3a\"],[0.8888888888888888,\"#fdca26\"],[1.0,\"#f0f921\"]],\"type\":\"surface\"}],\"table\":[{\"cells\":{\"fill\":{\"color\":\"#EBF0F8\"},\"line\":{\"color\":\"white\"}},\"header\":{\"fill\":{\"color\":\"#C8D4E3\"},\"line\":{\"color\":\"white\"}},\"type\":\"table\"}]},\"layout\":{\"annotationdefaults\":{\"arrowcolor\":\"#2a3f5f\",\"arrowhead\":0,\"arrowwidth\":1},\"autotypenumbers\":\"strict\",\"coloraxis\":{\"colorbar\":{\"outlinewidth\":0,\"ticks\":\"\"}},\"colorscale\":{\"diverging\":[[0,\"#8e0152\"],[0.1,\"#c51b7d\"],[0.2,\"#de77ae\"],[0.3,\"#f1b6da\"],[0.4,\"#fde0ef\"],[0.5,\"#f7f7f7\"],[0.6,\"#e6f5d0\"],[0.7,\"#b8e186\"],[0.8,\"#7fbc41\"],[0.9,\"#4d9221\"],[1,\"#276419\"]],\"sequential\":[[0.0,\"#0d0887\"],[0.1111111111111111,\"#46039f\"],[0.2222222222222222,\"#7201a8\"],[0.3333333333333333,\"#9c179e\"],[0.4444444444444444,\"#bd3786\"],[0.5555555555555556,\"#d8576b\"],[0.6666666666666666,\"#ed7953\"],[0.7777777777777778,\"#fb9f3a\"],[0.8888888888888888,\"#fdca26\"],[1.0,\"#f0f921\"]],\"sequentialminus\":[[0.0,\"#0d0887\"],[0.1111111111111111,\"#46039f\"],[0.2222222222222222,\"#7201a8\"],[0.3333333333333333,\"#9c179e\"],[0.4444444444444444,\"#bd3786\"],[0.5555555555555556,\"#d8576b\"],[0.6666666666666666,\"#ed7953\"],[0.7777777777777778,\"#fb9f3a\"],[0.8888888888888888,\"#fdca26\"],[1.0,\"#f0f921\"]]},\"colorway\":[\"#636efa\",\"#EF553B\",\"#00cc96\",\"#ab63fa\",\"#FFA15A\",\"#19d3f3\",\"#FF6692\",\"#B6E880\",\"#FF97FF\",\"#FECB52\"],\"font\":{\"color\":\"#2a3f5f\"},\"geo\":{\"bgcolor\":\"white\",\"lakecolor\":\"white\",\"landcolor\":\"#E5ECF6\",\"showlakes\":true,\"showland\":true,\"subunitcolor\":\"white\"},\"hoverlabel\":{\"align\":\"left\"},\"hovermode\":\"closest\",\"mapbox\":{\"style\":\"light\"},\"paper_bgcolor\":\"white\",\"plot_bgcolor\":\"#E5ECF6\",\"polar\":{\"angularaxis\":{\"gridcolor\":\"white\",\"linecolor\":\"white\",\"ticks\":\"\"},\"bgcolor\":\"#E5ECF6\",\"radialaxis\":{\"gridcolor\":\"white\",\"linecolor\":\"white\",\"ticks\":\"\"}},\"scene\":{\"xaxis\":{\"backgroundcolor\":\"#E5ECF6\",\"gridcolor\":\"white\",\"gridwidth\":2,\"linecolor\":\"white\",\"showbackground\":true,\"ticks\":\"\",\"zerolinecolor\":\"white\"},\"yaxis\":{\"backgroundcolor\":\"#E5ECF6\",\"gridcolor\":\"white\",\"gridwidth\":2,\"linecolor\":\"white\",\"showbackground\":true,\"ticks\":\"\",\"zerolinecolor\":\"white\"},\"zaxis\":{\"backgroundcolor\":\"#E5ECF6\",\"gridcolor\":\"white\",\"gridwidth\":2,\"linecolor\":\"white\",\"showbackground\":true,\"ticks\":\"\",\"zerolinecolor\":\"white\"}},\"shapedefaults\":{\"line\":{\"color\":\"#2a3f5f\"}},\"ternary\":{\"aaxis\":{\"gridcolor\":\"white\",\"linecolor\":\"white\",\"ticks\":\"\"},\"baxis\":{\"gridcolor\":\"white\",\"linecolor\":\"white\",\"ticks\":\"\"},\"bgcolor\":\"#E5ECF6\",\"caxis\":{\"gridcolor\":\"white\",\"linecolor\":\"white\",\"ticks\":\"\"}},\"title\":{\"x\":0.05},\"xaxis\":{\"automargin\":true,\"gridcolor\":\"white\",\"linecolor\":\"white\",\"ticks\":\"\",\"title\":{\"standoff\":15},\"zerolinecolor\":\"white\",\"zerolinewidth\":2},\"yaxis\":{\"automargin\":true,\"gridcolor\":\"white\",\"linecolor\":\"white\",\"ticks\":\"\",\"title\":{\"standoff\":15},\"zerolinecolor\":\"white\",\"zerolinewidth\":2}}},\"title\":{\"font\":{\"color\":\"#4D5663\"}},\"xaxis\":{\"gridcolor\":\"#E1E5ED\",\"showgrid\":true,\"tickfont\":{\"color\":\"#4D5663\"},\"title\":{\"font\":{\"color\":\"#4D5663\"},\"text\":\"\"},\"zerolinecolor\":\"#E1E5ED\"},\"yaxis\":{\"gridcolor\":\"#E1E5ED\",\"showgrid\":true,\"tickfont\":{\"color\":\"#4D5663\"},\"title\":{\"font\":{\"color\":\"#4D5663\"},\"text\":\"\"},\"zerolinecolor\":\"#E1E5ED\"}},                        {\"showLink\": true, \"linkText\": \"Export to plot.ly\", \"plotlyServerURL\": \"https://plot.ly\", \"responsive\": true}                    ).then(function(){\n",
       "                            \n",
       "var gd = document.getElementById('53f0a5c2-e5e5-4c07-a985-5941b3cd6f2e');\n",
       "var x = new MutationObserver(function (mutations, observer) {{\n",
       "        var display = window.getComputedStyle(gd).display;\n",
       "        if (!display || display === 'none') {{\n",
       "            console.log([gd, 'removed!']);\n",
       "            Plotly.purge(gd);\n",
       "            observer.disconnect();\n",
       "        }}\n",
       "}});\n",
       "\n",
       "// Listen for the removal of the full notebook cells\n",
       "var notebookContainer = gd.closest('#notebook-container');\n",
       "if (notebookContainer) {{\n",
       "    x.observe(notebookContainer, {childList: true});\n",
       "}}\n",
       "\n",
       "// Listen for the clearing of the current output cell\n",
       "var outputEl = gd.closest('.output');\n",
       "if (outputEl) {{\n",
       "    x.observe(outputEl, {childList: true});\n",
       "}}\n",
       "\n",
       "                        })                };                });            </script>        </div>"
      ]
     },
     "metadata": {},
     "output_type": "display_data"
    }
   ],
   "source": [
    "df.iplot()"
   ]
  },
  {
   "cell_type": "code",
   "execution_count": 20,
   "id": "7b615b1d",
   "metadata": {},
   "outputs": [
    {
     "data": {
      "application/vnd.plotly.v1+json": {
       "config": {
        "linkText": "Export to plot.ly",
        "plotlyServerURL": "https://plot.ly",
        "showLink": true
       },
       "data": [
        {
         "line": {
          "color": "rgba(255, 153, 51, 1.0)",
          "dash": "solid",
          "shape": "linear",
          "width": 1.3
         },
         "marker": {
          "size": 10,
          "symbol": "circle"
         },
         "mode": "markers",
         "name": "B",
         "text": "",
         "type": "scatter",
         "x": [
          -0.5460778957347936,
          1.3014510422065746,
          0.26814934478756514,
          -0.3618191044714592,
          -0.7369237834399675,
          3.232474390779266,
          0.4502317191922599,
          0.29996219651162587,
          0.1722537891268259,
          -0.6669176939726003,
          1.1578674537274418,
          -1.476432366982033,
          -0.5472396471244979,
          -1.2937811853587022,
          -0.9013967416102897,
          0.8853025381342631,
          -1.1366898385165811,
          -2.6962483782363815,
          -1.6788450175371639,
          0.3546081661265342,
          0.7442380110818622,
          0.5619392224263491,
          0.6065249503129646,
          0.04089407242636777,
          -1.3342789853786823,
          -0.9369940551036597,
          0.10034758564092557,
          0.8075163635955258,
          0.38351490019648027,
          -0.3324193008656376,
          0.2797743330160391,
          -0.0026682896222340285,
          1.5101952298787567,
          0.8875873921209985,
          1.1495772264048136,
          -0.2464421692232896,
          1.8616344700460064,
          -0.2713449451449245,
          -1.8734698359308377,
          -0.4375931728140298,
          0.782786598083783,
          1.1427488896160929,
          -1.7014930434140594,
          0.7267623595379041,
          -0.007002364510007742,
          0.17509129779533658,
          -0.4781056073352823,
          0.5832965159892182,
          -0.6331491917976095,
          -0.3161961767682029,
          -2.3572250533205223,
          1.3512672934632202,
          0.05341203365733753,
          0.7670034141178904,
          0.18073432373892828,
          -0.7672344771558023,
          0.20558654605709664,
          -0.5544513388284268,
          1.5287039845218173,
          -1.1332355093479762,
          -1.4748315025375673,
          -1.1462469684745658,
          -1.052650035154753,
          -0.3907382513473276,
          -1.627183772248113,
          -0.3783231268569761,
          -0.1597912113636773,
          -1.3535219949676072,
          -0.23935950379079585,
          1.0159738780171244,
          -0.576711046906184,
          -0.7274673897933394,
          -1.4907578857702473,
          -0.7921446366064933,
          -0.08994575562284873,
          0.930250935265208,
          -1.3191164860374893,
          -1.3857346608655399,
          1.6340683152012712,
          1.170193417939178,
          -1.9931400227970575,
          -0.13615296286206194,
          0.0648707514248098,
          -0.5025897956063995,
          -1.845513405796715,
          -0.9477950010886944,
          0.2791081770738883,
          -0.9684113216516099,
          0.8229249871332075,
          0.4314515011373696,
          0.14872909873619033,
          0.2138849867192027,
          -1.2573571642428092,
          1.9379795654275749,
          -0.375126110803408,
          0.8139291956018956,
          0.37433213952728006,
          0.8346004863771042,
          -0.5062703709980042,
          0.6998141405879368
         ],
         "y": [
          0.8916549146321898,
          -0.3381931403080011,
          -0.37428192595009857,
          -0.9419524005632491,
          -1.0145977706243687,
          1.5583890754009588,
          -0.6852630085642236,
          0.6651332215213197,
          -0.9910188176038004,
          0.6161978813106868,
          0.3861938231042876,
          -0.60882693154804,
          0.19890215422838792,
          0.6775658736229073,
          0.797828468832904,
          0.07682513904133999,
          0.025107642292884074,
          -1.5576726094219517,
          1.4264356314033277,
          1.2666998992120595,
          -0.6943473865446161,
          -0.053895565447558316,
          0.4284264262379757,
          0.13208468398082687,
          0.7670307156234072,
          0.38390668729911087,
          0.6347177042230788,
          1.1974467440918999,
          0.2020632736198323,
          -1.0022455128645296,
          0.18371926512091438,
          -0.04109060733714235,
          -1.5481413250921956,
          -0.54934779822259,
          0.09252072296337743,
          -0.5367295945730247,
          -0.4777903101063822,
          0.10604568652569685,
          -0.8718547064946718,
          0.5708956722518306,
          0.06589086041506216,
          0.25580174667143174,
          -0.4312599780802227,
          -0.12443614311985786,
          1.5806599712009868,
          0.2870922514198373,
          0.5512944944835362,
          1.4527579119089358,
          0.2699387949848012,
          0.7904290473921192,
          -0.7816302662769503,
          -0.12821896698885438,
          -0.4225712340699086,
          -2.440144305643967,
          -0.9927129109667006,
          -0.18918780352731643,
          -0.09610392449157452,
          0.3554190174115922,
          -1.7864214361926745,
          -1.1073055045960427,
          -0.9630782474751012,
          0.10812185719468097,
          1.073523936772271,
          -0.19935412263787683,
          0.6908359830853447,
          -0.4429809411287429,
          -1.4187058463861983,
          -1.6721208685617281,
          -0.6786398548037761,
          0.7268002142268188,
          -0.4360824977259846,
          -0.23765490366988942,
          -1.4728284198921924,
          -0.01910884940631543,
          0.10765546033029476,
          1.8927129965967484,
          0.03255345460140715,
          1.0744477403084196,
          0.5661276059273651,
          -1.0592431238903615,
          0.786919426390002,
          1.2764749857577515,
          -0.14162598466362158,
          -0.5133580850066126,
          1.5161755740926746,
          -0.33416049948343557,
          1.7833299073862408,
          0.5139386130455855,
          -0.6842137040540731,
          -2.6483956539321154,
          1.111781386043757,
          2.744841648153119,
          0.011608699926791748,
          -0.2978790480255613,
          -1.5686049470141332,
          -1.3527125996567446,
          -0.8069995269798872,
          -0.8649491875996753,
          -1.129641165354729,
          1.933060854543772
         ]
        }
       ],
       "layout": {
        "legend": {
         "bgcolor": "#F5F6F9",
         "font": {
          "color": "#4D5663"
         }
        },
        "paper_bgcolor": "#F5F6F9",
        "plot_bgcolor": "#F5F6F9",
        "template": {
         "data": {
          "bar": [
           {
            "error_x": {
             "color": "#2a3f5f"
            },
            "error_y": {
             "color": "#2a3f5f"
            },
            "marker": {
             "line": {
              "color": "#E5ECF6",
              "width": 0.5
             },
             "pattern": {
              "fillmode": "overlay",
              "size": 10,
              "solidity": 0.2
             }
            },
            "type": "bar"
           }
          ],
          "barpolar": [
           {
            "marker": {
             "line": {
              "color": "#E5ECF6",
              "width": 0.5
             },
             "pattern": {
              "fillmode": "overlay",
              "size": 10,
              "solidity": 0.2
             }
            },
            "type": "barpolar"
           }
          ],
          "carpet": [
           {
            "aaxis": {
             "endlinecolor": "#2a3f5f",
             "gridcolor": "white",
             "linecolor": "white",
             "minorgridcolor": "white",
             "startlinecolor": "#2a3f5f"
            },
            "baxis": {
             "endlinecolor": "#2a3f5f",
             "gridcolor": "white",
             "linecolor": "white",
             "minorgridcolor": "white",
             "startlinecolor": "#2a3f5f"
            },
            "type": "carpet"
           }
          ],
          "choropleth": [
           {
            "colorbar": {
             "outlinewidth": 0,
             "ticks": ""
            },
            "type": "choropleth"
           }
          ],
          "contour": [
           {
            "colorbar": {
             "outlinewidth": 0,
             "ticks": ""
            },
            "colorscale": [
             [
              0,
              "#0d0887"
             ],
             [
              0.1111111111111111,
              "#46039f"
             ],
             [
              0.2222222222222222,
              "#7201a8"
             ],
             [
              0.3333333333333333,
              "#9c179e"
             ],
             [
              0.4444444444444444,
              "#bd3786"
             ],
             [
              0.5555555555555556,
              "#d8576b"
             ],
             [
              0.6666666666666666,
              "#ed7953"
             ],
             [
              0.7777777777777778,
              "#fb9f3a"
             ],
             [
              0.8888888888888888,
              "#fdca26"
             ],
             [
              1,
              "#f0f921"
             ]
            ],
            "type": "contour"
           }
          ],
          "contourcarpet": [
           {
            "colorbar": {
             "outlinewidth": 0,
             "ticks": ""
            },
            "type": "contourcarpet"
           }
          ],
          "heatmap": [
           {
            "colorbar": {
             "outlinewidth": 0,
             "ticks": ""
            },
            "colorscale": [
             [
              0,
              "#0d0887"
             ],
             [
              0.1111111111111111,
              "#46039f"
             ],
             [
              0.2222222222222222,
              "#7201a8"
             ],
             [
              0.3333333333333333,
              "#9c179e"
             ],
             [
              0.4444444444444444,
              "#bd3786"
             ],
             [
              0.5555555555555556,
              "#d8576b"
             ],
             [
              0.6666666666666666,
              "#ed7953"
             ],
             [
              0.7777777777777778,
              "#fb9f3a"
             ],
             [
              0.8888888888888888,
              "#fdca26"
             ],
             [
              1,
              "#f0f921"
             ]
            ],
            "type": "heatmap"
           }
          ],
          "heatmapgl": [
           {
            "colorbar": {
             "outlinewidth": 0,
             "ticks": ""
            },
            "colorscale": [
             [
              0,
              "#0d0887"
             ],
             [
              0.1111111111111111,
              "#46039f"
             ],
             [
              0.2222222222222222,
              "#7201a8"
             ],
             [
              0.3333333333333333,
              "#9c179e"
             ],
             [
              0.4444444444444444,
              "#bd3786"
             ],
             [
              0.5555555555555556,
              "#d8576b"
             ],
             [
              0.6666666666666666,
              "#ed7953"
             ],
             [
              0.7777777777777778,
              "#fb9f3a"
             ],
             [
              0.8888888888888888,
              "#fdca26"
             ],
             [
              1,
              "#f0f921"
             ]
            ],
            "type": "heatmapgl"
           }
          ],
          "histogram": [
           {
            "marker": {
             "pattern": {
              "fillmode": "overlay",
              "size": 10,
              "solidity": 0.2
             }
            },
            "type": "histogram"
           }
          ],
          "histogram2d": [
           {
            "colorbar": {
             "outlinewidth": 0,
             "ticks": ""
            },
            "colorscale": [
             [
              0,
              "#0d0887"
             ],
             [
              0.1111111111111111,
              "#46039f"
             ],
             [
              0.2222222222222222,
              "#7201a8"
             ],
             [
              0.3333333333333333,
              "#9c179e"
             ],
             [
              0.4444444444444444,
              "#bd3786"
             ],
             [
              0.5555555555555556,
              "#d8576b"
             ],
             [
              0.6666666666666666,
              "#ed7953"
             ],
             [
              0.7777777777777778,
              "#fb9f3a"
             ],
             [
              0.8888888888888888,
              "#fdca26"
             ],
             [
              1,
              "#f0f921"
             ]
            ],
            "type": "histogram2d"
           }
          ],
          "histogram2dcontour": [
           {
            "colorbar": {
             "outlinewidth": 0,
             "ticks": ""
            },
            "colorscale": [
             [
              0,
              "#0d0887"
             ],
             [
              0.1111111111111111,
              "#46039f"
             ],
             [
              0.2222222222222222,
              "#7201a8"
             ],
             [
              0.3333333333333333,
              "#9c179e"
             ],
             [
              0.4444444444444444,
              "#bd3786"
             ],
             [
              0.5555555555555556,
              "#d8576b"
             ],
             [
              0.6666666666666666,
              "#ed7953"
             ],
             [
              0.7777777777777778,
              "#fb9f3a"
             ],
             [
              0.8888888888888888,
              "#fdca26"
             ],
             [
              1,
              "#f0f921"
             ]
            ],
            "type": "histogram2dcontour"
           }
          ],
          "mesh3d": [
           {
            "colorbar": {
             "outlinewidth": 0,
             "ticks": ""
            },
            "type": "mesh3d"
           }
          ],
          "parcoords": [
           {
            "line": {
             "colorbar": {
              "outlinewidth": 0,
              "ticks": ""
             }
            },
            "type": "parcoords"
           }
          ],
          "pie": [
           {
            "automargin": true,
            "type": "pie"
           }
          ],
          "scatter": [
           {
            "fillpattern": {
             "fillmode": "overlay",
             "size": 10,
             "solidity": 0.2
            },
            "type": "scatter"
           }
          ],
          "scatter3d": [
           {
            "line": {
             "colorbar": {
              "outlinewidth": 0,
              "ticks": ""
             }
            },
            "marker": {
             "colorbar": {
              "outlinewidth": 0,
              "ticks": ""
             }
            },
            "type": "scatter3d"
           }
          ],
          "scattercarpet": [
           {
            "marker": {
             "colorbar": {
              "outlinewidth": 0,
              "ticks": ""
             }
            },
            "type": "scattercarpet"
           }
          ],
          "scattergeo": [
           {
            "marker": {
             "colorbar": {
              "outlinewidth": 0,
              "ticks": ""
             }
            },
            "type": "scattergeo"
           }
          ],
          "scattergl": [
           {
            "marker": {
             "colorbar": {
              "outlinewidth": 0,
              "ticks": ""
             }
            },
            "type": "scattergl"
           }
          ],
          "scattermapbox": [
           {
            "marker": {
             "colorbar": {
              "outlinewidth": 0,
              "ticks": ""
             }
            },
            "type": "scattermapbox"
           }
          ],
          "scatterpolar": [
           {
            "marker": {
             "colorbar": {
              "outlinewidth": 0,
              "ticks": ""
             }
            },
            "type": "scatterpolar"
           }
          ],
          "scatterpolargl": [
           {
            "marker": {
             "colorbar": {
              "outlinewidth": 0,
              "ticks": ""
             }
            },
            "type": "scatterpolargl"
           }
          ],
          "scatterternary": [
           {
            "marker": {
             "colorbar": {
              "outlinewidth": 0,
              "ticks": ""
             }
            },
            "type": "scatterternary"
           }
          ],
          "surface": [
           {
            "colorbar": {
             "outlinewidth": 0,
             "ticks": ""
            },
            "colorscale": [
             [
              0,
              "#0d0887"
             ],
             [
              0.1111111111111111,
              "#46039f"
             ],
             [
              0.2222222222222222,
              "#7201a8"
             ],
             [
              0.3333333333333333,
              "#9c179e"
             ],
             [
              0.4444444444444444,
              "#bd3786"
             ],
             [
              0.5555555555555556,
              "#d8576b"
             ],
             [
              0.6666666666666666,
              "#ed7953"
             ],
             [
              0.7777777777777778,
              "#fb9f3a"
             ],
             [
              0.8888888888888888,
              "#fdca26"
             ],
             [
              1,
              "#f0f921"
             ]
            ],
            "type": "surface"
           }
          ],
          "table": [
           {
            "cells": {
             "fill": {
              "color": "#EBF0F8"
             },
             "line": {
              "color": "white"
             }
            },
            "header": {
             "fill": {
              "color": "#C8D4E3"
             },
             "line": {
              "color": "white"
             }
            },
            "type": "table"
           }
          ]
         },
         "layout": {
          "annotationdefaults": {
           "arrowcolor": "#2a3f5f",
           "arrowhead": 0,
           "arrowwidth": 1
          },
          "autotypenumbers": "strict",
          "coloraxis": {
           "colorbar": {
            "outlinewidth": 0,
            "ticks": ""
           }
          },
          "colorscale": {
           "diverging": [
            [
             0,
             "#8e0152"
            ],
            [
             0.1,
             "#c51b7d"
            ],
            [
             0.2,
             "#de77ae"
            ],
            [
             0.3,
             "#f1b6da"
            ],
            [
             0.4,
             "#fde0ef"
            ],
            [
             0.5,
             "#f7f7f7"
            ],
            [
             0.6,
             "#e6f5d0"
            ],
            [
             0.7,
             "#b8e186"
            ],
            [
             0.8,
             "#7fbc41"
            ],
            [
             0.9,
             "#4d9221"
            ],
            [
             1,
             "#276419"
            ]
           ],
           "sequential": [
            [
             0,
             "#0d0887"
            ],
            [
             0.1111111111111111,
             "#46039f"
            ],
            [
             0.2222222222222222,
             "#7201a8"
            ],
            [
             0.3333333333333333,
             "#9c179e"
            ],
            [
             0.4444444444444444,
             "#bd3786"
            ],
            [
             0.5555555555555556,
             "#d8576b"
            ],
            [
             0.6666666666666666,
             "#ed7953"
            ],
            [
             0.7777777777777778,
             "#fb9f3a"
            ],
            [
             0.8888888888888888,
             "#fdca26"
            ],
            [
             1,
             "#f0f921"
            ]
           ],
           "sequentialminus": [
            [
             0,
             "#0d0887"
            ],
            [
             0.1111111111111111,
             "#46039f"
            ],
            [
             0.2222222222222222,
             "#7201a8"
            ],
            [
             0.3333333333333333,
             "#9c179e"
            ],
            [
             0.4444444444444444,
             "#bd3786"
            ],
            [
             0.5555555555555556,
             "#d8576b"
            ],
            [
             0.6666666666666666,
             "#ed7953"
            ],
            [
             0.7777777777777778,
             "#fb9f3a"
            ],
            [
             0.8888888888888888,
             "#fdca26"
            ],
            [
             1,
             "#f0f921"
            ]
           ]
          },
          "colorway": [
           "#636efa",
           "#EF553B",
           "#00cc96",
           "#ab63fa",
           "#FFA15A",
           "#19d3f3",
           "#FF6692",
           "#B6E880",
           "#FF97FF",
           "#FECB52"
          ],
          "font": {
           "color": "#2a3f5f"
          },
          "geo": {
           "bgcolor": "white",
           "lakecolor": "white",
           "landcolor": "#E5ECF6",
           "showlakes": true,
           "showland": true,
           "subunitcolor": "white"
          },
          "hoverlabel": {
           "align": "left"
          },
          "hovermode": "closest",
          "mapbox": {
           "style": "light"
          },
          "paper_bgcolor": "white",
          "plot_bgcolor": "#E5ECF6",
          "polar": {
           "angularaxis": {
            "gridcolor": "white",
            "linecolor": "white",
            "ticks": ""
           },
           "bgcolor": "#E5ECF6",
           "radialaxis": {
            "gridcolor": "white",
            "linecolor": "white",
            "ticks": ""
           }
          },
          "scene": {
           "xaxis": {
            "backgroundcolor": "#E5ECF6",
            "gridcolor": "white",
            "gridwidth": 2,
            "linecolor": "white",
            "showbackground": true,
            "ticks": "",
            "zerolinecolor": "white"
           },
           "yaxis": {
            "backgroundcolor": "#E5ECF6",
            "gridcolor": "white",
            "gridwidth": 2,
            "linecolor": "white",
            "showbackground": true,
            "ticks": "",
            "zerolinecolor": "white"
           },
           "zaxis": {
            "backgroundcolor": "#E5ECF6",
            "gridcolor": "white",
            "gridwidth": 2,
            "linecolor": "white",
            "showbackground": true,
            "ticks": "",
            "zerolinecolor": "white"
           }
          },
          "shapedefaults": {
           "line": {
            "color": "#2a3f5f"
           }
          },
          "ternary": {
           "aaxis": {
            "gridcolor": "white",
            "linecolor": "white",
            "ticks": ""
           },
           "baxis": {
            "gridcolor": "white",
            "linecolor": "white",
            "ticks": ""
           },
           "bgcolor": "#E5ECF6",
           "caxis": {
            "gridcolor": "white",
            "linecolor": "white",
            "ticks": ""
           }
          },
          "title": {
           "x": 0.05
          },
          "xaxis": {
           "automargin": true,
           "gridcolor": "white",
           "linecolor": "white",
           "ticks": "",
           "title": {
            "standoff": 15
           },
           "zerolinecolor": "white",
           "zerolinewidth": 2
          },
          "yaxis": {
           "automargin": true,
           "gridcolor": "white",
           "linecolor": "white",
           "ticks": "",
           "title": {
            "standoff": 15
           },
           "zerolinecolor": "white",
           "zerolinewidth": 2
          }
         }
        },
        "title": {
         "font": {
          "color": "#4D5663"
         }
        },
        "xaxis": {
         "gridcolor": "#E1E5ED",
         "showgrid": true,
         "tickfont": {
          "color": "#4D5663"
         },
         "title": {
          "font": {
           "color": "#4D5663"
          },
          "text": ""
         },
         "zerolinecolor": "#E1E5ED"
        },
        "yaxis": {
         "gridcolor": "#E1E5ED",
         "showgrid": true,
         "tickfont": {
          "color": "#4D5663"
         },
         "title": {
          "font": {
           "color": "#4D5663"
          },
          "text": ""
         },
         "zerolinecolor": "#E1E5ED"
        }
       }
      },
      "text/html": [
       "<div>                            <div id=\"29f9053a-a2e8-44c5-b184-41945af2808c\" class=\"plotly-graph-div\" style=\"height:525px; width:100%;\"></div>            <script type=\"text/javascript\">                require([\"plotly\"], function(Plotly) {                    window.PLOTLYENV=window.PLOTLYENV || {};\n",
       "                    window.PLOTLYENV.BASE_URL='https://plot.ly';                                    if (document.getElementById(\"29f9053a-a2e8-44c5-b184-41945af2808c\")) {                    Plotly.newPlot(                        \"29f9053a-a2e8-44c5-b184-41945af2808c\",                        [{\"line\":{\"color\":\"rgba(255, 153, 51, 1.0)\",\"dash\":\"solid\",\"shape\":\"linear\",\"width\":1.3},\"marker\":{\"size\":10,\"symbol\":\"circle\"},\"mode\":\"markers\",\"name\":\"B\",\"text\":\"\",\"x\":[-0.5460778957347936,1.3014510422065746,0.26814934478756514,-0.3618191044714592,-0.7369237834399675,3.232474390779266,0.4502317191922599,0.29996219651162587,0.1722537891268259,-0.6669176939726003,1.1578674537274418,-1.476432366982033,-0.5472396471244979,-1.2937811853587022,-0.9013967416102897,0.8853025381342631,-1.1366898385165811,-2.6962483782363815,-1.6788450175371639,0.3546081661265342,0.7442380110818622,0.5619392224263491,0.6065249503129646,0.04089407242636777,-1.3342789853786823,-0.9369940551036597,0.10034758564092557,0.8075163635955258,0.38351490019648027,-0.3324193008656376,0.2797743330160391,-0.0026682896222340285,1.5101952298787567,0.8875873921209985,1.1495772264048136,-0.2464421692232896,1.8616344700460064,-0.2713449451449245,-1.8734698359308377,-0.4375931728140298,0.782786598083783,1.1427488896160929,-1.7014930434140594,0.7267623595379041,-0.007002364510007742,0.17509129779533658,-0.4781056073352823,0.5832965159892182,-0.6331491917976095,-0.3161961767682029,-2.3572250533205223,1.3512672934632202,0.05341203365733753,0.7670034141178904,0.18073432373892828,-0.7672344771558023,0.20558654605709664,-0.5544513388284268,1.5287039845218173,-1.1332355093479762,-1.4748315025375673,-1.1462469684745658,-1.052650035154753,-0.3907382513473276,-1.627183772248113,-0.3783231268569761,-0.1597912113636773,-1.3535219949676072,-0.23935950379079585,1.0159738780171244,-0.576711046906184,-0.7274673897933394,-1.4907578857702473,-0.7921446366064933,-0.08994575562284873,0.930250935265208,-1.3191164860374893,-1.3857346608655399,1.6340683152012712,1.170193417939178,-1.9931400227970575,-0.13615296286206194,0.0648707514248098,-0.5025897956063995,-1.845513405796715,-0.9477950010886944,0.2791081770738883,-0.9684113216516099,0.8229249871332075,0.4314515011373696,0.14872909873619033,0.2138849867192027,-1.2573571642428092,1.9379795654275749,-0.375126110803408,0.8139291956018956,0.37433213952728006,0.8346004863771042,-0.5062703709980042,0.6998141405879368],\"y\":[0.8916549146321898,-0.3381931403080011,-0.37428192595009857,-0.9419524005632491,-1.0145977706243687,1.5583890754009588,-0.6852630085642236,0.6651332215213197,-0.9910188176038004,0.6161978813106868,0.3861938231042876,-0.60882693154804,0.19890215422838792,0.6775658736229073,0.797828468832904,0.07682513904133999,0.025107642292884074,-1.5576726094219517,1.4264356314033277,1.2666998992120595,-0.6943473865446161,-0.053895565447558316,0.4284264262379757,0.13208468398082687,0.7670307156234072,0.38390668729911087,0.6347177042230788,1.1974467440918999,0.2020632736198323,-1.0022455128645296,0.18371926512091438,-0.04109060733714235,-1.5481413250921956,-0.54934779822259,0.09252072296337743,-0.5367295945730247,-0.4777903101063822,0.10604568652569685,-0.8718547064946718,0.5708956722518306,0.06589086041506216,0.25580174667143174,-0.4312599780802227,-0.12443614311985786,1.5806599712009868,0.2870922514198373,0.5512944944835362,1.4527579119089358,0.2699387949848012,0.7904290473921192,-0.7816302662769503,-0.12821896698885438,-0.4225712340699086,-2.440144305643967,-0.9927129109667006,-0.18918780352731643,-0.09610392449157452,0.3554190174115922,-1.7864214361926745,-1.1073055045960427,-0.9630782474751012,0.10812185719468097,1.073523936772271,-0.19935412263787683,0.6908359830853447,-0.4429809411287429,-1.4187058463861983,-1.6721208685617281,-0.6786398548037761,0.7268002142268188,-0.4360824977259846,-0.23765490366988942,-1.4728284198921924,-0.01910884940631543,0.10765546033029476,1.8927129965967484,0.03255345460140715,1.0744477403084196,0.5661276059273651,-1.0592431238903615,0.786919426390002,1.2764749857577515,-0.14162598466362158,-0.5133580850066126,1.5161755740926746,-0.33416049948343557,1.7833299073862408,0.5139386130455855,-0.6842137040540731,-2.6483956539321154,1.111781386043757,2.744841648153119,0.011608699926791748,-0.2978790480255613,-1.5686049470141332,-1.3527125996567446,-0.8069995269798872,-0.8649491875996753,-1.129641165354729,1.933060854543772],\"type\":\"scatter\"}],                        {\"legend\":{\"bgcolor\":\"#F5F6F9\",\"font\":{\"color\":\"#4D5663\"}},\"paper_bgcolor\":\"#F5F6F9\",\"plot_bgcolor\":\"#F5F6F9\",\"template\":{\"data\":{\"barpolar\":[{\"marker\":{\"line\":{\"color\":\"#E5ECF6\",\"width\":0.5},\"pattern\":{\"fillmode\":\"overlay\",\"size\":10,\"solidity\":0.2}},\"type\":\"barpolar\"}],\"bar\":[{\"error_x\":{\"color\":\"#2a3f5f\"},\"error_y\":{\"color\":\"#2a3f5f\"},\"marker\":{\"line\":{\"color\":\"#E5ECF6\",\"width\":0.5},\"pattern\":{\"fillmode\":\"overlay\",\"size\":10,\"solidity\":0.2}},\"type\":\"bar\"}],\"carpet\":[{\"aaxis\":{\"endlinecolor\":\"#2a3f5f\",\"gridcolor\":\"white\",\"linecolor\":\"white\",\"minorgridcolor\":\"white\",\"startlinecolor\":\"#2a3f5f\"},\"baxis\":{\"endlinecolor\":\"#2a3f5f\",\"gridcolor\":\"white\",\"linecolor\":\"white\",\"minorgridcolor\":\"white\",\"startlinecolor\":\"#2a3f5f\"},\"type\":\"carpet\"}],\"choropleth\":[{\"colorbar\":{\"outlinewidth\":0,\"ticks\":\"\"},\"type\":\"choropleth\"}],\"contourcarpet\":[{\"colorbar\":{\"outlinewidth\":0,\"ticks\":\"\"},\"type\":\"contourcarpet\"}],\"contour\":[{\"colorbar\":{\"outlinewidth\":0,\"ticks\":\"\"},\"colorscale\":[[0.0,\"#0d0887\"],[0.1111111111111111,\"#46039f\"],[0.2222222222222222,\"#7201a8\"],[0.3333333333333333,\"#9c179e\"],[0.4444444444444444,\"#bd3786\"],[0.5555555555555556,\"#d8576b\"],[0.6666666666666666,\"#ed7953\"],[0.7777777777777778,\"#fb9f3a\"],[0.8888888888888888,\"#fdca26\"],[1.0,\"#f0f921\"]],\"type\":\"contour\"}],\"heatmapgl\":[{\"colorbar\":{\"outlinewidth\":0,\"ticks\":\"\"},\"colorscale\":[[0.0,\"#0d0887\"],[0.1111111111111111,\"#46039f\"],[0.2222222222222222,\"#7201a8\"],[0.3333333333333333,\"#9c179e\"],[0.4444444444444444,\"#bd3786\"],[0.5555555555555556,\"#d8576b\"],[0.6666666666666666,\"#ed7953\"],[0.7777777777777778,\"#fb9f3a\"],[0.8888888888888888,\"#fdca26\"],[1.0,\"#f0f921\"]],\"type\":\"heatmapgl\"}],\"heatmap\":[{\"colorbar\":{\"outlinewidth\":0,\"ticks\":\"\"},\"colorscale\":[[0.0,\"#0d0887\"],[0.1111111111111111,\"#46039f\"],[0.2222222222222222,\"#7201a8\"],[0.3333333333333333,\"#9c179e\"],[0.4444444444444444,\"#bd3786\"],[0.5555555555555556,\"#d8576b\"],[0.6666666666666666,\"#ed7953\"],[0.7777777777777778,\"#fb9f3a\"],[0.8888888888888888,\"#fdca26\"],[1.0,\"#f0f921\"]],\"type\":\"heatmap\"}],\"histogram2dcontour\":[{\"colorbar\":{\"outlinewidth\":0,\"ticks\":\"\"},\"colorscale\":[[0.0,\"#0d0887\"],[0.1111111111111111,\"#46039f\"],[0.2222222222222222,\"#7201a8\"],[0.3333333333333333,\"#9c179e\"],[0.4444444444444444,\"#bd3786\"],[0.5555555555555556,\"#d8576b\"],[0.6666666666666666,\"#ed7953\"],[0.7777777777777778,\"#fb9f3a\"],[0.8888888888888888,\"#fdca26\"],[1.0,\"#f0f921\"]],\"type\":\"histogram2dcontour\"}],\"histogram2d\":[{\"colorbar\":{\"outlinewidth\":0,\"ticks\":\"\"},\"colorscale\":[[0.0,\"#0d0887\"],[0.1111111111111111,\"#46039f\"],[0.2222222222222222,\"#7201a8\"],[0.3333333333333333,\"#9c179e\"],[0.4444444444444444,\"#bd3786\"],[0.5555555555555556,\"#d8576b\"],[0.6666666666666666,\"#ed7953\"],[0.7777777777777778,\"#fb9f3a\"],[0.8888888888888888,\"#fdca26\"],[1.0,\"#f0f921\"]],\"type\":\"histogram2d\"}],\"histogram\":[{\"marker\":{\"pattern\":{\"fillmode\":\"overlay\",\"size\":10,\"solidity\":0.2}},\"type\":\"histogram\"}],\"mesh3d\":[{\"colorbar\":{\"outlinewidth\":0,\"ticks\":\"\"},\"type\":\"mesh3d\"}],\"parcoords\":[{\"line\":{\"colorbar\":{\"outlinewidth\":0,\"ticks\":\"\"}},\"type\":\"parcoords\"}],\"pie\":[{\"automargin\":true,\"type\":\"pie\"}],\"scatter3d\":[{\"line\":{\"colorbar\":{\"outlinewidth\":0,\"ticks\":\"\"}},\"marker\":{\"colorbar\":{\"outlinewidth\":0,\"ticks\":\"\"}},\"type\":\"scatter3d\"}],\"scattercarpet\":[{\"marker\":{\"colorbar\":{\"outlinewidth\":0,\"ticks\":\"\"}},\"type\":\"scattercarpet\"}],\"scattergeo\":[{\"marker\":{\"colorbar\":{\"outlinewidth\":0,\"ticks\":\"\"}},\"type\":\"scattergeo\"}],\"scattergl\":[{\"marker\":{\"colorbar\":{\"outlinewidth\":0,\"ticks\":\"\"}},\"type\":\"scattergl\"}],\"scattermapbox\":[{\"marker\":{\"colorbar\":{\"outlinewidth\":0,\"ticks\":\"\"}},\"type\":\"scattermapbox\"}],\"scatterpolargl\":[{\"marker\":{\"colorbar\":{\"outlinewidth\":0,\"ticks\":\"\"}},\"type\":\"scatterpolargl\"}],\"scatterpolar\":[{\"marker\":{\"colorbar\":{\"outlinewidth\":0,\"ticks\":\"\"}},\"type\":\"scatterpolar\"}],\"scatter\":[{\"fillpattern\":{\"fillmode\":\"overlay\",\"size\":10,\"solidity\":0.2},\"type\":\"scatter\"}],\"scatterternary\":[{\"marker\":{\"colorbar\":{\"outlinewidth\":0,\"ticks\":\"\"}},\"type\":\"scatterternary\"}],\"surface\":[{\"colorbar\":{\"outlinewidth\":0,\"ticks\":\"\"},\"colorscale\":[[0.0,\"#0d0887\"],[0.1111111111111111,\"#46039f\"],[0.2222222222222222,\"#7201a8\"],[0.3333333333333333,\"#9c179e\"],[0.4444444444444444,\"#bd3786\"],[0.5555555555555556,\"#d8576b\"],[0.6666666666666666,\"#ed7953\"],[0.7777777777777778,\"#fb9f3a\"],[0.8888888888888888,\"#fdca26\"],[1.0,\"#f0f921\"]],\"type\":\"surface\"}],\"table\":[{\"cells\":{\"fill\":{\"color\":\"#EBF0F8\"},\"line\":{\"color\":\"white\"}},\"header\":{\"fill\":{\"color\":\"#C8D4E3\"},\"line\":{\"color\":\"white\"}},\"type\":\"table\"}]},\"layout\":{\"annotationdefaults\":{\"arrowcolor\":\"#2a3f5f\",\"arrowhead\":0,\"arrowwidth\":1},\"autotypenumbers\":\"strict\",\"coloraxis\":{\"colorbar\":{\"outlinewidth\":0,\"ticks\":\"\"}},\"colorscale\":{\"diverging\":[[0,\"#8e0152\"],[0.1,\"#c51b7d\"],[0.2,\"#de77ae\"],[0.3,\"#f1b6da\"],[0.4,\"#fde0ef\"],[0.5,\"#f7f7f7\"],[0.6,\"#e6f5d0\"],[0.7,\"#b8e186\"],[0.8,\"#7fbc41\"],[0.9,\"#4d9221\"],[1,\"#276419\"]],\"sequential\":[[0.0,\"#0d0887\"],[0.1111111111111111,\"#46039f\"],[0.2222222222222222,\"#7201a8\"],[0.3333333333333333,\"#9c179e\"],[0.4444444444444444,\"#bd3786\"],[0.5555555555555556,\"#d8576b\"],[0.6666666666666666,\"#ed7953\"],[0.7777777777777778,\"#fb9f3a\"],[0.8888888888888888,\"#fdca26\"],[1.0,\"#f0f921\"]],\"sequentialminus\":[[0.0,\"#0d0887\"],[0.1111111111111111,\"#46039f\"],[0.2222222222222222,\"#7201a8\"],[0.3333333333333333,\"#9c179e\"],[0.4444444444444444,\"#bd3786\"],[0.5555555555555556,\"#d8576b\"],[0.6666666666666666,\"#ed7953\"],[0.7777777777777778,\"#fb9f3a\"],[0.8888888888888888,\"#fdca26\"],[1.0,\"#f0f921\"]]},\"colorway\":[\"#636efa\",\"#EF553B\",\"#00cc96\",\"#ab63fa\",\"#FFA15A\",\"#19d3f3\",\"#FF6692\",\"#B6E880\",\"#FF97FF\",\"#FECB52\"],\"font\":{\"color\":\"#2a3f5f\"},\"geo\":{\"bgcolor\":\"white\",\"lakecolor\":\"white\",\"landcolor\":\"#E5ECF6\",\"showlakes\":true,\"showland\":true,\"subunitcolor\":\"white\"},\"hoverlabel\":{\"align\":\"left\"},\"hovermode\":\"closest\",\"mapbox\":{\"style\":\"light\"},\"paper_bgcolor\":\"white\",\"plot_bgcolor\":\"#E5ECF6\",\"polar\":{\"angularaxis\":{\"gridcolor\":\"white\",\"linecolor\":\"white\",\"ticks\":\"\"},\"bgcolor\":\"#E5ECF6\",\"radialaxis\":{\"gridcolor\":\"white\",\"linecolor\":\"white\",\"ticks\":\"\"}},\"scene\":{\"xaxis\":{\"backgroundcolor\":\"#E5ECF6\",\"gridcolor\":\"white\",\"gridwidth\":2,\"linecolor\":\"white\",\"showbackground\":true,\"ticks\":\"\",\"zerolinecolor\":\"white\"},\"yaxis\":{\"backgroundcolor\":\"#E5ECF6\",\"gridcolor\":\"white\",\"gridwidth\":2,\"linecolor\":\"white\",\"showbackground\":true,\"ticks\":\"\",\"zerolinecolor\":\"white\"},\"zaxis\":{\"backgroundcolor\":\"#E5ECF6\",\"gridcolor\":\"white\",\"gridwidth\":2,\"linecolor\":\"white\",\"showbackground\":true,\"ticks\":\"\",\"zerolinecolor\":\"white\"}},\"shapedefaults\":{\"line\":{\"color\":\"#2a3f5f\"}},\"ternary\":{\"aaxis\":{\"gridcolor\":\"white\",\"linecolor\":\"white\",\"ticks\":\"\"},\"baxis\":{\"gridcolor\":\"white\",\"linecolor\":\"white\",\"ticks\":\"\"},\"bgcolor\":\"#E5ECF6\",\"caxis\":{\"gridcolor\":\"white\",\"linecolor\":\"white\",\"ticks\":\"\"}},\"title\":{\"x\":0.05},\"xaxis\":{\"automargin\":true,\"gridcolor\":\"white\",\"linecolor\":\"white\",\"ticks\":\"\",\"title\":{\"standoff\":15},\"zerolinecolor\":\"white\",\"zerolinewidth\":2},\"yaxis\":{\"automargin\":true,\"gridcolor\":\"white\",\"linecolor\":\"white\",\"ticks\":\"\",\"title\":{\"standoff\":15},\"zerolinecolor\":\"white\",\"zerolinewidth\":2}}},\"title\":{\"font\":{\"color\":\"#4D5663\"}},\"xaxis\":{\"gridcolor\":\"#E1E5ED\",\"showgrid\":true,\"tickfont\":{\"color\":\"#4D5663\"},\"title\":{\"font\":{\"color\":\"#4D5663\"},\"text\":\"\"},\"zerolinecolor\":\"#E1E5ED\"},\"yaxis\":{\"gridcolor\":\"#E1E5ED\",\"showgrid\":true,\"tickfont\":{\"color\":\"#4D5663\"},\"title\":{\"font\":{\"color\":\"#4D5663\"},\"text\":\"\"},\"zerolinecolor\":\"#E1E5ED\"}},                        {\"showLink\": true, \"linkText\": \"Export to plot.ly\", \"plotlyServerURL\": \"https://plot.ly\", \"responsive\": true}                    ).then(function(){\n",
       "                            \n",
       "var gd = document.getElementById('29f9053a-a2e8-44c5-b184-41945af2808c');\n",
       "var x = new MutationObserver(function (mutations, observer) {{\n",
       "        var display = window.getComputedStyle(gd).display;\n",
       "        if (!display || display === 'none') {{\n",
       "            console.log([gd, 'removed!']);\n",
       "            Plotly.purge(gd);\n",
       "            observer.disconnect();\n",
       "        }}\n",
       "}});\n",
       "\n",
       "// Listen for the removal of the full notebook cells\n",
       "var notebookContainer = gd.closest('#notebook-container');\n",
       "if (notebookContainer) {{\n",
       "    x.observe(notebookContainer, {childList: true});\n",
       "}}\n",
       "\n",
       "// Listen for the clearing of the current output cell\n",
       "var outputEl = gd.closest('.output');\n",
       "if (outputEl) {{\n",
       "    x.observe(outputEl, {childList: true});\n",
       "}}\n",
       "\n",
       "                        })                };                });            </script>        </div>"
      ]
     },
     "metadata": {},
     "output_type": "display_data"
    }
   ],
   "source": [
    "df.iplot(kind='scatter', x='A', y='B', mode='markers', size=10)"
   ]
  },
  {
   "cell_type": "code",
   "execution_count": 21,
   "id": "986e7d4c",
   "metadata": {},
   "outputs": [
    {
     "data": {
      "application/vnd.plotly.v1+json": {
       "config": {
        "linkText": "Export to plot.ly",
        "plotlyServerURL": "https://plot.ly",
        "showLink": true
       },
       "data": [
        {
         "marker": {
          "color": "rgba(255, 153, 51, 0.6)",
          "line": {
           "color": "rgba(255, 153, 51, 1.0)",
           "width": 1
          }
         },
         "name": "Values",
         "orientation": "v",
         "text": "",
         "type": "bar",
         "x": [
          "A",
          "B",
          "C"
         ],
         "y": [
          32,
          43,
          45
         ]
        }
       ],
       "layout": {
        "legend": {
         "bgcolor": "#F5F6F9",
         "font": {
          "color": "#4D5663"
         }
        },
        "paper_bgcolor": "#F5F6F9",
        "plot_bgcolor": "#F5F6F9",
        "template": {
         "data": {
          "bar": [
           {
            "error_x": {
             "color": "#2a3f5f"
            },
            "error_y": {
             "color": "#2a3f5f"
            },
            "marker": {
             "line": {
              "color": "#E5ECF6",
              "width": 0.5
             },
             "pattern": {
              "fillmode": "overlay",
              "size": 10,
              "solidity": 0.2
             }
            },
            "type": "bar"
           }
          ],
          "barpolar": [
           {
            "marker": {
             "line": {
              "color": "#E5ECF6",
              "width": 0.5
             },
             "pattern": {
              "fillmode": "overlay",
              "size": 10,
              "solidity": 0.2
             }
            },
            "type": "barpolar"
           }
          ],
          "carpet": [
           {
            "aaxis": {
             "endlinecolor": "#2a3f5f",
             "gridcolor": "white",
             "linecolor": "white",
             "minorgridcolor": "white",
             "startlinecolor": "#2a3f5f"
            },
            "baxis": {
             "endlinecolor": "#2a3f5f",
             "gridcolor": "white",
             "linecolor": "white",
             "minorgridcolor": "white",
             "startlinecolor": "#2a3f5f"
            },
            "type": "carpet"
           }
          ],
          "choropleth": [
           {
            "colorbar": {
             "outlinewidth": 0,
             "ticks": ""
            },
            "type": "choropleth"
           }
          ],
          "contour": [
           {
            "colorbar": {
             "outlinewidth": 0,
             "ticks": ""
            },
            "colorscale": [
             [
              0,
              "#0d0887"
             ],
             [
              0.1111111111111111,
              "#46039f"
             ],
             [
              0.2222222222222222,
              "#7201a8"
             ],
             [
              0.3333333333333333,
              "#9c179e"
             ],
             [
              0.4444444444444444,
              "#bd3786"
             ],
             [
              0.5555555555555556,
              "#d8576b"
             ],
             [
              0.6666666666666666,
              "#ed7953"
             ],
             [
              0.7777777777777778,
              "#fb9f3a"
             ],
             [
              0.8888888888888888,
              "#fdca26"
             ],
             [
              1,
              "#f0f921"
             ]
            ],
            "type": "contour"
           }
          ],
          "contourcarpet": [
           {
            "colorbar": {
             "outlinewidth": 0,
             "ticks": ""
            },
            "type": "contourcarpet"
           }
          ],
          "heatmap": [
           {
            "colorbar": {
             "outlinewidth": 0,
             "ticks": ""
            },
            "colorscale": [
             [
              0,
              "#0d0887"
             ],
             [
              0.1111111111111111,
              "#46039f"
             ],
             [
              0.2222222222222222,
              "#7201a8"
             ],
             [
              0.3333333333333333,
              "#9c179e"
             ],
             [
              0.4444444444444444,
              "#bd3786"
             ],
             [
              0.5555555555555556,
              "#d8576b"
             ],
             [
              0.6666666666666666,
              "#ed7953"
             ],
             [
              0.7777777777777778,
              "#fb9f3a"
             ],
             [
              0.8888888888888888,
              "#fdca26"
             ],
             [
              1,
              "#f0f921"
             ]
            ],
            "type": "heatmap"
           }
          ],
          "heatmapgl": [
           {
            "colorbar": {
             "outlinewidth": 0,
             "ticks": ""
            },
            "colorscale": [
             [
              0,
              "#0d0887"
             ],
             [
              0.1111111111111111,
              "#46039f"
             ],
             [
              0.2222222222222222,
              "#7201a8"
             ],
             [
              0.3333333333333333,
              "#9c179e"
             ],
             [
              0.4444444444444444,
              "#bd3786"
             ],
             [
              0.5555555555555556,
              "#d8576b"
             ],
             [
              0.6666666666666666,
              "#ed7953"
             ],
             [
              0.7777777777777778,
              "#fb9f3a"
             ],
             [
              0.8888888888888888,
              "#fdca26"
             ],
             [
              1,
              "#f0f921"
             ]
            ],
            "type": "heatmapgl"
           }
          ],
          "histogram": [
           {
            "marker": {
             "pattern": {
              "fillmode": "overlay",
              "size": 10,
              "solidity": 0.2
             }
            },
            "type": "histogram"
           }
          ],
          "histogram2d": [
           {
            "colorbar": {
             "outlinewidth": 0,
             "ticks": ""
            },
            "colorscale": [
             [
              0,
              "#0d0887"
             ],
             [
              0.1111111111111111,
              "#46039f"
             ],
             [
              0.2222222222222222,
              "#7201a8"
             ],
             [
              0.3333333333333333,
              "#9c179e"
             ],
             [
              0.4444444444444444,
              "#bd3786"
             ],
             [
              0.5555555555555556,
              "#d8576b"
             ],
             [
              0.6666666666666666,
              "#ed7953"
             ],
             [
              0.7777777777777778,
              "#fb9f3a"
             ],
             [
              0.8888888888888888,
              "#fdca26"
             ],
             [
              1,
              "#f0f921"
             ]
            ],
            "type": "histogram2d"
           }
          ],
          "histogram2dcontour": [
           {
            "colorbar": {
             "outlinewidth": 0,
             "ticks": ""
            },
            "colorscale": [
             [
              0,
              "#0d0887"
             ],
             [
              0.1111111111111111,
              "#46039f"
             ],
             [
              0.2222222222222222,
              "#7201a8"
             ],
             [
              0.3333333333333333,
              "#9c179e"
             ],
             [
              0.4444444444444444,
              "#bd3786"
             ],
             [
              0.5555555555555556,
              "#d8576b"
             ],
             [
              0.6666666666666666,
              "#ed7953"
             ],
             [
              0.7777777777777778,
              "#fb9f3a"
             ],
             [
              0.8888888888888888,
              "#fdca26"
             ],
             [
              1,
              "#f0f921"
             ]
            ],
            "type": "histogram2dcontour"
           }
          ],
          "mesh3d": [
           {
            "colorbar": {
             "outlinewidth": 0,
             "ticks": ""
            },
            "type": "mesh3d"
           }
          ],
          "parcoords": [
           {
            "line": {
             "colorbar": {
              "outlinewidth": 0,
              "ticks": ""
             }
            },
            "type": "parcoords"
           }
          ],
          "pie": [
           {
            "automargin": true,
            "type": "pie"
           }
          ],
          "scatter": [
           {
            "fillpattern": {
             "fillmode": "overlay",
             "size": 10,
             "solidity": 0.2
            },
            "type": "scatter"
           }
          ],
          "scatter3d": [
           {
            "line": {
             "colorbar": {
              "outlinewidth": 0,
              "ticks": ""
             }
            },
            "marker": {
             "colorbar": {
              "outlinewidth": 0,
              "ticks": ""
             }
            },
            "type": "scatter3d"
           }
          ],
          "scattercarpet": [
           {
            "marker": {
             "colorbar": {
              "outlinewidth": 0,
              "ticks": ""
             }
            },
            "type": "scattercarpet"
           }
          ],
          "scattergeo": [
           {
            "marker": {
             "colorbar": {
              "outlinewidth": 0,
              "ticks": ""
             }
            },
            "type": "scattergeo"
           }
          ],
          "scattergl": [
           {
            "marker": {
             "colorbar": {
              "outlinewidth": 0,
              "ticks": ""
             }
            },
            "type": "scattergl"
           }
          ],
          "scattermapbox": [
           {
            "marker": {
             "colorbar": {
              "outlinewidth": 0,
              "ticks": ""
             }
            },
            "type": "scattermapbox"
           }
          ],
          "scatterpolar": [
           {
            "marker": {
             "colorbar": {
              "outlinewidth": 0,
              "ticks": ""
             }
            },
            "type": "scatterpolar"
           }
          ],
          "scatterpolargl": [
           {
            "marker": {
             "colorbar": {
              "outlinewidth": 0,
              "ticks": ""
             }
            },
            "type": "scatterpolargl"
           }
          ],
          "scatterternary": [
           {
            "marker": {
             "colorbar": {
              "outlinewidth": 0,
              "ticks": ""
             }
            },
            "type": "scatterternary"
           }
          ],
          "surface": [
           {
            "colorbar": {
             "outlinewidth": 0,
             "ticks": ""
            },
            "colorscale": [
             [
              0,
              "#0d0887"
             ],
             [
              0.1111111111111111,
              "#46039f"
             ],
             [
              0.2222222222222222,
              "#7201a8"
             ],
             [
              0.3333333333333333,
              "#9c179e"
             ],
             [
              0.4444444444444444,
              "#bd3786"
             ],
             [
              0.5555555555555556,
              "#d8576b"
             ],
             [
              0.6666666666666666,
              "#ed7953"
             ],
             [
              0.7777777777777778,
              "#fb9f3a"
             ],
             [
              0.8888888888888888,
              "#fdca26"
             ],
             [
              1,
              "#f0f921"
             ]
            ],
            "type": "surface"
           }
          ],
          "table": [
           {
            "cells": {
             "fill": {
              "color": "#EBF0F8"
             },
             "line": {
              "color": "white"
             }
            },
            "header": {
             "fill": {
              "color": "#C8D4E3"
             },
             "line": {
              "color": "white"
             }
            },
            "type": "table"
           }
          ]
         },
         "layout": {
          "annotationdefaults": {
           "arrowcolor": "#2a3f5f",
           "arrowhead": 0,
           "arrowwidth": 1
          },
          "autotypenumbers": "strict",
          "coloraxis": {
           "colorbar": {
            "outlinewidth": 0,
            "ticks": ""
           }
          },
          "colorscale": {
           "diverging": [
            [
             0,
             "#8e0152"
            ],
            [
             0.1,
             "#c51b7d"
            ],
            [
             0.2,
             "#de77ae"
            ],
            [
             0.3,
             "#f1b6da"
            ],
            [
             0.4,
             "#fde0ef"
            ],
            [
             0.5,
             "#f7f7f7"
            ],
            [
             0.6,
             "#e6f5d0"
            ],
            [
             0.7,
             "#b8e186"
            ],
            [
             0.8,
             "#7fbc41"
            ],
            [
             0.9,
             "#4d9221"
            ],
            [
             1,
             "#276419"
            ]
           ],
           "sequential": [
            [
             0,
             "#0d0887"
            ],
            [
             0.1111111111111111,
             "#46039f"
            ],
            [
             0.2222222222222222,
             "#7201a8"
            ],
            [
             0.3333333333333333,
             "#9c179e"
            ],
            [
             0.4444444444444444,
             "#bd3786"
            ],
            [
             0.5555555555555556,
             "#d8576b"
            ],
            [
             0.6666666666666666,
             "#ed7953"
            ],
            [
             0.7777777777777778,
             "#fb9f3a"
            ],
            [
             0.8888888888888888,
             "#fdca26"
            ],
            [
             1,
             "#f0f921"
            ]
           ],
           "sequentialminus": [
            [
             0,
             "#0d0887"
            ],
            [
             0.1111111111111111,
             "#46039f"
            ],
            [
             0.2222222222222222,
             "#7201a8"
            ],
            [
             0.3333333333333333,
             "#9c179e"
            ],
            [
             0.4444444444444444,
             "#bd3786"
            ],
            [
             0.5555555555555556,
             "#d8576b"
            ],
            [
             0.6666666666666666,
             "#ed7953"
            ],
            [
             0.7777777777777778,
             "#fb9f3a"
            ],
            [
             0.8888888888888888,
             "#fdca26"
            ],
            [
             1,
             "#f0f921"
            ]
           ]
          },
          "colorway": [
           "#636efa",
           "#EF553B",
           "#00cc96",
           "#ab63fa",
           "#FFA15A",
           "#19d3f3",
           "#FF6692",
           "#B6E880",
           "#FF97FF",
           "#FECB52"
          ],
          "font": {
           "color": "#2a3f5f"
          },
          "geo": {
           "bgcolor": "white",
           "lakecolor": "white",
           "landcolor": "#E5ECF6",
           "showlakes": true,
           "showland": true,
           "subunitcolor": "white"
          },
          "hoverlabel": {
           "align": "left"
          },
          "hovermode": "closest",
          "mapbox": {
           "style": "light"
          },
          "paper_bgcolor": "white",
          "plot_bgcolor": "#E5ECF6",
          "polar": {
           "angularaxis": {
            "gridcolor": "white",
            "linecolor": "white",
            "ticks": ""
           },
           "bgcolor": "#E5ECF6",
           "radialaxis": {
            "gridcolor": "white",
            "linecolor": "white",
            "ticks": ""
           }
          },
          "scene": {
           "xaxis": {
            "backgroundcolor": "#E5ECF6",
            "gridcolor": "white",
            "gridwidth": 2,
            "linecolor": "white",
            "showbackground": true,
            "ticks": "",
            "zerolinecolor": "white"
           },
           "yaxis": {
            "backgroundcolor": "#E5ECF6",
            "gridcolor": "white",
            "gridwidth": 2,
            "linecolor": "white",
            "showbackground": true,
            "ticks": "",
            "zerolinecolor": "white"
           },
           "zaxis": {
            "backgroundcolor": "#E5ECF6",
            "gridcolor": "white",
            "gridwidth": 2,
            "linecolor": "white",
            "showbackground": true,
            "ticks": "",
            "zerolinecolor": "white"
           }
          },
          "shapedefaults": {
           "line": {
            "color": "#2a3f5f"
           }
          },
          "ternary": {
           "aaxis": {
            "gridcolor": "white",
            "linecolor": "white",
            "ticks": ""
           },
           "baxis": {
            "gridcolor": "white",
            "linecolor": "white",
            "ticks": ""
           },
           "bgcolor": "#E5ECF6",
           "caxis": {
            "gridcolor": "white",
            "linecolor": "white",
            "ticks": ""
           }
          },
          "title": {
           "x": 0.05
          },
          "xaxis": {
           "automargin": true,
           "gridcolor": "white",
           "linecolor": "white",
           "ticks": "",
           "title": {
            "standoff": 15
           },
           "zerolinecolor": "white",
           "zerolinewidth": 2
          },
          "yaxis": {
           "automargin": true,
           "gridcolor": "white",
           "linecolor": "white",
           "ticks": "",
           "title": {
            "standoff": 15
           },
           "zerolinecolor": "white",
           "zerolinewidth": 2
          }
         }
        },
        "title": {
         "font": {
          "color": "#4D5663"
         }
        },
        "xaxis": {
         "gridcolor": "#E1E5ED",
         "showgrid": true,
         "tickfont": {
          "color": "#4D5663"
         },
         "title": {
          "font": {
           "color": "#4D5663"
          },
          "text": ""
         },
         "zerolinecolor": "#E1E5ED"
        },
        "yaxis": {
         "gridcolor": "#E1E5ED",
         "showgrid": true,
         "tickfont": {
          "color": "#4D5663"
         },
         "title": {
          "font": {
           "color": "#4D5663"
          },
          "text": ""
         },
         "zerolinecolor": "#E1E5ED"
        }
       }
      },
      "text/html": [
       "<div>                            <div id=\"5eb022ab-7ee6-4416-89fd-0bdee8dee98c\" class=\"plotly-graph-div\" style=\"height:525px; width:100%;\"></div>            <script type=\"text/javascript\">                require([\"plotly\"], function(Plotly) {                    window.PLOTLYENV=window.PLOTLYENV || {};\n",
       "                    window.PLOTLYENV.BASE_URL='https://plot.ly';                                    if (document.getElementById(\"5eb022ab-7ee6-4416-89fd-0bdee8dee98c\")) {                    Plotly.newPlot(                        \"5eb022ab-7ee6-4416-89fd-0bdee8dee98c\",                        [{\"marker\":{\"color\":\"rgba(255, 153, 51, 0.6)\",\"line\":{\"color\":\"rgba(255, 153, 51, 1.0)\",\"width\":1}},\"name\":\"Values\",\"orientation\":\"v\",\"text\":\"\",\"x\":[\"A\",\"B\",\"C\"],\"y\":[32,43,45],\"type\":\"bar\"}],                        {\"legend\":{\"bgcolor\":\"#F5F6F9\",\"font\":{\"color\":\"#4D5663\"}},\"paper_bgcolor\":\"#F5F6F9\",\"plot_bgcolor\":\"#F5F6F9\",\"template\":{\"data\":{\"barpolar\":[{\"marker\":{\"line\":{\"color\":\"#E5ECF6\",\"width\":0.5},\"pattern\":{\"fillmode\":\"overlay\",\"size\":10,\"solidity\":0.2}},\"type\":\"barpolar\"}],\"bar\":[{\"error_x\":{\"color\":\"#2a3f5f\"},\"error_y\":{\"color\":\"#2a3f5f\"},\"marker\":{\"line\":{\"color\":\"#E5ECF6\",\"width\":0.5},\"pattern\":{\"fillmode\":\"overlay\",\"size\":10,\"solidity\":0.2}},\"type\":\"bar\"}],\"carpet\":[{\"aaxis\":{\"endlinecolor\":\"#2a3f5f\",\"gridcolor\":\"white\",\"linecolor\":\"white\",\"minorgridcolor\":\"white\",\"startlinecolor\":\"#2a3f5f\"},\"baxis\":{\"endlinecolor\":\"#2a3f5f\",\"gridcolor\":\"white\",\"linecolor\":\"white\",\"minorgridcolor\":\"white\",\"startlinecolor\":\"#2a3f5f\"},\"type\":\"carpet\"}],\"choropleth\":[{\"colorbar\":{\"outlinewidth\":0,\"ticks\":\"\"},\"type\":\"choropleth\"}],\"contourcarpet\":[{\"colorbar\":{\"outlinewidth\":0,\"ticks\":\"\"},\"type\":\"contourcarpet\"}],\"contour\":[{\"colorbar\":{\"outlinewidth\":0,\"ticks\":\"\"},\"colorscale\":[[0.0,\"#0d0887\"],[0.1111111111111111,\"#46039f\"],[0.2222222222222222,\"#7201a8\"],[0.3333333333333333,\"#9c179e\"],[0.4444444444444444,\"#bd3786\"],[0.5555555555555556,\"#d8576b\"],[0.6666666666666666,\"#ed7953\"],[0.7777777777777778,\"#fb9f3a\"],[0.8888888888888888,\"#fdca26\"],[1.0,\"#f0f921\"]],\"type\":\"contour\"}],\"heatmapgl\":[{\"colorbar\":{\"outlinewidth\":0,\"ticks\":\"\"},\"colorscale\":[[0.0,\"#0d0887\"],[0.1111111111111111,\"#46039f\"],[0.2222222222222222,\"#7201a8\"],[0.3333333333333333,\"#9c179e\"],[0.4444444444444444,\"#bd3786\"],[0.5555555555555556,\"#d8576b\"],[0.6666666666666666,\"#ed7953\"],[0.7777777777777778,\"#fb9f3a\"],[0.8888888888888888,\"#fdca26\"],[1.0,\"#f0f921\"]],\"type\":\"heatmapgl\"}],\"heatmap\":[{\"colorbar\":{\"outlinewidth\":0,\"ticks\":\"\"},\"colorscale\":[[0.0,\"#0d0887\"],[0.1111111111111111,\"#46039f\"],[0.2222222222222222,\"#7201a8\"],[0.3333333333333333,\"#9c179e\"],[0.4444444444444444,\"#bd3786\"],[0.5555555555555556,\"#d8576b\"],[0.6666666666666666,\"#ed7953\"],[0.7777777777777778,\"#fb9f3a\"],[0.8888888888888888,\"#fdca26\"],[1.0,\"#f0f921\"]],\"type\":\"heatmap\"}],\"histogram2dcontour\":[{\"colorbar\":{\"outlinewidth\":0,\"ticks\":\"\"},\"colorscale\":[[0.0,\"#0d0887\"],[0.1111111111111111,\"#46039f\"],[0.2222222222222222,\"#7201a8\"],[0.3333333333333333,\"#9c179e\"],[0.4444444444444444,\"#bd3786\"],[0.5555555555555556,\"#d8576b\"],[0.6666666666666666,\"#ed7953\"],[0.7777777777777778,\"#fb9f3a\"],[0.8888888888888888,\"#fdca26\"],[1.0,\"#f0f921\"]],\"type\":\"histogram2dcontour\"}],\"histogram2d\":[{\"colorbar\":{\"outlinewidth\":0,\"ticks\":\"\"},\"colorscale\":[[0.0,\"#0d0887\"],[0.1111111111111111,\"#46039f\"],[0.2222222222222222,\"#7201a8\"],[0.3333333333333333,\"#9c179e\"],[0.4444444444444444,\"#bd3786\"],[0.5555555555555556,\"#d8576b\"],[0.6666666666666666,\"#ed7953\"],[0.7777777777777778,\"#fb9f3a\"],[0.8888888888888888,\"#fdca26\"],[1.0,\"#f0f921\"]],\"type\":\"histogram2d\"}],\"histogram\":[{\"marker\":{\"pattern\":{\"fillmode\":\"overlay\",\"size\":10,\"solidity\":0.2}},\"type\":\"histogram\"}],\"mesh3d\":[{\"colorbar\":{\"outlinewidth\":0,\"ticks\":\"\"},\"type\":\"mesh3d\"}],\"parcoords\":[{\"line\":{\"colorbar\":{\"outlinewidth\":0,\"ticks\":\"\"}},\"type\":\"parcoords\"}],\"pie\":[{\"automargin\":true,\"type\":\"pie\"}],\"scatter3d\":[{\"line\":{\"colorbar\":{\"outlinewidth\":0,\"ticks\":\"\"}},\"marker\":{\"colorbar\":{\"outlinewidth\":0,\"ticks\":\"\"}},\"type\":\"scatter3d\"}],\"scattercarpet\":[{\"marker\":{\"colorbar\":{\"outlinewidth\":0,\"ticks\":\"\"}},\"type\":\"scattercarpet\"}],\"scattergeo\":[{\"marker\":{\"colorbar\":{\"outlinewidth\":0,\"ticks\":\"\"}},\"type\":\"scattergeo\"}],\"scattergl\":[{\"marker\":{\"colorbar\":{\"outlinewidth\":0,\"ticks\":\"\"}},\"type\":\"scattergl\"}],\"scattermapbox\":[{\"marker\":{\"colorbar\":{\"outlinewidth\":0,\"ticks\":\"\"}},\"type\":\"scattermapbox\"}],\"scatterpolargl\":[{\"marker\":{\"colorbar\":{\"outlinewidth\":0,\"ticks\":\"\"}},\"type\":\"scatterpolargl\"}],\"scatterpolar\":[{\"marker\":{\"colorbar\":{\"outlinewidth\":0,\"ticks\":\"\"}},\"type\":\"scatterpolar\"}],\"scatter\":[{\"fillpattern\":{\"fillmode\":\"overlay\",\"size\":10,\"solidity\":0.2},\"type\":\"scatter\"}],\"scatterternary\":[{\"marker\":{\"colorbar\":{\"outlinewidth\":0,\"ticks\":\"\"}},\"type\":\"scatterternary\"}],\"surface\":[{\"colorbar\":{\"outlinewidth\":0,\"ticks\":\"\"},\"colorscale\":[[0.0,\"#0d0887\"],[0.1111111111111111,\"#46039f\"],[0.2222222222222222,\"#7201a8\"],[0.3333333333333333,\"#9c179e\"],[0.4444444444444444,\"#bd3786\"],[0.5555555555555556,\"#d8576b\"],[0.6666666666666666,\"#ed7953\"],[0.7777777777777778,\"#fb9f3a\"],[0.8888888888888888,\"#fdca26\"],[1.0,\"#f0f921\"]],\"type\":\"surface\"}],\"table\":[{\"cells\":{\"fill\":{\"color\":\"#EBF0F8\"},\"line\":{\"color\":\"white\"}},\"header\":{\"fill\":{\"color\":\"#C8D4E3\"},\"line\":{\"color\":\"white\"}},\"type\":\"table\"}]},\"layout\":{\"annotationdefaults\":{\"arrowcolor\":\"#2a3f5f\",\"arrowhead\":0,\"arrowwidth\":1},\"autotypenumbers\":\"strict\",\"coloraxis\":{\"colorbar\":{\"outlinewidth\":0,\"ticks\":\"\"}},\"colorscale\":{\"diverging\":[[0,\"#8e0152\"],[0.1,\"#c51b7d\"],[0.2,\"#de77ae\"],[0.3,\"#f1b6da\"],[0.4,\"#fde0ef\"],[0.5,\"#f7f7f7\"],[0.6,\"#e6f5d0\"],[0.7,\"#b8e186\"],[0.8,\"#7fbc41\"],[0.9,\"#4d9221\"],[1,\"#276419\"]],\"sequential\":[[0.0,\"#0d0887\"],[0.1111111111111111,\"#46039f\"],[0.2222222222222222,\"#7201a8\"],[0.3333333333333333,\"#9c179e\"],[0.4444444444444444,\"#bd3786\"],[0.5555555555555556,\"#d8576b\"],[0.6666666666666666,\"#ed7953\"],[0.7777777777777778,\"#fb9f3a\"],[0.8888888888888888,\"#fdca26\"],[1.0,\"#f0f921\"]],\"sequentialminus\":[[0.0,\"#0d0887\"],[0.1111111111111111,\"#46039f\"],[0.2222222222222222,\"#7201a8\"],[0.3333333333333333,\"#9c179e\"],[0.4444444444444444,\"#bd3786\"],[0.5555555555555556,\"#d8576b\"],[0.6666666666666666,\"#ed7953\"],[0.7777777777777778,\"#fb9f3a\"],[0.8888888888888888,\"#fdca26\"],[1.0,\"#f0f921\"]]},\"colorway\":[\"#636efa\",\"#EF553B\",\"#00cc96\",\"#ab63fa\",\"#FFA15A\",\"#19d3f3\",\"#FF6692\",\"#B6E880\",\"#FF97FF\",\"#FECB52\"],\"font\":{\"color\":\"#2a3f5f\"},\"geo\":{\"bgcolor\":\"white\",\"lakecolor\":\"white\",\"landcolor\":\"#E5ECF6\",\"showlakes\":true,\"showland\":true,\"subunitcolor\":\"white\"},\"hoverlabel\":{\"align\":\"left\"},\"hovermode\":\"closest\",\"mapbox\":{\"style\":\"light\"},\"paper_bgcolor\":\"white\",\"plot_bgcolor\":\"#E5ECF6\",\"polar\":{\"angularaxis\":{\"gridcolor\":\"white\",\"linecolor\":\"white\",\"ticks\":\"\"},\"bgcolor\":\"#E5ECF6\",\"radialaxis\":{\"gridcolor\":\"white\",\"linecolor\":\"white\",\"ticks\":\"\"}},\"scene\":{\"xaxis\":{\"backgroundcolor\":\"#E5ECF6\",\"gridcolor\":\"white\",\"gridwidth\":2,\"linecolor\":\"white\",\"showbackground\":true,\"ticks\":\"\",\"zerolinecolor\":\"white\"},\"yaxis\":{\"backgroundcolor\":\"#E5ECF6\",\"gridcolor\":\"white\",\"gridwidth\":2,\"linecolor\":\"white\",\"showbackground\":true,\"ticks\":\"\",\"zerolinecolor\":\"white\"},\"zaxis\":{\"backgroundcolor\":\"#E5ECF6\",\"gridcolor\":\"white\",\"gridwidth\":2,\"linecolor\":\"white\",\"showbackground\":true,\"ticks\":\"\",\"zerolinecolor\":\"white\"}},\"shapedefaults\":{\"line\":{\"color\":\"#2a3f5f\"}},\"ternary\":{\"aaxis\":{\"gridcolor\":\"white\",\"linecolor\":\"white\",\"ticks\":\"\"},\"baxis\":{\"gridcolor\":\"white\",\"linecolor\":\"white\",\"ticks\":\"\"},\"bgcolor\":\"#E5ECF6\",\"caxis\":{\"gridcolor\":\"white\",\"linecolor\":\"white\",\"ticks\":\"\"}},\"title\":{\"x\":0.05},\"xaxis\":{\"automargin\":true,\"gridcolor\":\"white\",\"linecolor\":\"white\",\"ticks\":\"\",\"title\":{\"standoff\":15},\"zerolinecolor\":\"white\",\"zerolinewidth\":2},\"yaxis\":{\"automargin\":true,\"gridcolor\":\"white\",\"linecolor\":\"white\",\"ticks\":\"\",\"title\":{\"standoff\":15},\"zerolinecolor\":\"white\",\"zerolinewidth\":2}}},\"title\":{\"font\":{\"color\":\"#4D5663\"}},\"xaxis\":{\"gridcolor\":\"#E1E5ED\",\"showgrid\":true,\"tickfont\":{\"color\":\"#4D5663\"},\"title\":{\"font\":{\"color\":\"#4D5663\"},\"text\":\"\"},\"zerolinecolor\":\"#E1E5ED\"},\"yaxis\":{\"gridcolor\":\"#E1E5ED\",\"showgrid\":true,\"tickfont\":{\"color\":\"#4D5663\"},\"title\":{\"font\":{\"color\":\"#4D5663\"},\"text\":\"\"},\"zerolinecolor\":\"#E1E5ED\"}},                        {\"showLink\": true, \"linkText\": \"Export to plot.ly\", \"plotlyServerURL\": \"https://plot.ly\", \"responsive\": true}                    ).then(function(){\n",
       "                            \n",
       "var gd = document.getElementById('5eb022ab-7ee6-4416-89fd-0bdee8dee98c');\n",
       "var x = new MutationObserver(function (mutations, observer) {{\n",
       "        var display = window.getComputedStyle(gd).display;\n",
       "        if (!display || display === 'none') {{\n",
       "            console.log([gd, 'removed!']);\n",
       "            Plotly.purge(gd);\n",
       "            observer.disconnect();\n",
       "        }}\n",
       "}});\n",
       "\n",
       "// Listen for the removal of the full notebook cells\n",
       "var notebookContainer = gd.closest('#notebook-container');\n",
       "if (notebookContainer) {{\n",
       "    x.observe(notebookContainer, {childList: true});\n",
       "}}\n",
       "\n",
       "// Listen for the clearing of the current output cell\n",
       "var outputEl = gd.closest('.output');\n",
       "if (outputEl) {{\n",
       "    x.observe(outputEl, {childList: true});\n",
       "}}\n",
       "\n",
       "                        })                };                });            </script>        </div>"
      ]
     },
     "metadata": {},
     "output_type": "display_data"
    }
   ],
   "source": [
    "df2.iplot(kind='bar', x='Category', y='Values')"
   ]
  },
  {
   "cell_type": "code",
   "execution_count": 25,
   "id": "0576467d",
   "metadata": {},
   "outputs": [
    {
     "data": {
      "application/vnd.plotly.v1+json": {
       "config": {
        "linkText": "Export to plot.ly",
        "plotlyServerURL": "https://plot.ly",
        "showLink": true
       },
       "data": [
        {
         "marker": {
          "color": "rgba(255, 153, 51, 0.6)",
          "line": {
           "color": "rgba(255, 153, 51, 1.0)",
           "width": 1
          }
         },
         "name": "None",
         "orientation": "v",
         "text": "",
         "type": "bar",
         "x": [
          "A",
          "B",
          "C",
          "D"
         ],
         "y": [
          -12.237006323248625,
          -2.8835942157567143,
          12.131366185340747,
          0.3307252679301773
         ]
        }
       ],
       "layout": {
        "legend": {
         "bgcolor": "#F5F6F9",
         "font": {
          "color": "#4D5663"
         }
        },
        "paper_bgcolor": "#F5F6F9",
        "plot_bgcolor": "#F5F6F9",
        "template": {
         "data": {
          "bar": [
           {
            "error_x": {
             "color": "#2a3f5f"
            },
            "error_y": {
             "color": "#2a3f5f"
            },
            "marker": {
             "line": {
              "color": "#E5ECF6",
              "width": 0.5
             },
             "pattern": {
              "fillmode": "overlay",
              "size": 10,
              "solidity": 0.2
             }
            },
            "type": "bar"
           }
          ],
          "barpolar": [
           {
            "marker": {
             "line": {
              "color": "#E5ECF6",
              "width": 0.5
             },
             "pattern": {
              "fillmode": "overlay",
              "size": 10,
              "solidity": 0.2
             }
            },
            "type": "barpolar"
           }
          ],
          "carpet": [
           {
            "aaxis": {
             "endlinecolor": "#2a3f5f",
             "gridcolor": "white",
             "linecolor": "white",
             "minorgridcolor": "white",
             "startlinecolor": "#2a3f5f"
            },
            "baxis": {
             "endlinecolor": "#2a3f5f",
             "gridcolor": "white",
             "linecolor": "white",
             "minorgridcolor": "white",
             "startlinecolor": "#2a3f5f"
            },
            "type": "carpet"
           }
          ],
          "choropleth": [
           {
            "colorbar": {
             "outlinewidth": 0,
             "ticks": ""
            },
            "type": "choropleth"
           }
          ],
          "contour": [
           {
            "colorbar": {
             "outlinewidth": 0,
             "ticks": ""
            },
            "colorscale": [
             [
              0,
              "#0d0887"
             ],
             [
              0.1111111111111111,
              "#46039f"
             ],
             [
              0.2222222222222222,
              "#7201a8"
             ],
             [
              0.3333333333333333,
              "#9c179e"
             ],
             [
              0.4444444444444444,
              "#bd3786"
             ],
             [
              0.5555555555555556,
              "#d8576b"
             ],
             [
              0.6666666666666666,
              "#ed7953"
             ],
             [
              0.7777777777777778,
              "#fb9f3a"
             ],
             [
              0.8888888888888888,
              "#fdca26"
             ],
             [
              1,
              "#f0f921"
             ]
            ],
            "type": "contour"
           }
          ],
          "contourcarpet": [
           {
            "colorbar": {
             "outlinewidth": 0,
             "ticks": ""
            },
            "type": "contourcarpet"
           }
          ],
          "heatmap": [
           {
            "colorbar": {
             "outlinewidth": 0,
             "ticks": ""
            },
            "colorscale": [
             [
              0,
              "#0d0887"
             ],
             [
              0.1111111111111111,
              "#46039f"
             ],
             [
              0.2222222222222222,
              "#7201a8"
             ],
             [
              0.3333333333333333,
              "#9c179e"
             ],
             [
              0.4444444444444444,
              "#bd3786"
             ],
             [
              0.5555555555555556,
              "#d8576b"
             ],
             [
              0.6666666666666666,
              "#ed7953"
             ],
             [
              0.7777777777777778,
              "#fb9f3a"
             ],
             [
              0.8888888888888888,
              "#fdca26"
             ],
             [
              1,
              "#f0f921"
             ]
            ],
            "type": "heatmap"
           }
          ],
          "heatmapgl": [
           {
            "colorbar": {
             "outlinewidth": 0,
             "ticks": ""
            },
            "colorscale": [
             [
              0,
              "#0d0887"
             ],
             [
              0.1111111111111111,
              "#46039f"
             ],
             [
              0.2222222222222222,
              "#7201a8"
             ],
             [
              0.3333333333333333,
              "#9c179e"
             ],
             [
              0.4444444444444444,
              "#bd3786"
             ],
             [
              0.5555555555555556,
              "#d8576b"
             ],
             [
              0.6666666666666666,
              "#ed7953"
             ],
             [
              0.7777777777777778,
              "#fb9f3a"
             ],
             [
              0.8888888888888888,
              "#fdca26"
             ],
             [
              1,
              "#f0f921"
             ]
            ],
            "type": "heatmapgl"
           }
          ],
          "histogram": [
           {
            "marker": {
             "pattern": {
              "fillmode": "overlay",
              "size": 10,
              "solidity": 0.2
             }
            },
            "type": "histogram"
           }
          ],
          "histogram2d": [
           {
            "colorbar": {
             "outlinewidth": 0,
             "ticks": ""
            },
            "colorscale": [
             [
              0,
              "#0d0887"
             ],
             [
              0.1111111111111111,
              "#46039f"
             ],
             [
              0.2222222222222222,
              "#7201a8"
             ],
             [
              0.3333333333333333,
              "#9c179e"
             ],
             [
              0.4444444444444444,
              "#bd3786"
             ],
             [
              0.5555555555555556,
              "#d8576b"
             ],
             [
              0.6666666666666666,
              "#ed7953"
             ],
             [
              0.7777777777777778,
              "#fb9f3a"
             ],
             [
              0.8888888888888888,
              "#fdca26"
             ],
             [
              1,
              "#f0f921"
             ]
            ],
            "type": "histogram2d"
           }
          ],
          "histogram2dcontour": [
           {
            "colorbar": {
             "outlinewidth": 0,
             "ticks": ""
            },
            "colorscale": [
             [
              0,
              "#0d0887"
             ],
             [
              0.1111111111111111,
              "#46039f"
             ],
             [
              0.2222222222222222,
              "#7201a8"
             ],
             [
              0.3333333333333333,
              "#9c179e"
             ],
             [
              0.4444444444444444,
              "#bd3786"
             ],
             [
              0.5555555555555556,
              "#d8576b"
             ],
             [
              0.6666666666666666,
              "#ed7953"
             ],
             [
              0.7777777777777778,
              "#fb9f3a"
             ],
             [
              0.8888888888888888,
              "#fdca26"
             ],
             [
              1,
              "#f0f921"
             ]
            ],
            "type": "histogram2dcontour"
           }
          ],
          "mesh3d": [
           {
            "colorbar": {
             "outlinewidth": 0,
             "ticks": ""
            },
            "type": "mesh3d"
           }
          ],
          "parcoords": [
           {
            "line": {
             "colorbar": {
              "outlinewidth": 0,
              "ticks": ""
             }
            },
            "type": "parcoords"
           }
          ],
          "pie": [
           {
            "automargin": true,
            "type": "pie"
           }
          ],
          "scatter": [
           {
            "fillpattern": {
             "fillmode": "overlay",
             "size": 10,
             "solidity": 0.2
            },
            "type": "scatter"
           }
          ],
          "scatter3d": [
           {
            "line": {
             "colorbar": {
              "outlinewidth": 0,
              "ticks": ""
             }
            },
            "marker": {
             "colorbar": {
              "outlinewidth": 0,
              "ticks": ""
             }
            },
            "type": "scatter3d"
           }
          ],
          "scattercarpet": [
           {
            "marker": {
             "colorbar": {
              "outlinewidth": 0,
              "ticks": ""
             }
            },
            "type": "scattercarpet"
           }
          ],
          "scattergeo": [
           {
            "marker": {
             "colorbar": {
              "outlinewidth": 0,
              "ticks": ""
             }
            },
            "type": "scattergeo"
           }
          ],
          "scattergl": [
           {
            "marker": {
             "colorbar": {
              "outlinewidth": 0,
              "ticks": ""
             }
            },
            "type": "scattergl"
           }
          ],
          "scattermapbox": [
           {
            "marker": {
             "colorbar": {
              "outlinewidth": 0,
              "ticks": ""
             }
            },
            "type": "scattermapbox"
           }
          ],
          "scatterpolar": [
           {
            "marker": {
             "colorbar": {
              "outlinewidth": 0,
              "ticks": ""
             }
            },
            "type": "scatterpolar"
           }
          ],
          "scatterpolargl": [
           {
            "marker": {
             "colorbar": {
              "outlinewidth": 0,
              "ticks": ""
             }
            },
            "type": "scatterpolargl"
           }
          ],
          "scatterternary": [
           {
            "marker": {
             "colorbar": {
              "outlinewidth": 0,
              "ticks": ""
             }
            },
            "type": "scatterternary"
           }
          ],
          "surface": [
           {
            "colorbar": {
             "outlinewidth": 0,
             "ticks": ""
            },
            "colorscale": [
             [
              0,
              "#0d0887"
             ],
             [
              0.1111111111111111,
              "#46039f"
             ],
             [
              0.2222222222222222,
              "#7201a8"
             ],
             [
              0.3333333333333333,
              "#9c179e"
             ],
             [
              0.4444444444444444,
              "#bd3786"
             ],
             [
              0.5555555555555556,
              "#d8576b"
             ],
             [
              0.6666666666666666,
              "#ed7953"
             ],
             [
              0.7777777777777778,
              "#fb9f3a"
             ],
             [
              0.8888888888888888,
              "#fdca26"
             ],
             [
              1,
              "#f0f921"
             ]
            ],
            "type": "surface"
           }
          ],
          "table": [
           {
            "cells": {
             "fill": {
              "color": "#EBF0F8"
             },
             "line": {
              "color": "white"
             }
            },
            "header": {
             "fill": {
              "color": "#C8D4E3"
             },
             "line": {
              "color": "white"
             }
            },
            "type": "table"
           }
          ]
         },
         "layout": {
          "annotationdefaults": {
           "arrowcolor": "#2a3f5f",
           "arrowhead": 0,
           "arrowwidth": 1
          },
          "autotypenumbers": "strict",
          "coloraxis": {
           "colorbar": {
            "outlinewidth": 0,
            "ticks": ""
           }
          },
          "colorscale": {
           "diverging": [
            [
             0,
             "#8e0152"
            ],
            [
             0.1,
             "#c51b7d"
            ],
            [
             0.2,
             "#de77ae"
            ],
            [
             0.3,
             "#f1b6da"
            ],
            [
             0.4,
             "#fde0ef"
            ],
            [
             0.5,
             "#f7f7f7"
            ],
            [
             0.6,
             "#e6f5d0"
            ],
            [
             0.7,
             "#b8e186"
            ],
            [
             0.8,
             "#7fbc41"
            ],
            [
             0.9,
             "#4d9221"
            ],
            [
             1,
             "#276419"
            ]
           ],
           "sequential": [
            [
             0,
             "#0d0887"
            ],
            [
             0.1111111111111111,
             "#46039f"
            ],
            [
             0.2222222222222222,
             "#7201a8"
            ],
            [
             0.3333333333333333,
             "#9c179e"
            ],
            [
             0.4444444444444444,
             "#bd3786"
            ],
            [
             0.5555555555555556,
             "#d8576b"
            ],
            [
             0.6666666666666666,
             "#ed7953"
            ],
            [
             0.7777777777777778,
             "#fb9f3a"
            ],
            [
             0.8888888888888888,
             "#fdca26"
            ],
            [
             1,
             "#f0f921"
            ]
           ],
           "sequentialminus": [
            [
             0,
             "#0d0887"
            ],
            [
             0.1111111111111111,
             "#46039f"
            ],
            [
             0.2222222222222222,
             "#7201a8"
            ],
            [
             0.3333333333333333,
             "#9c179e"
            ],
            [
             0.4444444444444444,
             "#bd3786"
            ],
            [
             0.5555555555555556,
             "#d8576b"
            ],
            [
             0.6666666666666666,
             "#ed7953"
            ],
            [
             0.7777777777777778,
             "#fb9f3a"
            ],
            [
             0.8888888888888888,
             "#fdca26"
            ],
            [
             1,
             "#f0f921"
            ]
           ]
          },
          "colorway": [
           "#636efa",
           "#EF553B",
           "#00cc96",
           "#ab63fa",
           "#FFA15A",
           "#19d3f3",
           "#FF6692",
           "#B6E880",
           "#FF97FF",
           "#FECB52"
          ],
          "font": {
           "color": "#2a3f5f"
          },
          "geo": {
           "bgcolor": "white",
           "lakecolor": "white",
           "landcolor": "#E5ECF6",
           "showlakes": true,
           "showland": true,
           "subunitcolor": "white"
          },
          "hoverlabel": {
           "align": "left"
          },
          "hovermode": "closest",
          "mapbox": {
           "style": "light"
          },
          "paper_bgcolor": "white",
          "plot_bgcolor": "#E5ECF6",
          "polar": {
           "angularaxis": {
            "gridcolor": "white",
            "linecolor": "white",
            "ticks": ""
           },
           "bgcolor": "#E5ECF6",
           "radialaxis": {
            "gridcolor": "white",
            "linecolor": "white",
            "ticks": ""
           }
          },
          "scene": {
           "xaxis": {
            "backgroundcolor": "#E5ECF6",
            "gridcolor": "white",
            "gridwidth": 2,
            "linecolor": "white",
            "showbackground": true,
            "ticks": "",
            "zerolinecolor": "white"
           },
           "yaxis": {
            "backgroundcolor": "#E5ECF6",
            "gridcolor": "white",
            "gridwidth": 2,
            "linecolor": "white",
            "showbackground": true,
            "ticks": "",
            "zerolinecolor": "white"
           },
           "zaxis": {
            "backgroundcolor": "#E5ECF6",
            "gridcolor": "white",
            "gridwidth": 2,
            "linecolor": "white",
            "showbackground": true,
            "ticks": "",
            "zerolinecolor": "white"
           }
          },
          "shapedefaults": {
           "line": {
            "color": "#2a3f5f"
           }
          },
          "ternary": {
           "aaxis": {
            "gridcolor": "white",
            "linecolor": "white",
            "ticks": ""
           },
           "baxis": {
            "gridcolor": "white",
            "linecolor": "white",
            "ticks": ""
           },
           "bgcolor": "#E5ECF6",
           "caxis": {
            "gridcolor": "white",
            "linecolor": "white",
            "ticks": ""
           }
          },
          "title": {
           "x": 0.05
          },
          "xaxis": {
           "automargin": true,
           "gridcolor": "white",
           "linecolor": "white",
           "ticks": "",
           "title": {
            "standoff": 15
           },
           "zerolinecolor": "white",
           "zerolinewidth": 2
          },
          "yaxis": {
           "automargin": true,
           "gridcolor": "white",
           "linecolor": "white",
           "ticks": "",
           "title": {
            "standoff": 15
           },
           "zerolinecolor": "white",
           "zerolinewidth": 2
          }
         }
        },
        "title": {
         "font": {
          "color": "#4D5663"
         }
        },
        "xaxis": {
         "gridcolor": "#E1E5ED",
         "showgrid": true,
         "tickfont": {
          "color": "#4D5663"
         },
         "title": {
          "font": {
           "color": "#4D5663"
          },
          "text": ""
         },
         "zerolinecolor": "#E1E5ED"
        },
        "yaxis": {
         "gridcolor": "#E1E5ED",
         "showgrid": true,
         "tickfont": {
          "color": "#4D5663"
         },
         "title": {
          "font": {
           "color": "#4D5663"
          },
          "text": ""
         },
         "zerolinecolor": "#E1E5ED"
        }
       }
      },
      "text/html": [
       "<div>                            <div id=\"2bd19d66-a422-4592-9bd6-7bac0850a568\" class=\"plotly-graph-div\" style=\"height:525px; width:100%;\"></div>            <script type=\"text/javascript\">                require([\"plotly\"], function(Plotly) {                    window.PLOTLYENV=window.PLOTLYENV || {};\n",
       "                    window.PLOTLYENV.BASE_URL='https://plot.ly';                                    if (document.getElementById(\"2bd19d66-a422-4592-9bd6-7bac0850a568\")) {                    Plotly.newPlot(                        \"2bd19d66-a422-4592-9bd6-7bac0850a568\",                        [{\"marker\":{\"color\":\"rgba(255, 153, 51, 0.6)\",\"line\":{\"color\":\"rgba(255, 153, 51, 1.0)\",\"width\":1}},\"name\":\"None\",\"orientation\":\"v\",\"text\":\"\",\"x\":[\"A\",\"B\",\"C\",\"D\"],\"y\":[-12.237006323248625,-2.8835942157567143,12.131366185340747,0.3307252679301773],\"type\":\"bar\"}],                        {\"legend\":{\"bgcolor\":\"#F5F6F9\",\"font\":{\"color\":\"#4D5663\"}},\"paper_bgcolor\":\"#F5F6F9\",\"plot_bgcolor\":\"#F5F6F9\",\"template\":{\"data\":{\"barpolar\":[{\"marker\":{\"line\":{\"color\":\"#E5ECF6\",\"width\":0.5},\"pattern\":{\"fillmode\":\"overlay\",\"size\":10,\"solidity\":0.2}},\"type\":\"barpolar\"}],\"bar\":[{\"error_x\":{\"color\":\"#2a3f5f\"},\"error_y\":{\"color\":\"#2a3f5f\"},\"marker\":{\"line\":{\"color\":\"#E5ECF6\",\"width\":0.5},\"pattern\":{\"fillmode\":\"overlay\",\"size\":10,\"solidity\":0.2}},\"type\":\"bar\"}],\"carpet\":[{\"aaxis\":{\"endlinecolor\":\"#2a3f5f\",\"gridcolor\":\"white\",\"linecolor\":\"white\",\"minorgridcolor\":\"white\",\"startlinecolor\":\"#2a3f5f\"},\"baxis\":{\"endlinecolor\":\"#2a3f5f\",\"gridcolor\":\"white\",\"linecolor\":\"white\",\"minorgridcolor\":\"white\",\"startlinecolor\":\"#2a3f5f\"},\"type\":\"carpet\"}],\"choropleth\":[{\"colorbar\":{\"outlinewidth\":0,\"ticks\":\"\"},\"type\":\"choropleth\"}],\"contourcarpet\":[{\"colorbar\":{\"outlinewidth\":0,\"ticks\":\"\"},\"type\":\"contourcarpet\"}],\"contour\":[{\"colorbar\":{\"outlinewidth\":0,\"ticks\":\"\"},\"colorscale\":[[0.0,\"#0d0887\"],[0.1111111111111111,\"#46039f\"],[0.2222222222222222,\"#7201a8\"],[0.3333333333333333,\"#9c179e\"],[0.4444444444444444,\"#bd3786\"],[0.5555555555555556,\"#d8576b\"],[0.6666666666666666,\"#ed7953\"],[0.7777777777777778,\"#fb9f3a\"],[0.8888888888888888,\"#fdca26\"],[1.0,\"#f0f921\"]],\"type\":\"contour\"}],\"heatmapgl\":[{\"colorbar\":{\"outlinewidth\":0,\"ticks\":\"\"},\"colorscale\":[[0.0,\"#0d0887\"],[0.1111111111111111,\"#46039f\"],[0.2222222222222222,\"#7201a8\"],[0.3333333333333333,\"#9c179e\"],[0.4444444444444444,\"#bd3786\"],[0.5555555555555556,\"#d8576b\"],[0.6666666666666666,\"#ed7953\"],[0.7777777777777778,\"#fb9f3a\"],[0.8888888888888888,\"#fdca26\"],[1.0,\"#f0f921\"]],\"type\":\"heatmapgl\"}],\"heatmap\":[{\"colorbar\":{\"outlinewidth\":0,\"ticks\":\"\"},\"colorscale\":[[0.0,\"#0d0887\"],[0.1111111111111111,\"#46039f\"],[0.2222222222222222,\"#7201a8\"],[0.3333333333333333,\"#9c179e\"],[0.4444444444444444,\"#bd3786\"],[0.5555555555555556,\"#d8576b\"],[0.6666666666666666,\"#ed7953\"],[0.7777777777777778,\"#fb9f3a\"],[0.8888888888888888,\"#fdca26\"],[1.0,\"#f0f921\"]],\"type\":\"heatmap\"}],\"histogram2dcontour\":[{\"colorbar\":{\"outlinewidth\":0,\"ticks\":\"\"},\"colorscale\":[[0.0,\"#0d0887\"],[0.1111111111111111,\"#46039f\"],[0.2222222222222222,\"#7201a8\"],[0.3333333333333333,\"#9c179e\"],[0.4444444444444444,\"#bd3786\"],[0.5555555555555556,\"#d8576b\"],[0.6666666666666666,\"#ed7953\"],[0.7777777777777778,\"#fb9f3a\"],[0.8888888888888888,\"#fdca26\"],[1.0,\"#f0f921\"]],\"type\":\"histogram2dcontour\"}],\"histogram2d\":[{\"colorbar\":{\"outlinewidth\":0,\"ticks\":\"\"},\"colorscale\":[[0.0,\"#0d0887\"],[0.1111111111111111,\"#46039f\"],[0.2222222222222222,\"#7201a8\"],[0.3333333333333333,\"#9c179e\"],[0.4444444444444444,\"#bd3786\"],[0.5555555555555556,\"#d8576b\"],[0.6666666666666666,\"#ed7953\"],[0.7777777777777778,\"#fb9f3a\"],[0.8888888888888888,\"#fdca26\"],[1.0,\"#f0f921\"]],\"type\":\"histogram2d\"}],\"histogram\":[{\"marker\":{\"pattern\":{\"fillmode\":\"overlay\",\"size\":10,\"solidity\":0.2}},\"type\":\"histogram\"}],\"mesh3d\":[{\"colorbar\":{\"outlinewidth\":0,\"ticks\":\"\"},\"type\":\"mesh3d\"}],\"parcoords\":[{\"line\":{\"colorbar\":{\"outlinewidth\":0,\"ticks\":\"\"}},\"type\":\"parcoords\"}],\"pie\":[{\"automargin\":true,\"type\":\"pie\"}],\"scatter3d\":[{\"line\":{\"colorbar\":{\"outlinewidth\":0,\"ticks\":\"\"}},\"marker\":{\"colorbar\":{\"outlinewidth\":0,\"ticks\":\"\"}},\"type\":\"scatter3d\"}],\"scattercarpet\":[{\"marker\":{\"colorbar\":{\"outlinewidth\":0,\"ticks\":\"\"}},\"type\":\"scattercarpet\"}],\"scattergeo\":[{\"marker\":{\"colorbar\":{\"outlinewidth\":0,\"ticks\":\"\"}},\"type\":\"scattergeo\"}],\"scattergl\":[{\"marker\":{\"colorbar\":{\"outlinewidth\":0,\"ticks\":\"\"}},\"type\":\"scattergl\"}],\"scattermapbox\":[{\"marker\":{\"colorbar\":{\"outlinewidth\":0,\"ticks\":\"\"}},\"type\":\"scattermapbox\"}],\"scatterpolargl\":[{\"marker\":{\"colorbar\":{\"outlinewidth\":0,\"ticks\":\"\"}},\"type\":\"scatterpolargl\"}],\"scatterpolar\":[{\"marker\":{\"colorbar\":{\"outlinewidth\":0,\"ticks\":\"\"}},\"type\":\"scatterpolar\"}],\"scatter\":[{\"fillpattern\":{\"fillmode\":\"overlay\",\"size\":10,\"solidity\":0.2},\"type\":\"scatter\"}],\"scatterternary\":[{\"marker\":{\"colorbar\":{\"outlinewidth\":0,\"ticks\":\"\"}},\"type\":\"scatterternary\"}],\"surface\":[{\"colorbar\":{\"outlinewidth\":0,\"ticks\":\"\"},\"colorscale\":[[0.0,\"#0d0887\"],[0.1111111111111111,\"#46039f\"],[0.2222222222222222,\"#7201a8\"],[0.3333333333333333,\"#9c179e\"],[0.4444444444444444,\"#bd3786\"],[0.5555555555555556,\"#d8576b\"],[0.6666666666666666,\"#ed7953\"],[0.7777777777777778,\"#fb9f3a\"],[0.8888888888888888,\"#fdca26\"],[1.0,\"#f0f921\"]],\"type\":\"surface\"}],\"table\":[{\"cells\":{\"fill\":{\"color\":\"#EBF0F8\"},\"line\":{\"color\":\"white\"}},\"header\":{\"fill\":{\"color\":\"#C8D4E3\"},\"line\":{\"color\":\"white\"}},\"type\":\"table\"}]},\"layout\":{\"annotationdefaults\":{\"arrowcolor\":\"#2a3f5f\",\"arrowhead\":0,\"arrowwidth\":1},\"autotypenumbers\":\"strict\",\"coloraxis\":{\"colorbar\":{\"outlinewidth\":0,\"ticks\":\"\"}},\"colorscale\":{\"diverging\":[[0,\"#8e0152\"],[0.1,\"#c51b7d\"],[0.2,\"#de77ae\"],[0.3,\"#f1b6da\"],[0.4,\"#fde0ef\"],[0.5,\"#f7f7f7\"],[0.6,\"#e6f5d0\"],[0.7,\"#b8e186\"],[0.8,\"#7fbc41\"],[0.9,\"#4d9221\"],[1,\"#276419\"]],\"sequential\":[[0.0,\"#0d0887\"],[0.1111111111111111,\"#46039f\"],[0.2222222222222222,\"#7201a8\"],[0.3333333333333333,\"#9c179e\"],[0.4444444444444444,\"#bd3786\"],[0.5555555555555556,\"#d8576b\"],[0.6666666666666666,\"#ed7953\"],[0.7777777777777778,\"#fb9f3a\"],[0.8888888888888888,\"#fdca26\"],[1.0,\"#f0f921\"]],\"sequentialminus\":[[0.0,\"#0d0887\"],[0.1111111111111111,\"#46039f\"],[0.2222222222222222,\"#7201a8\"],[0.3333333333333333,\"#9c179e\"],[0.4444444444444444,\"#bd3786\"],[0.5555555555555556,\"#d8576b\"],[0.6666666666666666,\"#ed7953\"],[0.7777777777777778,\"#fb9f3a\"],[0.8888888888888888,\"#fdca26\"],[1.0,\"#f0f921\"]]},\"colorway\":[\"#636efa\",\"#EF553B\",\"#00cc96\",\"#ab63fa\",\"#FFA15A\",\"#19d3f3\",\"#FF6692\",\"#B6E880\",\"#FF97FF\",\"#FECB52\"],\"font\":{\"color\":\"#2a3f5f\"},\"geo\":{\"bgcolor\":\"white\",\"lakecolor\":\"white\",\"landcolor\":\"#E5ECF6\",\"showlakes\":true,\"showland\":true,\"subunitcolor\":\"white\"},\"hoverlabel\":{\"align\":\"left\"},\"hovermode\":\"closest\",\"mapbox\":{\"style\":\"light\"},\"paper_bgcolor\":\"white\",\"plot_bgcolor\":\"#E5ECF6\",\"polar\":{\"angularaxis\":{\"gridcolor\":\"white\",\"linecolor\":\"white\",\"ticks\":\"\"},\"bgcolor\":\"#E5ECF6\",\"radialaxis\":{\"gridcolor\":\"white\",\"linecolor\":\"white\",\"ticks\":\"\"}},\"scene\":{\"xaxis\":{\"backgroundcolor\":\"#E5ECF6\",\"gridcolor\":\"white\",\"gridwidth\":2,\"linecolor\":\"white\",\"showbackground\":true,\"ticks\":\"\",\"zerolinecolor\":\"white\"},\"yaxis\":{\"backgroundcolor\":\"#E5ECF6\",\"gridcolor\":\"white\",\"gridwidth\":2,\"linecolor\":\"white\",\"showbackground\":true,\"ticks\":\"\",\"zerolinecolor\":\"white\"},\"zaxis\":{\"backgroundcolor\":\"#E5ECF6\",\"gridcolor\":\"white\",\"gridwidth\":2,\"linecolor\":\"white\",\"showbackground\":true,\"ticks\":\"\",\"zerolinecolor\":\"white\"}},\"shapedefaults\":{\"line\":{\"color\":\"#2a3f5f\"}},\"ternary\":{\"aaxis\":{\"gridcolor\":\"white\",\"linecolor\":\"white\",\"ticks\":\"\"},\"baxis\":{\"gridcolor\":\"white\",\"linecolor\":\"white\",\"ticks\":\"\"},\"bgcolor\":\"#E5ECF6\",\"caxis\":{\"gridcolor\":\"white\",\"linecolor\":\"white\",\"ticks\":\"\"}},\"title\":{\"x\":0.05},\"xaxis\":{\"automargin\":true,\"gridcolor\":\"white\",\"linecolor\":\"white\",\"ticks\":\"\",\"title\":{\"standoff\":15},\"zerolinecolor\":\"white\",\"zerolinewidth\":2},\"yaxis\":{\"automargin\":true,\"gridcolor\":\"white\",\"linecolor\":\"white\",\"ticks\":\"\",\"title\":{\"standoff\":15},\"zerolinecolor\":\"white\",\"zerolinewidth\":2}}},\"title\":{\"font\":{\"color\":\"#4D5663\"}},\"xaxis\":{\"gridcolor\":\"#E1E5ED\",\"showgrid\":true,\"tickfont\":{\"color\":\"#4D5663\"},\"title\":{\"font\":{\"color\":\"#4D5663\"},\"text\":\"\"},\"zerolinecolor\":\"#E1E5ED\"},\"yaxis\":{\"gridcolor\":\"#E1E5ED\",\"showgrid\":true,\"tickfont\":{\"color\":\"#4D5663\"},\"title\":{\"font\":{\"color\":\"#4D5663\"},\"text\":\"\"},\"zerolinecolor\":\"#E1E5ED\"}},                        {\"showLink\": true, \"linkText\": \"Export to plot.ly\", \"plotlyServerURL\": \"https://plot.ly\", \"responsive\": true}                    ).then(function(){\n",
       "                            \n",
       "var gd = document.getElementById('2bd19d66-a422-4592-9bd6-7bac0850a568');\n",
       "var x = new MutationObserver(function (mutations, observer) {{\n",
       "        var display = window.getComputedStyle(gd).display;\n",
       "        if (!display || display === 'none') {{\n",
       "            console.log([gd, 'removed!']);\n",
       "            Plotly.purge(gd);\n",
       "            observer.disconnect();\n",
       "        }}\n",
       "}});\n",
       "\n",
       "// Listen for the removal of the full notebook cells\n",
       "var notebookContainer = gd.closest('#notebook-container');\n",
       "if (notebookContainer) {{\n",
       "    x.observe(notebookContainer, {childList: true});\n",
       "}}\n",
       "\n",
       "// Listen for the clearing of the current output cell\n",
       "var outputEl = gd.closest('.output');\n",
       "if (outputEl) {{\n",
       "    x.observe(outputEl, {childList: true});\n",
       "}}\n",
       "\n",
       "                        })                };                });            </script>        </div>"
      ]
     },
     "metadata": {},
     "output_type": "display_data"
    }
   ],
   "source": [
    "df.sum().iplot(kind='bar')"
   ]
  },
  {
   "cell_type": "code",
   "execution_count": 26,
   "id": "fc567462",
   "metadata": {},
   "outputs": [
    {
     "data": {
      "application/vnd.plotly.v1+json": {
       "config": {
        "linkText": "Export to plot.ly",
        "plotlyServerURL": "https://plot.ly",
        "showLink": true
       },
       "data": [
        {
         "boxpoints": false,
         "line": {
          "width": 1.3
         },
         "marker": {
          "color": "rgba(255, 153, 51, 1.0)"
         },
         "name": "A",
         "orientation": "v",
         "type": "box",
         "y": [
          -0.5460778957347936,
          1.3014510422065746,
          0.26814934478756514,
          -0.3618191044714592,
          -0.7369237834399675,
          3.232474390779266,
          0.4502317191922599,
          0.29996219651162587,
          0.1722537891268259,
          -0.6669176939726003,
          1.1578674537274418,
          -1.476432366982033,
          -0.5472396471244979,
          -1.2937811853587022,
          -0.9013967416102897,
          0.8853025381342631,
          -1.1366898385165811,
          -2.6962483782363815,
          -1.6788450175371639,
          0.3546081661265342,
          0.7442380110818622,
          0.5619392224263491,
          0.6065249503129646,
          0.04089407242636777,
          -1.3342789853786823,
          -0.9369940551036597,
          0.10034758564092557,
          0.8075163635955258,
          0.38351490019648027,
          -0.3324193008656376,
          0.2797743330160391,
          -0.0026682896222340285,
          1.5101952298787567,
          0.8875873921209985,
          1.1495772264048136,
          -0.2464421692232896,
          1.8616344700460064,
          -0.2713449451449245,
          -1.8734698359308377,
          -0.4375931728140298,
          0.782786598083783,
          1.1427488896160929,
          -1.7014930434140594,
          0.7267623595379041,
          -0.007002364510007742,
          0.17509129779533658,
          -0.4781056073352823,
          0.5832965159892182,
          -0.6331491917976095,
          -0.3161961767682029,
          -2.3572250533205223,
          1.3512672934632202,
          0.05341203365733753,
          0.7670034141178904,
          0.18073432373892828,
          -0.7672344771558023,
          0.20558654605709664,
          -0.5544513388284268,
          1.5287039845218173,
          -1.1332355093479762,
          -1.4748315025375673,
          -1.1462469684745658,
          -1.052650035154753,
          -0.3907382513473276,
          -1.627183772248113,
          -0.3783231268569761,
          -0.1597912113636773,
          -1.3535219949676072,
          -0.23935950379079585,
          1.0159738780171244,
          -0.576711046906184,
          -0.7274673897933394,
          -1.4907578857702473,
          -0.7921446366064933,
          -0.08994575562284873,
          0.930250935265208,
          -1.3191164860374893,
          -1.3857346608655399,
          1.6340683152012712,
          1.170193417939178,
          -1.9931400227970575,
          -0.13615296286206194,
          0.0648707514248098,
          -0.5025897956063995,
          -1.845513405796715,
          -0.9477950010886944,
          0.2791081770738883,
          -0.9684113216516099,
          0.8229249871332075,
          0.4314515011373696,
          0.14872909873619033,
          0.2138849867192027,
          -1.2573571642428092,
          1.9379795654275749,
          -0.375126110803408,
          0.8139291956018956,
          0.37433213952728006,
          0.8346004863771042,
          -0.5062703709980042,
          0.6998141405879368
         ]
        },
        {
         "boxpoints": false,
         "line": {
          "width": 1.3
         },
         "marker": {
          "color": "rgba(55, 128, 191, 1.0)"
         },
         "name": "B",
         "orientation": "v",
         "type": "box",
         "y": [
          0.8916549146321898,
          -0.3381931403080011,
          -0.37428192595009857,
          -0.9419524005632491,
          -1.0145977706243687,
          1.5583890754009588,
          -0.6852630085642236,
          0.6651332215213197,
          -0.9910188176038004,
          0.6161978813106868,
          0.3861938231042876,
          -0.60882693154804,
          0.19890215422838792,
          0.6775658736229073,
          0.797828468832904,
          0.07682513904133999,
          0.025107642292884074,
          -1.5576726094219517,
          1.4264356314033277,
          1.2666998992120595,
          -0.6943473865446161,
          -0.053895565447558316,
          0.4284264262379757,
          0.13208468398082687,
          0.7670307156234072,
          0.38390668729911087,
          0.6347177042230788,
          1.1974467440918999,
          0.2020632736198323,
          -1.0022455128645296,
          0.18371926512091438,
          -0.04109060733714235,
          -1.5481413250921956,
          -0.54934779822259,
          0.09252072296337743,
          -0.5367295945730247,
          -0.4777903101063822,
          0.10604568652569685,
          -0.8718547064946718,
          0.5708956722518306,
          0.06589086041506216,
          0.25580174667143174,
          -0.4312599780802227,
          -0.12443614311985786,
          1.5806599712009868,
          0.2870922514198373,
          0.5512944944835362,
          1.4527579119089358,
          0.2699387949848012,
          0.7904290473921192,
          -0.7816302662769503,
          -0.12821896698885438,
          -0.4225712340699086,
          -2.440144305643967,
          -0.9927129109667006,
          -0.18918780352731643,
          -0.09610392449157452,
          0.3554190174115922,
          -1.7864214361926745,
          -1.1073055045960427,
          -0.9630782474751012,
          0.10812185719468097,
          1.073523936772271,
          -0.19935412263787683,
          0.6908359830853447,
          -0.4429809411287429,
          -1.4187058463861983,
          -1.6721208685617281,
          -0.6786398548037761,
          0.7268002142268188,
          -0.4360824977259846,
          -0.23765490366988942,
          -1.4728284198921924,
          -0.01910884940631543,
          0.10765546033029476,
          1.8927129965967484,
          0.03255345460140715,
          1.0744477403084196,
          0.5661276059273651,
          -1.0592431238903615,
          0.786919426390002,
          1.2764749857577515,
          -0.14162598466362158,
          -0.5133580850066126,
          1.5161755740926746,
          -0.33416049948343557,
          1.7833299073862408,
          0.5139386130455855,
          -0.6842137040540731,
          -2.6483956539321154,
          1.111781386043757,
          2.744841648153119,
          0.011608699926791748,
          -0.2978790480255613,
          -1.5686049470141332,
          -1.3527125996567446,
          -0.8069995269798872,
          -0.8649491875996753,
          -1.129641165354729,
          1.933060854543772
         ]
        },
        {
         "boxpoints": false,
         "line": {
          "width": 1.3
         },
         "marker": {
          "color": "rgba(50, 171, 96, 1.0)"
         },
         "name": "C",
         "orientation": "v",
         "type": "box",
         "y": [
          -0.20330239236774128,
          0.32850101568085893,
          0.529542595028742,
          -1.6869438521556148,
          -0.12915954035899646,
          -0.29361414034583905,
          -1.0411915378410137,
          0.1655450402186426,
          0.6245227599578845,
          0.6780299903342727,
          -2.9290857736047786,
          0.461077292314986,
          1.1091891520463508,
          0.33644402919592176,
          0.4127408790834404,
          0.4176719457751997,
          -0.7460023909998824,
          -0.18561711514336504,
          -0.46564454618751433,
          0.15926935447160537,
          0.5783156105882734,
          0.6498088371009316,
          -0.5119302580892772,
          -0.01638721511848431,
          0.310058348939363,
          0.038928256609700576,
          -0.26008888312749373,
          -1.2617315627247143,
          0.06454665859839183,
          0.47483185016901536,
          -0.05846809624656749,
          1.4470724106911268,
          -1.8437534447744601,
          -0.021823481334008542,
          -0.4598326516335303,
          0.3157084829852417,
          -1.086482265263441,
          0.1126458838976049,
          -1.8193251733435594,
          1.3315552594184057,
          1.7596809193450778,
          1.739835596293713,
          -0.7630474665988405,
          0.10544336197836349,
          1.4076948529659261,
          -0.9138687942754058,
          0.2111116933980099,
          -0.42235606752361854,
          0.2679189907173422,
          0.5080811830371827,
          -0.8529529166914348,
          -0.5195609166522553,
          0.8811768808600744,
          -0.038377272851005687,
          1.4782130095657346,
          0.19355006817445572,
          1.0508600294180694,
          0.47121959127528307,
          -0.1999034912474286,
          1.7346578774154435,
          -0.2873035910578778,
          0.3893424633119317,
          -2.078545664242502,
          -0.8266949553779602,
          1.0827891174777793,
          1.5546785887935657,
          -0.4752780928615553,
          0.002957871234240924,
          -0.9326126230951465,
          1.2195596769465835,
          -0.7956573787575608,
          2.8696588406462302,
          -0.25251788733211367,
          -0.8305892104633876,
          0.08919573756281855,
          -0.7044374495911413,
          0.28848531661875715,
          -0.3717414926024388,
          0.8288440550131508,
          -0.38340128043684973,
          0.06574562706397219,
          2.0524525605093,
          -0.6405528750002505,
          -0.3340064376926966,
          1.2219996473694095,
          0.2194755290359963,
          2.955198772573274,
          -0.02685772437217304,
          0.26146694935304754,
          -1.0888714908255899,
          0.5099640075793971,
          -1.2173602966953139,
          -0.3036137386756566,
          0.8471957766098436,
          1.0297840502997417,
          1.8537466066157755,
          -0.7559521685658589,
          0.2445071826661215,
          0.7429875949033095,
          0.4823261097522082
         ]
        },
        {
         "boxpoints": false,
         "line": {
          "width": 1.3
         },
         "marker": {
          "color": "rgba(128, 0, 128, 1.0)"
         },
         "name": "D",
         "orientation": "v",
         "type": "box",
         "y": [
          0.6353847301831402,
          1.2009423784267994,
          -1.654844320111015,
          -0.8635523832067165,
          0.8436073081690776,
          0.0010283296707705861,
          0.7213232234941241,
          1.2615979277353082,
          1.4292327016337216,
          0.027287191889307012,
          -1.5180573636122134,
          -1.0131139254746897,
          0.7948617640038231,
          -1.408160297894933,
          -0.5012501529865498,
          1.5280332963554248,
          -0.7879092031693243,
          0.7669901510070474,
          -1.091735910194253,
          0.662536340034536,
          0.550001997833688,
          -0.3214729696376683,
          0.008292011859685321,
          -1.3698158321629847,
          0.8391122567630139,
          1.2785094720503718,
          1.1309681951149693,
          0.43715762373237255,
          -0.8719283319074831,
          0.5232332637202878,
          -0.9427769729935915,
          1.749152052334987,
          -0.7332203655606052,
          -1.730022600119727,
          -0.3071717755780072,
          -0.6574275508278046,
          -0.11120726606697393,
          -0.29807283502782583,
          2.007007347945856,
          -1.1248393061937714,
          -0.08331589907942558,
          -0.9624694892468075,
          -1.1772773034412958,
          0.5443833685090267,
          -2.383209166152728,
          -0.5654893309716007,
          0.15432201119291886,
          0.8195508234542466,
          0.41835284465192496,
          -0.10531200162672043,
          1.0245802846927696,
          -0.00916744004768294,
          -0.3619809134335411,
          1.0455709500178472,
          1.1226952193325705,
          -1.243767426208508,
          -0.1269245788752039,
          -1.138560695098012,
          0.012152255094927601,
          -0.3773469384695606,
          -0.1271188690590761,
          0.7691413459651985,
          0.6395681120462738,
          0.38786868367917465,
          0.7814950610131641,
          -0.003065856032941088,
          -0.08052791958464772,
          -0.000862227830624004,
          -0.14667204540993645,
          -0.6588016529198943,
          0.4760288970780797,
          -0.5010391118114504,
          -0.9547048325860107,
          1.4747680524072513,
          0.4344091007512491,
          -0.1871813519464555,
          -0.31693463148729906,
          0.16707302260475737,
          -1.3669967745199492,
          -0.12552365732428736,
          0.16638159317079995,
          0.33491507513827795,
          0.15025043754502934,
          -0.3472800351808697,
          1.7591954772545582,
          -0.29790728038059144,
          -3.201777800234756,
          -0.4018680720562205,
          0.808560116272953,
          0.37745942884408784,
          0.9703784233765854,
          -0.7888595069519375,
          0.3101314954838077,
          0.24078793877636165,
          0.9229850887876242,
          0.12831890641507618,
          0.7564594134938638,
          0.2643149845870508,
          1.2868130886986313,
          -1.4659236256700496
         ]
        }
       ],
       "layout": {
        "legend": {
         "bgcolor": "#F5F6F9",
         "font": {
          "color": "#4D5663"
         }
        },
        "paper_bgcolor": "#F5F6F9",
        "plot_bgcolor": "#F5F6F9",
        "template": {
         "data": {
          "bar": [
           {
            "error_x": {
             "color": "#2a3f5f"
            },
            "error_y": {
             "color": "#2a3f5f"
            },
            "marker": {
             "line": {
              "color": "#E5ECF6",
              "width": 0.5
             },
             "pattern": {
              "fillmode": "overlay",
              "size": 10,
              "solidity": 0.2
             }
            },
            "type": "bar"
           }
          ],
          "barpolar": [
           {
            "marker": {
             "line": {
              "color": "#E5ECF6",
              "width": 0.5
             },
             "pattern": {
              "fillmode": "overlay",
              "size": 10,
              "solidity": 0.2
             }
            },
            "type": "barpolar"
           }
          ],
          "carpet": [
           {
            "aaxis": {
             "endlinecolor": "#2a3f5f",
             "gridcolor": "white",
             "linecolor": "white",
             "minorgridcolor": "white",
             "startlinecolor": "#2a3f5f"
            },
            "baxis": {
             "endlinecolor": "#2a3f5f",
             "gridcolor": "white",
             "linecolor": "white",
             "minorgridcolor": "white",
             "startlinecolor": "#2a3f5f"
            },
            "type": "carpet"
           }
          ],
          "choropleth": [
           {
            "colorbar": {
             "outlinewidth": 0,
             "ticks": ""
            },
            "type": "choropleth"
           }
          ],
          "contour": [
           {
            "colorbar": {
             "outlinewidth": 0,
             "ticks": ""
            },
            "colorscale": [
             [
              0,
              "#0d0887"
             ],
             [
              0.1111111111111111,
              "#46039f"
             ],
             [
              0.2222222222222222,
              "#7201a8"
             ],
             [
              0.3333333333333333,
              "#9c179e"
             ],
             [
              0.4444444444444444,
              "#bd3786"
             ],
             [
              0.5555555555555556,
              "#d8576b"
             ],
             [
              0.6666666666666666,
              "#ed7953"
             ],
             [
              0.7777777777777778,
              "#fb9f3a"
             ],
             [
              0.8888888888888888,
              "#fdca26"
             ],
             [
              1,
              "#f0f921"
             ]
            ],
            "type": "contour"
           }
          ],
          "contourcarpet": [
           {
            "colorbar": {
             "outlinewidth": 0,
             "ticks": ""
            },
            "type": "contourcarpet"
           }
          ],
          "heatmap": [
           {
            "colorbar": {
             "outlinewidth": 0,
             "ticks": ""
            },
            "colorscale": [
             [
              0,
              "#0d0887"
             ],
             [
              0.1111111111111111,
              "#46039f"
             ],
             [
              0.2222222222222222,
              "#7201a8"
             ],
             [
              0.3333333333333333,
              "#9c179e"
             ],
             [
              0.4444444444444444,
              "#bd3786"
             ],
             [
              0.5555555555555556,
              "#d8576b"
             ],
             [
              0.6666666666666666,
              "#ed7953"
             ],
             [
              0.7777777777777778,
              "#fb9f3a"
             ],
             [
              0.8888888888888888,
              "#fdca26"
             ],
             [
              1,
              "#f0f921"
             ]
            ],
            "type": "heatmap"
           }
          ],
          "heatmapgl": [
           {
            "colorbar": {
             "outlinewidth": 0,
             "ticks": ""
            },
            "colorscale": [
             [
              0,
              "#0d0887"
             ],
             [
              0.1111111111111111,
              "#46039f"
             ],
             [
              0.2222222222222222,
              "#7201a8"
             ],
             [
              0.3333333333333333,
              "#9c179e"
             ],
             [
              0.4444444444444444,
              "#bd3786"
             ],
             [
              0.5555555555555556,
              "#d8576b"
             ],
             [
              0.6666666666666666,
              "#ed7953"
             ],
             [
              0.7777777777777778,
              "#fb9f3a"
             ],
             [
              0.8888888888888888,
              "#fdca26"
             ],
             [
              1,
              "#f0f921"
             ]
            ],
            "type": "heatmapgl"
           }
          ],
          "histogram": [
           {
            "marker": {
             "pattern": {
              "fillmode": "overlay",
              "size": 10,
              "solidity": 0.2
             }
            },
            "type": "histogram"
           }
          ],
          "histogram2d": [
           {
            "colorbar": {
             "outlinewidth": 0,
             "ticks": ""
            },
            "colorscale": [
             [
              0,
              "#0d0887"
             ],
             [
              0.1111111111111111,
              "#46039f"
             ],
             [
              0.2222222222222222,
              "#7201a8"
             ],
             [
              0.3333333333333333,
              "#9c179e"
             ],
             [
              0.4444444444444444,
              "#bd3786"
             ],
             [
              0.5555555555555556,
              "#d8576b"
             ],
             [
              0.6666666666666666,
              "#ed7953"
             ],
             [
              0.7777777777777778,
              "#fb9f3a"
             ],
             [
              0.8888888888888888,
              "#fdca26"
             ],
             [
              1,
              "#f0f921"
             ]
            ],
            "type": "histogram2d"
           }
          ],
          "histogram2dcontour": [
           {
            "colorbar": {
             "outlinewidth": 0,
             "ticks": ""
            },
            "colorscale": [
             [
              0,
              "#0d0887"
             ],
             [
              0.1111111111111111,
              "#46039f"
             ],
             [
              0.2222222222222222,
              "#7201a8"
             ],
             [
              0.3333333333333333,
              "#9c179e"
             ],
             [
              0.4444444444444444,
              "#bd3786"
             ],
             [
              0.5555555555555556,
              "#d8576b"
             ],
             [
              0.6666666666666666,
              "#ed7953"
             ],
             [
              0.7777777777777778,
              "#fb9f3a"
             ],
             [
              0.8888888888888888,
              "#fdca26"
             ],
             [
              1,
              "#f0f921"
             ]
            ],
            "type": "histogram2dcontour"
           }
          ],
          "mesh3d": [
           {
            "colorbar": {
             "outlinewidth": 0,
             "ticks": ""
            },
            "type": "mesh3d"
           }
          ],
          "parcoords": [
           {
            "line": {
             "colorbar": {
              "outlinewidth": 0,
              "ticks": ""
             }
            },
            "type": "parcoords"
           }
          ],
          "pie": [
           {
            "automargin": true,
            "type": "pie"
           }
          ],
          "scatter": [
           {
            "fillpattern": {
             "fillmode": "overlay",
             "size": 10,
             "solidity": 0.2
            },
            "type": "scatter"
           }
          ],
          "scatter3d": [
           {
            "line": {
             "colorbar": {
              "outlinewidth": 0,
              "ticks": ""
             }
            },
            "marker": {
             "colorbar": {
              "outlinewidth": 0,
              "ticks": ""
             }
            },
            "type": "scatter3d"
           }
          ],
          "scattercarpet": [
           {
            "marker": {
             "colorbar": {
              "outlinewidth": 0,
              "ticks": ""
             }
            },
            "type": "scattercarpet"
           }
          ],
          "scattergeo": [
           {
            "marker": {
             "colorbar": {
              "outlinewidth": 0,
              "ticks": ""
             }
            },
            "type": "scattergeo"
           }
          ],
          "scattergl": [
           {
            "marker": {
             "colorbar": {
              "outlinewidth": 0,
              "ticks": ""
             }
            },
            "type": "scattergl"
           }
          ],
          "scattermapbox": [
           {
            "marker": {
             "colorbar": {
              "outlinewidth": 0,
              "ticks": ""
             }
            },
            "type": "scattermapbox"
           }
          ],
          "scatterpolar": [
           {
            "marker": {
             "colorbar": {
              "outlinewidth": 0,
              "ticks": ""
             }
            },
            "type": "scatterpolar"
           }
          ],
          "scatterpolargl": [
           {
            "marker": {
             "colorbar": {
              "outlinewidth": 0,
              "ticks": ""
             }
            },
            "type": "scatterpolargl"
           }
          ],
          "scatterternary": [
           {
            "marker": {
             "colorbar": {
              "outlinewidth": 0,
              "ticks": ""
             }
            },
            "type": "scatterternary"
           }
          ],
          "surface": [
           {
            "colorbar": {
             "outlinewidth": 0,
             "ticks": ""
            },
            "colorscale": [
             [
              0,
              "#0d0887"
             ],
             [
              0.1111111111111111,
              "#46039f"
             ],
             [
              0.2222222222222222,
              "#7201a8"
             ],
             [
              0.3333333333333333,
              "#9c179e"
             ],
             [
              0.4444444444444444,
              "#bd3786"
             ],
             [
              0.5555555555555556,
              "#d8576b"
             ],
             [
              0.6666666666666666,
              "#ed7953"
             ],
             [
              0.7777777777777778,
              "#fb9f3a"
             ],
             [
              0.8888888888888888,
              "#fdca26"
             ],
             [
              1,
              "#f0f921"
             ]
            ],
            "type": "surface"
           }
          ],
          "table": [
           {
            "cells": {
             "fill": {
              "color": "#EBF0F8"
             },
             "line": {
              "color": "white"
             }
            },
            "header": {
             "fill": {
              "color": "#C8D4E3"
             },
             "line": {
              "color": "white"
             }
            },
            "type": "table"
           }
          ]
         },
         "layout": {
          "annotationdefaults": {
           "arrowcolor": "#2a3f5f",
           "arrowhead": 0,
           "arrowwidth": 1
          },
          "autotypenumbers": "strict",
          "coloraxis": {
           "colorbar": {
            "outlinewidth": 0,
            "ticks": ""
           }
          },
          "colorscale": {
           "diverging": [
            [
             0,
             "#8e0152"
            ],
            [
             0.1,
             "#c51b7d"
            ],
            [
             0.2,
             "#de77ae"
            ],
            [
             0.3,
             "#f1b6da"
            ],
            [
             0.4,
             "#fde0ef"
            ],
            [
             0.5,
             "#f7f7f7"
            ],
            [
             0.6,
             "#e6f5d0"
            ],
            [
             0.7,
             "#b8e186"
            ],
            [
             0.8,
             "#7fbc41"
            ],
            [
             0.9,
             "#4d9221"
            ],
            [
             1,
             "#276419"
            ]
           ],
           "sequential": [
            [
             0,
             "#0d0887"
            ],
            [
             0.1111111111111111,
             "#46039f"
            ],
            [
             0.2222222222222222,
             "#7201a8"
            ],
            [
             0.3333333333333333,
             "#9c179e"
            ],
            [
             0.4444444444444444,
             "#bd3786"
            ],
            [
             0.5555555555555556,
             "#d8576b"
            ],
            [
             0.6666666666666666,
             "#ed7953"
            ],
            [
             0.7777777777777778,
             "#fb9f3a"
            ],
            [
             0.8888888888888888,
             "#fdca26"
            ],
            [
             1,
             "#f0f921"
            ]
           ],
           "sequentialminus": [
            [
             0,
             "#0d0887"
            ],
            [
             0.1111111111111111,
             "#46039f"
            ],
            [
             0.2222222222222222,
             "#7201a8"
            ],
            [
             0.3333333333333333,
             "#9c179e"
            ],
            [
             0.4444444444444444,
             "#bd3786"
            ],
            [
             0.5555555555555556,
             "#d8576b"
            ],
            [
             0.6666666666666666,
             "#ed7953"
            ],
            [
             0.7777777777777778,
             "#fb9f3a"
            ],
            [
             0.8888888888888888,
             "#fdca26"
            ],
            [
             1,
             "#f0f921"
            ]
           ]
          },
          "colorway": [
           "#636efa",
           "#EF553B",
           "#00cc96",
           "#ab63fa",
           "#FFA15A",
           "#19d3f3",
           "#FF6692",
           "#B6E880",
           "#FF97FF",
           "#FECB52"
          ],
          "font": {
           "color": "#2a3f5f"
          },
          "geo": {
           "bgcolor": "white",
           "lakecolor": "white",
           "landcolor": "#E5ECF6",
           "showlakes": true,
           "showland": true,
           "subunitcolor": "white"
          },
          "hoverlabel": {
           "align": "left"
          },
          "hovermode": "closest",
          "mapbox": {
           "style": "light"
          },
          "paper_bgcolor": "white",
          "plot_bgcolor": "#E5ECF6",
          "polar": {
           "angularaxis": {
            "gridcolor": "white",
            "linecolor": "white",
            "ticks": ""
           },
           "bgcolor": "#E5ECF6",
           "radialaxis": {
            "gridcolor": "white",
            "linecolor": "white",
            "ticks": ""
           }
          },
          "scene": {
           "xaxis": {
            "backgroundcolor": "#E5ECF6",
            "gridcolor": "white",
            "gridwidth": 2,
            "linecolor": "white",
            "showbackground": true,
            "ticks": "",
            "zerolinecolor": "white"
           },
           "yaxis": {
            "backgroundcolor": "#E5ECF6",
            "gridcolor": "white",
            "gridwidth": 2,
            "linecolor": "white",
            "showbackground": true,
            "ticks": "",
            "zerolinecolor": "white"
           },
           "zaxis": {
            "backgroundcolor": "#E5ECF6",
            "gridcolor": "white",
            "gridwidth": 2,
            "linecolor": "white",
            "showbackground": true,
            "ticks": "",
            "zerolinecolor": "white"
           }
          },
          "shapedefaults": {
           "line": {
            "color": "#2a3f5f"
           }
          },
          "ternary": {
           "aaxis": {
            "gridcolor": "white",
            "linecolor": "white",
            "ticks": ""
           },
           "baxis": {
            "gridcolor": "white",
            "linecolor": "white",
            "ticks": ""
           },
           "bgcolor": "#E5ECF6",
           "caxis": {
            "gridcolor": "white",
            "linecolor": "white",
            "ticks": ""
           }
          },
          "title": {
           "x": 0.05
          },
          "xaxis": {
           "automargin": true,
           "gridcolor": "white",
           "linecolor": "white",
           "ticks": "",
           "title": {
            "standoff": 15
           },
           "zerolinecolor": "white",
           "zerolinewidth": 2
          },
          "yaxis": {
           "automargin": true,
           "gridcolor": "white",
           "linecolor": "white",
           "ticks": "",
           "title": {
            "standoff": 15
           },
           "zerolinecolor": "white",
           "zerolinewidth": 2
          }
         }
        },
        "title": {
         "font": {
          "color": "#4D5663"
         }
        },
        "xaxis": {
         "gridcolor": "#E1E5ED",
         "showgrid": true,
         "tickfont": {
          "color": "#4D5663"
         },
         "title": {
          "font": {
           "color": "#4D5663"
          },
          "text": ""
         },
         "zerolinecolor": "#E1E5ED"
        },
        "yaxis": {
         "gridcolor": "#E1E5ED",
         "showgrid": true,
         "tickfont": {
          "color": "#4D5663"
         },
         "title": {
          "font": {
           "color": "#4D5663"
          },
          "text": ""
         },
         "zerolinecolor": "#E1E5ED"
        }
       }
      },
      "text/html": [
       "<div>                            <div id=\"0a763d58-4029-454e-9413-a373c3cb885f\" class=\"plotly-graph-div\" style=\"height:525px; width:100%;\"></div>            <script type=\"text/javascript\">                require([\"plotly\"], function(Plotly) {                    window.PLOTLYENV=window.PLOTLYENV || {};\n",
       "                    window.PLOTLYENV.BASE_URL='https://plot.ly';                                    if (document.getElementById(\"0a763d58-4029-454e-9413-a373c3cb885f\")) {                    Plotly.newPlot(                        \"0a763d58-4029-454e-9413-a373c3cb885f\",                        [{\"boxpoints\":false,\"line\":{\"width\":1.3},\"marker\":{\"color\":\"rgba(255, 153, 51, 1.0)\"},\"name\":\"A\",\"orientation\":\"v\",\"y\":[-0.5460778957347936,1.3014510422065746,0.26814934478756514,-0.3618191044714592,-0.7369237834399675,3.232474390779266,0.4502317191922599,0.29996219651162587,0.1722537891268259,-0.6669176939726003,1.1578674537274418,-1.476432366982033,-0.5472396471244979,-1.2937811853587022,-0.9013967416102897,0.8853025381342631,-1.1366898385165811,-2.6962483782363815,-1.6788450175371639,0.3546081661265342,0.7442380110818622,0.5619392224263491,0.6065249503129646,0.04089407242636777,-1.3342789853786823,-0.9369940551036597,0.10034758564092557,0.8075163635955258,0.38351490019648027,-0.3324193008656376,0.2797743330160391,-0.0026682896222340285,1.5101952298787567,0.8875873921209985,1.1495772264048136,-0.2464421692232896,1.8616344700460064,-0.2713449451449245,-1.8734698359308377,-0.4375931728140298,0.782786598083783,1.1427488896160929,-1.7014930434140594,0.7267623595379041,-0.007002364510007742,0.17509129779533658,-0.4781056073352823,0.5832965159892182,-0.6331491917976095,-0.3161961767682029,-2.3572250533205223,1.3512672934632202,0.05341203365733753,0.7670034141178904,0.18073432373892828,-0.7672344771558023,0.20558654605709664,-0.5544513388284268,1.5287039845218173,-1.1332355093479762,-1.4748315025375673,-1.1462469684745658,-1.052650035154753,-0.3907382513473276,-1.627183772248113,-0.3783231268569761,-0.1597912113636773,-1.3535219949676072,-0.23935950379079585,1.0159738780171244,-0.576711046906184,-0.7274673897933394,-1.4907578857702473,-0.7921446366064933,-0.08994575562284873,0.930250935265208,-1.3191164860374893,-1.3857346608655399,1.6340683152012712,1.170193417939178,-1.9931400227970575,-0.13615296286206194,0.0648707514248098,-0.5025897956063995,-1.845513405796715,-0.9477950010886944,0.2791081770738883,-0.9684113216516099,0.8229249871332075,0.4314515011373696,0.14872909873619033,0.2138849867192027,-1.2573571642428092,1.9379795654275749,-0.375126110803408,0.8139291956018956,0.37433213952728006,0.8346004863771042,-0.5062703709980042,0.6998141405879368],\"type\":\"box\"},{\"boxpoints\":false,\"line\":{\"width\":1.3},\"marker\":{\"color\":\"rgba(55, 128, 191, 1.0)\"},\"name\":\"B\",\"orientation\":\"v\",\"y\":[0.8916549146321898,-0.3381931403080011,-0.37428192595009857,-0.9419524005632491,-1.0145977706243687,1.5583890754009588,-0.6852630085642236,0.6651332215213197,-0.9910188176038004,0.6161978813106868,0.3861938231042876,-0.60882693154804,0.19890215422838792,0.6775658736229073,0.797828468832904,0.07682513904133999,0.025107642292884074,-1.5576726094219517,1.4264356314033277,1.2666998992120595,-0.6943473865446161,-0.053895565447558316,0.4284264262379757,0.13208468398082687,0.7670307156234072,0.38390668729911087,0.6347177042230788,1.1974467440918999,0.2020632736198323,-1.0022455128645296,0.18371926512091438,-0.04109060733714235,-1.5481413250921956,-0.54934779822259,0.09252072296337743,-0.5367295945730247,-0.4777903101063822,0.10604568652569685,-0.8718547064946718,0.5708956722518306,0.06589086041506216,0.25580174667143174,-0.4312599780802227,-0.12443614311985786,1.5806599712009868,0.2870922514198373,0.5512944944835362,1.4527579119089358,0.2699387949848012,0.7904290473921192,-0.7816302662769503,-0.12821896698885438,-0.4225712340699086,-2.440144305643967,-0.9927129109667006,-0.18918780352731643,-0.09610392449157452,0.3554190174115922,-1.7864214361926745,-1.1073055045960427,-0.9630782474751012,0.10812185719468097,1.073523936772271,-0.19935412263787683,0.6908359830853447,-0.4429809411287429,-1.4187058463861983,-1.6721208685617281,-0.6786398548037761,0.7268002142268188,-0.4360824977259846,-0.23765490366988942,-1.4728284198921924,-0.01910884940631543,0.10765546033029476,1.8927129965967484,0.03255345460140715,1.0744477403084196,0.5661276059273651,-1.0592431238903615,0.786919426390002,1.2764749857577515,-0.14162598466362158,-0.5133580850066126,1.5161755740926746,-0.33416049948343557,1.7833299073862408,0.5139386130455855,-0.6842137040540731,-2.6483956539321154,1.111781386043757,2.744841648153119,0.011608699926791748,-0.2978790480255613,-1.5686049470141332,-1.3527125996567446,-0.8069995269798872,-0.8649491875996753,-1.129641165354729,1.933060854543772],\"type\":\"box\"},{\"boxpoints\":false,\"line\":{\"width\":1.3},\"marker\":{\"color\":\"rgba(50, 171, 96, 1.0)\"},\"name\":\"C\",\"orientation\":\"v\",\"y\":[-0.20330239236774128,0.32850101568085893,0.529542595028742,-1.6869438521556148,-0.12915954035899646,-0.29361414034583905,-1.0411915378410137,0.1655450402186426,0.6245227599578845,0.6780299903342727,-2.9290857736047786,0.461077292314986,1.1091891520463508,0.33644402919592176,0.4127408790834404,0.4176719457751997,-0.7460023909998824,-0.18561711514336504,-0.46564454618751433,0.15926935447160537,0.5783156105882734,0.6498088371009316,-0.5119302580892772,-0.01638721511848431,0.310058348939363,0.038928256609700576,-0.26008888312749373,-1.2617315627247143,0.06454665859839183,0.47483185016901536,-0.05846809624656749,1.4470724106911268,-1.8437534447744601,-0.021823481334008542,-0.4598326516335303,0.3157084829852417,-1.086482265263441,0.1126458838976049,-1.8193251733435594,1.3315552594184057,1.7596809193450778,1.739835596293713,-0.7630474665988405,0.10544336197836349,1.4076948529659261,-0.9138687942754058,0.2111116933980099,-0.42235606752361854,0.2679189907173422,0.5080811830371827,-0.8529529166914348,-0.5195609166522553,0.8811768808600744,-0.038377272851005687,1.4782130095657346,0.19355006817445572,1.0508600294180694,0.47121959127528307,-0.1999034912474286,1.7346578774154435,-0.2873035910578778,0.3893424633119317,-2.078545664242502,-0.8266949553779602,1.0827891174777793,1.5546785887935657,-0.4752780928615553,0.002957871234240924,-0.9326126230951465,1.2195596769465835,-0.7956573787575608,2.8696588406462302,-0.25251788733211367,-0.8305892104633876,0.08919573756281855,-0.7044374495911413,0.28848531661875715,-0.3717414926024388,0.8288440550131508,-0.38340128043684973,0.06574562706397219,2.0524525605093,-0.6405528750002505,-0.3340064376926966,1.2219996473694095,0.2194755290359963,2.955198772573274,-0.02685772437217304,0.26146694935304754,-1.0888714908255899,0.5099640075793971,-1.2173602966953139,-0.3036137386756566,0.8471957766098436,1.0297840502997417,1.8537466066157755,-0.7559521685658589,0.2445071826661215,0.7429875949033095,0.4823261097522082],\"type\":\"box\"},{\"boxpoints\":false,\"line\":{\"width\":1.3},\"marker\":{\"color\":\"rgba(128, 0, 128, 1.0)\"},\"name\":\"D\",\"orientation\":\"v\",\"y\":[0.6353847301831402,1.2009423784267994,-1.654844320111015,-0.8635523832067165,0.8436073081690776,0.0010283296707705861,0.7213232234941241,1.2615979277353082,1.4292327016337216,0.027287191889307012,-1.5180573636122134,-1.0131139254746897,0.7948617640038231,-1.408160297894933,-0.5012501529865498,1.5280332963554248,-0.7879092031693243,0.7669901510070474,-1.091735910194253,0.662536340034536,0.550001997833688,-0.3214729696376683,0.008292011859685321,-1.3698158321629847,0.8391122567630139,1.2785094720503718,1.1309681951149693,0.43715762373237255,-0.8719283319074831,0.5232332637202878,-0.9427769729935915,1.749152052334987,-0.7332203655606052,-1.730022600119727,-0.3071717755780072,-0.6574275508278046,-0.11120726606697393,-0.29807283502782583,2.007007347945856,-1.1248393061937714,-0.08331589907942558,-0.9624694892468075,-1.1772773034412958,0.5443833685090267,-2.383209166152728,-0.5654893309716007,0.15432201119291886,0.8195508234542466,0.41835284465192496,-0.10531200162672043,1.0245802846927696,-0.00916744004768294,-0.3619809134335411,1.0455709500178472,1.1226952193325705,-1.243767426208508,-0.1269245788752039,-1.138560695098012,0.012152255094927601,-0.3773469384695606,-0.1271188690590761,0.7691413459651985,0.6395681120462738,0.38786868367917465,0.7814950610131641,-0.003065856032941088,-0.08052791958464772,-0.000862227830624004,-0.14667204540993645,-0.6588016529198943,0.4760288970780797,-0.5010391118114504,-0.9547048325860107,1.4747680524072513,0.4344091007512491,-0.1871813519464555,-0.31693463148729906,0.16707302260475737,-1.3669967745199492,-0.12552365732428736,0.16638159317079995,0.33491507513827795,0.15025043754502934,-0.3472800351808697,1.7591954772545582,-0.29790728038059144,-3.201777800234756,-0.4018680720562205,0.808560116272953,0.37745942884408784,0.9703784233765854,-0.7888595069519375,0.3101314954838077,0.24078793877636165,0.9229850887876242,0.12831890641507618,0.7564594134938638,0.2643149845870508,1.2868130886986313,-1.4659236256700496],\"type\":\"box\"}],                        {\"legend\":{\"bgcolor\":\"#F5F6F9\",\"font\":{\"color\":\"#4D5663\"}},\"paper_bgcolor\":\"#F5F6F9\",\"plot_bgcolor\":\"#F5F6F9\",\"template\":{\"data\":{\"barpolar\":[{\"marker\":{\"line\":{\"color\":\"#E5ECF6\",\"width\":0.5},\"pattern\":{\"fillmode\":\"overlay\",\"size\":10,\"solidity\":0.2}},\"type\":\"barpolar\"}],\"bar\":[{\"error_x\":{\"color\":\"#2a3f5f\"},\"error_y\":{\"color\":\"#2a3f5f\"},\"marker\":{\"line\":{\"color\":\"#E5ECF6\",\"width\":0.5},\"pattern\":{\"fillmode\":\"overlay\",\"size\":10,\"solidity\":0.2}},\"type\":\"bar\"}],\"carpet\":[{\"aaxis\":{\"endlinecolor\":\"#2a3f5f\",\"gridcolor\":\"white\",\"linecolor\":\"white\",\"minorgridcolor\":\"white\",\"startlinecolor\":\"#2a3f5f\"},\"baxis\":{\"endlinecolor\":\"#2a3f5f\",\"gridcolor\":\"white\",\"linecolor\":\"white\",\"minorgridcolor\":\"white\",\"startlinecolor\":\"#2a3f5f\"},\"type\":\"carpet\"}],\"choropleth\":[{\"colorbar\":{\"outlinewidth\":0,\"ticks\":\"\"},\"type\":\"choropleth\"}],\"contourcarpet\":[{\"colorbar\":{\"outlinewidth\":0,\"ticks\":\"\"},\"type\":\"contourcarpet\"}],\"contour\":[{\"colorbar\":{\"outlinewidth\":0,\"ticks\":\"\"},\"colorscale\":[[0.0,\"#0d0887\"],[0.1111111111111111,\"#46039f\"],[0.2222222222222222,\"#7201a8\"],[0.3333333333333333,\"#9c179e\"],[0.4444444444444444,\"#bd3786\"],[0.5555555555555556,\"#d8576b\"],[0.6666666666666666,\"#ed7953\"],[0.7777777777777778,\"#fb9f3a\"],[0.8888888888888888,\"#fdca26\"],[1.0,\"#f0f921\"]],\"type\":\"contour\"}],\"heatmapgl\":[{\"colorbar\":{\"outlinewidth\":0,\"ticks\":\"\"},\"colorscale\":[[0.0,\"#0d0887\"],[0.1111111111111111,\"#46039f\"],[0.2222222222222222,\"#7201a8\"],[0.3333333333333333,\"#9c179e\"],[0.4444444444444444,\"#bd3786\"],[0.5555555555555556,\"#d8576b\"],[0.6666666666666666,\"#ed7953\"],[0.7777777777777778,\"#fb9f3a\"],[0.8888888888888888,\"#fdca26\"],[1.0,\"#f0f921\"]],\"type\":\"heatmapgl\"}],\"heatmap\":[{\"colorbar\":{\"outlinewidth\":0,\"ticks\":\"\"},\"colorscale\":[[0.0,\"#0d0887\"],[0.1111111111111111,\"#46039f\"],[0.2222222222222222,\"#7201a8\"],[0.3333333333333333,\"#9c179e\"],[0.4444444444444444,\"#bd3786\"],[0.5555555555555556,\"#d8576b\"],[0.6666666666666666,\"#ed7953\"],[0.7777777777777778,\"#fb9f3a\"],[0.8888888888888888,\"#fdca26\"],[1.0,\"#f0f921\"]],\"type\":\"heatmap\"}],\"histogram2dcontour\":[{\"colorbar\":{\"outlinewidth\":0,\"ticks\":\"\"},\"colorscale\":[[0.0,\"#0d0887\"],[0.1111111111111111,\"#46039f\"],[0.2222222222222222,\"#7201a8\"],[0.3333333333333333,\"#9c179e\"],[0.4444444444444444,\"#bd3786\"],[0.5555555555555556,\"#d8576b\"],[0.6666666666666666,\"#ed7953\"],[0.7777777777777778,\"#fb9f3a\"],[0.8888888888888888,\"#fdca26\"],[1.0,\"#f0f921\"]],\"type\":\"histogram2dcontour\"}],\"histogram2d\":[{\"colorbar\":{\"outlinewidth\":0,\"ticks\":\"\"},\"colorscale\":[[0.0,\"#0d0887\"],[0.1111111111111111,\"#46039f\"],[0.2222222222222222,\"#7201a8\"],[0.3333333333333333,\"#9c179e\"],[0.4444444444444444,\"#bd3786\"],[0.5555555555555556,\"#d8576b\"],[0.6666666666666666,\"#ed7953\"],[0.7777777777777778,\"#fb9f3a\"],[0.8888888888888888,\"#fdca26\"],[1.0,\"#f0f921\"]],\"type\":\"histogram2d\"}],\"histogram\":[{\"marker\":{\"pattern\":{\"fillmode\":\"overlay\",\"size\":10,\"solidity\":0.2}},\"type\":\"histogram\"}],\"mesh3d\":[{\"colorbar\":{\"outlinewidth\":0,\"ticks\":\"\"},\"type\":\"mesh3d\"}],\"parcoords\":[{\"line\":{\"colorbar\":{\"outlinewidth\":0,\"ticks\":\"\"}},\"type\":\"parcoords\"}],\"pie\":[{\"automargin\":true,\"type\":\"pie\"}],\"scatter3d\":[{\"line\":{\"colorbar\":{\"outlinewidth\":0,\"ticks\":\"\"}},\"marker\":{\"colorbar\":{\"outlinewidth\":0,\"ticks\":\"\"}},\"type\":\"scatter3d\"}],\"scattercarpet\":[{\"marker\":{\"colorbar\":{\"outlinewidth\":0,\"ticks\":\"\"}},\"type\":\"scattercarpet\"}],\"scattergeo\":[{\"marker\":{\"colorbar\":{\"outlinewidth\":0,\"ticks\":\"\"}},\"type\":\"scattergeo\"}],\"scattergl\":[{\"marker\":{\"colorbar\":{\"outlinewidth\":0,\"ticks\":\"\"}},\"type\":\"scattergl\"}],\"scattermapbox\":[{\"marker\":{\"colorbar\":{\"outlinewidth\":0,\"ticks\":\"\"}},\"type\":\"scattermapbox\"}],\"scatterpolargl\":[{\"marker\":{\"colorbar\":{\"outlinewidth\":0,\"ticks\":\"\"}},\"type\":\"scatterpolargl\"}],\"scatterpolar\":[{\"marker\":{\"colorbar\":{\"outlinewidth\":0,\"ticks\":\"\"}},\"type\":\"scatterpolar\"}],\"scatter\":[{\"fillpattern\":{\"fillmode\":\"overlay\",\"size\":10,\"solidity\":0.2},\"type\":\"scatter\"}],\"scatterternary\":[{\"marker\":{\"colorbar\":{\"outlinewidth\":0,\"ticks\":\"\"}},\"type\":\"scatterternary\"}],\"surface\":[{\"colorbar\":{\"outlinewidth\":0,\"ticks\":\"\"},\"colorscale\":[[0.0,\"#0d0887\"],[0.1111111111111111,\"#46039f\"],[0.2222222222222222,\"#7201a8\"],[0.3333333333333333,\"#9c179e\"],[0.4444444444444444,\"#bd3786\"],[0.5555555555555556,\"#d8576b\"],[0.6666666666666666,\"#ed7953\"],[0.7777777777777778,\"#fb9f3a\"],[0.8888888888888888,\"#fdca26\"],[1.0,\"#f0f921\"]],\"type\":\"surface\"}],\"table\":[{\"cells\":{\"fill\":{\"color\":\"#EBF0F8\"},\"line\":{\"color\":\"white\"}},\"header\":{\"fill\":{\"color\":\"#C8D4E3\"},\"line\":{\"color\":\"white\"}},\"type\":\"table\"}]},\"layout\":{\"annotationdefaults\":{\"arrowcolor\":\"#2a3f5f\",\"arrowhead\":0,\"arrowwidth\":1},\"autotypenumbers\":\"strict\",\"coloraxis\":{\"colorbar\":{\"outlinewidth\":0,\"ticks\":\"\"}},\"colorscale\":{\"diverging\":[[0,\"#8e0152\"],[0.1,\"#c51b7d\"],[0.2,\"#de77ae\"],[0.3,\"#f1b6da\"],[0.4,\"#fde0ef\"],[0.5,\"#f7f7f7\"],[0.6,\"#e6f5d0\"],[0.7,\"#b8e186\"],[0.8,\"#7fbc41\"],[0.9,\"#4d9221\"],[1,\"#276419\"]],\"sequential\":[[0.0,\"#0d0887\"],[0.1111111111111111,\"#46039f\"],[0.2222222222222222,\"#7201a8\"],[0.3333333333333333,\"#9c179e\"],[0.4444444444444444,\"#bd3786\"],[0.5555555555555556,\"#d8576b\"],[0.6666666666666666,\"#ed7953\"],[0.7777777777777778,\"#fb9f3a\"],[0.8888888888888888,\"#fdca26\"],[1.0,\"#f0f921\"]],\"sequentialminus\":[[0.0,\"#0d0887\"],[0.1111111111111111,\"#46039f\"],[0.2222222222222222,\"#7201a8\"],[0.3333333333333333,\"#9c179e\"],[0.4444444444444444,\"#bd3786\"],[0.5555555555555556,\"#d8576b\"],[0.6666666666666666,\"#ed7953\"],[0.7777777777777778,\"#fb9f3a\"],[0.8888888888888888,\"#fdca26\"],[1.0,\"#f0f921\"]]},\"colorway\":[\"#636efa\",\"#EF553B\",\"#00cc96\",\"#ab63fa\",\"#FFA15A\",\"#19d3f3\",\"#FF6692\",\"#B6E880\",\"#FF97FF\",\"#FECB52\"],\"font\":{\"color\":\"#2a3f5f\"},\"geo\":{\"bgcolor\":\"white\",\"lakecolor\":\"white\",\"landcolor\":\"#E5ECF6\",\"showlakes\":true,\"showland\":true,\"subunitcolor\":\"white\"},\"hoverlabel\":{\"align\":\"left\"},\"hovermode\":\"closest\",\"mapbox\":{\"style\":\"light\"},\"paper_bgcolor\":\"white\",\"plot_bgcolor\":\"#E5ECF6\",\"polar\":{\"angularaxis\":{\"gridcolor\":\"white\",\"linecolor\":\"white\",\"ticks\":\"\"},\"bgcolor\":\"#E5ECF6\",\"radialaxis\":{\"gridcolor\":\"white\",\"linecolor\":\"white\",\"ticks\":\"\"}},\"scene\":{\"xaxis\":{\"backgroundcolor\":\"#E5ECF6\",\"gridcolor\":\"white\",\"gridwidth\":2,\"linecolor\":\"white\",\"showbackground\":true,\"ticks\":\"\",\"zerolinecolor\":\"white\"},\"yaxis\":{\"backgroundcolor\":\"#E5ECF6\",\"gridcolor\":\"white\",\"gridwidth\":2,\"linecolor\":\"white\",\"showbackground\":true,\"ticks\":\"\",\"zerolinecolor\":\"white\"},\"zaxis\":{\"backgroundcolor\":\"#E5ECF6\",\"gridcolor\":\"white\",\"gridwidth\":2,\"linecolor\":\"white\",\"showbackground\":true,\"ticks\":\"\",\"zerolinecolor\":\"white\"}},\"shapedefaults\":{\"line\":{\"color\":\"#2a3f5f\"}},\"ternary\":{\"aaxis\":{\"gridcolor\":\"white\",\"linecolor\":\"white\",\"ticks\":\"\"},\"baxis\":{\"gridcolor\":\"white\",\"linecolor\":\"white\",\"ticks\":\"\"},\"bgcolor\":\"#E5ECF6\",\"caxis\":{\"gridcolor\":\"white\",\"linecolor\":\"white\",\"ticks\":\"\"}},\"title\":{\"x\":0.05},\"xaxis\":{\"automargin\":true,\"gridcolor\":\"white\",\"linecolor\":\"white\",\"ticks\":\"\",\"title\":{\"standoff\":15},\"zerolinecolor\":\"white\",\"zerolinewidth\":2},\"yaxis\":{\"automargin\":true,\"gridcolor\":\"white\",\"linecolor\":\"white\",\"ticks\":\"\",\"title\":{\"standoff\":15},\"zerolinecolor\":\"white\",\"zerolinewidth\":2}}},\"title\":{\"font\":{\"color\":\"#4D5663\"}},\"xaxis\":{\"gridcolor\":\"#E1E5ED\",\"showgrid\":true,\"tickfont\":{\"color\":\"#4D5663\"},\"title\":{\"font\":{\"color\":\"#4D5663\"},\"text\":\"\"},\"zerolinecolor\":\"#E1E5ED\"},\"yaxis\":{\"gridcolor\":\"#E1E5ED\",\"showgrid\":true,\"tickfont\":{\"color\":\"#4D5663\"},\"title\":{\"font\":{\"color\":\"#4D5663\"},\"text\":\"\"},\"zerolinecolor\":\"#E1E5ED\"}},                        {\"showLink\": true, \"linkText\": \"Export to plot.ly\", \"plotlyServerURL\": \"https://plot.ly\", \"responsive\": true}                    ).then(function(){\n",
       "                            \n",
       "var gd = document.getElementById('0a763d58-4029-454e-9413-a373c3cb885f');\n",
       "var x = new MutationObserver(function (mutations, observer) {{\n",
       "        var display = window.getComputedStyle(gd).display;\n",
       "        if (!display || display === 'none') {{\n",
       "            console.log([gd, 'removed!']);\n",
       "            Plotly.purge(gd);\n",
       "            observer.disconnect();\n",
       "        }}\n",
       "}});\n",
       "\n",
       "// Listen for the removal of the full notebook cells\n",
       "var notebookContainer = gd.closest('#notebook-container');\n",
       "if (notebookContainer) {{\n",
       "    x.observe(notebookContainer, {childList: true});\n",
       "}}\n",
       "\n",
       "// Listen for the clearing of the current output cell\n",
       "var outputEl = gd.closest('.output');\n",
       "if (outputEl) {{\n",
       "    x.observe(outputEl, {childList: true});\n",
       "}}\n",
       "\n",
       "                        })                };                });            </script>        </div>"
      ]
     },
     "metadata": {},
     "output_type": "display_data"
    }
   ],
   "source": [
    "df.iplot(kind='box')"
   ]
  },
  {
   "cell_type": "code",
   "execution_count": 30,
   "id": "5ead79bc",
   "metadata": {},
   "outputs": [],
   "source": [
    "df3=pd.DataFrame({'x':[1,2,3,4,5], 'y':[10,20,30,40,50], 'z':[5,4,3,2,1]})"
   ]
  },
  {
   "cell_type": "code",
   "execution_count": 31,
   "id": "6afc233c",
   "metadata": {},
   "outputs": [
    {
     "data": {
      "text/html": [
       "<div>\n",
       "<style scoped>\n",
       "    .dataframe tbody tr th:only-of-type {\n",
       "        vertical-align: middle;\n",
       "    }\n",
       "\n",
       "    .dataframe tbody tr th {\n",
       "        vertical-align: top;\n",
       "    }\n",
       "\n",
       "    .dataframe thead th {\n",
       "        text-align: right;\n",
       "    }\n",
       "</style>\n",
       "<table border=\"1\" class=\"dataframe\">\n",
       "  <thead>\n",
       "    <tr style=\"text-align: right;\">\n",
       "      <th></th>\n",
       "      <th>x</th>\n",
       "      <th>y</th>\n",
       "      <th>z</th>\n",
       "    </tr>\n",
       "  </thead>\n",
       "  <tbody>\n",
       "    <tr>\n",
       "      <th>0</th>\n",
       "      <td>1</td>\n",
       "      <td>10</td>\n",
       "      <td>5</td>\n",
       "    </tr>\n",
       "    <tr>\n",
       "      <th>1</th>\n",
       "      <td>2</td>\n",
       "      <td>20</td>\n",
       "      <td>4</td>\n",
       "    </tr>\n",
       "    <tr>\n",
       "      <th>2</th>\n",
       "      <td>3</td>\n",
       "      <td>30</td>\n",
       "      <td>3</td>\n",
       "    </tr>\n",
       "    <tr>\n",
       "      <th>3</th>\n",
       "      <td>4</td>\n",
       "      <td>40</td>\n",
       "      <td>2</td>\n",
       "    </tr>\n",
       "    <tr>\n",
       "      <th>4</th>\n",
       "      <td>5</td>\n",
       "      <td>50</td>\n",
       "      <td>1</td>\n",
       "    </tr>\n",
       "  </tbody>\n",
       "</table>\n",
       "</div>"
      ],
      "text/plain": [
       "   x   y  z\n",
       "0  1  10  5\n",
       "1  2  20  4\n",
       "2  3  30  3\n",
       "3  4  40  2\n",
       "4  5  50  1"
      ]
     },
     "execution_count": 31,
     "metadata": {},
     "output_type": "execute_result"
    }
   ],
   "source": [
    "df3"
   ]
  },
  {
   "cell_type": "code",
   "execution_count": 33,
   "id": "235a8777",
   "metadata": {},
   "outputs": [
    {
     "data": {
      "application/vnd.plotly.v1+json": {
       "config": {
        "linkText": "Export to plot.ly",
        "plotlyServerURL": "https://plot.ly",
        "showLink": true
       },
       "data": [
        {
         "colorscale": [
          [
           0,
           "rgb(165,0,38)"
          ],
          [
           0.1,
           "rgb(215,48,39)"
          ],
          [
           0.2,
           "rgb(244,109,67)"
          ],
          [
           0.3,
           "rgb(253,174,97)"
          ],
          [
           0.4,
           "rgb(254,224,144)"
          ],
          [
           0.5,
           "rgb(255,255,191)"
          ],
          [
           0.6,
           "rgb(224,243,248)"
          ],
          [
           0.7,
           "rgb(171,217,233)"
          ],
          [
           0.8,
           "rgb(116,173,209)"
          ],
          [
           0.9,
           "rgb(69,117,180)"
          ],
          [
           1,
           "rgb(49,54,149)"
          ]
         ],
         "type": "surface",
         "x": [
          0,
          1,
          2,
          3,
          4
         ],
         "y": [
          "x",
          "y",
          "z"
         ],
         "z": [
          [
           1,
           2,
           3,
           4,
           5
          ],
          [
           10,
           20,
           30,
           40,
           50
          ],
          [
           5,
           4,
           3,
           2,
           1
          ]
         ]
        }
       ],
       "layout": {
        "legend": {
         "bgcolor": "#F5F6F9",
         "font": {
          "color": "#4D5663"
         }
        },
        "paper_bgcolor": "#F5F6F9",
        "plot_bgcolor": "#F5F6F9",
        "template": {
         "data": {
          "bar": [
           {
            "error_x": {
             "color": "#2a3f5f"
            },
            "error_y": {
             "color": "#2a3f5f"
            },
            "marker": {
             "line": {
              "color": "#E5ECF6",
              "width": 0.5
             },
             "pattern": {
              "fillmode": "overlay",
              "size": 10,
              "solidity": 0.2
             }
            },
            "type": "bar"
           }
          ],
          "barpolar": [
           {
            "marker": {
             "line": {
              "color": "#E5ECF6",
              "width": 0.5
             },
             "pattern": {
              "fillmode": "overlay",
              "size": 10,
              "solidity": 0.2
             }
            },
            "type": "barpolar"
           }
          ],
          "carpet": [
           {
            "aaxis": {
             "endlinecolor": "#2a3f5f",
             "gridcolor": "white",
             "linecolor": "white",
             "minorgridcolor": "white",
             "startlinecolor": "#2a3f5f"
            },
            "baxis": {
             "endlinecolor": "#2a3f5f",
             "gridcolor": "white",
             "linecolor": "white",
             "minorgridcolor": "white",
             "startlinecolor": "#2a3f5f"
            },
            "type": "carpet"
           }
          ],
          "choropleth": [
           {
            "colorbar": {
             "outlinewidth": 0,
             "ticks": ""
            },
            "type": "choropleth"
           }
          ],
          "contour": [
           {
            "colorbar": {
             "outlinewidth": 0,
             "ticks": ""
            },
            "colorscale": [
             [
              0,
              "#0d0887"
             ],
             [
              0.1111111111111111,
              "#46039f"
             ],
             [
              0.2222222222222222,
              "#7201a8"
             ],
             [
              0.3333333333333333,
              "#9c179e"
             ],
             [
              0.4444444444444444,
              "#bd3786"
             ],
             [
              0.5555555555555556,
              "#d8576b"
             ],
             [
              0.6666666666666666,
              "#ed7953"
             ],
             [
              0.7777777777777778,
              "#fb9f3a"
             ],
             [
              0.8888888888888888,
              "#fdca26"
             ],
             [
              1,
              "#f0f921"
             ]
            ],
            "type": "contour"
           }
          ],
          "contourcarpet": [
           {
            "colorbar": {
             "outlinewidth": 0,
             "ticks": ""
            },
            "type": "contourcarpet"
           }
          ],
          "heatmap": [
           {
            "colorbar": {
             "outlinewidth": 0,
             "ticks": ""
            },
            "colorscale": [
             [
              0,
              "#0d0887"
             ],
             [
              0.1111111111111111,
              "#46039f"
             ],
             [
              0.2222222222222222,
              "#7201a8"
             ],
             [
              0.3333333333333333,
              "#9c179e"
             ],
             [
              0.4444444444444444,
              "#bd3786"
             ],
             [
              0.5555555555555556,
              "#d8576b"
             ],
             [
              0.6666666666666666,
              "#ed7953"
             ],
             [
              0.7777777777777778,
              "#fb9f3a"
             ],
             [
              0.8888888888888888,
              "#fdca26"
             ],
             [
              1,
              "#f0f921"
             ]
            ],
            "type": "heatmap"
           }
          ],
          "heatmapgl": [
           {
            "colorbar": {
             "outlinewidth": 0,
             "ticks": ""
            },
            "colorscale": [
             [
              0,
              "#0d0887"
             ],
             [
              0.1111111111111111,
              "#46039f"
             ],
             [
              0.2222222222222222,
              "#7201a8"
             ],
             [
              0.3333333333333333,
              "#9c179e"
             ],
             [
              0.4444444444444444,
              "#bd3786"
             ],
             [
              0.5555555555555556,
              "#d8576b"
             ],
             [
              0.6666666666666666,
              "#ed7953"
             ],
             [
              0.7777777777777778,
              "#fb9f3a"
             ],
             [
              0.8888888888888888,
              "#fdca26"
             ],
             [
              1,
              "#f0f921"
             ]
            ],
            "type": "heatmapgl"
           }
          ],
          "histogram": [
           {
            "marker": {
             "pattern": {
              "fillmode": "overlay",
              "size": 10,
              "solidity": 0.2
             }
            },
            "type": "histogram"
           }
          ],
          "histogram2d": [
           {
            "colorbar": {
             "outlinewidth": 0,
             "ticks": ""
            },
            "colorscale": [
             [
              0,
              "#0d0887"
             ],
             [
              0.1111111111111111,
              "#46039f"
             ],
             [
              0.2222222222222222,
              "#7201a8"
             ],
             [
              0.3333333333333333,
              "#9c179e"
             ],
             [
              0.4444444444444444,
              "#bd3786"
             ],
             [
              0.5555555555555556,
              "#d8576b"
             ],
             [
              0.6666666666666666,
              "#ed7953"
             ],
             [
              0.7777777777777778,
              "#fb9f3a"
             ],
             [
              0.8888888888888888,
              "#fdca26"
             ],
             [
              1,
              "#f0f921"
             ]
            ],
            "type": "histogram2d"
           }
          ],
          "histogram2dcontour": [
           {
            "colorbar": {
             "outlinewidth": 0,
             "ticks": ""
            },
            "colorscale": [
             [
              0,
              "#0d0887"
             ],
             [
              0.1111111111111111,
              "#46039f"
             ],
             [
              0.2222222222222222,
              "#7201a8"
             ],
             [
              0.3333333333333333,
              "#9c179e"
             ],
             [
              0.4444444444444444,
              "#bd3786"
             ],
             [
              0.5555555555555556,
              "#d8576b"
             ],
             [
              0.6666666666666666,
              "#ed7953"
             ],
             [
              0.7777777777777778,
              "#fb9f3a"
             ],
             [
              0.8888888888888888,
              "#fdca26"
             ],
             [
              1,
              "#f0f921"
             ]
            ],
            "type": "histogram2dcontour"
           }
          ],
          "mesh3d": [
           {
            "colorbar": {
             "outlinewidth": 0,
             "ticks": ""
            },
            "type": "mesh3d"
           }
          ],
          "parcoords": [
           {
            "line": {
             "colorbar": {
              "outlinewidth": 0,
              "ticks": ""
             }
            },
            "type": "parcoords"
           }
          ],
          "pie": [
           {
            "automargin": true,
            "type": "pie"
           }
          ],
          "scatter": [
           {
            "fillpattern": {
             "fillmode": "overlay",
             "size": 10,
             "solidity": 0.2
            },
            "type": "scatter"
           }
          ],
          "scatter3d": [
           {
            "line": {
             "colorbar": {
              "outlinewidth": 0,
              "ticks": ""
             }
            },
            "marker": {
             "colorbar": {
              "outlinewidth": 0,
              "ticks": ""
             }
            },
            "type": "scatter3d"
           }
          ],
          "scattercarpet": [
           {
            "marker": {
             "colorbar": {
              "outlinewidth": 0,
              "ticks": ""
             }
            },
            "type": "scattercarpet"
           }
          ],
          "scattergeo": [
           {
            "marker": {
             "colorbar": {
              "outlinewidth": 0,
              "ticks": ""
             }
            },
            "type": "scattergeo"
           }
          ],
          "scattergl": [
           {
            "marker": {
             "colorbar": {
              "outlinewidth": 0,
              "ticks": ""
             }
            },
            "type": "scattergl"
           }
          ],
          "scattermapbox": [
           {
            "marker": {
             "colorbar": {
              "outlinewidth": 0,
              "ticks": ""
             }
            },
            "type": "scattermapbox"
           }
          ],
          "scatterpolar": [
           {
            "marker": {
             "colorbar": {
              "outlinewidth": 0,
              "ticks": ""
             }
            },
            "type": "scatterpolar"
           }
          ],
          "scatterpolargl": [
           {
            "marker": {
             "colorbar": {
              "outlinewidth": 0,
              "ticks": ""
             }
            },
            "type": "scatterpolargl"
           }
          ],
          "scatterternary": [
           {
            "marker": {
             "colorbar": {
              "outlinewidth": 0,
              "ticks": ""
             }
            },
            "type": "scatterternary"
           }
          ],
          "surface": [
           {
            "colorbar": {
             "outlinewidth": 0,
             "ticks": ""
            },
            "colorscale": [
             [
              0,
              "#0d0887"
             ],
             [
              0.1111111111111111,
              "#46039f"
             ],
             [
              0.2222222222222222,
              "#7201a8"
             ],
             [
              0.3333333333333333,
              "#9c179e"
             ],
             [
              0.4444444444444444,
              "#bd3786"
             ],
             [
              0.5555555555555556,
              "#d8576b"
             ],
             [
              0.6666666666666666,
              "#ed7953"
             ],
             [
              0.7777777777777778,
              "#fb9f3a"
             ],
             [
              0.8888888888888888,
              "#fdca26"
             ],
             [
              1,
              "#f0f921"
             ]
            ],
            "type": "surface"
           }
          ],
          "table": [
           {
            "cells": {
             "fill": {
              "color": "#EBF0F8"
             },
             "line": {
              "color": "white"
             }
            },
            "header": {
             "fill": {
              "color": "#C8D4E3"
             },
             "line": {
              "color": "white"
             }
            },
            "type": "table"
           }
          ]
         },
         "layout": {
          "annotationdefaults": {
           "arrowcolor": "#2a3f5f",
           "arrowhead": 0,
           "arrowwidth": 1
          },
          "autotypenumbers": "strict",
          "coloraxis": {
           "colorbar": {
            "outlinewidth": 0,
            "ticks": ""
           }
          },
          "colorscale": {
           "diverging": [
            [
             0,
             "#8e0152"
            ],
            [
             0.1,
             "#c51b7d"
            ],
            [
             0.2,
             "#de77ae"
            ],
            [
             0.3,
             "#f1b6da"
            ],
            [
             0.4,
             "#fde0ef"
            ],
            [
             0.5,
             "#f7f7f7"
            ],
            [
             0.6,
             "#e6f5d0"
            ],
            [
             0.7,
             "#b8e186"
            ],
            [
             0.8,
             "#7fbc41"
            ],
            [
             0.9,
             "#4d9221"
            ],
            [
             1,
             "#276419"
            ]
           ],
           "sequential": [
            [
             0,
             "#0d0887"
            ],
            [
             0.1111111111111111,
             "#46039f"
            ],
            [
             0.2222222222222222,
             "#7201a8"
            ],
            [
             0.3333333333333333,
             "#9c179e"
            ],
            [
             0.4444444444444444,
             "#bd3786"
            ],
            [
             0.5555555555555556,
             "#d8576b"
            ],
            [
             0.6666666666666666,
             "#ed7953"
            ],
            [
             0.7777777777777778,
             "#fb9f3a"
            ],
            [
             0.8888888888888888,
             "#fdca26"
            ],
            [
             1,
             "#f0f921"
            ]
           ],
           "sequentialminus": [
            [
             0,
             "#0d0887"
            ],
            [
             0.1111111111111111,
             "#46039f"
            ],
            [
             0.2222222222222222,
             "#7201a8"
            ],
            [
             0.3333333333333333,
             "#9c179e"
            ],
            [
             0.4444444444444444,
             "#bd3786"
            ],
            [
             0.5555555555555556,
             "#d8576b"
            ],
            [
             0.6666666666666666,
             "#ed7953"
            ],
            [
             0.7777777777777778,
             "#fb9f3a"
            ],
            [
             0.8888888888888888,
             "#fdca26"
            ],
            [
             1,
             "#f0f921"
            ]
           ]
          },
          "colorway": [
           "#636efa",
           "#EF553B",
           "#00cc96",
           "#ab63fa",
           "#FFA15A",
           "#19d3f3",
           "#FF6692",
           "#B6E880",
           "#FF97FF",
           "#FECB52"
          ],
          "font": {
           "color": "#2a3f5f"
          },
          "geo": {
           "bgcolor": "white",
           "lakecolor": "white",
           "landcolor": "#E5ECF6",
           "showlakes": true,
           "showland": true,
           "subunitcolor": "white"
          },
          "hoverlabel": {
           "align": "left"
          },
          "hovermode": "closest",
          "mapbox": {
           "style": "light"
          },
          "paper_bgcolor": "white",
          "plot_bgcolor": "#E5ECF6",
          "polar": {
           "angularaxis": {
            "gridcolor": "white",
            "linecolor": "white",
            "ticks": ""
           },
           "bgcolor": "#E5ECF6",
           "radialaxis": {
            "gridcolor": "white",
            "linecolor": "white",
            "ticks": ""
           }
          },
          "scene": {
           "xaxis": {
            "backgroundcolor": "#E5ECF6",
            "gridcolor": "white",
            "gridwidth": 2,
            "linecolor": "white",
            "showbackground": true,
            "ticks": "",
            "zerolinecolor": "white"
           },
           "yaxis": {
            "backgroundcolor": "#E5ECF6",
            "gridcolor": "white",
            "gridwidth": 2,
            "linecolor": "white",
            "showbackground": true,
            "ticks": "",
            "zerolinecolor": "white"
           },
           "zaxis": {
            "backgroundcolor": "#E5ECF6",
            "gridcolor": "white",
            "gridwidth": 2,
            "linecolor": "white",
            "showbackground": true,
            "ticks": "",
            "zerolinecolor": "white"
           }
          },
          "shapedefaults": {
           "line": {
            "color": "#2a3f5f"
           }
          },
          "ternary": {
           "aaxis": {
            "gridcolor": "white",
            "linecolor": "white",
            "ticks": ""
           },
           "baxis": {
            "gridcolor": "white",
            "linecolor": "white",
            "ticks": ""
           },
           "bgcolor": "#E5ECF6",
           "caxis": {
            "gridcolor": "white",
            "linecolor": "white",
            "ticks": ""
           }
          },
          "title": {
           "x": 0.05
          },
          "xaxis": {
           "automargin": true,
           "gridcolor": "white",
           "linecolor": "white",
           "ticks": "",
           "title": {
            "standoff": 15
           },
           "zerolinecolor": "white",
           "zerolinewidth": 2
          },
          "yaxis": {
           "automargin": true,
           "gridcolor": "white",
           "linecolor": "white",
           "ticks": "",
           "title": {
            "standoff": 15
           },
           "zerolinecolor": "white",
           "zerolinewidth": 2
          }
         }
        },
        "title": {
         "font": {
          "color": "#4D5663"
         }
        },
        "xaxis": {
         "gridcolor": "#E1E5ED",
         "showgrid": true,
         "tickfont": {
          "color": "#4D5663"
         },
         "title": {
          "font": {
           "color": "#4D5663"
          },
          "text": ""
         },
         "zerolinecolor": "#E1E5ED"
        },
        "yaxis": {
         "gridcolor": "#E1E5ED",
         "showgrid": true,
         "tickfont": {
          "color": "#4D5663"
         },
         "title": {
          "font": {
           "color": "#4D5663"
          },
          "text": ""
         },
         "zerolinecolor": "#E1E5ED"
        }
       }
      },
      "text/html": [
       "<div>                            <div id=\"4563f6ae-bbda-455a-8a4d-181c9da14dcd\" class=\"plotly-graph-div\" style=\"height:525px; width:100%;\"></div>            <script type=\"text/javascript\">                require([\"plotly\"], function(Plotly) {                    window.PLOTLYENV=window.PLOTLYENV || {};\n",
       "                    window.PLOTLYENV.BASE_URL='https://plot.ly';                                    if (document.getElementById(\"4563f6ae-bbda-455a-8a4d-181c9da14dcd\")) {                    Plotly.newPlot(                        \"4563f6ae-bbda-455a-8a4d-181c9da14dcd\",                        [{\"colorscale\":[[0.0,\"rgb(165,0,38)\"],[0.1,\"rgb(215,48,39)\"],[0.2,\"rgb(244,109,67)\"],[0.3,\"rgb(253,174,97)\"],[0.4,\"rgb(254,224,144)\"],[0.5,\"rgb(255,255,191)\"],[0.6,\"rgb(224,243,248)\"],[0.7,\"rgb(171,217,233)\"],[0.8,\"rgb(116,173,209)\"],[0.9,\"rgb(69,117,180)\"],[1.0,\"rgb(49,54,149)\"]],\"x\":[0,1,2,3,4],\"y\":[\"x\",\"y\",\"z\"],\"z\":[[1,2,3,4,5],[10,20,30,40,50],[5,4,3,2,1]],\"type\":\"surface\"}],                        {\"legend\":{\"bgcolor\":\"#F5F6F9\",\"font\":{\"color\":\"#4D5663\"}},\"paper_bgcolor\":\"#F5F6F9\",\"plot_bgcolor\":\"#F5F6F9\",\"template\":{\"data\":{\"barpolar\":[{\"marker\":{\"line\":{\"color\":\"#E5ECF6\",\"width\":0.5},\"pattern\":{\"fillmode\":\"overlay\",\"size\":10,\"solidity\":0.2}},\"type\":\"barpolar\"}],\"bar\":[{\"error_x\":{\"color\":\"#2a3f5f\"},\"error_y\":{\"color\":\"#2a3f5f\"},\"marker\":{\"line\":{\"color\":\"#E5ECF6\",\"width\":0.5},\"pattern\":{\"fillmode\":\"overlay\",\"size\":10,\"solidity\":0.2}},\"type\":\"bar\"}],\"carpet\":[{\"aaxis\":{\"endlinecolor\":\"#2a3f5f\",\"gridcolor\":\"white\",\"linecolor\":\"white\",\"minorgridcolor\":\"white\",\"startlinecolor\":\"#2a3f5f\"},\"baxis\":{\"endlinecolor\":\"#2a3f5f\",\"gridcolor\":\"white\",\"linecolor\":\"white\",\"minorgridcolor\":\"white\",\"startlinecolor\":\"#2a3f5f\"},\"type\":\"carpet\"}],\"choropleth\":[{\"colorbar\":{\"outlinewidth\":0,\"ticks\":\"\"},\"type\":\"choropleth\"}],\"contourcarpet\":[{\"colorbar\":{\"outlinewidth\":0,\"ticks\":\"\"},\"type\":\"contourcarpet\"}],\"contour\":[{\"colorbar\":{\"outlinewidth\":0,\"ticks\":\"\"},\"colorscale\":[[0.0,\"#0d0887\"],[0.1111111111111111,\"#46039f\"],[0.2222222222222222,\"#7201a8\"],[0.3333333333333333,\"#9c179e\"],[0.4444444444444444,\"#bd3786\"],[0.5555555555555556,\"#d8576b\"],[0.6666666666666666,\"#ed7953\"],[0.7777777777777778,\"#fb9f3a\"],[0.8888888888888888,\"#fdca26\"],[1.0,\"#f0f921\"]],\"type\":\"contour\"}],\"heatmapgl\":[{\"colorbar\":{\"outlinewidth\":0,\"ticks\":\"\"},\"colorscale\":[[0.0,\"#0d0887\"],[0.1111111111111111,\"#46039f\"],[0.2222222222222222,\"#7201a8\"],[0.3333333333333333,\"#9c179e\"],[0.4444444444444444,\"#bd3786\"],[0.5555555555555556,\"#d8576b\"],[0.6666666666666666,\"#ed7953\"],[0.7777777777777778,\"#fb9f3a\"],[0.8888888888888888,\"#fdca26\"],[1.0,\"#f0f921\"]],\"type\":\"heatmapgl\"}],\"heatmap\":[{\"colorbar\":{\"outlinewidth\":0,\"ticks\":\"\"},\"colorscale\":[[0.0,\"#0d0887\"],[0.1111111111111111,\"#46039f\"],[0.2222222222222222,\"#7201a8\"],[0.3333333333333333,\"#9c179e\"],[0.4444444444444444,\"#bd3786\"],[0.5555555555555556,\"#d8576b\"],[0.6666666666666666,\"#ed7953\"],[0.7777777777777778,\"#fb9f3a\"],[0.8888888888888888,\"#fdca26\"],[1.0,\"#f0f921\"]],\"type\":\"heatmap\"}],\"histogram2dcontour\":[{\"colorbar\":{\"outlinewidth\":0,\"ticks\":\"\"},\"colorscale\":[[0.0,\"#0d0887\"],[0.1111111111111111,\"#46039f\"],[0.2222222222222222,\"#7201a8\"],[0.3333333333333333,\"#9c179e\"],[0.4444444444444444,\"#bd3786\"],[0.5555555555555556,\"#d8576b\"],[0.6666666666666666,\"#ed7953\"],[0.7777777777777778,\"#fb9f3a\"],[0.8888888888888888,\"#fdca26\"],[1.0,\"#f0f921\"]],\"type\":\"histogram2dcontour\"}],\"histogram2d\":[{\"colorbar\":{\"outlinewidth\":0,\"ticks\":\"\"},\"colorscale\":[[0.0,\"#0d0887\"],[0.1111111111111111,\"#46039f\"],[0.2222222222222222,\"#7201a8\"],[0.3333333333333333,\"#9c179e\"],[0.4444444444444444,\"#bd3786\"],[0.5555555555555556,\"#d8576b\"],[0.6666666666666666,\"#ed7953\"],[0.7777777777777778,\"#fb9f3a\"],[0.8888888888888888,\"#fdca26\"],[1.0,\"#f0f921\"]],\"type\":\"histogram2d\"}],\"histogram\":[{\"marker\":{\"pattern\":{\"fillmode\":\"overlay\",\"size\":10,\"solidity\":0.2}},\"type\":\"histogram\"}],\"mesh3d\":[{\"colorbar\":{\"outlinewidth\":0,\"ticks\":\"\"},\"type\":\"mesh3d\"}],\"parcoords\":[{\"line\":{\"colorbar\":{\"outlinewidth\":0,\"ticks\":\"\"}},\"type\":\"parcoords\"}],\"pie\":[{\"automargin\":true,\"type\":\"pie\"}],\"scatter3d\":[{\"line\":{\"colorbar\":{\"outlinewidth\":0,\"ticks\":\"\"}},\"marker\":{\"colorbar\":{\"outlinewidth\":0,\"ticks\":\"\"}},\"type\":\"scatter3d\"}],\"scattercarpet\":[{\"marker\":{\"colorbar\":{\"outlinewidth\":0,\"ticks\":\"\"}},\"type\":\"scattercarpet\"}],\"scattergeo\":[{\"marker\":{\"colorbar\":{\"outlinewidth\":0,\"ticks\":\"\"}},\"type\":\"scattergeo\"}],\"scattergl\":[{\"marker\":{\"colorbar\":{\"outlinewidth\":0,\"ticks\":\"\"}},\"type\":\"scattergl\"}],\"scattermapbox\":[{\"marker\":{\"colorbar\":{\"outlinewidth\":0,\"ticks\":\"\"}},\"type\":\"scattermapbox\"}],\"scatterpolargl\":[{\"marker\":{\"colorbar\":{\"outlinewidth\":0,\"ticks\":\"\"}},\"type\":\"scatterpolargl\"}],\"scatterpolar\":[{\"marker\":{\"colorbar\":{\"outlinewidth\":0,\"ticks\":\"\"}},\"type\":\"scatterpolar\"}],\"scatter\":[{\"fillpattern\":{\"fillmode\":\"overlay\",\"size\":10,\"solidity\":0.2},\"type\":\"scatter\"}],\"scatterternary\":[{\"marker\":{\"colorbar\":{\"outlinewidth\":0,\"ticks\":\"\"}},\"type\":\"scatterternary\"}],\"surface\":[{\"colorbar\":{\"outlinewidth\":0,\"ticks\":\"\"},\"colorscale\":[[0.0,\"#0d0887\"],[0.1111111111111111,\"#46039f\"],[0.2222222222222222,\"#7201a8\"],[0.3333333333333333,\"#9c179e\"],[0.4444444444444444,\"#bd3786\"],[0.5555555555555556,\"#d8576b\"],[0.6666666666666666,\"#ed7953\"],[0.7777777777777778,\"#fb9f3a\"],[0.8888888888888888,\"#fdca26\"],[1.0,\"#f0f921\"]],\"type\":\"surface\"}],\"table\":[{\"cells\":{\"fill\":{\"color\":\"#EBF0F8\"},\"line\":{\"color\":\"white\"}},\"header\":{\"fill\":{\"color\":\"#C8D4E3\"},\"line\":{\"color\":\"white\"}},\"type\":\"table\"}]},\"layout\":{\"annotationdefaults\":{\"arrowcolor\":\"#2a3f5f\",\"arrowhead\":0,\"arrowwidth\":1},\"autotypenumbers\":\"strict\",\"coloraxis\":{\"colorbar\":{\"outlinewidth\":0,\"ticks\":\"\"}},\"colorscale\":{\"diverging\":[[0,\"#8e0152\"],[0.1,\"#c51b7d\"],[0.2,\"#de77ae\"],[0.3,\"#f1b6da\"],[0.4,\"#fde0ef\"],[0.5,\"#f7f7f7\"],[0.6,\"#e6f5d0\"],[0.7,\"#b8e186\"],[0.8,\"#7fbc41\"],[0.9,\"#4d9221\"],[1,\"#276419\"]],\"sequential\":[[0.0,\"#0d0887\"],[0.1111111111111111,\"#46039f\"],[0.2222222222222222,\"#7201a8\"],[0.3333333333333333,\"#9c179e\"],[0.4444444444444444,\"#bd3786\"],[0.5555555555555556,\"#d8576b\"],[0.6666666666666666,\"#ed7953\"],[0.7777777777777778,\"#fb9f3a\"],[0.8888888888888888,\"#fdca26\"],[1.0,\"#f0f921\"]],\"sequentialminus\":[[0.0,\"#0d0887\"],[0.1111111111111111,\"#46039f\"],[0.2222222222222222,\"#7201a8\"],[0.3333333333333333,\"#9c179e\"],[0.4444444444444444,\"#bd3786\"],[0.5555555555555556,\"#d8576b\"],[0.6666666666666666,\"#ed7953\"],[0.7777777777777778,\"#fb9f3a\"],[0.8888888888888888,\"#fdca26\"],[1.0,\"#f0f921\"]]},\"colorway\":[\"#636efa\",\"#EF553B\",\"#00cc96\",\"#ab63fa\",\"#FFA15A\",\"#19d3f3\",\"#FF6692\",\"#B6E880\",\"#FF97FF\",\"#FECB52\"],\"font\":{\"color\":\"#2a3f5f\"},\"geo\":{\"bgcolor\":\"white\",\"lakecolor\":\"white\",\"landcolor\":\"#E5ECF6\",\"showlakes\":true,\"showland\":true,\"subunitcolor\":\"white\"},\"hoverlabel\":{\"align\":\"left\"},\"hovermode\":\"closest\",\"mapbox\":{\"style\":\"light\"},\"paper_bgcolor\":\"white\",\"plot_bgcolor\":\"#E5ECF6\",\"polar\":{\"angularaxis\":{\"gridcolor\":\"white\",\"linecolor\":\"white\",\"ticks\":\"\"},\"bgcolor\":\"#E5ECF6\",\"radialaxis\":{\"gridcolor\":\"white\",\"linecolor\":\"white\",\"ticks\":\"\"}},\"scene\":{\"xaxis\":{\"backgroundcolor\":\"#E5ECF6\",\"gridcolor\":\"white\",\"gridwidth\":2,\"linecolor\":\"white\",\"showbackground\":true,\"ticks\":\"\",\"zerolinecolor\":\"white\"},\"yaxis\":{\"backgroundcolor\":\"#E5ECF6\",\"gridcolor\":\"white\",\"gridwidth\":2,\"linecolor\":\"white\",\"showbackground\":true,\"ticks\":\"\",\"zerolinecolor\":\"white\"},\"zaxis\":{\"backgroundcolor\":\"#E5ECF6\",\"gridcolor\":\"white\",\"gridwidth\":2,\"linecolor\":\"white\",\"showbackground\":true,\"ticks\":\"\",\"zerolinecolor\":\"white\"}},\"shapedefaults\":{\"line\":{\"color\":\"#2a3f5f\"}},\"ternary\":{\"aaxis\":{\"gridcolor\":\"white\",\"linecolor\":\"white\",\"ticks\":\"\"},\"baxis\":{\"gridcolor\":\"white\",\"linecolor\":\"white\",\"ticks\":\"\"},\"bgcolor\":\"#E5ECF6\",\"caxis\":{\"gridcolor\":\"white\",\"linecolor\":\"white\",\"ticks\":\"\"}},\"title\":{\"x\":0.05},\"xaxis\":{\"automargin\":true,\"gridcolor\":\"white\",\"linecolor\":\"white\",\"ticks\":\"\",\"title\":{\"standoff\":15},\"zerolinecolor\":\"white\",\"zerolinewidth\":2},\"yaxis\":{\"automargin\":true,\"gridcolor\":\"white\",\"linecolor\":\"white\",\"ticks\":\"\",\"title\":{\"standoff\":15},\"zerolinecolor\":\"white\",\"zerolinewidth\":2}}},\"title\":{\"font\":{\"color\":\"#4D5663\"}},\"xaxis\":{\"gridcolor\":\"#E1E5ED\",\"showgrid\":true,\"tickfont\":{\"color\":\"#4D5663\"},\"title\":{\"font\":{\"color\":\"#4D5663\"},\"text\":\"\"},\"zerolinecolor\":\"#E1E5ED\"},\"yaxis\":{\"gridcolor\":\"#E1E5ED\",\"showgrid\":true,\"tickfont\":{\"color\":\"#4D5663\"},\"title\":{\"font\":{\"color\":\"#4D5663\"},\"text\":\"\"},\"zerolinecolor\":\"#E1E5ED\"}},                        {\"showLink\": true, \"linkText\": \"Export to plot.ly\", \"plotlyServerURL\": \"https://plot.ly\", \"responsive\": true}                    ).then(function(){\n",
       "                            \n",
       "var gd = document.getElementById('4563f6ae-bbda-455a-8a4d-181c9da14dcd');\n",
       "var x = new MutationObserver(function (mutations, observer) {{\n",
       "        var display = window.getComputedStyle(gd).display;\n",
       "        if (!display || display === 'none') {{\n",
       "            console.log([gd, 'removed!']);\n",
       "            Plotly.purge(gd);\n",
       "            observer.disconnect();\n",
       "        }}\n",
       "}});\n",
       "\n",
       "// Listen for the removal of the full notebook cells\n",
       "var notebookContainer = gd.closest('#notebook-container');\n",
       "if (notebookContainer) {{\n",
       "    x.observe(notebookContainer, {childList: true});\n",
       "}}\n",
       "\n",
       "// Listen for the clearing of the current output cell\n",
       "var outputEl = gd.closest('.output');\n",
       "if (outputEl) {{\n",
       "    x.observe(outputEl, {childList: true});\n",
       "}}\n",
       "\n",
       "                        })                };                });            </script>        </div>"
      ]
     },
     "metadata": {},
     "output_type": "display_data"
    }
   ],
   "source": [
    "df3.iplot(kind='surface',colorscale='rdylbu')"
   ]
  },
  {
   "cell_type": "code",
   "execution_count": 35,
   "id": "d01a0746",
   "metadata": {},
   "outputs": [
    {
     "data": {
      "application/vnd.plotly.v1+json": {
       "config": {
        "linkText": "Export to plot.ly",
        "plotlyServerURL": "https://plot.ly",
        "showLink": true
       },
       "data": [
        {
         "histfunc": "count",
         "histnorm": "",
         "marker": {
          "color": "rgba(255, 153, 51, 1.0)",
          "line": {
           "color": "#4D5663",
           "width": 1.3
          }
         },
         "name": "A",
         "nbinsx": 20,
         "opacity": 0.8,
         "orientation": "v",
         "type": "histogram",
         "x": [
          -0.5460778957347936,
          1.3014510422065746,
          0.26814934478756514,
          -0.3618191044714592,
          -0.7369237834399675,
          3.232474390779266,
          0.4502317191922599,
          0.29996219651162587,
          0.1722537891268259,
          -0.6669176939726003,
          1.1578674537274418,
          -1.476432366982033,
          -0.5472396471244979,
          -1.2937811853587022,
          -0.9013967416102897,
          0.8853025381342631,
          -1.1366898385165811,
          -2.6962483782363815,
          -1.6788450175371639,
          0.3546081661265342,
          0.7442380110818622,
          0.5619392224263491,
          0.6065249503129646,
          0.04089407242636777,
          -1.3342789853786823,
          -0.9369940551036597,
          0.10034758564092557,
          0.8075163635955258,
          0.38351490019648027,
          -0.3324193008656376,
          0.2797743330160391,
          -0.0026682896222340285,
          1.5101952298787567,
          0.8875873921209985,
          1.1495772264048136,
          -0.2464421692232896,
          1.8616344700460064,
          -0.2713449451449245,
          -1.8734698359308377,
          -0.4375931728140298,
          0.782786598083783,
          1.1427488896160929,
          -1.7014930434140594,
          0.7267623595379041,
          -0.007002364510007742,
          0.17509129779533658,
          -0.4781056073352823,
          0.5832965159892182,
          -0.6331491917976095,
          -0.3161961767682029,
          -2.3572250533205223,
          1.3512672934632202,
          0.05341203365733753,
          0.7670034141178904,
          0.18073432373892828,
          -0.7672344771558023,
          0.20558654605709664,
          -0.5544513388284268,
          1.5287039845218173,
          -1.1332355093479762,
          -1.4748315025375673,
          -1.1462469684745658,
          -1.052650035154753,
          -0.3907382513473276,
          -1.627183772248113,
          -0.3783231268569761,
          -0.1597912113636773,
          -1.3535219949676072,
          -0.23935950379079585,
          1.0159738780171244,
          -0.576711046906184,
          -0.7274673897933394,
          -1.4907578857702473,
          -0.7921446366064933,
          -0.08994575562284873,
          0.930250935265208,
          -1.3191164860374893,
          -1.3857346608655399,
          1.6340683152012712,
          1.170193417939178,
          -1.9931400227970575,
          -0.13615296286206194,
          0.0648707514248098,
          -0.5025897956063995,
          -1.845513405796715,
          -0.9477950010886944,
          0.2791081770738883,
          -0.9684113216516099,
          0.8229249871332075,
          0.4314515011373696,
          0.14872909873619033,
          0.2138849867192027,
          -1.2573571642428092,
          1.9379795654275749,
          -0.375126110803408,
          0.8139291956018956,
          0.37433213952728006,
          0.8346004863771042,
          -0.5062703709980042,
          0.6998141405879368
         ]
        }
       ],
       "layout": {
        "barmode": "overlay",
        "legend": {
         "bgcolor": "#F5F6F9",
         "font": {
          "color": "#4D5663"
         }
        },
        "paper_bgcolor": "#F5F6F9",
        "plot_bgcolor": "#F5F6F9",
        "template": {
         "data": {
          "bar": [
           {
            "error_x": {
             "color": "#2a3f5f"
            },
            "error_y": {
             "color": "#2a3f5f"
            },
            "marker": {
             "line": {
              "color": "#E5ECF6",
              "width": 0.5
             },
             "pattern": {
              "fillmode": "overlay",
              "size": 10,
              "solidity": 0.2
             }
            },
            "type": "bar"
           }
          ],
          "barpolar": [
           {
            "marker": {
             "line": {
              "color": "#E5ECF6",
              "width": 0.5
             },
             "pattern": {
              "fillmode": "overlay",
              "size": 10,
              "solidity": 0.2
             }
            },
            "type": "barpolar"
           }
          ],
          "carpet": [
           {
            "aaxis": {
             "endlinecolor": "#2a3f5f",
             "gridcolor": "white",
             "linecolor": "white",
             "minorgridcolor": "white",
             "startlinecolor": "#2a3f5f"
            },
            "baxis": {
             "endlinecolor": "#2a3f5f",
             "gridcolor": "white",
             "linecolor": "white",
             "minorgridcolor": "white",
             "startlinecolor": "#2a3f5f"
            },
            "type": "carpet"
           }
          ],
          "choropleth": [
           {
            "colorbar": {
             "outlinewidth": 0,
             "ticks": ""
            },
            "type": "choropleth"
           }
          ],
          "contour": [
           {
            "colorbar": {
             "outlinewidth": 0,
             "ticks": ""
            },
            "colorscale": [
             [
              0,
              "#0d0887"
             ],
             [
              0.1111111111111111,
              "#46039f"
             ],
             [
              0.2222222222222222,
              "#7201a8"
             ],
             [
              0.3333333333333333,
              "#9c179e"
             ],
             [
              0.4444444444444444,
              "#bd3786"
             ],
             [
              0.5555555555555556,
              "#d8576b"
             ],
             [
              0.6666666666666666,
              "#ed7953"
             ],
             [
              0.7777777777777778,
              "#fb9f3a"
             ],
             [
              0.8888888888888888,
              "#fdca26"
             ],
             [
              1,
              "#f0f921"
             ]
            ],
            "type": "contour"
           }
          ],
          "contourcarpet": [
           {
            "colorbar": {
             "outlinewidth": 0,
             "ticks": ""
            },
            "type": "contourcarpet"
           }
          ],
          "heatmap": [
           {
            "colorbar": {
             "outlinewidth": 0,
             "ticks": ""
            },
            "colorscale": [
             [
              0,
              "#0d0887"
             ],
             [
              0.1111111111111111,
              "#46039f"
             ],
             [
              0.2222222222222222,
              "#7201a8"
             ],
             [
              0.3333333333333333,
              "#9c179e"
             ],
             [
              0.4444444444444444,
              "#bd3786"
             ],
             [
              0.5555555555555556,
              "#d8576b"
             ],
             [
              0.6666666666666666,
              "#ed7953"
             ],
             [
              0.7777777777777778,
              "#fb9f3a"
             ],
             [
              0.8888888888888888,
              "#fdca26"
             ],
             [
              1,
              "#f0f921"
             ]
            ],
            "type": "heatmap"
           }
          ],
          "heatmapgl": [
           {
            "colorbar": {
             "outlinewidth": 0,
             "ticks": ""
            },
            "colorscale": [
             [
              0,
              "#0d0887"
             ],
             [
              0.1111111111111111,
              "#46039f"
             ],
             [
              0.2222222222222222,
              "#7201a8"
             ],
             [
              0.3333333333333333,
              "#9c179e"
             ],
             [
              0.4444444444444444,
              "#bd3786"
             ],
             [
              0.5555555555555556,
              "#d8576b"
             ],
             [
              0.6666666666666666,
              "#ed7953"
             ],
             [
              0.7777777777777778,
              "#fb9f3a"
             ],
             [
              0.8888888888888888,
              "#fdca26"
             ],
             [
              1,
              "#f0f921"
             ]
            ],
            "type": "heatmapgl"
           }
          ],
          "histogram": [
           {
            "marker": {
             "pattern": {
              "fillmode": "overlay",
              "size": 10,
              "solidity": 0.2
             }
            },
            "type": "histogram"
           }
          ],
          "histogram2d": [
           {
            "colorbar": {
             "outlinewidth": 0,
             "ticks": ""
            },
            "colorscale": [
             [
              0,
              "#0d0887"
             ],
             [
              0.1111111111111111,
              "#46039f"
             ],
             [
              0.2222222222222222,
              "#7201a8"
             ],
             [
              0.3333333333333333,
              "#9c179e"
             ],
             [
              0.4444444444444444,
              "#bd3786"
             ],
             [
              0.5555555555555556,
              "#d8576b"
             ],
             [
              0.6666666666666666,
              "#ed7953"
             ],
             [
              0.7777777777777778,
              "#fb9f3a"
             ],
             [
              0.8888888888888888,
              "#fdca26"
             ],
             [
              1,
              "#f0f921"
             ]
            ],
            "type": "histogram2d"
           }
          ],
          "histogram2dcontour": [
           {
            "colorbar": {
             "outlinewidth": 0,
             "ticks": ""
            },
            "colorscale": [
             [
              0,
              "#0d0887"
             ],
             [
              0.1111111111111111,
              "#46039f"
             ],
             [
              0.2222222222222222,
              "#7201a8"
             ],
             [
              0.3333333333333333,
              "#9c179e"
             ],
             [
              0.4444444444444444,
              "#bd3786"
             ],
             [
              0.5555555555555556,
              "#d8576b"
             ],
             [
              0.6666666666666666,
              "#ed7953"
             ],
             [
              0.7777777777777778,
              "#fb9f3a"
             ],
             [
              0.8888888888888888,
              "#fdca26"
             ],
             [
              1,
              "#f0f921"
             ]
            ],
            "type": "histogram2dcontour"
           }
          ],
          "mesh3d": [
           {
            "colorbar": {
             "outlinewidth": 0,
             "ticks": ""
            },
            "type": "mesh3d"
           }
          ],
          "parcoords": [
           {
            "line": {
             "colorbar": {
              "outlinewidth": 0,
              "ticks": ""
             }
            },
            "type": "parcoords"
           }
          ],
          "pie": [
           {
            "automargin": true,
            "type": "pie"
           }
          ],
          "scatter": [
           {
            "fillpattern": {
             "fillmode": "overlay",
             "size": 10,
             "solidity": 0.2
            },
            "type": "scatter"
           }
          ],
          "scatter3d": [
           {
            "line": {
             "colorbar": {
              "outlinewidth": 0,
              "ticks": ""
             }
            },
            "marker": {
             "colorbar": {
              "outlinewidth": 0,
              "ticks": ""
             }
            },
            "type": "scatter3d"
           }
          ],
          "scattercarpet": [
           {
            "marker": {
             "colorbar": {
              "outlinewidth": 0,
              "ticks": ""
             }
            },
            "type": "scattercarpet"
           }
          ],
          "scattergeo": [
           {
            "marker": {
             "colorbar": {
              "outlinewidth": 0,
              "ticks": ""
             }
            },
            "type": "scattergeo"
           }
          ],
          "scattergl": [
           {
            "marker": {
             "colorbar": {
              "outlinewidth": 0,
              "ticks": ""
             }
            },
            "type": "scattergl"
           }
          ],
          "scattermapbox": [
           {
            "marker": {
             "colorbar": {
              "outlinewidth": 0,
              "ticks": ""
             }
            },
            "type": "scattermapbox"
           }
          ],
          "scatterpolar": [
           {
            "marker": {
             "colorbar": {
              "outlinewidth": 0,
              "ticks": ""
             }
            },
            "type": "scatterpolar"
           }
          ],
          "scatterpolargl": [
           {
            "marker": {
             "colorbar": {
              "outlinewidth": 0,
              "ticks": ""
             }
            },
            "type": "scatterpolargl"
           }
          ],
          "scatterternary": [
           {
            "marker": {
             "colorbar": {
              "outlinewidth": 0,
              "ticks": ""
             }
            },
            "type": "scatterternary"
           }
          ],
          "surface": [
           {
            "colorbar": {
             "outlinewidth": 0,
             "ticks": ""
            },
            "colorscale": [
             [
              0,
              "#0d0887"
             ],
             [
              0.1111111111111111,
              "#46039f"
             ],
             [
              0.2222222222222222,
              "#7201a8"
             ],
             [
              0.3333333333333333,
              "#9c179e"
             ],
             [
              0.4444444444444444,
              "#bd3786"
             ],
             [
              0.5555555555555556,
              "#d8576b"
             ],
             [
              0.6666666666666666,
              "#ed7953"
             ],
             [
              0.7777777777777778,
              "#fb9f3a"
             ],
             [
              0.8888888888888888,
              "#fdca26"
             ],
             [
              1,
              "#f0f921"
             ]
            ],
            "type": "surface"
           }
          ],
          "table": [
           {
            "cells": {
             "fill": {
              "color": "#EBF0F8"
             },
             "line": {
              "color": "white"
             }
            },
            "header": {
             "fill": {
              "color": "#C8D4E3"
             },
             "line": {
              "color": "white"
             }
            },
            "type": "table"
           }
          ]
         },
         "layout": {
          "annotationdefaults": {
           "arrowcolor": "#2a3f5f",
           "arrowhead": 0,
           "arrowwidth": 1
          },
          "autotypenumbers": "strict",
          "coloraxis": {
           "colorbar": {
            "outlinewidth": 0,
            "ticks": ""
           }
          },
          "colorscale": {
           "diverging": [
            [
             0,
             "#8e0152"
            ],
            [
             0.1,
             "#c51b7d"
            ],
            [
             0.2,
             "#de77ae"
            ],
            [
             0.3,
             "#f1b6da"
            ],
            [
             0.4,
             "#fde0ef"
            ],
            [
             0.5,
             "#f7f7f7"
            ],
            [
             0.6,
             "#e6f5d0"
            ],
            [
             0.7,
             "#b8e186"
            ],
            [
             0.8,
             "#7fbc41"
            ],
            [
             0.9,
             "#4d9221"
            ],
            [
             1,
             "#276419"
            ]
           ],
           "sequential": [
            [
             0,
             "#0d0887"
            ],
            [
             0.1111111111111111,
             "#46039f"
            ],
            [
             0.2222222222222222,
             "#7201a8"
            ],
            [
             0.3333333333333333,
             "#9c179e"
            ],
            [
             0.4444444444444444,
             "#bd3786"
            ],
            [
             0.5555555555555556,
             "#d8576b"
            ],
            [
             0.6666666666666666,
             "#ed7953"
            ],
            [
             0.7777777777777778,
             "#fb9f3a"
            ],
            [
             0.8888888888888888,
             "#fdca26"
            ],
            [
             1,
             "#f0f921"
            ]
           ],
           "sequentialminus": [
            [
             0,
             "#0d0887"
            ],
            [
             0.1111111111111111,
             "#46039f"
            ],
            [
             0.2222222222222222,
             "#7201a8"
            ],
            [
             0.3333333333333333,
             "#9c179e"
            ],
            [
             0.4444444444444444,
             "#bd3786"
            ],
            [
             0.5555555555555556,
             "#d8576b"
            ],
            [
             0.6666666666666666,
             "#ed7953"
            ],
            [
             0.7777777777777778,
             "#fb9f3a"
            ],
            [
             0.8888888888888888,
             "#fdca26"
            ],
            [
             1,
             "#f0f921"
            ]
           ]
          },
          "colorway": [
           "#636efa",
           "#EF553B",
           "#00cc96",
           "#ab63fa",
           "#FFA15A",
           "#19d3f3",
           "#FF6692",
           "#B6E880",
           "#FF97FF",
           "#FECB52"
          ],
          "font": {
           "color": "#2a3f5f"
          },
          "geo": {
           "bgcolor": "white",
           "lakecolor": "white",
           "landcolor": "#E5ECF6",
           "showlakes": true,
           "showland": true,
           "subunitcolor": "white"
          },
          "hoverlabel": {
           "align": "left"
          },
          "hovermode": "closest",
          "mapbox": {
           "style": "light"
          },
          "paper_bgcolor": "white",
          "plot_bgcolor": "#E5ECF6",
          "polar": {
           "angularaxis": {
            "gridcolor": "white",
            "linecolor": "white",
            "ticks": ""
           },
           "bgcolor": "#E5ECF6",
           "radialaxis": {
            "gridcolor": "white",
            "linecolor": "white",
            "ticks": ""
           }
          },
          "scene": {
           "xaxis": {
            "backgroundcolor": "#E5ECF6",
            "gridcolor": "white",
            "gridwidth": 2,
            "linecolor": "white",
            "showbackground": true,
            "ticks": "",
            "zerolinecolor": "white"
           },
           "yaxis": {
            "backgroundcolor": "#E5ECF6",
            "gridcolor": "white",
            "gridwidth": 2,
            "linecolor": "white",
            "showbackground": true,
            "ticks": "",
            "zerolinecolor": "white"
           },
           "zaxis": {
            "backgroundcolor": "#E5ECF6",
            "gridcolor": "white",
            "gridwidth": 2,
            "linecolor": "white",
            "showbackground": true,
            "ticks": "",
            "zerolinecolor": "white"
           }
          },
          "shapedefaults": {
           "line": {
            "color": "#2a3f5f"
           }
          },
          "ternary": {
           "aaxis": {
            "gridcolor": "white",
            "linecolor": "white",
            "ticks": ""
           },
           "baxis": {
            "gridcolor": "white",
            "linecolor": "white",
            "ticks": ""
           },
           "bgcolor": "#E5ECF6",
           "caxis": {
            "gridcolor": "white",
            "linecolor": "white",
            "ticks": ""
           }
          },
          "title": {
           "x": 0.05
          },
          "xaxis": {
           "automargin": true,
           "gridcolor": "white",
           "linecolor": "white",
           "ticks": "",
           "title": {
            "standoff": 15
           },
           "zerolinecolor": "white",
           "zerolinewidth": 2
          },
          "yaxis": {
           "automargin": true,
           "gridcolor": "white",
           "linecolor": "white",
           "ticks": "",
           "title": {
            "standoff": 15
           },
           "zerolinecolor": "white",
           "zerolinewidth": 2
          }
         }
        },
        "title": {
         "font": {
          "color": "#4D5663"
         }
        },
        "xaxis": {
         "gridcolor": "#E1E5ED",
         "showgrid": true,
         "tickfont": {
          "color": "#4D5663"
         },
         "title": {
          "font": {
           "color": "#4D5663"
          },
          "text": ""
         },
         "zerolinecolor": "#E1E5ED"
        },
        "yaxis": {
         "gridcolor": "#E1E5ED",
         "showgrid": true,
         "tickfont": {
          "color": "#4D5663"
         },
         "title": {
          "font": {
           "color": "#4D5663"
          },
          "text": ""
         },
         "zerolinecolor": "#E1E5ED"
        }
       }
      },
      "text/html": [
       "<div>                            <div id=\"cb25e243-dabe-4a92-9561-874a3d017b07\" class=\"plotly-graph-div\" style=\"height:525px; width:100%;\"></div>            <script type=\"text/javascript\">                require([\"plotly\"], function(Plotly) {                    window.PLOTLYENV=window.PLOTLYENV || {};\n",
       "                    window.PLOTLYENV.BASE_URL='https://plot.ly';                                    if (document.getElementById(\"cb25e243-dabe-4a92-9561-874a3d017b07\")) {                    Plotly.newPlot(                        \"cb25e243-dabe-4a92-9561-874a3d017b07\",                        [{\"histfunc\":\"count\",\"histnorm\":\"\",\"marker\":{\"color\":\"rgba(255, 153, 51, 1.0)\",\"line\":{\"color\":\"#4D5663\",\"width\":1.3}},\"name\":\"A\",\"nbinsx\":20,\"opacity\":0.8,\"orientation\":\"v\",\"x\":[-0.5460778957347936,1.3014510422065746,0.26814934478756514,-0.3618191044714592,-0.7369237834399675,3.232474390779266,0.4502317191922599,0.29996219651162587,0.1722537891268259,-0.6669176939726003,1.1578674537274418,-1.476432366982033,-0.5472396471244979,-1.2937811853587022,-0.9013967416102897,0.8853025381342631,-1.1366898385165811,-2.6962483782363815,-1.6788450175371639,0.3546081661265342,0.7442380110818622,0.5619392224263491,0.6065249503129646,0.04089407242636777,-1.3342789853786823,-0.9369940551036597,0.10034758564092557,0.8075163635955258,0.38351490019648027,-0.3324193008656376,0.2797743330160391,-0.0026682896222340285,1.5101952298787567,0.8875873921209985,1.1495772264048136,-0.2464421692232896,1.8616344700460064,-0.2713449451449245,-1.8734698359308377,-0.4375931728140298,0.782786598083783,1.1427488896160929,-1.7014930434140594,0.7267623595379041,-0.007002364510007742,0.17509129779533658,-0.4781056073352823,0.5832965159892182,-0.6331491917976095,-0.3161961767682029,-2.3572250533205223,1.3512672934632202,0.05341203365733753,0.7670034141178904,0.18073432373892828,-0.7672344771558023,0.20558654605709664,-0.5544513388284268,1.5287039845218173,-1.1332355093479762,-1.4748315025375673,-1.1462469684745658,-1.052650035154753,-0.3907382513473276,-1.627183772248113,-0.3783231268569761,-0.1597912113636773,-1.3535219949676072,-0.23935950379079585,1.0159738780171244,-0.576711046906184,-0.7274673897933394,-1.4907578857702473,-0.7921446366064933,-0.08994575562284873,0.930250935265208,-1.3191164860374893,-1.3857346608655399,1.6340683152012712,1.170193417939178,-1.9931400227970575,-0.13615296286206194,0.0648707514248098,-0.5025897956063995,-1.845513405796715,-0.9477950010886944,0.2791081770738883,-0.9684113216516099,0.8229249871332075,0.4314515011373696,0.14872909873619033,0.2138849867192027,-1.2573571642428092,1.9379795654275749,-0.375126110803408,0.8139291956018956,0.37433213952728006,0.8346004863771042,-0.5062703709980042,0.6998141405879368],\"type\":\"histogram\"}],                        {\"barmode\":\"overlay\",\"legend\":{\"bgcolor\":\"#F5F6F9\",\"font\":{\"color\":\"#4D5663\"}},\"paper_bgcolor\":\"#F5F6F9\",\"plot_bgcolor\":\"#F5F6F9\",\"template\":{\"data\":{\"barpolar\":[{\"marker\":{\"line\":{\"color\":\"#E5ECF6\",\"width\":0.5},\"pattern\":{\"fillmode\":\"overlay\",\"size\":10,\"solidity\":0.2}},\"type\":\"barpolar\"}],\"bar\":[{\"error_x\":{\"color\":\"#2a3f5f\"},\"error_y\":{\"color\":\"#2a3f5f\"},\"marker\":{\"line\":{\"color\":\"#E5ECF6\",\"width\":0.5},\"pattern\":{\"fillmode\":\"overlay\",\"size\":10,\"solidity\":0.2}},\"type\":\"bar\"}],\"carpet\":[{\"aaxis\":{\"endlinecolor\":\"#2a3f5f\",\"gridcolor\":\"white\",\"linecolor\":\"white\",\"minorgridcolor\":\"white\",\"startlinecolor\":\"#2a3f5f\"},\"baxis\":{\"endlinecolor\":\"#2a3f5f\",\"gridcolor\":\"white\",\"linecolor\":\"white\",\"minorgridcolor\":\"white\",\"startlinecolor\":\"#2a3f5f\"},\"type\":\"carpet\"}],\"choropleth\":[{\"colorbar\":{\"outlinewidth\":0,\"ticks\":\"\"},\"type\":\"choropleth\"}],\"contourcarpet\":[{\"colorbar\":{\"outlinewidth\":0,\"ticks\":\"\"},\"type\":\"contourcarpet\"}],\"contour\":[{\"colorbar\":{\"outlinewidth\":0,\"ticks\":\"\"},\"colorscale\":[[0.0,\"#0d0887\"],[0.1111111111111111,\"#46039f\"],[0.2222222222222222,\"#7201a8\"],[0.3333333333333333,\"#9c179e\"],[0.4444444444444444,\"#bd3786\"],[0.5555555555555556,\"#d8576b\"],[0.6666666666666666,\"#ed7953\"],[0.7777777777777778,\"#fb9f3a\"],[0.8888888888888888,\"#fdca26\"],[1.0,\"#f0f921\"]],\"type\":\"contour\"}],\"heatmapgl\":[{\"colorbar\":{\"outlinewidth\":0,\"ticks\":\"\"},\"colorscale\":[[0.0,\"#0d0887\"],[0.1111111111111111,\"#46039f\"],[0.2222222222222222,\"#7201a8\"],[0.3333333333333333,\"#9c179e\"],[0.4444444444444444,\"#bd3786\"],[0.5555555555555556,\"#d8576b\"],[0.6666666666666666,\"#ed7953\"],[0.7777777777777778,\"#fb9f3a\"],[0.8888888888888888,\"#fdca26\"],[1.0,\"#f0f921\"]],\"type\":\"heatmapgl\"}],\"heatmap\":[{\"colorbar\":{\"outlinewidth\":0,\"ticks\":\"\"},\"colorscale\":[[0.0,\"#0d0887\"],[0.1111111111111111,\"#46039f\"],[0.2222222222222222,\"#7201a8\"],[0.3333333333333333,\"#9c179e\"],[0.4444444444444444,\"#bd3786\"],[0.5555555555555556,\"#d8576b\"],[0.6666666666666666,\"#ed7953\"],[0.7777777777777778,\"#fb9f3a\"],[0.8888888888888888,\"#fdca26\"],[1.0,\"#f0f921\"]],\"type\":\"heatmap\"}],\"histogram2dcontour\":[{\"colorbar\":{\"outlinewidth\":0,\"ticks\":\"\"},\"colorscale\":[[0.0,\"#0d0887\"],[0.1111111111111111,\"#46039f\"],[0.2222222222222222,\"#7201a8\"],[0.3333333333333333,\"#9c179e\"],[0.4444444444444444,\"#bd3786\"],[0.5555555555555556,\"#d8576b\"],[0.6666666666666666,\"#ed7953\"],[0.7777777777777778,\"#fb9f3a\"],[0.8888888888888888,\"#fdca26\"],[1.0,\"#f0f921\"]],\"type\":\"histogram2dcontour\"}],\"histogram2d\":[{\"colorbar\":{\"outlinewidth\":0,\"ticks\":\"\"},\"colorscale\":[[0.0,\"#0d0887\"],[0.1111111111111111,\"#46039f\"],[0.2222222222222222,\"#7201a8\"],[0.3333333333333333,\"#9c179e\"],[0.4444444444444444,\"#bd3786\"],[0.5555555555555556,\"#d8576b\"],[0.6666666666666666,\"#ed7953\"],[0.7777777777777778,\"#fb9f3a\"],[0.8888888888888888,\"#fdca26\"],[1.0,\"#f0f921\"]],\"type\":\"histogram2d\"}],\"histogram\":[{\"marker\":{\"pattern\":{\"fillmode\":\"overlay\",\"size\":10,\"solidity\":0.2}},\"type\":\"histogram\"}],\"mesh3d\":[{\"colorbar\":{\"outlinewidth\":0,\"ticks\":\"\"},\"type\":\"mesh3d\"}],\"parcoords\":[{\"line\":{\"colorbar\":{\"outlinewidth\":0,\"ticks\":\"\"}},\"type\":\"parcoords\"}],\"pie\":[{\"automargin\":true,\"type\":\"pie\"}],\"scatter3d\":[{\"line\":{\"colorbar\":{\"outlinewidth\":0,\"ticks\":\"\"}},\"marker\":{\"colorbar\":{\"outlinewidth\":0,\"ticks\":\"\"}},\"type\":\"scatter3d\"}],\"scattercarpet\":[{\"marker\":{\"colorbar\":{\"outlinewidth\":0,\"ticks\":\"\"}},\"type\":\"scattercarpet\"}],\"scattergeo\":[{\"marker\":{\"colorbar\":{\"outlinewidth\":0,\"ticks\":\"\"}},\"type\":\"scattergeo\"}],\"scattergl\":[{\"marker\":{\"colorbar\":{\"outlinewidth\":0,\"ticks\":\"\"}},\"type\":\"scattergl\"}],\"scattermapbox\":[{\"marker\":{\"colorbar\":{\"outlinewidth\":0,\"ticks\":\"\"}},\"type\":\"scattermapbox\"}],\"scatterpolargl\":[{\"marker\":{\"colorbar\":{\"outlinewidth\":0,\"ticks\":\"\"}},\"type\":\"scatterpolargl\"}],\"scatterpolar\":[{\"marker\":{\"colorbar\":{\"outlinewidth\":0,\"ticks\":\"\"}},\"type\":\"scatterpolar\"}],\"scatter\":[{\"fillpattern\":{\"fillmode\":\"overlay\",\"size\":10,\"solidity\":0.2},\"type\":\"scatter\"}],\"scatterternary\":[{\"marker\":{\"colorbar\":{\"outlinewidth\":0,\"ticks\":\"\"}},\"type\":\"scatterternary\"}],\"surface\":[{\"colorbar\":{\"outlinewidth\":0,\"ticks\":\"\"},\"colorscale\":[[0.0,\"#0d0887\"],[0.1111111111111111,\"#46039f\"],[0.2222222222222222,\"#7201a8\"],[0.3333333333333333,\"#9c179e\"],[0.4444444444444444,\"#bd3786\"],[0.5555555555555556,\"#d8576b\"],[0.6666666666666666,\"#ed7953\"],[0.7777777777777778,\"#fb9f3a\"],[0.8888888888888888,\"#fdca26\"],[1.0,\"#f0f921\"]],\"type\":\"surface\"}],\"table\":[{\"cells\":{\"fill\":{\"color\":\"#EBF0F8\"},\"line\":{\"color\":\"white\"}},\"header\":{\"fill\":{\"color\":\"#C8D4E3\"},\"line\":{\"color\":\"white\"}},\"type\":\"table\"}]},\"layout\":{\"annotationdefaults\":{\"arrowcolor\":\"#2a3f5f\",\"arrowhead\":0,\"arrowwidth\":1},\"autotypenumbers\":\"strict\",\"coloraxis\":{\"colorbar\":{\"outlinewidth\":0,\"ticks\":\"\"}},\"colorscale\":{\"diverging\":[[0,\"#8e0152\"],[0.1,\"#c51b7d\"],[0.2,\"#de77ae\"],[0.3,\"#f1b6da\"],[0.4,\"#fde0ef\"],[0.5,\"#f7f7f7\"],[0.6,\"#e6f5d0\"],[0.7,\"#b8e186\"],[0.8,\"#7fbc41\"],[0.9,\"#4d9221\"],[1,\"#276419\"]],\"sequential\":[[0.0,\"#0d0887\"],[0.1111111111111111,\"#46039f\"],[0.2222222222222222,\"#7201a8\"],[0.3333333333333333,\"#9c179e\"],[0.4444444444444444,\"#bd3786\"],[0.5555555555555556,\"#d8576b\"],[0.6666666666666666,\"#ed7953\"],[0.7777777777777778,\"#fb9f3a\"],[0.8888888888888888,\"#fdca26\"],[1.0,\"#f0f921\"]],\"sequentialminus\":[[0.0,\"#0d0887\"],[0.1111111111111111,\"#46039f\"],[0.2222222222222222,\"#7201a8\"],[0.3333333333333333,\"#9c179e\"],[0.4444444444444444,\"#bd3786\"],[0.5555555555555556,\"#d8576b\"],[0.6666666666666666,\"#ed7953\"],[0.7777777777777778,\"#fb9f3a\"],[0.8888888888888888,\"#fdca26\"],[1.0,\"#f0f921\"]]},\"colorway\":[\"#636efa\",\"#EF553B\",\"#00cc96\",\"#ab63fa\",\"#FFA15A\",\"#19d3f3\",\"#FF6692\",\"#B6E880\",\"#FF97FF\",\"#FECB52\"],\"font\":{\"color\":\"#2a3f5f\"},\"geo\":{\"bgcolor\":\"white\",\"lakecolor\":\"white\",\"landcolor\":\"#E5ECF6\",\"showlakes\":true,\"showland\":true,\"subunitcolor\":\"white\"},\"hoverlabel\":{\"align\":\"left\"},\"hovermode\":\"closest\",\"mapbox\":{\"style\":\"light\"},\"paper_bgcolor\":\"white\",\"plot_bgcolor\":\"#E5ECF6\",\"polar\":{\"angularaxis\":{\"gridcolor\":\"white\",\"linecolor\":\"white\",\"ticks\":\"\"},\"bgcolor\":\"#E5ECF6\",\"radialaxis\":{\"gridcolor\":\"white\",\"linecolor\":\"white\",\"ticks\":\"\"}},\"scene\":{\"xaxis\":{\"backgroundcolor\":\"#E5ECF6\",\"gridcolor\":\"white\",\"gridwidth\":2,\"linecolor\":\"white\",\"showbackground\":true,\"ticks\":\"\",\"zerolinecolor\":\"white\"},\"yaxis\":{\"backgroundcolor\":\"#E5ECF6\",\"gridcolor\":\"white\",\"gridwidth\":2,\"linecolor\":\"white\",\"showbackground\":true,\"ticks\":\"\",\"zerolinecolor\":\"white\"},\"zaxis\":{\"backgroundcolor\":\"#E5ECF6\",\"gridcolor\":\"white\",\"gridwidth\":2,\"linecolor\":\"white\",\"showbackground\":true,\"ticks\":\"\",\"zerolinecolor\":\"white\"}},\"shapedefaults\":{\"line\":{\"color\":\"#2a3f5f\"}},\"ternary\":{\"aaxis\":{\"gridcolor\":\"white\",\"linecolor\":\"white\",\"ticks\":\"\"},\"baxis\":{\"gridcolor\":\"white\",\"linecolor\":\"white\",\"ticks\":\"\"},\"bgcolor\":\"#E5ECF6\",\"caxis\":{\"gridcolor\":\"white\",\"linecolor\":\"white\",\"ticks\":\"\"}},\"title\":{\"x\":0.05},\"xaxis\":{\"automargin\":true,\"gridcolor\":\"white\",\"linecolor\":\"white\",\"ticks\":\"\",\"title\":{\"standoff\":15},\"zerolinecolor\":\"white\",\"zerolinewidth\":2},\"yaxis\":{\"automargin\":true,\"gridcolor\":\"white\",\"linecolor\":\"white\",\"ticks\":\"\",\"title\":{\"standoff\":15},\"zerolinecolor\":\"white\",\"zerolinewidth\":2}}},\"title\":{\"font\":{\"color\":\"#4D5663\"}},\"xaxis\":{\"gridcolor\":\"#E1E5ED\",\"showgrid\":true,\"tickfont\":{\"color\":\"#4D5663\"},\"title\":{\"font\":{\"color\":\"#4D5663\"},\"text\":\"\"},\"zerolinecolor\":\"#E1E5ED\"},\"yaxis\":{\"gridcolor\":\"#E1E5ED\",\"showgrid\":true,\"tickfont\":{\"color\":\"#4D5663\"},\"title\":{\"font\":{\"color\":\"#4D5663\"},\"text\":\"\"},\"zerolinecolor\":\"#E1E5ED\"}},                        {\"showLink\": true, \"linkText\": \"Export to plot.ly\", \"plotlyServerURL\": \"https://plot.ly\", \"responsive\": true}                    ).then(function(){\n",
       "                            \n",
       "var gd = document.getElementById('cb25e243-dabe-4a92-9561-874a3d017b07');\n",
       "var x = new MutationObserver(function (mutations, observer) {{\n",
       "        var display = window.getComputedStyle(gd).display;\n",
       "        if (!display || display === 'none') {{\n",
       "            console.log([gd, 'removed!']);\n",
       "            Plotly.purge(gd);\n",
       "            observer.disconnect();\n",
       "        }}\n",
       "}});\n",
       "\n",
       "// Listen for the removal of the full notebook cells\n",
       "var notebookContainer = gd.closest('#notebook-container');\n",
       "if (notebookContainer) {{\n",
       "    x.observe(notebookContainer, {childList: true});\n",
       "}}\n",
       "\n",
       "// Listen for the clearing of the current output cell\n",
       "var outputEl = gd.closest('.output');\n",
       "if (outputEl) {{\n",
       "    x.observe(outputEl, {childList: true});\n",
       "}}\n",
       "\n",
       "                        })                };                });            </script>        </div>"
      ]
     },
     "metadata": {},
     "output_type": "display_data"
    }
   ],
   "source": [
    "df['A'].iplot(kind='hist', bins=20)"
   ]
  },
  {
   "cell_type": "code",
   "execution_count": 36,
   "id": "385707e2",
   "metadata": {},
   "outputs": [
    {
     "data": {
      "application/vnd.plotly.v1+json": {
       "config": {
        "linkText": "Export to plot.ly",
        "plotlyServerURL": "https://plot.ly",
        "showLink": true
       },
       "data": [
        {
         "histfunc": "count",
         "histnorm": "",
         "marker": {
          "color": "rgba(255, 153, 51, 1.0)",
          "line": {
           "color": "#4D5663",
           "width": 1.3
          }
         },
         "name": "A",
         "opacity": 0.8,
         "orientation": "v",
         "type": "histogram",
         "x": [
          -0.5460778957347936,
          1.3014510422065746,
          0.26814934478756514,
          -0.3618191044714592,
          -0.7369237834399675,
          3.232474390779266,
          0.4502317191922599,
          0.29996219651162587,
          0.1722537891268259,
          -0.6669176939726003,
          1.1578674537274418,
          -1.476432366982033,
          -0.5472396471244979,
          -1.2937811853587022,
          -0.9013967416102897,
          0.8853025381342631,
          -1.1366898385165811,
          -2.6962483782363815,
          -1.6788450175371639,
          0.3546081661265342,
          0.7442380110818622,
          0.5619392224263491,
          0.6065249503129646,
          0.04089407242636777,
          -1.3342789853786823,
          -0.9369940551036597,
          0.10034758564092557,
          0.8075163635955258,
          0.38351490019648027,
          -0.3324193008656376,
          0.2797743330160391,
          -0.0026682896222340285,
          1.5101952298787567,
          0.8875873921209985,
          1.1495772264048136,
          -0.2464421692232896,
          1.8616344700460064,
          -0.2713449451449245,
          -1.8734698359308377,
          -0.4375931728140298,
          0.782786598083783,
          1.1427488896160929,
          -1.7014930434140594,
          0.7267623595379041,
          -0.007002364510007742,
          0.17509129779533658,
          -0.4781056073352823,
          0.5832965159892182,
          -0.6331491917976095,
          -0.3161961767682029,
          -2.3572250533205223,
          1.3512672934632202,
          0.05341203365733753,
          0.7670034141178904,
          0.18073432373892828,
          -0.7672344771558023,
          0.20558654605709664,
          -0.5544513388284268,
          1.5287039845218173,
          -1.1332355093479762,
          -1.4748315025375673,
          -1.1462469684745658,
          -1.052650035154753,
          -0.3907382513473276,
          -1.627183772248113,
          -0.3783231268569761,
          -0.1597912113636773,
          -1.3535219949676072,
          -0.23935950379079585,
          1.0159738780171244,
          -0.576711046906184,
          -0.7274673897933394,
          -1.4907578857702473,
          -0.7921446366064933,
          -0.08994575562284873,
          0.930250935265208,
          -1.3191164860374893,
          -1.3857346608655399,
          1.6340683152012712,
          1.170193417939178,
          -1.9931400227970575,
          -0.13615296286206194,
          0.0648707514248098,
          -0.5025897956063995,
          -1.845513405796715,
          -0.9477950010886944,
          0.2791081770738883,
          -0.9684113216516099,
          0.8229249871332075,
          0.4314515011373696,
          0.14872909873619033,
          0.2138849867192027,
          -1.2573571642428092,
          1.9379795654275749,
          -0.375126110803408,
          0.8139291956018956,
          0.37433213952728006,
          0.8346004863771042,
          -0.5062703709980042,
          0.6998141405879368
         ]
        },
        {
         "histfunc": "count",
         "histnorm": "",
         "marker": {
          "color": "rgba(55, 128, 191, 1.0)",
          "line": {
           "color": "#4D5663",
           "width": 1.3
          }
         },
         "name": "B",
         "opacity": 0.8,
         "orientation": "v",
         "type": "histogram",
         "x": [
          0.8916549146321898,
          -0.3381931403080011,
          -0.37428192595009857,
          -0.9419524005632491,
          -1.0145977706243687,
          1.5583890754009588,
          -0.6852630085642236,
          0.6651332215213197,
          -0.9910188176038004,
          0.6161978813106868,
          0.3861938231042876,
          -0.60882693154804,
          0.19890215422838792,
          0.6775658736229073,
          0.797828468832904,
          0.07682513904133999,
          0.025107642292884074,
          -1.5576726094219517,
          1.4264356314033277,
          1.2666998992120595,
          -0.6943473865446161,
          -0.053895565447558316,
          0.4284264262379757,
          0.13208468398082687,
          0.7670307156234072,
          0.38390668729911087,
          0.6347177042230788,
          1.1974467440918999,
          0.2020632736198323,
          -1.0022455128645296,
          0.18371926512091438,
          -0.04109060733714235,
          -1.5481413250921956,
          -0.54934779822259,
          0.09252072296337743,
          -0.5367295945730247,
          -0.4777903101063822,
          0.10604568652569685,
          -0.8718547064946718,
          0.5708956722518306,
          0.06589086041506216,
          0.25580174667143174,
          -0.4312599780802227,
          -0.12443614311985786,
          1.5806599712009868,
          0.2870922514198373,
          0.5512944944835362,
          1.4527579119089358,
          0.2699387949848012,
          0.7904290473921192,
          -0.7816302662769503,
          -0.12821896698885438,
          -0.4225712340699086,
          -2.440144305643967,
          -0.9927129109667006,
          -0.18918780352731643,
          -0.09610392449157452,
          0.3554190174115922,
          -1.7864214361926745,
          -1.1073055045960427,
          -0.9630782474751012,
          0.10812185719468097,
          1.073523936772271,
          -0.19935412263787683,
          0.6908359830853447,
          -0.4429809411287429,
          -1.4187058463861983,
          -1.6721208685617281,
          -0.6786398548037761,
          0.7268002142268188,
          -0.4360824977259846,
          -0.23765490366988942,
          -1.4728284198921924,
          -0.01910884940631543,
          0.10765546033029476,
          1.8927129965967484,
          0.03255345460140715,
          1.0744477403084196,
          0.5661276059273651,
          -1.0592431238903615,
          0.786919426390002,
          1.2764749857577515,
          -0.14162598466362158,
          -0.5133580850066126,
          1.5161755740926746,
          -0.33416049948343557,
          1.7833299073862408,
          0.5139386130455855,
          -0.6842137040540731,
          -2.6483956539321154,
          1.111781386043757,
          2.744841648153119,
          0.011608699926791748,
          -0.2978790480255613,
          -1.5686049470141332,
          -1.3527125996567446,
          -0.8069995269798872,
          -0.8649491875996753,
          -1.129641165354729,
          1.933060854543772
         ]
        },
        {
         "histfunc": "count",
         "histnorm": "",
         "marker": {
          "color": "rgba(50, 171, 96, 1.0)",
          "line": {
           "color": "#4D5663",
           "width": 1.3
          }
         },
         "name": "C",
         "opacity": 0.8,
         "orientation": "v",
         "type": "histogram",
         "x": [
          -0.20330239236774128,
          0.32850101568085893,
          0.529542595028742,
          -1.6869438521556148,
          -0.12915954035899646,
          -0.29361414034583905,
          -1.0411915378410137,
          0.1655450402186426,
          0.6245227599578845,
          0.6780299903342727,
          -2.9290857736047786,
          0.461077292314986,
          1.1091891520463508,
          0.33644402919592176,
          0.4127408790834404,
          0.4176719457751997,
          -0.7460023909998824,
          -0.18561711514336504,
          -0.46564454618751433,
          0.15926935447160537,
          0.5783156105882734,
          0.6498088371009316,
          -0.5119302580892772,
          -0.01638721511848431,
          0.310058348939363,
          0.038928256609700576,
          -0.26008888312749373,
          -1.2617315627247143,
          0.06454665859839183,
          0.47483185016901536,
          -0.05846809624656749,
          1.4470724106911268,
          -1.8437534447744601,
          -0.021823481334008542,
          -0.4598326516335303,
          0.3157084829852417,
          -1.086482265263441,
          0.1126458838976049,
          -1.8193251733435594,
          1.3315552594184057,
          1.7596809193450778,
          1.739835596293713,
          -0.7630474665988405,
          0.10544336197836349,
          1.4076948529659261,
          -0.9138687942754058,
          0.2111116933980099,
          -0.42235606752361854,
          0.2679189907173422,
          0.5080811830371827,
          -0.8529529166914348,
          -0.5195609166522553,
          0.8811768808600744,
          -0.038377272851005687,
          1.4782130095657346,
          0.19355006817445572,
          1.0508600294180694,
          0.47121959127528307,
          -0.1999034912474286,
          1.7346578774154435,
          -0.2873035910578778,
          0.3893424633119317,
          -2.078545664242502,
          -0.8266949553779602,
          1.0827891174777793,
          1.5546785887935657,
          -0.4752780928615553,
          0.002957871234240924,
          -0.9326126230951465,
          1.2195596769465835,
          -0.7956573787575608,
          2.8696588406462302,
          -0.25251788733211367,
          -0.8305892104633876,
          0.08919573756281855,
          -0.7044374495911413,
          0.28848531661875715,
          -0.3717414926024388,
          0.8288440550131508,
          -0.38340128043684973,
          0.06574562706397219,
          2.0524525605093,
          -0.6405528750002505,
          -0.3340064376926966,
          1.2219996473694095,
          0.2194755290359963,
          2.955198772573274,
          -0.02685772437217304,
          0.26146694935304754,
          -1.0888714908255899,
          0.5099640075793971,
          -1.2173602966953139,
          -0.3036137386756566,
          0.8471957766098436,
          1.0297840502997417,
          1.8537466066157755,
          -0.7559521685658589,
          0.2445071826661215,
          0.7429875949033095,
          0.4823261097522082
         ]
        },
        {
         "histfunc": "count",
         "histnorm": "",
         "marker": {
          "color": "rgba(128, 0, 128, 1.0)",
          "line": {
           "color": "#4D5663",
           "width": 1.3
          }
         },
         "name": "D",
         "opacity": 0.8,
         "orientation": "v",
         "type": "histogram",
         "x": [
          0.6353847301831402,
          1.2009423784267994,
          -1.654844320111015,
          -0.8635523832067165,
          0.8436073081690776,
          0.0010283296707705861,
          0.7213232234941241,
          1.2615979277353082,
          1.4292327016337216,
          0.027287191889307012,
          -1.5180573636122134,
          -1.0131139254746897,
          0.7948617640038231,
          -1.408160297894933,
          -0.5012501529865498,
          1.5280332963554248,
          -0.7879092031693243,
          0.7669901510070474,
          -1.091735910194253,
          0.662536340034536,
          0.550001997833688,
          -0.3214729696376683,
          0.008292011859685321,
          -1.3698158321629847,
          0.8391122567630139,
          1.2785094720503718,
          1.1309681951149693,
          0.43715762373237255,
          -0.8719283319074831,
          0.5232332637202878,
          -0.9427769729935915,
          1.749152052334987,
          -0.7332203655606052,
          -1.730022600119727,
          -0.3071717755780072,
          -0.6574275508278046,
          -0.11120726606697393,
          -0.29807283502782583,
          2.007007347945856,
          -1.1248393061937714,
          -0.08331589907942558,
          -0.9624694892468075,
          -1.1772773034412958,
          0.5443833685090267,
          -2.383209166152728,
          -0.5654893309716007,
          0.15432201119291886,
          0.8195508234542466,
          0.41835284465192496,
          -0.10531200162672043,
          1.0245802846927696,
          -0.00916744004768294,
          -0.3619809134335411,
          1.0455709500178472,
          1.1226952193325705,
          -1.243767426208508,
          -0.1269245788752039,
          -1.138560695098012,
          0.012152255094927601,
          -0.3773469384695606,
          -0.1271188690590761,
          0.7691413459651985,
          0.6395681120462738,
          0.38786868367917465,
          0.7814950610131641,
          -0.003065856032941088,
          -0.08052791958464772,
          -0.000862227830624004,
          -0.14667204540993645,
          -0.6588016529198943,
          0.4760288970780797,
          -0.5010391118114504,
          -0.9547048325860107,
          1.4747680524072513,
          0.4344091007512491,
          -0.1871813519464555,
          -0.31693463148729906,
          0.16707302260475737,
          -1.3669967745199492,
          -0.12552365732428736,
          0.16638159317079995,
          0.33491507513827795,
          0.15025043754502934,
          -0.3472800351808697,
          1.7591954772545582,
          -0.29790728038059144,
          -3.201777800234756,
          -0.4018680720562205,
          0.808560116272953,
          0.37745942884408784,
          0.9703784233765854,
          -0.7888595069519375,
          0.3101314954838077,
          0.24078793877636165,
          0.9229850887876242,
          0.12831890641507618,
          0.7564594134938638,
          0.2643149845870508,
          1.2868130886986313,
          -1.4659236256700496
         ]
        }
       ],
       "layout": {
        "barmode": "overlay",
        "legend": {
         "bgcolor": "#F5F6F9",
         "font": {
          "color": "#4D5663"
         }
        },
        "paper_bgcolor": "#F5F6F9",
        "plot_bgcolor": "#F5F6F9",
        "template": {
         "data": {
          "bar": [
           {
            "error_x": {
             "color": "#2a3f5f"
            },
            "error_y": {
             "color": "#2a3f5f"
            },
            "marker": {
             "line": {
              "color": "#E5ECF6",
              "width": 0.5
             },
             "pattern": {
              "fillmode": "overlay",
              "size": 10,
              "solidity": 0.2
             }
            },
            "type": "bar"
           }
          ],
          "barpolar": [
           {
            "marker": {
             "line": {
              "color": "#E5ECF6",
              "width": 0.5
             },
             "pattern": {
              "fillmode": "overlay",
              "size": 10,
              "solidity": 0.2
             }
            },
            "type": "barpolar"
           }
          ],
          "carpet": [
           {
            "aaxis": {
             "endlinecolor": "#2a3f5f",
             "gridcolor": "white",
             "linecolor": "white",
             "minorgridcolor": "white",
             "startlinecolor": "#2a3f5f"
            },
            "baxis": {
             "endlinecolor": "#2a3f5f",
             "gridcolor": "white",
             "linecolor": "white",
             "minorgridcolor": "white",
             "startlinecolor": "#2a3f5f"
            },
            "type": "carpet"
           }
          ],
          "choropleth": [
           {
            "colorbar": {
             "outlinewidth": 0,
             "ticks": ""
            },
            "type": "choropleth"
           }
          ],
          "contour": [
           {
            "colorbar": {
             "outlinewidth": 0,
             "ticks": ""
            },
            "colorscale": [
             [
              0,
              "#0d0887"
             ],
             [
              0.1111111111111111,
              "#46039f"
             ],
             [
              0.2222222222222222,
              "#7201a8"
             ],
             [
              0.3333333333333333,
              "#9c179e"
             ],
             [
              0.4444444444444444,
              "#bd3786"
             ],
             [
              0.5555555555555556,
              "#d8576b"
             ],
             [
              0.6666666666666666,
              "#ed7953"
             ],
             [
              0.7777777777777778,
              "#fb9f3a"
             ],
             [
              0.8888888888888888,
              "#fdca26"
             ],
             [
              1,
              "#f0f921"
             ]
            ],
            "type": "contour"
           }
          ],
          "contourcarpet": [
           {
            "colorbar": {
             "outlinewidth": 0,
             "ticks": ""
            },
            "type": "contourcarpet"
           }
          ],
          "heatmap": [
           {
            "colorbar": {
             "outlinewidth": 0,
             "ticks": ""
            },
            "colorscale": [
             [
              0,
              "#0d0887"
             ],
             [
              0.1111111111111111,
              "#46039f"
             ],
             [
              0.2222222222222222,
              "#7201a8"
             ],
             [
              0.3333333333333333,
              "#9c179e"
             ],
             [
              0.4444444444444444,
              "#bd3786"
             ],
             [
              0.5555555555555556,
              "#d8576b"
             ],
             [
              0.6666666666666666,
              "#ed7953"
             ],
             [
              0.7777777777777778,
              "#fb9f3a"
             ],
             [
              0.8888888888888888,
              "#fdca26"
             ],
             [
              1,
              "#f0f921"
             ]
            ],
            "type": "heatmap"
           }
          ],
          "heatmapgl": [
           {
            "colorbar": {
             "outlinewidth": 0,
             "ticks": ""
            },
            "colorscale": [
             [
              0,
              "#0d0887"
             ],
             [
              0.1111111111111111,
              "#46039f"
             ],
             [
              0.2222222222222222,
              "#7201a8"
             ],
             [
              0.3333333333333333,
              "#9c179e"
             ],
             [
              0.4444444444444444,
              "#bd3786"
             ],
             [
              0.5555555555555556,
              "#d8576b"
             ],
             [
              0.6666666666666666,
              "#ed7953"
             ],
             [
              0.7777777777777778,
              "#fb9f3a"
             ],
             [
              0.8888888888888888,
              "#fdca26"
             ],
             [
              1,
              "#f0f921"
             ]
            ],
            "type": "heatmapgl"
           }
          ],
          "histogram": [
           {
            "marker": {
             "pattern": {
              "fillmode": "overlay",
              "size": 10,
              "solidity": 0.2
             }
            },
            "type": "histogram"
           }
          ],
          "histogram2d": [
           {
            "colorbar": {
             "outlinewidth": 0,
             "ticks": ""
            },
            "colorscale": [
             [
              0,
              "#0d0887"
             ],
             [
              0.1111111111111111,
              "#46039f"
             ],
             [
              0.2222222222222222,
              "#7201a8"
             ],
             [
              0.3333333333333333,
              "#9c179e"
             ],
             [
              0.4444444444444444,
              "#bd3786"
             ],
             [
              0.5555555555555556,
              "#d8576b"
             ],
             [
              0.6666666666666666,
              "#ed7953"
             ],
             [
              0.7777777777777778,
              "#fb9f3a"
             ],
             [
              0.8888888888888888,
              "#fdca26"
             ],
             [
              1,
              "#f0f921"
             ]
            ],
            "type": "histogram2d"
           }
          ],
          "histogram2dcontour": [
           {
            "colorbar": {
             "outlinewidth": 0,
             "ticks": ""
            },
            "colorscale": [
             [
              0,
              "#0d0887"
             ],
             [
              0.1111111111111111,
              "#46039f"
             ],
             [
              0.2222222222222222,
              "#7201a8"
             ],
             [
              0.3333333333333333,
              "#9c179e"
             ],
             [
              0.4444444444444444,
              "#bd3786"
             ],
             [
              0.5555555555555556,
              "#d8576b"
             ],
             [
              0.6666666666666666,
              "#ed7953"
             ],
             [
              0.7777777777777778,
              "#fb9f3a"
             ],
             [
              0.8888888888888888,
              "#fdca26"
             ],
             [
              1,
              "#f0f921"
             ]
            ],
            "type": "histogram2dcontour"
           }
          ],
          "mesh3d": [
           {
            "colorbar": {
             "outlinewidth": 0,
             "ticks": ""
            },
            "type": "mesh3d"
           }
          ],
          "parcoords": [
           {
            "line": {
             "colorbar": {
              "outlinewidth": 0,
              "ticks": ""
             }
            },
            "type": "parcoords"
           }
          ],
          "pie": [
           {
            "automargin": true,
            "type": "pie"
           }
          ],
          "scatter": [
           {
            "fillpattern": {
             "fillmode": "overlay",
             "size": 10,
             "solidity": 0.2
            },
            "type": "scatter"
           }
          ],
          "scatter3d": [
           {
            "line": {
             "colorbar": {
              "outlinewidth": 0,
              "ticks": ""
             }
            },
            "marker": {
             "colorbar": {
              "outlinewidth": 0,
              "ticks": ""
             }
            },
            "type": "scatter3d"
           }
          ],
          "scattercarpet": [
           {
            "marker": {
             "colorbar": {
              "outlinewidth": 0,
              "ticks": ""
             }
            },
            "type": "scattercarpet"
           }
          ],
          "scattergeo": [
           {
            "marker": {
             "colorbar": {
              "outlinewidth": 0,
              "ticks": ""
             }
            },
            "type": "scattergeo"
           }
          ],
          "scattergl": [
           {
            "marker": {
             "colorbar": {
              "outlinewidth": 0,
              "ticks": ""
             }
            },
            "type": "scattergl"
           }
          ],
          "scattermapbox": [
           {
            "marker": {
             "colorbar": {
              "outlinewidth": 0,
              "ticks": ""
             }
            },
            "type": "scattermapbox"
           }
          ],
          "scatterpolar": [
           {
            "marker": {
             "colorbar": {
              "outlinewidth": 0,
              "ticks": ""
             }
            },
            "type": "scatterpolar"
           }
          ],
          "scatterpolargl": [
           {
            "marker": {
             "colorbar": {
              "outlinewidth": 0,
              "ticks": ""
             }
            },
            "type": "scatterpolargl"
           }
          ],
          "scatterternary": [
           {
            "marker": {
             "colorbar": {
              "outlinewidth": 0,
              "ticks": ""
             }
            },
            "type": "scatterternary"
           }
          ],
          "surface": [
           {
            "colorbar": {
             "outlinewidth": 0,
             "ticks": ""
            },
            "colorscale": [
             [
              0,
              "#0d0887"
             ],
             [
              0.1111111111111111,
              "#46039f"
             ],
             [
              0.2222222222222222,
              "#7201a8"
             ],
             [
              0.3333333333333333,
              "#9c179e"
             ],
             [
              0.4444444444444444,
              "#bd3786"
             ],
             [
              0.5555555555555556,
              "#d8576b"
             ],
             [
              0.6666666666666666,
              "#ed7953"
             ],
             [
              0.7777777777777778,
              "#fb9f3a"
             ],
             [
              0.8888888888888888,
              "#fdca26"
             ],
             [
              1,
              "#f0f921"
             ]
            ],
            "type": "surface"
           }
          ],
          "table": [
           {
            "cells": {
             "fill": {
              "color": "#EBF0F8"
             },
             "line": {
              "color": "white"
             }
            },
            "header": {
             "fill": {
              "color": "#C8D4E3"
             },
             "line": {
              "color": "white"
             }
            },
            "type": "table"
           }
          ]
         },
         "layout": {
          "annotationdefaults": {
           "arrowcolor": "#2a3f5f",
           "arrowhead": 0,
           "arrowwidth": 1
          },
          "autotypenumbers": "strict",
          "coloraxis": {
           "colorbar": {
            "outlinewidth": 0,
            "ticks": ""
           }
          },
          "colorscale": {
           "diverging": [
            [
             0,
             "#8e0152"
            ],
            [
             0.1,
             "#c51b7d"
            ],
            [
             0.2,
             "#de77ae"
            ],
            [
             0.3,
             "#f1b6da"
            ],
            [
             0.4,
             "#fde0ef"
            ],
            [
             0.5,
             "#f7f7f7"
            ],
            [
             0.6,
             "#e6f5d0"
            ],
            [
             0.7,
             "#b8e186"
            ],
            [
             0.8,
             "#7fbc41"
            ],
            [
             0.9,
             "#4d9221"
            ],
            [
             1,
             "#276419"
            ]
           ],
           "sequential": [
            [
             0,
             "#0d0887"
            ],
            [
             0.1111111111111111,
             "#46039f"
            ],
            [
             0.2222222222222222,
             "#7201a8"
            ],
            [
             0.3333333333333333,
             "#9c179e"
            ],
            [
             0.4444444444444444,
             "#bd3786"
            ],
            [
             0.5555555555555556,
             "#d8576b"
            ],
            [
             0.6666666666666666,
             "#ed7953"
            ],
            [
             0.7777777777777778,
             "#fb9f3a"
            ],
            [
             0.8888888888888888,
             "#fdca26"
            ],
            [
             1,
             "#f0f921"
            ]
           ],
           "sequentialminus": [
            [
             0,
             "#0d0887"
            ],
            [
             0.1111111111111111,
             "#46039f"
            ],
            [
             0.2222222222222222,
             "#7201a8"
            ],
            [
             0.3333333333333333,
             "#9c179e"
            ],
            [
             0.4444444444444444,
             "#bd3786"
            ],
            [
             0.5555555555555556,
             "#d8576b"
            ],
            [
             0.6666666666666666,
             "#ed7953"
            ],
            [
             0.7777777777777778,
             "#fb9f3a"
            ],
            [
             0.8888888888888888,
             "#fdca26"
            ],
            [
             1,
             "#f0f921"
            ]
           ]
          },
          "colorway": [
           "#636efa",
           "#EF553B",
           "#00cc96",
           "#ab63fa",
           "#FFA15A",
           "#19d3f3",
           "#FF6692",
           "#B6E880",
           "#FF97FF",
           "#FECB52"
          ],
          "font": {
           "color": "#2a3f5f"
          },
          "geo": {
           "bgcolor": "white",
           "lakecolor": "white",
           "landcolor": "#E5ECF6",
           "showlakes": true,
           "showland": true,
           "subunitcolor": "white"
          },
          "hoverlabel": {
           "align": "left"
          },
          "hovermode": "closest",
          "mapbox": {
           "style": "light"
          },
          "paper_bgcolor": "white",
          "plot_bgcolor": "#E5ECF6",
          "polar": {
           "angularaxis": {
            "gridcolor": "white",
            "linecolor": "white",
            "ticks": ""
           },
           "bgcolor": "#E5ECF6",
           "radialaxis": {
            "gridcolor": "white",
            "linecolor": "white",
            "ticks": ""
           }
          },
          "scene": {
           "xaxis": {
            "backgroundcolor": "#E5ECF6",
            "gridcolor": "white",
            "gridwidth": 2,
            "linecolor": "white",
            "showbackground": true,
            "ticks": "",
            "zerolinecolor": "white"
           },
           "yaxis": {
            "backgroundcolor": "#E5ECF6",
            "gridcolor": "white",
            "gridwidth": 2,
            "linecolor": "white",
            "showbackground": true,
            "ticks": "",
            "zerolinecolor": "white"
           },
           "zaxis": {
            "backgroundcolor": "#E5ECF6",
            "gridcolor": "white",
            "gridwidth": 2,
            "linecolor": "white",
            "showbackground": true,
            "ticks": "",
            "zerolinecolor": "white"
           }
          },
          "shapedefaults": {
           "line": {
            "color": "#2a3f5f"
           }
          },
          "ternary": {
           "aaxis": {
            "gridcolor": "white",
            "linecolor": "white",
            "ticks": ""
           },
           "baxis": {
            "gridcolor": "white",
            "linecolor": "white",
            "ticks": ""
           },
           "bgcolor": "#E5ECF6",
           "caxis": {
            "gridcolor": "white",
            "linecolor": "white",
            "ticks": ""
           }
          },
          "title": {
           "x": 0.05
          },
          "xaxis": {
           "automargin": true,
           "gridcolor": "white",
           "linecolor": "white",
           "ticks": "",
           "title": {
            "standoff": 15
           },
           "zerolinecolor": "white",
           "zerolinewidth": 2
          },
          "yaxis": {
           "automargin": true,
           "gridcolor": "white",
           "linecolor": "white",
           "ticks": "",
           "title": {
            "standoff": 15
           },
           "zerolinecolor": "white",
           "zerolinewidth": 2
          }
         }
        },
        "title": {
         "font": {
          "color": "#4D5663"
         }
        },
        "xaxis": {
         "gridcolor": "#E1E5ED",
         "showgrid": true,
         "tickfont": {
          "color": "#4D5663"
         },
         "title": {
          "font": {
           "color": "#4D5663"
          },
          "text": ""
         },
         "zerolinecolor": "#E1E5ED"
        },
        "yaxis": {
         "gridcolor": "#E1E5ED",
         "showgrid": true,
         "tickfont": {
          "color": "#4D5663"
         },
         "title": {
          "font": {
           "color": "#4D5663"
          },
          "text": ""
         },
         "zerolinecolor": "#E1E5ED"
        }
       }
      },
      "text/html": [
       "<div>                            <div id=\"a0103a1d-8650-4f23-9b39-29484392089a\" class=\"plotly-graph-div\" style=\"height:525px; width:100%;\"></div>            <script type=\"text/javascript\">                require([\"plotly\"], function(Plotly) {                    window.PLOTLYENV=window.PLOTLYENV || {};\n",
       "                    window.PLOTLYENV.BASE_URL='https://plot.ly';                                    if (document.getElementById(\"a0103a1d-8650-4f23-9b39-29484392089a\")) {                    Plotly.newPlot(                        \"a0103a1d-8650-4f23-9b39-29484392089a\",                        [{\"histfunc\":\"count\",\"histnorm\":\"\",\"marker\":{\"color\":\"rgba(255, 153, 51, 1.0)\",\"line\":{\"color\":\"#4D5663\",\"width\":1.3}},\"name\":\"A\",\"opacity\":0.8,\"orientation\":\"v\",\"x\":[-0.5460778957347936,1.3014510422065746,0.26814934478756514,-0.3618191044714592,-0.7369237834399675,3.232474390779266,0.4502317191922599,0.29996219651162587,0.1722537891268259,-0.6669176939726003,1.1578674537274418,-1.476432366982033,-0.5472396471244979,-1.2937811853587022,-0.9013967416102897,0.8853025381342631,-1.1366898385165811,-2.6962483782363815,-1.6788450175371639,0.3546081661265342,0.7442380110818622,0.5619392224263491,0.6065249503129646,0.04089407242636777,-1.3342789853786823,-0.9369940551036597,0.10034758564092557,0.8075163635955258,0.38351490019648027,-0.3324193008656376,0.2797743330160391,-0.0026682896222340285,1.5101952298787567,0.8875873921209985,1.1495772264048136,-0.2464421692232896,1.8616344700460064,-0.2713449451449245,-1.8734698359308377,-0.4375931728140298,0.782786598083783,1.1427488896160929,-1.7014930434140594,0.7267623595379041,-0.007002364510007742,0.17509129779533658,-0.4781056073352823,0.5832965159892182,-0.6331491917976095,-0.3161961767682029,-2.3572250533205223,1.3512672934632202,0.05341203365733753,0.7670034141178904,0.18073432373892828,-0.7672344771558023,0.20558654605709664,-0.5544513388284268,1.5287039845218173,-1.1332355093479762,-1.4748315025375673,-1.1462469684745658,-1.052650035154753,-0.3907382513473276,-1.627183772248113,-0.3783231268569761,-0.1597912113636773,-1.3535219949676072,-0.23935950379079585,1.0159738780171244,-0.576711046906184,-0.7274673897933394,-1.4907578857702473,-0.7921446366064933,-0.08994575562284873,0.930250935265208,-1.3191164860374893,-1.3857346608655399,1.6340683152012712,1.170193417939178,-1.9931400227970575,-0.13615296286206194,0.0648707514248098,-0.5025897956063995,-1.845513405796715,-0.9477950010886944,0.2791081770738883,-0.9684113216516099,0.8229249871332075,0.4314515011373696,0.14872909873619033,0.2138849867192027,-1.2573571642428092,1.9379795654275749,-0.375126110803408,0.8139291956018956,0.37433213952728006,0.8346004863771042,-0.5062703709980042,0.6998141405879368],\"type\":\"histogram\"},{\"histfunc\":\"count\",\"histnorm\":\"\",\"marker\":{\"color\":\"rgba(55, 128, 191, 1.0)\",\"line\":{\"color\":\"#4D5663\",\"width\":1.3}},\"name\":\"B\",\"opacity\":0.8,\"orientation\":\"v\",\"x\":[0.8916549146321898,-0.3381931403080011,-0.37428192595009857,-0.9419524005632491,-1.0145977706243687,1.5583890754009588,-0.6852630085642236,0.6651332215213197,-0.9910188176038004,0.6161978813106868,0.3861938231042876,-0.60882693154804,0.19890215422838792,0.6775658736229073,0.797828468832904,0.07682513904133999,0.025107642292884074,-1.5576726094219517,1.4264356314033277,1.2666998992120595,-0.6943473865446161,-0.053895565447558316,0.4284264262379757,0.13208468398082687,0.7670307156234072,0.38390668729911087,0.6347177042230788,1.1974467440918999,0.2020632736198323,-1.0022455128645296,0.18371926512091438,-0.04109060733714235,-1.5481413250921956,-0.54934779822259,0.09252072296337743,-0.5367295945730247,-0.4777903101063822,0.10604568652569685,-0.8718547064946718,0.5708956722518306,0.06589086041506216,0.25580174667143174,-0.4312599780802227,-0.12443614311985786,1.5806599712009868,0.2870922514198373,0.5512944944835362,1.4527579119089358,0.2699387949848012,0.7904290473921192,-0.7816302662769503,-0.12821896698885438,-0.4225712340699086,-2.440144305643967,-0.9927129109667006,-0.18918780352731643,-0.09610392449157452,0.3554190174115922,-1.7864214361926745,-1.1073055045960427,-0.9630782474751012,0.10812185719468097,1.073523936772271,-0.19935412263787683,0.6908359830853447,-0.4429809411287429,-1.4187058463861983,-1.6721208685617281,-0.6786398548037761,0.7268002142268188,-0.4360824977259846,-0.23765490366988942,-1.4728284198921924,-0.01910884940631543,0.10765546033029476,1.8927129965967484,0.03255345460140715,1.0744477403084196,0.5661276059273651,-1.0592431238903615,0.786919426390002,1.2764749857577515,-0.14162598466362158,-0.5133580850066126,1.5161755740926746,-0.33416049948343557,1.7833299073862408,0.5139386130455855,-0.6842137040540731,-2.6483956539321154,1.111781386043757,2.744841648153119,0.011608699926791748,-0.2978790480255613,-1.5686049470141332,-1.3527125996567446,-0.8069995269798872,-0.8649491875996753,-1.129641165354729,1.933060854543772],\"type\":\"histogram\"},{\"histfunc\":\"count\",\"histnorm\":\"\",\"marker\":{\"color\":\"rgba(50, 171, 96, 1.0)\",\"line\":{\"color\":\"#4D5663\",\"width\":1.3}},\"name\":\"C\",\"opacity\":0.8,\"orientation\":\"v\",\"x\":[-0.20330239236774128,0.32850101568085893,0.529542595028742,-1.6869438521556148,-0.12915954035899646,-0.29361414034583905,-1.0411915378410137,0.1655450402186426,0.6245227599578845,0.6780299903342727,-2.9290857736047786,0.461077292314986,1.1091891520463508,0.33644402919592176,0.4127408790834404,0.4176719457751997,-0.7460023909998824,-0.18561711514336504,-0.46564454618751433,0.15926935447160537,0.5783156105882734,0.6498088371009316,-0.5119302580892772,-0.01638721511848431,0.310058348939363,0.038928256609700576,-0.26008888312749373,-1.2617315627247143,0.06454665859839183,0.47483185016901536,-0.05846809624656749,1.4470724106911268,-1.8437534447744601,-0.021823481334008542,-0.4598326516335303,0.3157084829852417,-1.086482265263441,0.1126458838976049,-1.8193251733435594,1.3315552594184057,1.7596809193450778,1.739835596293713,-0.7630474665988405,0.10544336197836349,1.4076948529659261,-0.9138687942754058,0.2111116933980099,-0.42235606752361854,0.2679189907173422,0.5080811830371827,-0.8529529166914348,-0.5195609166522553,0.8811768808600744,-0.038377272851005687,1.4782130095657346,0.19355006817445572,1.0508600294180694,0.47121959127528307,-0.1999034912474286,1.7346578774154435,-0.2873035910578778,0.3893424633119317,-2.078545664242502,-0.8266949553779602,1.0827891174777793,1.5546785887935657,-0.4752780928615553,0.002957871234240924,-0.9326126230951465,1.2195596769465835,-0.7956573787575608,2.8696588406462302,-0.25251788733211367,-0.8305892104633876,0.08919573756281855,-0.7044374495911413,0.28848531661875715,-0.3717414926024388,0.8288440550131508,-0.38340128043684973,0.06574562706397219,2.0524525605093,-0.6405528750002505,-0.3340064376926966,1.2219996473694095,0.2194755290359963,2.955198772573274,-0.02685772437217304,0.26146694935304754,-1.0888714908255899,0.5099640075793971,-1.2173602966953139,-0.3036137386756566,0.8471957766098436,1.0297840502997417,1.8537466066157755,-0.7559521685658589,0.2445071826661215,0.7429875949033095,0.4823261097522082],\"type\":\"histogram\"},{\"histfunc\":\"count\",\"histnorm\":\"\",\"marker\":{\"color\":\"rgba(128, 0, 128, 1.0)\",\"line\":{\"color\":\"#4D5663\",\"width\":1.3}},\"name\":\"D\",\"opacity\":0.8,\"orientation\":\"v\",\"x\":[0.6353847301831402,1.2009423784267994,-1.654844320111015,-0.8635523832067165,0.8436073081690776,0.0010283296707705861,0.7213232234941241,1.2615979277353082,1.4292327016337216,0.027287191889307012,-1.5180573636122134,-1.0131139254746897,0.7948617640038231,-1.408160297894933,-0.5012501529865498,1.5280332963554248,-0.7879092031693243,0.7669901510070474,-1.091735910194253,0.662536340034536,0.550001997833688,-0.3214729696376683,0.008292011859685321,-1.3698158321629847,0.8391122567630139,1.2785094720503718,1.1309681951149693,0.43715762373237255,-0.8719283319074831,0.5232332637202878,-0.9427769729935915,1.749152052334987,-0.7332203655606052,-1.730022600119727,-0.3071717755780072,-0.6574275508278046,-0.11120726606697393,-0.29807283502782583,2.007007347945856,-1.1248393061937714,-0.08331589907942558,-0.9624694892468075,-1.1772773034412958,0.5443833685090267,-2.383209166152728,-0.5654893309716007,0.15432201119291886,0.8195508234542466,0.41835284465192496,-0.10531200162672043,1.0245802846927696,-0.00916744004768294,-0.3619809134335411,1.0455709500178472,1.1226952193325705,-1.243767426208508,-0.1269245788752039,-1.138560695098012,0.012152255094927601,-0.3773469384695606,-0.1271188690590761,0.7691413459651985,0.6395681120462738,0.38786868367917465,0.7814950610131641,-0.003065856032941088,-0.08052791958464772,-0.000862227830624004,-0.14667204540993645,-0.6588016529198943,0.4760288970780797,-0.5010391118114504,-0.9547048325860107,1.4747680524072513,0.4344091007512491,-0.1871813519464555,-0.31693463148729906,0.16707302260475737,-1.3669967745199492,-0.12552365732428736,0.16638159317079995,0.33491507513827795,0.15025043754502934,-0.3472800351808697,1.7591954772545582,-0.29790728038059144,-3.201777800234756,-0.4018680720562205,0.808560116272953,0.37745942884408784,0.9703784233765854,-0.7888595069519375,0.3101314954838077,0.24078793877636165,0.9229850887876242,0.12831890641507618,0.7564594134938638,0.2643149845870508,1.2868130886986313,-1.4659236256700496],\"type\":\"histogram\"}],                        {\"barmode\":\"overlay\",\"legend\":{\"bgcolor\":\"#F5F6F9\",\"font\":{\"color\":\"#4D5663\"}},\"paper_bgcolor\":\"#F5F6F9\",\"plot_bgcolor\":\"#F5F6F9\",\"template\":{\"data\":{\"barpolar\":[{\"marker\":{\"line\":{\"color\":\"#E5ECF6\",\"width\":0.5},\"pattern\":{\"fillmode\":\"overlay\",\"size\":10,\"solidity\":0.2}},\"type\":\"barpolar\"}],\"bar\":[{\"error_x\":{\"color\":\"#2a3f5f\"},\"error_y\":{\"color\":\"#2a3f5f\"},\"marker\":{\"line\":{\"color\":\"#E5ECF6\",\"width\":0.5},\"pattern\":{\"fillmode\":\"overlay\",\"size\":10,\"solidity\":0.2}},\"type\":\"bar\"}],\"carpet\":[{\"aaxis\":{\"endlinecolor\":\"#2a3f5f\",\"gridcolor\":\"white\",\"linecolor\":\"white\",\"minorgridcolor\":\"white\",\"startlinecolor\":\"#2a3f5f\"},\"baxis\":{\"endlinecolor\":\"#2a3f5f\",\"gridcolor\":\"white\",\"linecolor\":\"white\",\"minorgridcolor\":\"white\",\"startlinecolor\":\"#2a3f5f\"},\"type\":\"carpet\"}],\"choropleth\":[{\"colorbar\":{\"outlinewidth\":0,\"ticks\":\"\"},\"type\":\"choropleth\"}],\"contourcarpet\":[{\"colorbar\":{\"outlinewidth\":0,\"ticks\":\"\"},\"type\":\"contourcarpet\"}],\"contour\":[{\"colorbar\":{\"outlinewidth\":0,\"ticks\":\"\"},\"colorscale\":[[0.0,\"#0d0887\"],[0.1111111111111111,\"#46039f\"],[0.2222222222222222,\"#7201a8\"],[0.3333333333333333,\"#9c179e\"],[0.4444444444444444,\"#bd3786\"],[0.5555555555555556,\"#d8576b\"],[0.6666666666666666,\"#ed7953\"],[0.7777777777777778,\"#fb9f3a\"],[0.8888888888888888,\"#fdca26\"],[1.0,\"#f0f921\"]],\"type\":\"contour\"}],\"heatmapgl\":[{\"colorbar\":{\"outlinewidth\":0,\"ticks\":\"\"},\"colorscale\":[[0.0,\"#0d0887\"],[0.1111111111111111,\"#46039f\"],[0.2222222222222222,\"#7201a8\"],[0.3333333333333333,\"#9c179e\"],[0.4444444444444444,\"#bd3786\"],[0.5555555555555556,\"#d8576b\"],[0.6666666666666666,\"#ed7953\"],[0.7777777777777778,\"#fb9f3a\"],[0.8888888888888888,\"#fdca26\"],[1.0,\"#f0f921\"]],\"type\":\"heatmapgl\"}],\"heatmap\":[{\"colorbar\":{\"outlinewidth\":0,\"ticks\":\"\"},\"colorscale\":[[0.0,\"#0d0887\"],[0.1111111111111111,\"#46039f\"],[0.2222222222222222,\"#7201a8\"],[0.3333333333333333,\"#9c179e\"],[0.4444444444444444,\"#bd3786\"],[0.5555555555555556,\"#d8576b\"],[0.6666666666666666,\"#ed7953\"],[0.7777777777777778,\"#fb9f3a\"],[0.8888888888888888,\"#fdca26\"],[1.0,\"#f0f921\"]],\"type\":\"heatmap\"}],\"histogram2dcontour\":[{\"colorbar\":{\"outlinewidth\":0,\"ticks\":\"\"},\"colorscale\":[[0.0,\"#0d0887\"],[0.1111111111111111,\"#46039f\"],[0.2222222222222222,\"#7201a8\"],[0.3333333333333333,\"#9c179e\"],[0.4444444444444444,\"#bd3786\"],[0.5555555555555556,\"#d8576b\"],[0.6666666666666666,\"#ed7953\"],[0.7777777777777778,\"#fb9f3a\"],[0.8888888888888888,\"#fdca26\"],[1.0,\"#f0f921\"]],\"type\":\"histogram2dcontour\"}],\"histogram2d\":[{\"colorbar\":{\"outlinewidth\":0,\"ticks\":\"\"},\"colorscale\":[[0.0,\"#0d0887\"],[0.1111111111111111,\"#46039f\"],[0.2222222222222222,\"#7201a8\"],[0.3333333333333333,\"#9c179e\"],[0.4444444444444444,\"#bd3786\"],[0.5555555555555556,\"#d8576b\"],[0.6666666666666666,\"#ed7953\"],[0.7777777777777778,\"#fb9f3a\"],[0.8888888888888888,\"#fdca26\"],[1.0,\"#f0f921\"]],\"type\":\"histogram2d\"}],\"histogram\":[{\"marker\":{\"pattern\":{\"fillmode\":\"overlay\",\"size\":10,\"solidity\":0.2}},\"type\":\"histogram\"}],\"mesh3d\":[{\"colorbar\":{\"outlinewidth\":0,\"ticks\":\"\"},\"type\":\"mesh3d\"}],\"parcoords\":[{\"line\":{\"colorbar\":{\"outlinewidth\":0,\"ticks\":\"\"}},\"type\":\"parcoords\"}],\"pie\":[{\"automargin\":true,\"type\":\"pie\"}],\"scatter3d\":[{\"line\":{\"colorbar\":{\"outlinewidth\":0,\"ticks\":\"\"}},\"marker\":{\"colorbar\":{\"outlinewidth\":0,\"ticks\":\"\"}},\"type\":\"scatter3d\"}],\"scattercarpet\":[{\"marker\":{\"colorbar\":{\"outlinewidth\":0,\"ticks\":\"\"}},\"type\":\"scattercarpet\"}],\"scattergeo\":[{\"marker\":{\"colorbar\":{\"outlinewidth\":0,\"ticks\":\"\"}},\"type\":\"scattergeo\"}],\"scattergl\":[{\"marker\":{\"colorbar\":{\"outlinewidth\":0,\"ticks\":\"\"}},\"type\":\"scattergl\"}],\"scattermapbox\":[{\"marker\":{\"colorbar\":{\"outlinewidth\":0,\"ticks\":\"\"}},\"type\":\"scattermapbox\"}],\"scatterpolargl\":[{\"marker\":{\"colorbar\":{\"outlinewidth\":0,\"ticks\":\"\"}},\"type\":\"scatterpolargl\"}],\"scatterpolar\":[{\"marker\":{\"colorbar\":{\"outlinewidth\":0,\"ticks\":\"\"}},\"type\":\"scatterpolar\"}],\"scatter\":[{\"fillpattern\":{\"fillmode\":\"overlay\",\"size\":10,\"solidity\":0.2},\"type\":\"scatter\"}],\"scatterternary\":[{\"marker\":{\"colorbar\":{\"outlinewidth\":0,\"ticks\":\"\"}},\"type\":\"scatterternary\"}],\"surface\":[{\"colorbar\":{\"outlinewidth\":0,\"ticks\":\"\"},\"colorscale\":[[0.0,\"#0d0887\"],[0.1111111111111111,\"#46039f\"],[0.2222222222222222,\"#7201a8\"],[0.3333333333333333,\"#9c179e\"],[0.4444444444444444,\"#bd3786\"],[0.5555555555555556,\"#d8576b\"],[0.6666666666666666,\"#ed7953\"],[0.7777777777777778,\"#fb9f3a\"],[0.8888888888888888,\"#fdca26\"],[1.0,\"#f0f921\"]],\"type\":\"surface\"}],\"table\":[{\"cells\":{\"fill\":{\"color\":\"#EBF0F8\"},\"line\":{\"color\":\"white\"}},\"header\":{\"fill\":{\"color\":\"#C8D4E3\"},\"line\":{\"color\":\"white\"}},\"type\":\"table\"}]},\"layout\":{\"annotationdefaults\":{\"arrowcolor\":\"#2a3f5f\",\"arrowhead\":0,\"arrowwidth\":1},\"autotypenumbers\":\"strict\",\"coloraxis\":{\"colorbar\":{\"outlinewidth\":0,\"ticks\":\"\"}},\"colorscale\":{\"diverging\":[[0,\"#8e0152\"],[0.1,\"#c51b7d\"],[0.2,\"#de77ae\"],[0.3,\"#f1b6da\"],[0.4,\"#fde0ef\"],[0.5,\"#f7f7f7\"],[0.6,\"#e6f5d0\"],[0.7,\"#b8e186\"],[0.8,\"#7fbc41\"],[0.9,\"#4d9221\"],[1,\"#276419\"]],\"sequential\":[[0.0,\"#0d0887\"],[0.1111111111111111,\"#46039f\"],[0.2222222222222222,\"#7201a8\"],[0.3333333333333333,\"#9c179e\"],[0.4444444444444444,\"#bd3786\"],[0.5555555555555556,\"#d8576b\"],[0.6666666666666666,\"#ed7953\"],[0.7777777777777778,\"#fb9f3a\"],[0.8888888888888888,\"#fdca26\"],[1.0,\"#f0f921\"]],\"sequentialminus\":[[0.0,\"#0d0887\"],[0.1111111111111111,\"#46039f\"],[0.2222222222222222,\"#7201a8\"],[0.3333333333333333,\"#9c179e\"],[0.4444444444444444,\"#bd3786\"],[0.5555555555555556,\"#d8576b\"],[0.6666666666666666,\"#ed7953\"],[0.7777777777777778,\"#fb9f3a\"],[0.8888888888888888,\"#fdca26\"],[1.0,\"#f0f921\"]]},\"colorway\":[\"#636efa\",\"#EF553B\",\"#00cc96\",\"#ab63fa\",\"#FFA15A\",\"#19d3f3\",\"#FF6692\",\"#B6E880\",\"#FF97FF\",\"#FECB52\"],\"font\":{\"color\":\"#2a3f5f\"},\"geo\":{\"bgcolor\":\"white\",\"lakecolor\":\"white\",\"landcolor\":\"#E5ECF6\",\"showlakes\":true,\"showland\":true,\"subunitcolor\":\"white\"},\"hoverlabel\":{\"align\":\"left\"},\"hovermode\":\"closest\",\"mapbox\":{\"style\":\"light\"},\"paper_bgcolor\":\"white\",\"plot_bgcolor\":\"#E5ECF6\",\"polar\":{\"angularaxis\":{\"gridcolor\":\"white\",\"linecolor\":\"white\",\"ticks\":\"\"},\"bgcolor\":\"#E5ECF6\",\"radialaxis\":{\"gridcolor\":\"white\",\"linecolor\":\"white\",\"ticks\":\"\"}},\"scene\":{\"xaxis\":{\"backgroundcolor\":\"#E5ECF6\",\"gridcolor\":\"white\",\"gridwidth\":2,\"linecolor\":\"white\",\"showbackground\":true,\"ticks\":\"\",\"zerolinecolor\":\"white\"},\"yaxis\":{\"backgroundcolor\":\"#E5ECF6\",\"gridcolor\":\"white\",\"gridwidth\":2,\"linecolor\":\"white\",\"showbackground\":true,\"ticks\":\"\",\"zerolinecolor\":\"white\"},\"zaxis\":{\"backgroundcolor\":\"#E5ECF6\",\"gridcolor\":\"white\",\"gridwidth\":2,\"linecolor\":\"white\",\"showbackground\":true,\"ticks\":\"\",\"zerolinecolor\":\"white\"}},\"shapedefaults\":{\"line\":{\"color\":\"#2a3f5f\"}},\"ternary\":{\"aaxis\":{\"gridcolor\":\"white\",\"linecolor\":\"white\",\"ticks\":\"\"},\"baxis\":{\"gridcolor\":\"white\",\"linecolor\":\"white\",\"ticks\":\"\"},\"bgcolor\":\"#E5ECF6\",\"caxis\":{\"gridcolor\":\"white\",\"linecolor\":\"white\",\"ticks\":\"\"}},\"title\":{\"x\":0.05},\"xaxis\":{\"automargin\":true,\"gridcolor\":\"white\",\"linecolor\":\"white\",\"ticks\":\"\",\"title\":{\"standoff\":15},\"zerolinecolor\":\"white\",\"zerolinewidth\":2},\"yaxis\":{\"automargin\":true,\"gridcolor\":\"white\",\"linecolor\":\"white\",\"ticks\":\"\",\"title\":{\"standoff\":15},\"zerolinecolor\":\"white\",\"zerolinewidth\":2}}},\"title\":{\"font\":{\"color\":\"#4D5663\"}},\"xaxis\":{\"gridcolor\":\"#E1E5ED\",\"showgrid\":true,\"tickfont\":{\"color\":\"#4D5663\"},\"title\":{\"font\":{\"color\":\"#4D5663\"},\"text\":\"\"},\"zerolinecolor\":\"#E1E5ED\"},\"yaxis\":{\"gridcolor\":\"#E1E5ED\",\"showgrid\":true,\"tickfont\":{\"color\":\"#4D5663\"},\"title\":{\"font\":{\"color\":\"#4D5663\"},\"text\":\"\"},\"zerolinecolor\":\"#E1E5ED\"}},                        {\"showLink\": true, \"linkText\": \"Export to plot.ly\", \"plotlyServerURL\": \"https://plot.ly\", \"responsive\": true}                    ).then(function(){\n",
       "                            \n",
       "var gd = document.getElementById('a0103a1d-8650-4f23-9b39-29484392089a');\n",
       "var x = new MutationObserver(function (mutations, observer) {{\n",
       "        var display = window.getComputedStyle(gd).display;\n",
       "        if (!display || display === 'none') {{\n",
       "            console.log([gd, 'removed!']);\n",
       "            Plotly.purge(gd);\n",
       "            observer.disconnect();\n",
       "        }}\n",
       "}});\n",
       "\n",
       "// Listen for the removal of the full notebook cells\n",
       "var notebookContainer = gd.closest('#notebook-container');\n",
       "if (notebookContainer) {{\n",
       "    x.observe(notebookContainer, {childList: true});\n",
       "}}\n",
       "\n",
       "// Listen for the clearing of the current output cell\n",
       "var outputEl = gd.closest('.output');\n",
       "if (outputEl) {{\n",
       "    x.observe(outputEl, {childList: true});\n",
       "}}\n",
       "\n",
       "                        })                };                });            </script>        </div>"
      ]
     },
     "metadata": {},
     "output_type": "display_data"
    }
   ],
   "source": [
    "df.iplot(kind='hist')"
   ]
  },
  {
   "cell_type": "code",
   "execution_count": 38,
   "id": "aa2f08e2",
   "metadata": {},
   "outputs": [
    {
     "name": "stderr",
     "output_type": "stream",
     "text": [
      "D:\\apps\\anaconda\\files\\lib\\site-packages\\cufflinks\\plotlytools.py:849: FutureWarning:\n",
      "\n",
      "The pandas.np module is deprecated and will be removed from pandas in a future version. Import numpy directly instead.\n",
      "\n",
      "D:\\apps\\anaconda\\files\\lib\\site-packages\\cufflinks\\plotlytools.py:850: FutureWarning:\n",
      "\n",
      "The pandas.np module is deprecated and will be removed from pandas in a future version. Import numpy directly instead.\n",
      "\n"
     ]
    },
    {
     "data": {
      "application/vnd.plotly.v1+json": {
       "config": {
        "linkText": "Export to plot.ly",
        "plotlyServerURL": "https://plot.ly",
        "showLink": true
       },
       "data": [
        {
         "line": {
          "color": "rgba(255, 153, 51, 1.0)",
          "dash": "solid",
          "shape": "linear",
          "width": 1.3
         },
         "mode": "lines",
         "name": "A",
         "text": "",
         "type": "scatter",
         "x": [
          0,
          1,
          2,
          3,
          4,
          5,
          6,
          7,
          8,
          9,
          10,
          11,
          12,
          13,
          14,
          15,
          16,
          17,
          18,
          19,
          20,
          21,
          22,
          23,
          24,
          25,
          26,
          27,
          28,
          29,
          30,
          31,
          32,
          33,
          34,
          35,
          36,
          37,
          38,
          39,
          40,
          41,
          42,
          43,
          44,
          45,
          46,
          47,
          48,
          49,
          50,
          51,
          52,
          53,
          54,
          55,
          56,
          57,
          58,
          59,
          60,
          61,
          62,
          63,
          64,
          65,
          66,
          67,
          68,
          69,
          70,
          71,
          72,
          73,
          74,
          75,
          76,
          77,
          78,
          79,
          80,
          81,
          82,
          83,
          84,
          85,
          86,
          87,
          88,
          89,
          90,
          91,
          92,
          93,
          94,
          95,
          96,
          97,
          98,
          99
         ],
         "y": [
          -0.5460778957347936,
          1.3014510422065746,
          0.26814934478756514,
          -0.3618191044714592,
          -0.7369237834399675,
          3.232474390779266,
          0.4502317191922599,
          0.29996219651162587,
          0.1722537891268259,
          -0.6669176939726003,
          1.1578674537274418,
          -1.476432366982033,
          -0.5472396471244979,
          -1.2937811853587022,
          -0.9013967416102897,
          0.8853025381342631,
          -1.1366898385165811,
          -2.6962483782363815,
          -1.6788450175371639,
          0.3546081661265342,
          0.7442380110818622,
          0.5619392224263491,
          0.6065249503129646,
          0.04089407242636777,
          -1.3342789853786823,
          -0.9369940551036597,
          0.10034758564092557,
          0.8075163635955258,
          0.38351490019648027,
          -0.3324193008656376,
          0.2797743330160391,
          -0.0026682896222340285,
          1.5101952298787567,
          0.8875873921209985,
          1.1495772264048136,
          -0.2464421692232896,
          1.8616344700460064,
          -0.2713449451449245,
          -1.8734698359308377,
          -0.4375931728140298,
          0.782786598083783,
          1.1427488896160929,
          -1.7014930434140594,
          0.7267623595379041,
          -0.007002364510007742,
          0.17509129779533658,
          -0.4781056073352823,
          0.5832965159892182,
          -0.6331491917976095,
          -0.3161961767682029,
          -2.3572250533205223,
          1.3512672934632202,
          0.05341203365733753,
          0.7670034141178904,
          0.18073432373892828,
          -0.7672344771558023,
          0.20558654605709664,
          -0.5544513388284268,
          1.5287039845218173,
          -1.1332355093479762,
          -1.4748315025375673,
          -1.1462469684745658,
          -1.052650035154753,
          -0.3907382513473276,
          -1.627183772248113,
          -0.3783231268569761,
          -0.1597912113636773,
          -1.3535219949676072,
          -0.23935950379079585,
          1.0159738780171244,
          -0.576711046906184,
          -0.7274673897933394,
          -1.4907578857702473,
          -0.7921446366064933,
          -0.08994575562284873,
          0.930250935265208,
          -1.3191164860374893,
          -1.3857346608655399,
          1.6340683152012712,
          1.170193417939178,
          -1.9931400227970575,
          -0.13615296286206194,
          0.0648707514248098,
          -0.5025897956063995,
          -1.845513405796715,
          -0.9477950010886944,
          0.2791081770738883,
          -0.9684113216516099,
          0.8229249871332075,
          0.4314515011373696,
          0.14872909873619033,
          0.2138849867192027,
          -1.2573571642428092,
          1.9379795654275749,
          -0.375126110803408,
          0.8139291956018956,
          0.37433213952728006,
          0.8346004863771042,
          -0.5062703709980042,
          0.6998141405879368
         ]
        },
        {
         "line": {
          "color": "rgba(55, 128, 191, 1.0)",
          "dash": "solid",
          "shape": "linear",
          "width": 1.3
         },
         "mode": "lines",
         "name": "B",
         "text": "",
         "type": "scatter",
         "x": [
          0,
          1,
          2,
          3,
          4,
          5,
          6,
          7,
          8,
          9,
          10,
          11,
          12,
          13,
          14,
          15,
          16,
          17,
          18,
          19,
          20,
          21,
          22,
          23,
          24,
          25,
          26,
          27,
          28,
          29,
          30,
          31,
          32,
          33,
          34,
          35,
          36,
          37,
          38,
          39,
          40,
          41,
          42,
          43,
          44,
          45,
          46,
          47,
          48,
          49,
          50,
          51,
          52,
          53,
          54,
          55,
          56,
          57,
          58,
          59,
          60,
          61,
          62,
          63,
          64,
          65,
          66,
          67,
          68,
          69,
          70,
          71,
          72,
          73,
          74,
          75,
          76,
          77,
          78,
          79,
          80,
          81,
          82,
          83,
          84,
          85,
          86,
          87,
          88,
          89,
          90,
          91,
          92,
          93,
          94,
          95,
          96,
          97,
          98,
          99
         ],
         "y": [
          0.8916549146321898,
          -0.3381931403080011,
          -0.37428192595009857,
          -0.9419524005632491,
          -1.0145977706243687,
          1.5583890754009588,
          -0.6852630085642236,
          0.6651332215213197,
          -0.9910188176038004,
          0.6161978813106868,
          0.3861938231042876,
          -0.60882693154804,
          0.19890215422838792,
          0.6775658736229073,
          0.797828468832904,
          0.07682513904133999,
          0.025107642292884074,
          -1.5576726094219517,
          1.4264356314033277,
          1.2666998992120595,
          -0.6943473865446161,
          -0.053895565447558316,
          0.4284264262379757,
          0.13208468398082687,
          0.7670307156234072,
          0.38390668729911087,
          0.6347177042230788,
          1.1974467440918999,
          0.2020632736198323,
          -1.0022455128645296,
          0.18371926512091438,
          -0.04109060733714235,
          -1.5481413250921956,
          -0.54934779822259,
          0.09252072296337743,
          -0.5367295945730247,
          -0.4777903101063822,
          0.10604568652569685,
          -0.8718547064946718,
          0.5708956722518306,
          0.06589086041506216,
          0.25580174667143174,
          -0.4312599780802227,
          -0.12443614311985786,
          1.5806599712009868,
          0.2870922514198373,
          0.5512944944835362,
          1.4527579119089358,
          0.2699387949848012,
          0.7904290473921192,
          -0.7816302662769503,
          -0.12821896698885438,
          -0.4225712340699086,
          -2.440144305643967,
          -0.9927129109667006,
          -0.18918780352731643,
          -0.09610392449157452,
          0.3554190174115922,
          -1.7864214361926745,
          -1.1073055045960427,
          -0.9630782474751012,
          0.10812185719468097,
          1.073523936772271,
          -0.19935412263787683,
          0.6908359830853447,
          -0.4429809411287429,
          -1.4187058463861983,
          -1.6721208685617281,
          -0.6786398548037761,
          0.7268002142268188,
          -0.4360824977259846,
          -0.23765490366988942,
          -1.4728284198921924,
          -0.01910884940631543,
          0.10765546033029476,
          1.8927129965967484,
          0.03255345460140715,
          1.0744477403084196,
          0.5661276059273651,
          -1.0592431238903615,
          0.786919426390002,
          1.2764749857577515,
          -0.14162598466362158,
          -0.5133580850066126,
          1.5161755740926746,
          -0.33416049948343557,
          1.7833299073862408,
          0.5139386130455855,
          -0.6842137040540731,
          -2.6483956539321154,
          1.111781386043757,
          2.744841648153119,
          0.011608699926791748,
          -0.2978790480255613,
          -1.5686049470141332,
          -1.3527125996567446,
          -0.8069995269798872,
          -0.8649491875996753,
          -1.129641165354729,
          1.933060854543772
         ]
        },
        {
         "connectgaps": false,
         "fill": "tozeroy",
         "line": {
          "color": "green",
          "dash": "solid",
          "shape": "linear",
          "width": 0.5
         },
         "mode": "lines",
         "name": "Spread",
         "showlegend": false,
         "type": "scatter",
         "x": [
          0,
          1,
          2,
          3,
          4,
          5,
          6,
          7,
          8,
          9,
          10,
          11,
          12,
          13,
          14,
          15,
          16,
          17,
          18,
          19,
          20,
          21,
          22,
          23,
          24,
          25,
          26,
          27,
          28,
          29,
          30,
          31,
          32,
          33,
          34,
          35,
          36,
          37,
          38,
          39,
          40,
          41,
          42,
          43,
          44,
          45,
          46,
          47,
          48,
          49,
          50,
          51,
          52,
          53,
          54,
          55,
          56,
          57,
          58,
          59,
          60,
          61,
          62,
          63,
          64,
          65,
          66,
          67,
          68,
          69,
          70,
          71,
          72,
          73,
          74,
          75,
          76,
          77,
          78,
          79,
          80,
          81,
          82,
          83,
          84,
          85,
          86,
          87,
          88,
          89,
          90,
          91,
          92,
          93,
          94,
          95,
          96,
          97,
          98,
          99
         ],
         "xaxis": "x2",
         "y": [
          "",
          1.6396441825145756,
          0.6424312707376637,
          0.58013329609179,
          0.2776739871844013,
          1.6740853153783073,
          1.1354947277564835,
          "",
          1.1632726067306263,
          "",
          0.7716736306231542,
          "",
          "",
          "",
          "",
          0.808477399092923,
          "",
          "",
          "",
          "",
          1.4385853976264782,
          0.6158347878739074,
          0.17809852407498888,
          "",
          "",
          "",
          "",
          "",
          0.18145162657664796,
          0.669826211998892,
          0.09605506789512472,
          0.038422317714908324,
          3.0583365549709525,
          1.4369351903435885,
          1.0570565034414363,
          0.2902874253497351,
          2.3394247801523886,
          "",
          "",
          "",
          0.7168957376687208,
          0.8869471429446611,
          "",
          0.851198502657762,
          "",
          "",
          "",
          "",
          "",
          "",
          "",
          1.4794862604520747,
          0.47598326772724614,
          3.2071477197618576,
          1.1734472347056288,
          "",
          0.30169047054867115,
          "",
          3.315125420714492,
          "",
          "",
          "",
          "",
          "",
          "",
          0.06465781427176681,
          1.258914635022521,
          0.318598873594121,
          0.43928035101298024,
          0.2891736637903055,
          "",
          "",
          "",
          "",
          "",
          "",
          "",
          "",
          1.067940709273906,
          2.229436541829539,
          "",
          "",
          0.2064967360884314,
          0.010768289400213127,
          "",
          "",
          "",
          "",
          1.5071386911872806,
          3.079847155069485,
          "",
          "",
          "",
          2.235858613453136,
          1.1934788362107251,
          2.16664179525864,
          1.1813316665071674,
          1.6995496739767795,
          0.6233707943567247,
          ""
         ],
         "yaxis": "y2"
        },
        {
         "connectgaps": false,
         "fill": "tozeroy",
         "line": {
          "color": "red",
          "dash": "solid",
          "shape": "linear",
          "width": 0.5
         },
         "mode": "lines",
         "name": "Spread",
         "showlegend": false,
         "type": "scatter",
         "x": [
          0,
          1,
          2,
          3,
          4,
          5,
          6,
          7,
          8,
          9,
          10,
          11,
          12,
          13,
          14,
          15,
          16,
          17,
          18,
          19,
          20,
          21,
          22,
          23,
          24,
          25,
          26,
          27,
          28,
          29,
          30,
          31,
          32,
          33,
          34,
          35,
          36,
          37,
          38,
          39,
          40,
          41,
          42,
          43,
          44,
          45,
          46,
          47,
          48,
          49,
          50,
          51,
          52,
          53,
          54,
          55,
          56,
          57,
          58,
          59,
          60,
          61,
          62,
          63,
          64,
          65,
          66,
          67,
          68,
          69,
          70,
          71,
          72,
          73,
          74,
          75,
          76,
          77,
          78,
          79,
          80,
          81,
          82,
          83,
          84,
          85,
          86,
          87,
          88,
          89,
          90,
          91,
          92,
          93,
          94,
          95,
          96,
          97,
          98,
          99
         ],
         "xaxis": "x2",
         "y": [
          -1.4377328103669833,
          "",
          "",
          "",
          "",
          "",
          "",
          -0.36517102500969384,
          "",
          -1.283115575283287,
          "",
          -0.8676054354339929,
          -0.7461418013528858,
          -1.9713470589816096,
          -1.6992252104431937,
          "",
          -1.161797480809465,
          -1.1385757688144298,
          -3.1052806489404916,
          -0.9120917330855254,
          "",
          "",
          "",
          -0.0911906115544591,
          -2.1013097010020894,
          -1.3209007424027706,
          -0.5343701185821532,
          -0.3899303804963741,
          "",
          "",
          "",
          "",
          "",
          "",
          "",
          "",
          "",
          -0.37739063167062137,
          -1.001615129436166,
          -1.0084888450658605,
          "",
          "",
          -1.2702330653338367,
          "",
          -1.5876623357109945,
          -0.11200095362450072,
          -1.0294001018188186,
          -0.8694613959197176,
          -0.9030879867824108,
          -1.106625224160322,
          -1.575594787043572,
          "",
          "",
          "",
          "",
          -0.5780466736284858,
          "",
          -0.909870356240019,
          "",
          -0.025930004751933522,
          -0.5117532550624662,
          -1.2543688256692467,
          -2.126173971927024,
          -0.19138412870945076,
          -2.3180197553334576,
          "",
          "",
          "",
          "",
          "",
          -0.1406285491801994,
          -0.48981248612344996,
          -0.017929465878054884,
          -0.7730357872001778,
          -0.1976012159531435,
          -0.9624620613315404,
          -1.3516699406388966,
          -2.4601824011739595,
          "",
          "",
          -2.7800594491870596,
          -1.4126279486198134,
          "",
          "",
          -3.3616889798893896,
          -0.6136345016052589,
          -1.5042217303123524,
          -1.4823499346971953,
          "",
          "",
          -0.9630522873075668,
          -2.5309566614339163,
          -1.2689658641696009,
          "",
          "",
          "",
          "",
          "",
          "",
          -1.2332467139558352
         ],
         "yaxis": "y2"
        }
       ],
       "layout": {
        "hovermode": "x",
        "legend": {
         "bgcolor": "#F5F6F9",
         "font": {
          "color": "#4D5663"
         }
        },
        "paper_bgcolor": "#F5F6F9",
        "plot_bgcolor": "#F5F6F9",
        "template": {
         "data": {
          "bar": [
           {
            "error_x": {
             "color": "#2a3f5f"
            },
            "error_y": {
             "color": "#2a3f5f"
            },
            "marker": {
             "line": {
              "color": "#E5ECF6",
              "width": 0.5
             },
             "pattern": {
              "fillmode": "overlay",
              "size": 10,
              "solidity": 0.2
             }
            },
            "type": "bar"
           }
          ],
          "barpolar": [
           {
            "marker": {
             "line": {
              "color": "#E5ECF6",
              "width": 0.5
             },
             "pattern": {
              "fillmode": "overlay",
              "size": 10,
              "solidity": 0.2
             }
            },
            "type": "barpolar"
           }
          ],
          "carpet": [
           {
            "aaxis": {
             "endlinecolor": "#2a3f5f",
             "gridcolor": "white",
             "linecolor": "white",
             "minorgridcolor": "white",
             "startlinecolor": "#2a3f5f"
            },
            "baxis": {
             "endlinecolor": "#2a3f5f",
             "gridcolor": "white",
             "linecolor": "white",
             "minorgridcolor": "white",
             "startlinecolor": "#2a3f5f"
            },
            "type": "carpet"
           }
          ],
          "choropleth": [
           {
            "colorbar": {
             "outlinewidth": 0,
             "ticks": ""
            },
            "type": "choropleth"
           }
          ],
          "contour": [
           {
            "colorbar": {
             "outlinewidth": 0,
             "ticks": ""
            },
            "colorscale": [
             [
              0,
              "#0d0887"
             ],
             [
              0.1111111111111111,
              "#46039f"
             ],
             [
              0.2222222222222222,
              "#7201a8"
             ],
             [
              0.3333333333333333,
              "#9c179e"
             ],
             [
              0.4444444444444444,
              "#bd3786"
             ],
             [
              0.5555555555555556,
              "#d8576b"
             ],
             [
              0.6666666666666666,
              "#ed7953"
             ],
             [
              0.7777777777777778,
              "#fb9f3a"
             ],
             [
              0.8888888888888888,
              "#fdca26"
             ],
             [
              1,
              "#f0f921"
             ]
            ],
            "type": "contour"
           }
          ],
          "contourcarpet": [
           {
            "colorbar": {
             "outlinewidth": 0,
             "ticks": ""
            },
            "type": "contourcarpet"
           }
          ],
          "heatmap": [
           {
            "colorbar": {
             "outlinewidth": 0,
             "ticks": ""
            },
            "colorscale": [
             [
              0,
              "#0d0887"
             ],
             [
              0.1111111111111111,
              "#46039f"
             ],
             [
              0.2222222222222222,
              "#7201a8"
             ],
             [
              0.3333333333333333,
              "#9c179e"
             ],
             [
              0.4444444444444444,
              "#bd3786"
             ],
             [
              0.5555555555555556,
              "#d8576b"
             ],
             [
              0.6666666666666666,
              "#ed7953"
             ],
             [
              0.7777777777777778,
              "#fb9f3a"
             ],
             [
              0.8888888888888888,
              "#fdca26"
             ],
             [
              1,
              "#f0f921"
             ]
            ],
            "type": "heatmap"
           }
          ],
          "heatmapgl": [
           {
            "colorbar": {
             "outlinewidth": 0,
             "ticks": ""
            },
            "colorscale": [
             [
              0,
              "#0d0887"
             ],
             [
              0.1111111111111111,
              "#46039f"
             ],
             [
              0.2222222222222222,
              "#7201a8"
             ],
             [
              0.3333333333333333,
              "#9c179e"
             ],
             [
              0.4444444444444444,
              "#bd3786"
             ],
             [
              0.5555555555555556,
              "#d8576b"
             ],
             [
              0.6666666666666666,
              "#ed7953"
             ],
             [
              0.7777777777777778,
              "#fb9f3a"
             ],
             [
              0.8888888888888888,
              "#fdca26"
             ],
             [
              1,
              "#f0f921"
             ]
            ],
            "type": "heatmapgl"
           }
          ],
          "histogram": [
           {
            "marker": {
             "pattern": {
              "fillmode": "overlay",
              "size": 10,
              "solidity": 0.2
             }
            },
            "type": "histogram"
           }
          ],
          "histogram2d": [
           {
            "colorbar": {
             "outlinewidth": 0,
             "ticks": ""
            },
            "colorscale": [
             [
              0,
              "#0d0887"
             ],
             [
              0.1111111111111111,
              "#46039f"
             ],
             [
              0.2222222222222222,
              "#7201a8"
             ],
             [
              0.3333333333333333,
              "#9c179e"
             ],
             [
              0.4444444444444444,
              "#bd3786"
             ],
             [
              0.5555555555555556,
              "#d8576b"
             ],
             [
              0.6666666666666666,
              "#ed7953"
             ],
             [
              0.7777777777777778,
              "#fb9f3a"
             ],
             [
              0.8888888888888888,
              "#fdca26"
             ],
             [
              1,
              "#f0f921"
             ]
            ],
            "type": "histogram2d"
           }
          ],
          "histogram2dcontour": [
           {
            "colorbar": {
             "outlinewidth": 0,
             "ticks": ""
            },
            "colorscale": [
             [
              0,
              "#0d0887"
             ],
             [
              0.1111111111111111,
              "#46039f"
             ],
             [
              0.2222222222222222,
              "#7201a8"
             ],
             [
              0.3333333333333333,
              "#9c179e"
             ],
             [
              0.4444444444444444,
              "#bd3786"
             ],
             [
              0.5555555555555556,
              "#d8576b"
             ],
             [
              0.6666666666666666,
              "#ed7953"
             ],
             [
              0.7777777777777778,
              "#fb9f3a"
             ],
             [
              0.8888888888888888,
              "#fdca26"
             ],
             [
              1,
              "#f0f921"
             ]
            ],
            "type": "histogram2dcontour"
           }
          ],
          "mesh3d": [
           {
            "colorbar": {
             "outlinewidth": 0,
             "ticks": ""
            },
            "type": "mesh3d"
           }
          ],
          "parcoords": [
           {
            "line": {
             "colorbar": {
              "outlinewidth": 0,
              "ticks": ""
             }
            },
            "type": "parcoords"
           }
          ],
          "pie": [
           {
            "automargin": true,
            "type": "pie"
           }
          ],
          "scatter": [
           {
            "fillpattern": {
             "fillmode": "overlay",
             "size": 10,
             "solidity": 0.2
            },
            "type": "scatter"
           }
          ],
          "scatter3d": [
           {
            "line": {
             "colorbar": {
              "outlinewidth": 0,
              "ticks": ""
             }
            },
            "marker": {
             "colorbar": {
              "outlinewidth": 0,
              "ticks": ""
             }
            },
            "type": "scatter3d"
           }
          ],
          "scattercarpet": [
           {
            "marker": {
             "colorbar": {
              "outlinewidth": 0,
              "ticks": ""
             }
            },
            "type": "scattercarpet"
           }
          ],
          "scattergeo": [
           {
            "marker": {
             "colorbar": {
              "outlinewidth": 0,
              "ticks": ""
             }
            },
            "type": "scattergeo"
           }
          ],
          "scattergl": [
           {
            "marker": {
             "colorbar": {
              "outlinewidth": 0,
              "ticks": ""
             }
            },
            "type": "scattergl"
           }
          ],
          "scattermapbox": [
           {
            "marker": {
             "colorbar": {
              "outlinewidth": 0,
              "ticks": ""
             }
            },
            "type": "scattermapbox"
           }
          ],
          "scatterpolar": [
           {
            "marker": {
             "colorbar": {
              "outlinewidth": 0,
              "ticks": ""
             }
            },
            "type": "scatterpolar"
           }
          ],
          "scatterpolargl": [
           {
            "marker": {
             "colorbar": {
              "outlinewidth": 0,
              "ticks": ""
             }
            },
            "type": "scatterpolargl"
           }
          ],
          "scatterternary": [
           {
            "marker": {
             "colorbar": {
              "outlinewidth": 0,
              "ticks": ""
             }
            },
            "type": "scatterternary"
           }
          ],
          "surface": [
           {
            "colorbar": {
             "outlinewidth": 0,
             "ticks": ""
            },
            "colorscale": [
             [
              0,
              "#0d0887"
             ],
             [
              0.1111111111111111,
              "#46039f"
             ],
             [
              0.2222222222222222,
              "#7201a8"
             ],
             [
              0.3333333333333333,
              "#9c179e"
             ],
             [
              0.4444444444444444,
              "#bd3786"
             ],
             [
              0.5555555555555556,
              "#d8576b"
             ],
             [
              0.6666666666666666,
              "#ed7953"
             ],
             [
              0.7777777777777778,
              "#fb9f3a"
             ],
             [
              0.8888888888888888,
              "#fdca26"
             ],
             [
              1,
              "#f0f921"
             ]
            ],
            "type": "surface"
           }
          ],
          "table": [
           {
            "cells": {
             "fill": {
              "color": "#EBF0F8"
             },
             "line": {
              "color": "white"
             }
            },
            "header": {
             "fill": {
              "color": "#C8D4E3"
             },
             "line": {
              "color": "white"
             }
            },
            "type": "table"
           }
          ]
         },
         "layout": {
          "annotationdefaults": {
           "arrowcolor": "#2a3f5f",
           "arrowhead": 0,
           "arrowwidth": 1
          },
          "autotypenumbers": "strict",
          "coloraxis": {
           "colorbar": {
            "outlinewidth": 0,
            "ticks": ""
           }
          },
          "colorscale": {
           "diverging": [
            [
             0,
             "#8e0152"
            ],
            [
             0.1,
             "#c51b7d"
            ],
            [
             0.2,
             "#de77ae"
            ],
            [
             0.3,
             "#f1b6da"
            ],
            [
             0.4,
             "#fde0ef"
            ],
            [
             0.5,
             "#f7f7f7"
            ],
            [
             0.6,
             "#e6f5d0"
            ],
            [
             0.7,
             "#b8e186"
            ],
            [
             0.8,
             "#7fbc41"
            ],
            [
             0.9,
             "#4d9221"
            ],
            [
             1,
             "#276419"
            ]
           ],
           "sequential": [
            [
             0,
             "#0d0887"
            ],
            [
             0.1111111111111111,
             "#46039f"
            ],
            [
             0.2222222222222222,
             "#7201a8"
            ],
            [
             0.3333333333333333,
             "#9c179e"
            ],
            [
             0.4444444444444444,
             "#bd3786"
            ],
            [
             0.5555555555555556,
             "#d8576b"
            ],
            [
             0.6666666666666666,
             "#ed7953"
            ],
            [
             0.7777777777777778,
             "#fb9f3a"
            ],
            [
             0.8888888888888888,
             "#fdca26"
            ],
            [
             1,
             "#f0f921"
            ]
           ],
           "sequentialminus": [
            [
             0,
             "#0d0887"
            ],
            [
             0.1111111111111111,
             "#46039f"
            ],
            [
             0.2222222222222222,
             "#7201a8"
            ],
            [
             0.3333333333333333,
             "#9c179e"
            ],
            [
             0.4444444444444444,
             "#bd3786"
            ],
            [
             0.5555555555555556,
             "#d8576b"
            ],
            [
             0.6666666666666666,
             "#ed7953"
            ],
            [
             0.7777777777777778,
             "#fb9f3a"
            ],
            [
             0.8888888888888888,
             "#fdca26"
            ],
            [
             1,
             "#f0f921"
            ]
           ]
          },
          "colorway": [
           "#636efa",
           "#EF553B",
           "#00cc96",
           "#ab63fa",
           "#FFA15A",
           "#19d3f3",
           "#FF6692",
           "#B6E880",
           "#FF97FF",
           "#FECB52"
          ],
          "font": {
           "color": "#2a3f5f"
          },
          "geo": {
           "bgcolor": "white",
           "lakecolor": "white",
           "landcolor": "#E5ECF6",
           "showlakes": true,
           "showland": true,
           "subunitcolor": "white"
          },
          "hoverlabel": {
           "align": "left"
          },
          "hovermode": "closest",
          "mapbox": {
           "style": "light"
          },
          "paper_bgcolor": "white",
          "plot_bgcolor": "#E5ECF6",
          "polar": {
           "angularaxis": {
            "gridcolor": "white",
            "linecolor": "white",
            "ticks": ""
           },
           "bgcolor": "#E5ECF6",
           "radialaxis": {
            "gridcolor": "white",
            "linecolor": "white",
            "ticks": ""
           }
          },
          "scene": {
           "xaxis": {
            "backgroundcolor": "#E5ECF6",
            "gridcolor": "white",
            "gridwidth": 2,
            "linecolor": "white",
            "showbackground": true,
            "ticks": "",
            "zerolinecolor": "white"
           },
           "yaxis": {
            "backgroundcolor": "#E5ECF6",
            "gridcolor": "white",
            "gridwidth": 2,
            "linecolor": "white",
            "showbackground": true,
            "ticks": "",
            "zerolinecolor": "white"
           },
           "zaxis": {
            "backgroundcolor": "#E5ECF6",
            "gridcolor": "white",
            "gridwidth": 2,
            "linecolor": "white",
            "showbackground": true,
            "ticks": "",
            "zerolinecolor": "white"
           }
          },
          "shapedefaults": {
           "line": {
            "color": "#2a3f5f"
           }
          },
          "ternary": {
           "aaxis": {
            "gridcolor": "white",
            "linecolor": "white",
            "ticks": ""
           },
           "baxis": {
            "gridcolor": "white",
            "linecolor": "white",
            "ticks": ""
           },
           "bgcolor": "#E5ECF6",
           "caxis": {
            "gridcolor": "white",
            "linecolor": "white",
            "ticks": ""
           }
          },
          "title": {
           "x": 0.05
          },
          "xaxis": {
           "automargin": true,
           "gridcolor": "white",
           "linecolor": "white",
           "ticks": "",
           "title": {
            "standoff": 15
           },
           "zerolinecolor": "white",
           "zerolinewidth": 2
          },
          "yaxis": {
           "automargin": true,
           "gridcolor": "white",
           "linecolor": "white",
           "ticks": "",
           "title": {
            "standoff": 15
           },
           "zerolinecolor": "white",
           "zerolinewidth": 2
          }
         }
        },
        "title": {
         "font": {
          "color": "#4D5663"
         }
        },
        "xaxis": {
         "gridcolor": "#E1E5ED",
         "showgrid": true,
         "tickfont": {
          "color": "#4D5663"
         },
         "title": {
          "font": {
           "color": "#4D5663"
          },
          "text": ""
         },
         "zerolinecolor": "#E1E5ED"
        },
        "xaxis2": {
         "anchor": "y2",
         "gridcolor": "#E1E5ED",
         "showgrid": true,
         "showticklabels": false,
         "tickfont": {
          "color": "#4D5663"
         },
         "title": {
          "font": {
           "color": "#4D5663"
          },
          "text": ""
         },
         "zerolinecolor": "#E1E5ED"
        },
        "yaxis": {
         "domain": [
          0.3,
          1
         ],
         "gridcolor": "#E1E5ED",
         "showgrid": true,
         "tickfont": {
          "color": "#4D5663"
         },
         "title": {
          "font": {
           "color": "#4D5663"
          },
          "text": ""
         },
         "zerolinecolor": "#E1E5ED"
        },
        "yaxis2": {
         "domain": [
          0,
          0.25
         ],
         "gridcolor": "#E1E5ED",
         "showgrid": true,
         "tickfont": {
          "color": "#4D5663"
         },
         "title": {
          "font": {
           "color": "#4D5663"
          },
          "text": "Spread"
         },
         "zerolinecolor": "#E1E5ED"
        }
       }
      },
      "text/html": [
       "<div>                            <div id=\"a58ec467-e0c4-4727-9c05-f9f691fd1989\" class=\"plotly-graph-div\" style=\"height:525px; width:100%;\"></div>            <script type=\"text/javascript\">                require([\"plotly\"], function(Plotly) {                    window.PLOTLYENV=window.PLOTLYENV || {};\n",
       "                    window.PLOTLYENV.BASE_URL='https://plot.ly';                                    if (document.getElementById(\"a58ec467-e0c4-4727-9c05-f9f691fd1989\")) {                    Plotly.newPlot(                        \"a58ec467-e0c4-4727-9c05-f9f691fd1989\",                        [{\"line\":{\"color\":\"rgba(255, 153, 51, 1.0)\",\"dash\":\"solid\",\"shape\":\"linear\",\"width\":1.3},\"mode\":\"lines\",\"name\":\"A\",\"text\":\"\",\"x\":[0,1,2,3,4,5,6,7,8,9,10,11,12,13,14,15,16,17,18,19,20,21,22,23,24,25,26,27,28,29,30,31,32,33,34,35,36,37,38,39,40,41,42,43,44,45,46,47,48,49,50,51,52,53,54,55,56,57,58,59,60,61,62,63,64,65,66,67,68,69,70,71,72,73,74,75,76,77,78,79,80,81,82,83,84,85,86,87,88,89,90,91,92,93,94,95,96,97,98,99],\"y\":[-0.5460778957347936,1.3014510422065746,0.26814934478756514,-0.3618191044714592,-0.7369237834399675,3.232474390779266,0.4502317191922599,0.29996219651162587,0.1722537891268259,-0.6669176939726003,1.1578674537274418,-1.476432366982033,-0.5472396471244979,-1.2937811853587022,-0.9013967416102897,0.8853025381342631,-1.1366898385165811,-2.6962483782363815,-1.6788450175371639,0.3546081661265342,0.7442380110818622,0.5619392224263491,0.6065249503129646,0.04089407242636777,-1.3342789853786823,-0.9369940551036597,0.10034758564092557,0.8075163635955258,0.38351490019648027,-0.3324193008656376,0.2797743330160391,-0.0026682896222340285,1.5101952298787567,0.8875873921209985,1.1495772264048136,-0.2464421692232896,1.8616344700460064,-0.2713449451449245,-1.8734698359308377,-0.4375931728140298,0.782786598083783,1.1427488896160929,-1.7014930434140594,0.7267623595379041,-0.007002364510007742,0.17509129779533658,-0.4781056073352823,0.5832965159892182,-0.6331491917976095,-0.3161961767682029,-2.3572250533205223,1.3512672934632202,0.05341203365733753,0.7670034141178904,0.18073432373892828,-0.7672344771558023,0.20558654605709664,-0.5544513388284268,1.5287039845218173,-1.1332355093479762,-1.4748315025375673,-1.1462469684745658,-1.052650035154753,-0.3907382513473276,-1.627183772248113,-0.3783231268569761,-0.1597912113636773,-1.3535219949676072,-0.23935950379079585,1.0159738780171244,-0.576711046906184,-0.7274673897933394,-1.4907578857702473,-0.7921446366064933,-0.08994575562284873,0.930250935265208,-1.3191164860374893,-1.3857346608655399,1.6340683152012712,1.170193417939178,-1.9931400227970575,-0.13615296286206194,0.0648707514248098,-0.5025897956063995,-1.845513405796715,-0.9477950010886944,0.2791081770738883,-0.9684113216516099,0.8229249871332075,0.4314515011373696,0.14872909873619033,0.2138849867192027,-1.2573571642428092,1.9379795654275749,-0.375126110803408,0.8139291956018956,0.37433213952728006,0.8346004863771042,-0.5062703709980042,0.6998141405879368],\"type\":\"scatter\"},{\"line\":{\"color\":\"rgba(55, 128, 191, 1.0)\",\"dash\":\"solid\",\"shape\":\"linear\",\"width\":1.3},\"mode\":\"lines\",\"name\":\"B\",\"text\":\"\",\"x\":[0,1,2,3,4,5,6,7,8,9,10,11,12,13,14,15,16,17,18,19,20,21,22,23,24,25,26,27,28,29,30,31,32,33,34,35,36,37,38,39,40,41,42,43,44,45,46,47,48,49,50,51,52,53,54,55,56,57,58,59,60,61,62,63,64,65,66,67,68,69,70,71,72,73,74,75,76,77,78,79,80,81,82,83,84,85,86,87,88,89,90,91,92,93,94,95,96,97,98,99],\"y\":[0.8916549146321898,-0.3381931403080011,-0.37428192595009857,-0.9419524005632491,-1.0145977706243687,1.5583890754009588,-0.6852630085642236,0.6651332215213197,-0.9910188176038004,0.6161978813106868,0.3861938231042876,-0.60882693154804,0.19890215422838792,0.6775658736229073,0.797828468832904,0.07682513904133999,0.025107642292884074,-1.5576726094219517,1.4264356314033277,1.2666998992120595,-0.6943473865446161,-0.053895565447558316,0.4284264262379757,0.13208468398082687,0.7670307156234072,0.38390668729911087,0.6347177042230788,1.1974467440918999,0.2020632736198323,-1.0022455128645296,0.18371926512091438,-0.04109060733714235,-1.5481413250921956,-0.54934779822259,0.09252072296337743,-0.5367295945730247,-0.4777903101063822,0.10604568652569685,-0.8718547064946718,0.5708956722518306,0.06589086041506216,0.25580174667143174,-0.4312599780802227,-0.12443614311985786,1.5806599712009868,0.2870922514198373,0.5512944944835362,1.4527579119089358,0.2699387949848012,0.7904290473921192,-0.7816302662769503,-0.12821896698885438,-0.4225712340699086,-2.440144305643967,-0.9927129109667006,-0.18918780352731643,-0.09610392449157452,0.3554190174115922,-1.7864214361926745,-1.1073055045960427,-0.9630782474751012,0.10812185719468097,1.073523936772271,-0.19935412263787683,0.6908359830853447,-0.4429809411287429,-1.4187058463861983,-1.6721208685617281,-0.6786398548037761,0.7268002142268188,-0.4360824977259846,-0.23765490366988942,-1.4728284198921924,-0.01910884940631543,0.10765546033029476,1.8927129965967484,0.03255345460140715,1.0744477403084196,0.5661276059273651,-1.0592431238903615,0.786919426390002,1.2764749857577515,-0.14162598466362158,-0.5133580850066126,1.5161755740926746,-0.33416049948343557,1.7833299073862408,0.5139386130455855,-0.6842137040540731,-2.6483956539321154,1.111781386043757,2.744841648153119,0.011608699926791748,-0.2978790480255613,-1.5686049470141332,-1.3527125996567446,-0.8069995269798872,-0.8649491875996753,-1.129641165354729,1.933060854543772],\"type\":\"scatter\"},{\"connectgaps\":false,\"fill\":\"tozeroy\",\"line\":{\"color\":\"green\",\"dash\":\"solid\",\"shape\":\"linear\",\"width\":0.5},\"mode\":\"lines\",\"name\":\"Spread\",\"showlegend\":false,\"x\":[0,1,2,3,4,5,6,7,8,9,10,11,12,13,14,15,16,17,18,19,20,21,22,23,24,25,26,27,28,29,30,31,32,33,34,35,36,37,38,39,40,41,42,43,44,45,46,47,48,49,50,51,52,53,54,55,56,57,58,59,60,61,62,63,64,65,66,67,68,69,70,71,72,73,74,75,76,77,78,79,80,81,82,83,84,85,86,87,88,89,90,91,92,93,94,95,96,97,98,99],\"xaxis\":\"x2\",\"y\":[\"\",1.6396441825145756,0.6424312707376637,0.58013329609179,0.2776739871844013,1.6740853153783073,1.1354947277564835,\"\",1.1632726067306263,\"\",0.7716736306231542,\"\",\"\",\"\",\"\",0.808477399092923,\"\",\"\",\"\",\"\",1.4385853976264782,0.6158347878739074,0.17809852407498888,\"\",\"\",\"\",\"\",\"\",0.18145162657664796,0.669826211998892,0.09605506789512472,0.038422317714908324,3.0583365549709525,1.4369351903435885,1.0570565034414363,0.2902874253497351,2.3394247801523886,\"\",\"\",\"\",0.7168957376687208,0.8869471429446611,\"\",0.851198502657762,\"\",\"\",\"\",\"\",\"\",\"\",\"\",1.4794862604520747,0.47598326772724614,3.2071477197618576,1.1734472347056288,\"\",0.30169047054867115,\"\",3.315125420714492,\"\",\"\",\"\",\"\",\"\",\"\",0.06465781427176681,1.258914635022521,0.318598873594121,0.43928035101298024,0.2891736637903055,\"\",\"\",\"\",\"\",\"\",\"\",\"\",\"\",1.067940709273906,2.229436541829539,\"\",\"\",0.2064967360884314,0.010768289400213127,\"\",\"\",\"\",\"\",1.5071386911872806,3.079847155069485,\"\",\"\",\"\",2.235858613453136,1.1934788362107251,2.16664179525864,1.1813316665071674,1.6995496739767795,0.6233707943567247,\"\"],\"yaxis\":\"y2\",\"type\":\"scatter\"},{\"connectgaps\":false,\"fill\":\"tozeroy\",\"line\":{\"color\":\"red\",\"dash\":\"solid\",\"shape\":\"linear\",\"width\":0.5},\"mode\":\"lines\",\"name\":\"Spread\",\"showlegend\":false,\"x\":[0,1,2,3,4,5,6,7,8,9,10,11,12,13,14,15,16,17,18,19,20,21,22,23,24,25,26,27,28,29,30,31,32,33,34,35,36,37,38,39,40,41,42,43,44,45,46,47,48,49,50,51,52,53,54,55,56,57,58,59,60,61,62,63,64,65,66,67,68,69,70,71,72,73,74,75,76,77,78,79,80,81,82,83,84,85,86,87,88,89,90,91,92,93,94,95,96,97,98,99],\"xaxis\":\"x2\",\"y\":[-1.4377328103669833,\"\",\"\",\"\",\"\",\"\",\"\",-0.36517102500969384,\"\",-1.283115575283287,\"\",-0.8676054354339929,-0.7461418013528858,-1.9713470589816096,-1.6992252104431937,\"\",-1.161797480809465,-1.1385757688144298,-3.1052806489404916,-0.9120917330855254,\"\",\"\",\"\",-0.0911906115544591,-2.1013097010020894,-1.3209007424027706,-0.5343701185821532,-0.3899303804963741,\"\",\"\",\"\",\"\",\"\",\"\",\"\",\"\",\"\",-0.37739063167062137,-1.001615129436166,-1.0084888450658605,\"\",\"\",-1.2702330653338367,\"\",-1.5876623357109945,-0.11200095362450072,-1.0294001018188186,-0.8694613959197176,-0.9030879867824108,-1.106625224160322,-1.575594787043572,\"\",\"\",\"\",\"\",-0.5780466736284858,\"\",-0.909870356240019,\"\",-0.025930004751933522,-0.5117532550624662,-1.2543688256692467,-2.126173971927024,-0.19138412870945076,-2.3180197553334576,\"\",\"\",\"\",\"\",\"\",-0.1406285491801994,-0.48981248612344996,-0.017929465878054884,-0.7730357872001778,-0.1976012159531435,-0.9624620613315404,-1.3516699406388966,-2.4601824011739595,\"\",\"\",-2.7800594491870596,-1.4126279486198134,\"\",\"\",-3.3616889798893896,-0.6136345016052589,-1.5042217303123524,-1.4823499346971953,\"\",\"\",-0.9630522873075668,-2.5309566614339163,-1.2689658641696009,\"\",\"\",\"\",\"\",\"\",\"\",-1.2332467139558352],\"yaxis\":\"y2\",\"type\":\"scatter\"}],                        {\"hovermode\":\"x\",\"legend\":{\"bgcolor\":\"#F5F6F9\",\"font\":{\"color\":\"#4D5663\"}},\"paper_bgcolor\":\"#F5F6F9\",\"plot_bgcolor\":\"#F5F6F9\",\"template\":{\"data\":{\"barpolar\":[{\"marker\":{\"line\":{\"color\":\"#E5ECF6\",\"width\":0.5},\"pattern\":{\"fillmode\":\"overlay\",\"size\":10,\"solidity\":0.2}},\"type\":\"barpolar\"}],\"bar\":[{\"error_x\":{\"color\":\"#2a3f5f\"},\"error_y\":{\"color\":\"#2a3f5f\"},\"marker\":{\"line\":{\"color\":\"#E5ECF6\",\"width\":0.5},\"pattern\":{\"fillmode\":\"overlay\",\"size\":10,\"solidity\":0.2}},\"type\":\"bar\"}],\"carpet\":[{\"aaxis\":{\"endlinecolor\":\"#2a3f5f\",\"gridcolor\":\"white\",\"linecolor\":\"white\",\"minorgridcolor\":\"white\",\"startlinecolor\":\"#2a3f5f\"},\"baxis\":{\"endlinecolor\":\"#2a3f5f\",\"gridcolor\":\"white\",\"linecolor\":\"white\",\"minorgridcolor\":\"white\",\"startlinecolor\":\"#2a3f5f\"},\"type\":\"carpet\"}],\"choropleth\":[{\"colorbar\":{\"outlinewidth\":0,\"ticks\":\"\"},\"type\":\"choropleth\"}],\"contourcarpet\":[{\"colorbar\":{\"outlinewidth\":0,\"ticks\":\"\"},\"type\":\"contourcarpet\"}],\"contour\":[{\"colorbar\":{\"outlinewidth\":0,\"ticks\":\"\"},\"colorscale\":[[0.0,\"#0d0887\"],[0.1111111111111111,\"#46039f\"],[0.2222222222222222,\"#7201a8\"],[0.3333333333333333,\"#9c179e\"],[0.4444444444444444,\"#bd3786\"],[0.5555555555555556,\"#d8576b\"],[0.6666666666666666,\"#ed7953\"],[0.7777777777777778,\"#fb9f3a\"],[0.8888888888888888,\"#fdca26\"],[1.0,\"#f0f921\"]],\"type\":\"contour\"}],\"heatmapgl\":[{\"colorbar\":{\"outlinewidth\":0,\"ticks\":\"\"},\"colorscale\":[[0.0,\"#0d0887\"],[0.1111111111111111,\"#46039f\"],[0.2222222222222222,\"#7201a8\"],[0.3333333333333333,\"#9c179e\"],[0.4444444444444444,\"#bd3786\"],[0.5555555555555556,\"#d8576b\"],[0.6666666666666666,\"#ed7953\"],[0.7777777777777778,\"#fb9f3a\"],[0.8888888888888888,\"#fdca26\"],[1.0,\"#f0f921\"]],\"type\":\"heatmapgl\"}],\"heatmap\":[{\"colorbar\":{\"outlinewidth\":0,\"ticks\":\"\"},\"colorscale\":[[0.0,\"#0d0887\"],[0.1111111111111111,\"#46039f\"],[0.2222222222222222,\"#7201a8\"],[0.3333333333333333,\"#9c179e\"],[0.4444444444444444,\"#bd3786\"],[0.5555555555555556,\"#d8576b\"],[0.6666666666666666,\"#ed7953\"],[0.7777777777777778,\"#fb9f3a\"],[0.8888888888888888,\"#fdca26\"],[1.0,\"#f0f921\"]],\"type\":\"heatmap\"}],\"histogram2dcontour\":[{\"colorbar\":{\"outlinewidth\":0,\"ticks\":\"\"},\"colorscale\":[[0.0,\"#0d0887\"],[0.1111111111111111,\"#46039f\"],[0.2222222222222222,\"#7201a8\"],[0.3333333333333333,\"#9c179e\"],[0.4444444444444444,\"#bd3786\"],[0.5555555555555556,\"#d8576b\"],[0.6666666666666666,\"#ed7953\"],[0.7777777777777778,\"#fb9f3a\"],[0.8888888888888888,\"#fdca26\"],[1.0,\"#f0f921\"]],\"type\":\"histogram2dcontour\"}],\"histogram2d\":[{\"colorbar\":{\"outlinewidth\":0,\"ticks\":\"\"},\"colorscale\":[[0.0,\"#0d0887\"],[0.1111111111111111,\"#46039f\"],[0.2222222222222222,\"#7201a8\"],[0.3333333333333333,\"#9c179e\"],[0.4444444444444444,\"#bd3786\"],[0.5555555555555556,\"#d8576b\"],[0.6666666666666666,\"#ed7953\"],[0.7777777777777778,\"#fb9f3a\"],[0.8888888888888888,\"#fdca26\"],[1.0,\"#f0f921\"]],\"type\":\"histogram2d\"}],\"histogram\":[{\"marker\":{\"pattern\":{\"fillmode\":\"overlay\",\"size\":10,\"solidity\":0.2}},\"type\":\"histogram\"}],\"mesh3d\":[{\"colorbar\":{\"outlinewidth\":0,\"ticks\":\"\"},\"type\":\"mesh3d\"}],\"parcoords\":[{\"line\":{\"colorbar\":{\"outlinewidth\":0,\"ticks\":\"\"}},\"type\":\"parcoords\"}],\"pie\":[{\"automargin\":true,\"type\":\"pie\"}],\"scatter3d\":[{\"line\":{\"colorbar\":{\"outlinewidth\":0,\"ticks\":\"\"}},\"marker\":{\"colorbar\":{\"outlinewidth\":0,\"ticks\":\"\"}},\"type\":\"scatter3d\"}],\"scattercarpet\":[{\"marker\":{\"colorbar\":{\"outlinewidth\":0,\"ticks\":\"\"}},\"type\":\"scattercarpet\"}],\"scattergeo\":[{\"marker\":{\"colorbar\":{\"outlinewidth\":0,\"ticks\":\"\"}},\"type\":\"scattergeo\"}],\"scattergl\":[{\"marker\":{\"colorbar\":{\"outlinewidth\":0,\"ticks\":\"\"}},\"type\":\"scattergl\"}],\"scattermapbox\":[{\"marker\":{\"colorbar\":{\"outlinewidth\":0,\"ticks\":\"\"}},\"type\":\"scattermapbox\"}],\"scatterpolargl\":[{\"marker\":{\"colorbar\":{\"outlinewidth\":0,\"ticks\":\"\"}},\"type\":\"scatterpolargl\"}],\"scatterpolar\":[{\"marker\":{\"colorbar\":{\"outlinewidth\":0,\"ticks\":\"\"}},\"type\":\"scatterpolar\"}],\"scatter\":[{\"fillpattern\":{\"fillmode\":\"overlay\",\"size\":10,\"solidity\":0.2},\"type\":\"scatter\"}],\"scatterternary\":[{\"marker\":{\"colorbar\":{\"outlinewidth\":0,\"ticks\":\"\"}},\"type\":\"scatterternary\"}],\"surface\":[{\"colorbar\":{\"outlinewidth\":0,\"ticks\":\"\"},\"colorscale\":[[0.0,\"#0d0887\"],[0.1111111111111111,\"#46039f\"],[0.2222222222222222,\"#7201a8\"],[0.3333333333333333,\"#9c179e\"],[0.4444444444444444,\"#bd3786\"],[0.5555555555555556,\"#d8576b\"],[0.6666666666666666,\"#ed7953\"],[0.7777777777777778,\"#fb9f3a\"],[0.8888888888888888,\"#fdca26\"],[1.0,\"#f0f921\"]],\"type\":\"surface\"}],\"table\":[{\"cells\":{\"fill\":{\"color\":\"#EBF0F8\"},\"line\":{\"color\":\"white\"}},\"header\":{\"fill\":{\"color\":\"#C8D4E3\"},\"line\":{\"color\":\"white\"}},\"type\":\"table\"}]},\"layout\":{\"annotationdefaults\":{\"arrowcolor\":\"#2a3f5f\",\"arrowhead\":0,\"arrowwidth\":1},\"autotypenumbers\":\"strict\",\"coloraxis\":{\"colorbar\":{\"outlinewidth\":0,\"ticks\":\"\"}},\"colorscale\":{\"diverging\":[[0,\"#8e0152\"],[0.1,\"#c51b7d\"],[0.2,\"#de77ae\"],[0.3,\"#f1b6da\"],[0.4,\"#fde0ef\"],[0.5,\"#f7f7f7\"],[0.6,\"#e6f5d0\"],[0.7,\"#b8e186\"],[0.8,\"#7fbc41\"],[0.9,\"#4d9221\"],[1,\"#276419\"]],\"sequential\":[[0.0,\"#0d0887\"],[0.1111111111111111,\"#46039f\"],[0.2222222222222222,\"#7201a8\"],[0.3333333333333333,\"#9c179e\"],[0.4444444444444444,\"#bd3786\"],[0.5555555555555556,\"#d8576b\"],[0.6666666666666666,\"#ed7953\"],[0.7777777777777778,\"#fb9f3a\"],[0.8888888888888888,\"#fdca26\"],[1.0,\"#f0f921\"]],\"sequentialminus\":[[0.0,\"#0d0887\"],[0.1111111111111111,\"#46039f\"],[0.2222222222222222,\"#7201a8\"],[0.3333333333333333,\"#9c179e\"],[0.4444444444444444,\"#bd3786\"],[0.5555555555555556,\"#d8576b\"],[0.6666666666666666,\"#ed7953\"],[0.7777777777777778,\"#fb9f3a\"],[0.8888888888888888,\"#fdca26\"],[1.0,\"#f0f921\"]]},\"colorway\":[\"#636efa\",\"#EF553B\",\"#00cc96\",\"#ab63fa\",\"#FFA15A\",\"#19d3f3\",\"#FF6692\",\"#B6E880\",\"#FF97FF\",\"#FECB52\"],\"font\":{\"color\":\"#2a3f5f\"},\"geo\":{\"bgcolor\":\"white\",\"lakecolor\":\"white\",\"landcolor\":\"#E5ECF6\",\"showlakes\":true,\"showland\":true,\"subunitcolor\":\"white\"},\"hoverlabel\":{\"align\":\"left\"},\"hovermode\":\"closest\",\"mapbox\":{\"style\":\"light\"},\"paper_bgcolor\":\"white\",\"plot_bgcolor\":\"#E5ECF6\",\"polar\":{\"angularaxis\":{\"gridcolor\":\"white\",\"linecolor\":\"white\",\"ticks\":\"\"},\"bgcolor\":\"#E5ECF6\",\"radialaxis\":{\"gridcolor\":\"white\",\"linecolor\":\"white\",\"ticks\":\"\"}},\"scene\":{\"xaxis\":{\"backgroundcolor\":\"#E5ECF6\",\"gridcolor\":\"white\",\"gridwidth\":2,\"linecolor\":\"white\",\"showbackground\":true,\"ticks\":\"\",\"zerolinecolor\":\"white\"},\"yaxis\":{\"backgroundcolor\":\"#E5ECF6\",\"gridcolor\":\"white\",\"gridwidth\":2,\"linecolor\":\"white\",\"showbackground\":true,\"ticks\":\"\",\"zerolinecolor\":\"white\"},\"zaxis\":{\"backgroundcolor\":\"#E5ECF6\",\"gridcolor\":\"white\",\"gridwidth\":2,\"linecolor\":\"white\",\"showbackground\":true,\"ticks\":\"\",\"zerolinecolor\":\"white\"}},\"shapedefaults\":{\"line\":{\"color\":\"#2a3f5f\"}},\"ternary\":{\"aaxis\":{\"gridcolor\":\"white\",\"linecolor\":\"white\",\"ticks\":\"\"},\"baxis\":{\"gridcolor\":\"white\",\"linecolor\":\"white\",\"ticks\":\"\"},\"bgcolor\":\"#E5ECF6\",\"caxis\":{\"gridcolor\":\"white\",\"linecolor\":\"white\",\"ticks\":\"\"}},\"title\":{\"x\":0.05},\"xaxis\":{\"automargin\":true,\"gridcolor\":\"white\",\"linecolor\":\"white\",\"ticks\":\"\",\"title\":{\"standoff\":15},\"zerolinecolor\":\"white\",\"zerolinewidth\":2},\"yaxis\":{\"automargin\":true,\"gridcolor\":\"white\",\"linecolor\":\"white\",\"ticks\":\"\",\"title\":{\"standoff\":15},\"zerolinecolor\":\"white\",\"zerolinewidth\":2}}},\"title\":{\"font\":{\"color\":\"#4D5663\"}},\"xaxis\":{\"gridcolor\":\"#E1E5ED\",\"showgrid\":true,\"tickfont\":{\"color\":\"#4D5663\"},\"title\":{\"font\":{\"color\":\"#4D5663\"},\"text\":\"\"},\"zerolinecolor\":\"#E1E5ED\"},\"yaxis\":{\"domain\":[0.3,1],\"gridcolor\":\"#E1E5ED\",\"showgrid\":true,\"tickfont\":{\"color\":\"#4D5663\"},\"title\":{\"font\":{\"color\":\"#4D5663\"},\"text\":\"\"},\"zerolinecolor\":\"#E1E5ED\"},\"yaxis2\":{\"domain\":[0,0.25],\"gridcolor\":\"#E1E5ED\",\"showgrid\":true,\"tickfont\":{\"color\":\"#4D5663\"},\"title\":{\"font\":{\"color\":\"#4D5663\"},\"text\":\"Spread\"},\"zerolinecolor\":\"#E1E5ED\"},\"xaxis2\":{\"anchor\":\"y2\",\"gridcolor\":\"#E1E5ED\",\"showgrid\":true,\"showticklabels\":false,\"tickfont\":{\"color\":\"#4D5663\"},\"title\":{\"font\":{\"color\":\"#4D5663\"},\"text\":\"\"},\"zerolinecolor\":\"#E1E5ED\"}},                        {\"showLink\": true, \"linkText\": \"Export to plot.ly\", \"plotlyServerURL\": \"https://plot.ly\", \"responsive\": true}                    ).then(function(){\n",
       "                            \n",
       "var gd = document.getElementById('a58ec467-e0c4-4727-9c05-f9f691fd1989');\n",
       "var x = new MutationObserver(function (mutations, observer) {{\n",
       "        var display = window.getComputedStyle(gd).display;\n",
       "        if (!display || display === 'none') {{\n",
       "            console.log([gd, 'removed!']);\n",
       "            Plotly.purge(gd);\n",
       "            observer.disconnect();\n",
       "        }}\n",
       "}});\n",
       "\n",
       "// Listen for the removal of the full notebook cells\n",
       "var notebookContainer = gd.closest('#notebook-container');\n",
       "if (notebookContainer) {{\n",
       "    x.observe(notebookContainer, {childList: true});\n",
       "}}\n",
       "\n",
       "// Listen for the clearing of the current output cell\n",
       "var outputEl = gd.closest('.output');\n",
       "if (outputEl) {{\n",
       "    x.observe(outputEl, {childList: true});\n",
       "}}\n",
       "\n",
       "                        })                };                });            </script>        </div>"
      ]
     },
     "metadata": {},
     "output_type": "display_data"
    }
   ],
   "source": [
    "df[['A', 'B']].iplot(kind='spread')"
   ]
  },
  {
   "cell_type": "code",
   "execution_count": 42,
   "id": "ee313d9e",
   "metadata": {},
   "outputs": [
    {
     "data": {
      "application/vnd.plotly.v1+json": {
       "config": {
        "linkText": "Export to plot.ly",
        "plotlyServerURL": "https://plot.ly",
        "showLink": true
       },
       "data": [
        {
         "marker": {
          "color": [
           "rgb(255, 153, 51)",
           "rgb(55, 128, 191)",
           "rgb(50, 171, 96)",
           "rgb(128, 0, 128)",
           "rgb(219, 64, 82)",
           "rgb(0, 128, 128)",
           "rgb(255, 255, 51)",
           "rgb(128, 128, 0)",
           "rgb(251, 128, 114)",
           "rgb(128, 177, 211)"
          ],
          "line": {
           "width": 1.3
          },
          "size": [
           58,
           67,
           70,
           33,
           59,
           56,
           44,
           64,
           72,
           73,
           12,
           69,
           80,
           67,
           68,
           68,
           49,
           58,
           53,
           64,
           71,
           72,
           53,
           61,
           67,
           62,
           57,
           40,
           62,
           69,
           60,
           86,
           30,
           61,
           53,
           67,
           43,
           63,
           30,
           84,
           91,
           91,
           48,
           63,
           85,
           46,
           65,
           54,
           66,
           70,
           47,
           52,
           76,
           61,
           86,
           65,
           79,
           69,
           58,
           91,
           56,
           68,
           26,
           47,
           80,
           88,
           53,
           61,
           45,
           82,
           48,
           110,
           57,
           47,
           63,
           49,
           66,
           55,
           75,
           55,
           62,
           96,
           50,
           56,
           82,
           65,
           112,
           61,
           66,
           43,
           70,
           41,
           56,
           76,
           79,
           93,
           48,
           65,
           74,
           69
          ],
          "symbol": "circle"
         },
         "mode": "markers",
         "text": "",
         "type": "scatter",
         "x": [
          -0.5460778957347936,
          1.3014510422065746,
          0.26814934478756514,
          -0.3618191044714592,
          -0.7369237834399675,
          3.232474390779266,
          0.4502317191922599,
          0.29996219651162587,
          0.1722537891268259,
          -0.6669176939726003,
          1.1578674537274418,
          -1.476432366982033,
          -0.5472396471244979,
          -1.2937811853587022,
          -0.9013967416102897,
          0.8853025381342631,
          -1.1366898385165811,
          -2.6962483782363815,
          -1.6788450175371639,
          0.3546081661265342,
          0.7442380110818622,
          0.5619392224263491,
          0.6065249503129646,
          0.04089407242636777,
          -1.3342789853786823,
          -0.9369940551036597,
          0.10034758564092557,
          0.8075163635955258,
          0.38351490019648027,
          -0.3324193008656376,
          0.2797743330160391,
          -0.0026682896222340285,
          1.5101952298787567,
          0.8875873921209985,
          1.1495772264048136,
          -0.2464421692232896,
          1.8616344700460064,
          -0.2713449451449245,
          -1.8734698359308377,
          -0.4375931728140298,
          0.782786598083783,
          1.1427488896160929,
          -1.7014930434140594,
          0.7267623595379041,
          -0.007002364510007742,
          0.17509129779533658,
          -0.4781056073352823,
          0.5832965159892182,
          -0.6331491917976095,
          -0.3161961767682029,
          -2.3572250533205223,
          1.3512672934632202,
          0.05341203365733753,
          0.7670034141178904,
          0.18073432373892828,
          -0.7672344771558023,
          0.20558654605709664,
          -0.5544513388284268,
          1.5287039845218173,
          -1.1332355093479762,
          -1.4748315025375673,
          -1.1462469684745658,
          -1.052650035154753,
          -0.3907382513473276,
          -1.627183772248113,
          -0.3783231268569761,
          -0.1597912113636773,
          -1.3535219949676072,
          -0.23935950379079585,
          1.0159738780171244,
          -0.576711046906184,
          -0.7274673897933394,
          -1.4907578857702473,
          -0.7921446366064933,
          -0.08994575562284873,
          0.930250935265208,
          -1.3191164860374893,
          -1.3857346608655399,
          1.6340683152012712,
          1.170193417939178,
          -1.9931400227970575,
          -0.13615296286206194,
          0.0648707514248098,
          -0.5025897956063995,
          -1.845513405796715,
          -0.9477950010886944,
          0.2791081770738883,
          -0.9684113216516099,
          0.8229249871332075,
          0.4314515011373696,
          0.14872909873619033,
          0.2138849867192027,
          -1.2573571642428092,
          1.9379795654275749,
          -0.375126110803408,
          0.8139291956018956,
          0.37433213952728006,
          0.8346004863771042,
          -0.5062703709980042,
          0.6998141405879368
         ],
         "y": [
          0.8916549146321898,
          -0.3381931403080011,
          -0.37428192595009857,
          -0.9419524005632491,
          -1.0145977706243687,
          1.5583890754009588,
          -0.6852630085642236,
          0.6651332215213197,
          -0.9910188176038004,
          0.6161978813106868,
          0.3861938231042876,
          -0.60882693154804,
          0.19890215422838792,
          0.6775658736229073,
          0.797828468832904,
          0.07682513904133999,
          0.025107642292884074,
          -1.5576726094219517,
          1.4264356314033277,
          1.2666998992120595,
          -0.6943473865446161,
          -0.053895565447558316,
          0.4284264262379757,
          0.13208468398082687,
          0.7670307156234072,
          0.38390668729911087,
          0.6347177042230788,
          1.1974467440918999,
          0.2020632736198323,
          -1.0022455128645296,
          0.18371926512091438,
          -0.04109060733714235,
          -1.5481413250921956,
          -0.54934779822259,
          0.09252072296337743,
          -0.5367295945730247,
          -0.4777903101063822,
          0.10604568652569685,
          -0.8718547064946718,
          0.5708956722518306,
          0.06589086041506216,
          0.25580174667143174,
          -0.4312599780802227,
          -0.12443614311985786,
          1.5806599712009868,
          0.2870922514198373,
          0.5512944944835362,
          1.4527579119089358,
          0.2699387949848012,
          0.7904290473921192,
          -0.7816302662769503,
          -0.12821896698885438,
          -0.4225712340699086,
          -2.440144305643967,
          -0.9927129109667006,
          -0.18918780352731643,
          -0.09610392449157452,
          0.3554190174115922,
          -1.7864214361926745,
          -1.1073055045960427,
          -0.9630782474751012,
          0.10812185719468097,
          1.073523936772271,
          -0.19935412263787683,
          0.6908359830853447,
          -0.4429809411287429,
          -1.4187058463861983,
          -1.6721208685617281,
          -0.6786398548037761,
          0.7268002142268188,
          -0.4360824977259846,
          -0.23765490366988942,
          -1.4728284198921924,
          -0.01910884940631543,
          0.10765546033029476,
          1.8927129965967484,
          0.03255345460140715,
          1.0744477403084196,
          0.5661276059273651,
          -1.0592431238903615,
          0.786919426390002,
          1.2764749857577515,
          -0.14162598466362158,
          -0.5133580850066126,
          1.5161755740926746,
          -0.33416049948343557,
          1.7833299073862408,
          0.5139386130455855,
          -0.6842137040540731,
          -2.6483956539321154,
          1.111781386043757,
          2.744841648153119,
          0.011608699926791748,
          -0.2978790480255613,
          -1.5686049470141332,
          -1.3527125996567446,
          -0.8069995269798872,
          -0.8649491875996753,
          -1.129641165354729,
          1.933060854543772
         ]
        }
       ],
       "layout": {
        "legend": {
         "bgcolor": "#F5F6F9",
         "font": {
          "color": "#4D5663"
         }
        },
        "paper_bgcolor": "#F5F6F9",
        "plot_bgcolor": "#F5F6F9",
        "template": {
         "data": {
          "bar": [
           {
            "error_x": {
             "color": "#2a3f5f"
            },
            "error_y": {
             "color": "#2a3f5f"
            },
            "marker": {
             "line": {
              "color": "#E5ECF6",
              "width": 0.5
             },
             "pattern": {
              "fillmode": "overlay",
              "size": 10,
              "solidity": 0.2
             }
            },
            "type": "bar"
           }
          ],
          "barpolar": [
           {
            "marker": {
             "line": {
              "color": "#E5ECF6",
              "width": 0.5
             },
             "pattern": {
              "fillmode": "overlay",
              "size": 10,
              "solidity": 0.2
             }
            },
            "type": "barpolar"
           }
          ],
          "carpet": [
           {
            "aaxis": {
             "endlinecolor": "#2a3f5f",
             "gridcolor": "white",
             "linecolor": "white",
             "minorgridcolor": "white",
             "startlinecolor": "#2a3f5f"
            },
            "baxis": {
             "endlinecolor": "#2a3f5f",
             "gridcolor": "white",
             "linecolor": "white",
             "minorgridcolor": "white",
             "startlinecolor": "#2a3f5f"
            },
            "type": "carpet"
           }
          ],
          "choropleth": [
           {
            "colorbar": {
             "outlinewidth": 0,
             "ticks": ""
            },
            "type": "choropleth"
           }
          ],
          "contour": [
           {
            "colorbar": {
             "outlinewidth": 0,
             "ticks": ""
            },
            "colorscale": [
             [
              0,
              "#0d0887"
             ],
             [
              0.1111111111111111,
              "#46039f"
             ],
             [
              0.2222222222222222,
              "#7201a8"
             ],
             [
              0.3333333333333333,
              "#9c179e"
             ],
             [
              0.4444444444444444,
              "#bd3786"
             ],
             [
              0.5555555555555556,
              "#d8576b"
             ],
             [
              0.6666666666666666,
              "#ed7953"
             ],
             [
              0.7777777777777778,
              "#fb9f3a"
             ],
             [
              0.8888888888888888,
              "#fdca26"
             ],
             [
              1,
              "#f0f921"
             ]
            ],
            "type": "contour"
           }
          ],
          "contourcarpet": [
           {
            "colorbar": {
             "outlinewidth": 0,
             "ticks": ""
            },
            "type": "contourcarpet"
           }
          ],
          "heatmap": [
           {
            "colorbar": {
             "outlinewidth": 0,
             "ticks": ""
            },
            "colorscale": [
             [
              0,
              "#0d0887"
             ],
             [
              0.1111111111111111,
              "#46039f"
             ],
             [
              0.2222222222222222,
              "#7201a8"
             ],
             [
              0.3333333333333333,
              "#9c179e"
             ],
             [
              0.4444444444444444,
              "#bd3786"
             ],
             [
              0.5555555555555556,
              "#d8576b"
             ],
             [
              0.6666666666666666,
              "#ed7953"
             ],
             [
              0.7777777777777778,
              "#fb9f3a"
             ],
             [
              0.8888888888888888,
              "#fdca26"
             ],
             [
              1,
              "#f0f921"
             ]
            ],
            "type": "heatmap"
           }
          ],
          "heatmapgl": [
           {
            "colorbar": {
             "outlinewidth": 0,
             "ticks": ""
            },
            "colorscale": [
             [
              0,
              "#0d0887"
             ],
             [
              0.1111111111111111,
              "#46039f"
             ],
             [
              0.2222222222222222,
              "#7201a8"
             ],
             [
              0.3333333333333333,
              "#9c179e"
             ],
             [
              0.4444444444444444,
              "#bd3786"
             ],
             [
              0.5555555555555556,
              "#d8576b"
             ],
             [
              0.6666666666666666,
              "#ed7953"
             ],
             [
              0.7777777777777778,
              "#fb9f3a"
             ],
             [
              0.8888888888888888,
              "#fdca26"
             ],
             [
              1,
              "#f0f921"
             ]
            ],
            "type": "heatmapgl"
           }
          ],
          "histogram": [
           {
            "marker": {
             "pattern": {
              "fillmode": "overlay",
              "size": 10,
              "solidity": 0.2
             }
            },
            "type": "histogram"
           }
          ],
          "histogram2d": [
           {
            "colorbar": {
             "outlinewidth": 0,
             "ticks": ""
            },
            "colorscale": [
             [
              0,
              "#0d0887"
             ],
             [
              0.1111111111111111,
              "#46039f"
             ],
             [
              0.2222222222222222,
              "#7201a8"
             ],
             [
              0.3333333333333333,
              "#9c179e"
             ],
             [
              0.4444444444444444,
              "#bd3786"
             ],
             [
              0.5555555555555556,
              "#d8576b"
             ],
             [
              0.6666666666666666,
              "#ed7953"
             ],
             [
              0.7777777777777778,
              "#fb9f3a"
             ],
             [
              0.8888888888888888,
              "#fdca26"
             ],
             [
              1,
              "#f0f921"
             ]
            ],
            "type": "histogram2d"
           }
          ],
          "histogram2dcontour": [
           {
            "colorbar": {
             "outlinewidth": 0,
             "ticks": ""
            },
            "colorscale": [
             [
              0,
              "#0d0887"
             ],
             [
              0.1111111111111111,
              "#46039f"
             ],
             [
              0.2222222222222222,
              "#7201a8"
             ],
             [
              0.3333333333333333,
              "#9c179e"
             ],
             [
              0.4444444444444444,
              "#bd3786"
             ],
             [
              0.5555555555555556,
              "#d8576b"
             ],
             [
              0.6666666666666666,
              "#ed7953"
             ],
             [
              0.7777777777777778,
              "#fb9f3a"
             ],
             [
              0.8888888888888888,
              "#fdca26"
             ],
             [
              1,
              "#f0f921"
             ]
            ],
            "type": "histogram2dcontour"
           }
          ],
          "mesh3d": [
           {
            "colorbar": {
             "outlinewidth": 0,
             "ticks": ""
            },
            "type": "mesh3d"
           }
          ],
          "parcoords": [
           {
            "line": {
             "colorbar": {
              "outlinewidth": 0,
              "ticks": ""
             }
            },
            "type": "parcoords"
           }
          ],
          "pie": [
           {
            "automargin": true,
            "type": "pie"
           }
          ],
          "scatter": [
           {
            "fillpattern": {
             "fillmode": "overlay",
             "size": 10,
             "solidity": 0.2
            },
            "type": "scatter"
           }
          ],
          "scatter3d": [
           {
            "line": {
             "colorbar": {
              "outlinewidth": 0,
              "ticks": ""
             }
            },
            "marker": {
             "colorbar": {
              "outlinewidth": 0,
              "ticks": ""
             }
            },
            "type": "scatter3d"
           }
          ],
          "scattercarpet": [
           {
            "marker": {
             "colorbar": {
              "outlinewidth": 0,
              "ticks": ""
             }
            },
            "type": "scattercarpet"
           }
          ],
          "scattergeo": [
           {
            "marker": {
             "colorbar": {
              "outlinewidth": 0,
              "ticks": ""
             }
            },
            "type": "scattergeo"
           }
          ],
          "scattergl": [
           {
            "marker": {
             "colorbar": {
              "outlinewidth": 0,
              "ticks": ""
             }
            },
            "type": "scattergl"
           }
          ],
          "scattermapbox": [
           {
            "marker": {
             "colorbar": {
              "outlinewidth": 0,
              "ticks": ""
             }
            },
            "type": "scattermapbox"
           }
          ],
          "scatterpolar": [
           {
            "marker": {
             "colorbar": {
              "outlinewidth": 0,
              "ticks": ""
             }
            },
            "type": "scatterpolar"
           }
          ],
          "scatterpolargl": [
           {
            "marker": {
             "colorbar": {
              "outlinewidth": 0,
              "ticks": ""
             }
            },
            "type": "scatterpolargl"
           }
          ],
          "scatterternary": [
           {
            "marker": {
             "colorbar": {
              "outlinewidth": 0,
              "ticks": ""
             }
            },
            "type": "scatterternary"
           }
          ],
          "surface": [
           {
            "colorbar": {
             "outlinewidth": 0,
             "ticks": ""
            },
            "colorscale": [
             [
              0,
              "#0d0887"
             ],
             [
              0.1111111111111111,
              "#46039f"
             ],
             [
              0.2222222222222222,
              "#7201a8"
             ],
             [
              0.3333333333333333,
              "#9c179e"
             ],
             [
              0.4444444444444444,
              "#bd3786"
             ],
             [
              0.5555555555555556,
              "#d8576b"
             ],
             [
              0.6666666666666666,
              "#ed7953"
             ],
             [
              0.7777777777777778,
              "#fb9f3a"
             ],
             [
              0.8888888888888888,
              "#fdca26"
             ],
             [
              1,
              "#f0f921"
             ]
            ],
            "type": "surface"
           }
          ],
          "table": [
           {
            "cells": {
             "fill": {
              "color": "#EBF0F8"
             },
             "line": {
              "color": "white"
             }
            },
            "header": {
             "fill": {
              "color": "#C8D4E3"
             },
             "line": {
              "color": "white"
             }
            },
            "type": "table"
           }
          ]
         },
         "layout": {
          "annotationdefaults": {
           "arrowcolor": "#2a3f5f",
           "arrowhead": 0,
           "arrowwidth": 1
          },
          "autotypenumbers": "strict",
          "coloraxis": {
           "colorbar": {
            "outlinewidth": 0,
            "ticks": ""
           }
          },
          "colorscale": {
           "diverging": [
            [
             0,
             "#8e0152"
            ],
            [
             0.1,
             "#c51b7d"
            ],
            [
             0.2,
             "#de77ae"
            ],
            [
             0.3,
             "#f1b6da"
            ],
            [
             0.4,
             "#fde0ef"
            ],
            [
             0.5,
             "#f7f7f7"
            ],
            [
             0.6,
             "#e6f5d0"
            ],
            [
             0.7,
             "#b8e186"
            ],
            [
             0.8,
             "#7fbc41"
            ],
            [
             0.9,
             "#4d9221"
            ],
            [
             1,
             "#276419"
            ]
           ],
           "sequential": [
            [
             0,
             "#0d0887"
            ],
            [
             0.1111111111111111,
             "#46039f"
            ],
            [
             0.2222222222222222,
             "#7201a8"
            ],
            [
             0.3333333333333333,
             "#9c179e"
            ],
            [
             0.4444444444444444,
             "#bd3786"
            ],
            [
             0.5555555555555556,
             "#d8576b"
            ],
            [
             0.6666666666666666,
             "#ed7953"
            ],
            [
             0.7777777777777778,
             "#fb9f3a"
            ],
            [
             0.8888888888888888,
             "#fdca26"
            ],
            [
             1,
             "#f0f921"
            ]
           ],
           "sequentialminus": [
            [
             0,
             "#0d0887"
            ],
            [
             0.1111111111111111,
             "#46039f"
            ],
            [
             0.2222222222222222,
             "#7201a8"
            ],
            [
             0.3333333333333333,
             "#9c179e"
            ],
            [
             0.4444444444444444,
             "#bd3786"
            ],
            [
             0.5555555555555556,
             "#d8576b"
            ],
            [
             0.6666666666666666,
             "#ed7953"
            ],
            [
             0.7777777777777778,
             "#fb9f3a"
            ],
            [
             0.8888888888888888,
             "#fdca26"
            ],
            [
             1,
             "#f0f921"
            ]
           ]
          },
          "colorway": [
           "#636efa",
           "#EF553B",
           "#00cc96",
           "#ab63fa",
           "#FFA15A",
           "#19d3f3",
           "#FF6692",
           "#B6E880",
           "#FF97FF",
           "#FECB52"
          ],
          "font": {
           "color": "#2a3f5f"
          },
          "geo": {
           "bgcolor": "white",
           "lakecolor": "white",
           "landcolor": "#E5ECF6",
           "showlakes": true,
           "showland": true,
           "subunitcolor": "white"
          },
          "hoverlabel": {
           "align": "left"
          },
          "hovermode": "closest",
          "mapbox": {
           "style": "light"
          },
          "paper_bgcolor": "white",
          "plot_bgcolor": "#E5ECF6",
          "polar": {
           "angularaxis": {
            "gridcolor": "white",
            "linecolor": "white",
            "ticks": ""
           },
           "bgcolor": "#E5ECF6",
           "radialaxis": {
            "gridcolor": "white",
            "linecolor": "white",
            "ticks": ""
           }
          },
          "scene": {
           "xaxis": {
            "backgroundcolor": "#E5ECF6",
            "gridcolor": "white",
            "gridwidth": 2,
            "linecolor": "white",
            "showbackground": true,
            "ticks": "",
            "zerolinecolor": "white"
           },
           "yaxis": {
            "backgroundcolor": "#E5ECF6",
            "gridcolor": "white",
            "gridwidth": 2,
            "linecolor": "white",
            "showbackground": true,
            "ticks": "",
            "zerolinecolor": "white"
           },
           "zaxis": {
            "backgroundcolor": "#E5ECF6",
            "gridcolor": "white",
            "gridwidth": 2,
            "linecolor": "white",
            "showbackground": true,
            "ticks": "",
            "zerolinecolor": "white"
           }
          },
          "shapedefaults": {
           "line": {
            "color": "#2a3f5f"
           }
          },
          "ternary": {
           "aaxis": {
            "gridcolor": "white",
            "linecolor": "white",
            "ticks": ""
           },
           "baxis": {
            "gridcolor": "white",
            "linecolor": "white",
            "ticks": ""
           },
           "bgcolor": "#E5ECF6",
           "caxis": {
            "gridcolor": "white",
            "linecolor": "white",
            "ticks": ""
           }
          },
          "title": {
           "x": 0.05
          },
          "xaxis": {
           "automargin": true,
           "gridcolor": "white",
           "linecolor": "white",
           "ticks": "",
           "title": {
            "standoff": 15
           },
           "zerolinecolor": "white",
           "zerolinewidth": 2
          },
          "yaxis": {
           "automargin": true,
           "gridcolor": "white",
           "linecolor": "white",
           "ticks": "",
           "title": {
            "standoff": 15
           },
           "zerolinecolor": "white",
           "zerolinewidth": 2
          }
         }
        },
        "title": {
         "font": {
          "color": "#4D5663"
         }
        },
        "xaxis": {
         "gridcolor": "#E1E5ED",
         "showgrid": true,
         "tickfont": {
          "color": "#4D5663"
         },
         "title": {
          "font": {
           "color": "#4D5663"
          },
          "text": ""
         },
         "zerolinecolor": "#E1E5ED"
        },
        "yaxis": {
         "gridcolor": "#E1E5ED",
         "showgrid": true,
         "tickfont": {
          "color": "#4D5663"
         },
         "title": {
          "font": {
           "color": "#4D5663"
          },
          "text": ""
         },
         "zerolinecolor": "#E1E5ED"
        }
       }
      },
      "text/html": [
       "<div>                            <div id=\"ca481da5-bb5a-42da-ba3e-ad340b5d7f59\" class=\"plotly-graph-div\" style=\"height:525px; width:100%;\"></div>            <script type=\"text/javascript\">                require([\"plotly\"], function(Plotly) {                    window.PLOTLYENV=window.PLOTLYENV || {};\n",
       "                    window.PLOTLYENV.BASE_URL='https://plot.ly';                                    if (document.getElementById(\"ca481da5-bb5a-42da-ba3e-ad340b5d7f59\")) {                    Plotly.newPlot(                        \"ca481da5-bb5a-42da-ba3e-ad340b5d7f59\",                        [{\"marker\":{\"color\":[\"rgb(255, 153, 51)\",\"rgb(55, 128, 191)\",\"rgb(50, 171, 96)\",\"rgb(128, 0, 128)\",\"rgb(219, 64, 82)\",\"rgb(0, 128, 128)\",\"rgb(255, 255, 51)\",\"rgb(128, 128, 0)\",\"rgb(251, 128, 114)\",\"rgb(128, 177, 211)\"],\"line\":{\"width\":1.3},\"size\":[58,67,70,33,59,56,44,64,72,73,12,69,80,67,68,68,49,58,53,64,71,72,53,61,67,62,57,40,62,69,60,86,30,61,53,67,43,63,30,84,91,91,48,63,85,46,65,54,66,70,47,52,76,61,86,65,79,69,58,91,56,68,26,47,80,88,53,61,45,82,48,110,57,47,63,49,66,55,75,55,62,96,50,56,82,65,112,61,66,43,70,41,56,76,79,93,48,65,74,69],\"symbol\":\"circle\"},\"mode\":\"markers\",\"text\":\"\",\"x\":[-0.5460778957347936,1.3014510422065746,0.26814934478756514,-0.3618191044714592,-0.7369237834399675,3.232474390779266,0.4502317191922599,0.29996219651162587,0.1722537891268259,-0.6669176939726003,1.1578674537274418,-1.476432366982033,-0.5472396471244979,-1.2937811853587022,-0.9013967416102897,0.8853025381342631,-1.1366898385165811,-2.6962483782363815,-1.6788450175371639,0.3546081661265342,0.7442380110818622,0.5619392224263491,0.6065249503129646,0.04089407242636777,-1.3342789853786823,-0.9369940551036597,0.10034758564092557,0.8075163635955258,0.38351490019648027,-0.3324193008656376,0.2797743330160391,-0.0026682896222340285,1.5101952298787567,0.8875873921209985,1.1495772264048136,-0.2464421692232896,1.8616344700460064,-0.2713449451449245,-1.8734698359308377,-0.4375931728140298,0.782786598083783,1.1427488896160929,-1.7014930434140594,0.7267623595379041,-0.007002364510007742,0.17509129779533658,-0.4781056073352823,0.5832965159892182,-0.6331491917976095,-0.3161961767682029,-2.3572250533205223,1.3512672934632202,0.05341203365733753,0.7670034141178904,0.18073432373892828,-0.7672344771558023,0.20558654605709664,-0.5544513388284268,1.5287039845218173,-1.1332355093479762,-1.4748315025375673,-1.1462469684745658,-1.052650035154753,-0.3907382513473276,-1.627183772248113,-0.3783231268569761,-0.1597912113636773,-1.3535219949676072,-0.23935950379079585,1.0159738780171244,-0.576711046906184,-0.7274673897933394,-1.4907578857702473,-0.7921446366064933,-0.08994575562284873,0.930250935265208,-1.3191164860374893,-1.3857346608655399,1.6340683152012712,1.170193417939178,-1.9931400227970575,-0.13615296286206194,0.0648707514248098,-0.5025897956063995,-1.845513405796715,-0.9477950010886944,0.2791081770738883,-0.9684113216516099,0.8229249871332075,0.4314515011373696,0.14872909873619033,0.2138849867192027,-1.2573571642428092,1.9379795654275749,-0.375126110803408,0.8139291956018956,0.37433213952728006,0.8346004863771042,-0.5062703709980042,0.6998141405879368],\"y\":[0.8916549146321898,-0.3381931403080011,-0.37428192595009857,-0.9419524005632491,-1.0145977706243687,1.5583890754009588,-0.6852630085642236,0.6651332215213197,-0.9910188176038004,0.6161978813106868,0.3861938231042876,-0.60882693154804,0.19890215422838792,0.6775658736229073,0.797828468832904,0.07682513904133999,0.025107642292884074,-1.5576726094219517,1.4264356314033277,1.2666998992120595,-0.6943473865446161,-0.053895565447558316,0.4284264262379757,0.13208468398082687,0.7670307156234072,0.38390668729911087,0.6347177042230788,1.1974467440918999,0.2020632736198323,-1.0022455128645296,0.18371926512091438,-0.04109060733714235,-1.5481413250921956,-0.54934779822259,0.09252072296337743,-0.5367295945730247,-0.4777903101063822,0.10604568652569685,-0.8718547064946718,0.5708956722518306,0.06589086041506216,0.25580174667143174,-0.4312599780802227,-0.12443614311985786,1.5806599712009868,0.2870922514198373,0.5512944944835362,1.4527579119089358,0.2699387949848012,0.7904290473921192,-0.7816302662769503,-0.12821896698885438,-0.4225712340699086,-2.440144305643967,-0.9927129109667006,-0.18918780352731643,-0.09610392449157452,0.3554190174115922,-1.7864214361926745,-1.1073055045960427,-0.9630782474751012,0.10812185719468097,1.073523936772271,-0.19935412263787683,0.6908359830853447,-0.4429809411287429,-1.4187058463861983,-1.6721208685617281,-0.6786398548037761,0.7268002142268188,-0.4360824977259846,-0.23765490366988942,-1.4728284198921924,-0.01910884940631543,0.10765546033029476,1.8927129965967484,0.03255345460140715,1.0744477403084196,0.5661276059273651,-1.0592431238903615,0.786919426390002,1.2764749857577515,-0.14162598466362158,-0.5133580850066126,1.5161755740926746,-0.33416049948343557,1.7833299073862408,0.5139386130455855,-0.6842137040540731,-2.6483956539321154,1.111781386043757,2.744841648153119,0.011608699926791748,-0.2978790480255613,-1.5686049470141332,-1.3527125996567446,-0.8069995269798872,-0.8649491875996753,-1.129641165354729,1.933060854543772],\"type\":\"scatter\"}],                        {\"legend\":{\"bgcolor\":\"#F5F6F9\",\"font\":{\"color\":\"#4D5663\"}},\"paper_bgcolor\":\"#F5F6F9\",\"plot_bgcolor\":\"#F5F6F9\",\"template\":{\"data\":{\"barpolar\":[{\"marker\":{\"line\":{\"color\":\"#E5ECF6\",\"width\":0.5},\"pattern\":{\"fillmode\":\"overlay\",\"size\":10,\"solidity\":0.2}},\"type\":\"barpolar\"}],\"bar\":[{\"error_x\":{\"color\":\"#2a3f5f\"},\"error_y\":{\"color\":\"#2a3f5f\"},\"marker\":{\"line\":{\"color\":\"#E5ECF6\",\"width\":0.5},\"pattern\":{\"fillmode\":\"overlay\",\"size\":10,\"solidity\":0.2}},\"type\":\"bar\"}],\"carpet\":[{\"aaxis\":{\"endlinecolor\":\"#2a3f5f\",\"gridcolor\":\"white\",\"linecolor\":\"white\",\"minorgridcolor\":\"white\",\"startlinecolor\":\"#2a3f5f\"},\"baxis\":{\"endlinecolor\":\"#2a3f5f\",\"gridcolor\":\"white\",\"linecolor\":\"white\",\"minorgridcolor\":\"white\",\"startlinecolor\":\"#2a3f5f\"},\"type\":\"carpet\"}],\"choropleth\":[{\"colorbar\":{\"outlinewidth\":0,\"ticks\":\"\"},\"type\":\"choropleth\"}],\"contourcarpet\":[{\"colorbar\":{\"outlinewidth\":0,\"ticks\":\"\"},\"type\":\"contourcarpet\"}],\"contour\":[{\"colorbar\":{\"outlinewidth\":0,\"ticks\":\"\"},\"colorscale\":[[0.0,\"#0d0887\"],[0.1111111111111111,\"#46039f\"],[0.2222222222222222,\"#7201a8\"],[0.3333333333333333,\"#9c179e\"],[0.4444444444444444,\"#bd3786\"],[0.5555555555555556,\"#d8576b\"],[0.6666666666666666,\"#ed7953\"],[0.7777777777777778,\"#fb9f3a\"],[0.8888888888888888,\"#fdca26\"],[1.0,\"#f0f921\"]],\"type\":\"contour\"}],\"heatmapgl\":[{\"colorbar\":{\"outlinewidth\":0,\"ticks\":\"\"},\"colorscale\":[[0.0,\"#0d0887\"],[0.1111111111111111,\"#46039f\"],[0.2222222222222222,\"#7201a8\"],[0.3333333333333333,\"#9c179e\"],[0.4444444444444444,\"#bd3786\"],[0.5555555555555556,\"#d8576b\"],[0.6666666666666666,\"#ed7953\"],[0.7777777777777778,\"#fb9f3a\"],[0.8888888888888888,\"#fdca26\"],[1.0,\"#f0f921\"]],\"type\":\"heatmapgl\"}],\"heatmap\":[{\"colorbar\":{\"outlinewidth\":0,\"ticks\":\"\"},\"colorscale\":[[0.0,\"#0d0887\"],[0.1111111111111111,\"#46039f\"],[0.2222222222222222,\"#7201a8\"],[0.3333333333333333,\"#9c179e\"],[0.4444444444444444,\"#bd3786\"],[0.5555555555555556,\"#d8576b\"],[0.6666666666666666,\"#ed7953\"],[0.7777777777777778,\"#fb9f3a\"],[0.8888888888888888,\"#fdca26\"],[1.0,\"#f0f921\"]],\"type\":\"heatmap\"}],\"histogram2dcontour\":[{\"colorbar\":{\"outlinewidth\":0,\"ticks\":\"\"},\"colorscale\":[[0.0,\"#0d0887\"],[0.1111111111111111,\"#46039f\"],[0.2222222222222222,\"#7201a8\"],[0.3333333333333333,\"#9c179e\"],[0.4444444444444444,\"#bd3786\"],[0.5555555555555556,\"#d8576b\"],[0.6666666666666666,\"#ed7953\"],[0.7777777777777778,\"#fb9f3a\"],[0.8888888888888888,\"#fdca26\"],[1.0,\"#f0f921\"]],\"type\":\"histogram2dcontour\"}],\"histogram2d\":[{\"colorbar\":{\"outlinewidth\":0,\"ticks\":\"\"},\"colorscale\":[[0.0,\"#0d0887\"],[0.1111111111111111,\"#46039f\"],[0.2222222222222222,\"#7201a8\"],[0.3333333333333333,\"#9c179e\"],[0.4444444444444444,\"#bd3786\"],[0.5555555555555556,\"#d8576b\"],[0.6666666666666666,\"#ed7953\"],[0.7777777777777778,\"#fb9f3a\"],[0.8888888888888888,\"#fdca26\"],[1.0,\"#f0f921\"]],\"type\":\"histogram2d\"}],\"histogram\":[{\"marker\":{\"pattern\":{\"fillmode\":\"overlay\",\"size\":10,\"solidity\":0.2}},\"type\":\"histogram\"}],\"mesh3d\":[{\"colorbar\":{\"outlinewidth\":0,\"ticks\":\"\"},\"type\":\"mesh3d\"}],\"parcoords\":[{\"line\":{\"colorbar\":{\"outlinewidth\":0,\"ticks\":\"\"}},\"type\":\"parcoords\"}],\"pie\":[{\"automargin\":true,\"type\":\"pie\"}],\"scatter3d\":[{\"line\":{\"colorbar\":{\"outlinewidth\":0,\"ticks\":\"\"}},\"marker\":{\"colorbar\":{\"outlinewidth\":0,\"ticks\":\"\"}},\"type\":\"scatter3d\"}],\"scattercarpet\":[{\"marker\":{\"colorbar\":{\"outlinewidth\":0,\"ticks\":\"\"}},\"type\":\"scattercarpet\"}],\"scattergeo\":[{\"marker\":{\"colorbar\":{\"outlinewidth\":0,\"ticks\":\"\"}},\"type\":\"scattergeo\"}],\"scattergl\":[{\"marker\":{\"colorbar\":{\"outlinewidth\":0,\"ticks\":\"\"}},\"type\":\"scattergl\"}],\"scattermapbox\":[{\"marker\":{\"colorbar\":{\"outlinewidth\":0,\"ticks\":\"\"}},\"type\":\"scattermapbox\"}],\"scatterpolargl\":[{\"marker\":{\"colorbar\":{\"outlinewidth\":0,\"ticks\":\"\"}},\"type\":\"scatterpolargl\"}],\"scatterpolar\":[{\"marker\":{\"colorbar\":{\"outlinewidth\":0,\"ticks\":\"\"}},\"type\":\"scatterpolar\"}],\"scatter\":[{\"fillpattern\":{\"fillmode\":\"overlay\",\"size\":10,\"solidity\":0.2},\"type\":\"scatter\"}],\"scatterternary\":[{\"marker\":{\"colorbar\":{\"outlinewidth\":0,\"ticks\":\"\"}},\"type\":\"scatterternary\"}],\"surface\":[{\"colorbar\":{\"outlinewidth\":0,\"ticks\":\"\"},\"colorscale\":[[0.0,\"#0d0887\"],[0.1111111111111111,\"#46039f\"],[0.2222222222222222,\"#7201a8\"],[0.3333333333333333,\"#9c179e\"],[0.4444444444444444,\"#bd3786\"],[0.5555555555555556,\"#d8576b\"],[0.6666666666666666,\"#ed7953\"],[0.7777777777777778,\"#fb9f3a\"],[0.8888888888888888,\"#fdca26\"],[1.0,\"#f0f921\"]],\"type\":\"surface\"}],\"table\":[{\"cells\":{\"fill\":{\"color\":\"#EBF0F8\"},\"line\":{\"color\":\"white\"}},\"header\":{\"fill\":{\"color\":\"#C8D4E3\"},\"line\":{\"color\":\"white\"}},\"type\":\"table\"}]},\"layout\":{\"annotationdefaults\":{\"arrowcolor\":\"#2a3f5f\",\"arrowhead\":0,\"arrowwidth\":1},\"autotypenumbers\":\"strict\",\"coloraxis\":{\"colorbar\":{\"outlinewidth\":0,\"ticks\":\"\"}},\"colorscale\":{\"diverging\":[[0,\"#8e0152\"],[0.1,\"#c51b7d\"],[0.2,\"#de77ae\"],[0.3,\"#f1b6da\"],[0.4,\"#fde0ef\"],[0.5,\"#f7f7f7\"],[0.6,\"#e6f5d0\"],[0.7,\"#b8e186\"],[0.8,\"#7fbc41\"],[0.9,\"#4d9221\"],[1,\"#276419\"]],\"sequential\":[[0.0,\"#0d0887\"],[0.1111111111111111,\"#46039f\"],[0.2222222222222222,\"#7201a8\"],[0.3333333333333333,\"#9c179e\"],[0.4444444444444444,\"#bd3786\"],[0.5555555555555556,\"#d8576b\"],[0.6666666666666666,\"#ed7953\"],[0.7777777777777778,\"#fb9f3a\"],[0.8888888888888888,\"#fdca26\"],[1.0,\"#f0f921\"]],\"sequentialminus\":[[0.0,\"#0d0887\"],[0.1111111111111111,\"#46039f\"],[0.2222222222222222,\"#7201a8\"],[0.3333333333333333,\"#9c179e\"],[0.4444444444444444,\"#bd3786\"],[0.5555555555555556,\"#d8576b\"],[0.6666666666666666,\"#ed7953\"],[0.7777777777777778,\"#fb9f3a\"],[0.8888888888888888,\"#fdca26\"],[1.0,\"#f0f921\"]]},\"colorway\":[\"#636efa\",\"#EF553B\",\"#00cc96\",\"#ab63fa\",\"#FFA15A\",\"#19d3f3\",\"#FF6692\",\"#B6E880\",\"#FF97FF\",\"#FECB52\"],\"font\":{\"color\":\"#2a3f5f\"},\"geo\":{\"bgcolor\":\"white\",\"lakecolor\":\"white\",\"landcolor\":\"#E5ECF6\",\"showlakes\":true,\"showland\":true,\"subunitcolor\":\"white\"},\"hoverlabel\":{\"align\":\"left\"},\"hovermode\":\"closest\",\"mapbox\":{\"style\":\"light\"},\"paper_bgcolor\":\"white\",\"plot_bgcolor\":\"#E5ECF6\",\"polar\":{\"angularaxis\":{\"gridcolor\":\"white\",\"linecolor\":\"white\",\"ticks\":\"\"},\"bgcolor\":\"#E5ECF6\",\"radialaxis\":{\"gridcolor\":\"white\",\"linecolor\":\"white\",\"ticks\":\"\"}},\"scene\":{\"xaxis\":{\"backgroundcolor\":\"#E5ECF6\",\"gridcolor\":\"white\",\"gridwidth\":2,\"linecolor\":\"white\",\"showbackground\":true,\"ticks\":\"\",\"zerolinecolor\":\"white\"},\"yaxis\":{\"backgroundcolor\":\"#E5ECF6\",\"gridcolor\":\"white\",\"gridwidth\":2,\"linecolor\":\"white\",\"showbackground\":true,\"ticks\":\"\",\"zerolinecolor\":\"white\"},\"zaxis\":{\"backgroundcolor\":\"#E5ECF6\",\"gridcolor\":\"white\",\"gridwidth\":2,\"linecolor\":\"white\",\"showbackground\":true,\"ticks\":\"\",\"zerolinecolor\":\"white\"}},\"shapedefaults\":{\"line\":{\"color\":\"#2a3f5f\"}},\"ternary\":{\"aaxis\":{\"gridcolor\":\"white\",\"linecolor\":\"white\",\"ticks\":\"\"},\"baxis\":{\"gridcolor\":\"white\",\"linecolor\":\"white\",\"ticks\":\"\"},\"bgcolor\":\"#E5ECF6\",\"caxis\":{\"gridcolor\":\"white\",\"linecolor\":\"white\",\"ticks\":\"\"}},\"title\":{\"x\":0.05},\"xaxis\":{\"automargin\":true,\"gridcolor\":\"white\",\"linecolor\":\"white\",\"ticks\":\"\",\"title\":{\"standoff\":15},\"zerolinecolor\":\"white\",\"zerolinewidth\":2},\"yaxis\":{\"automargin\":true,\"gridcolor\":\"white\",\"linecolor\":\"white\",\"ticks\":\"\",\"title\":{\"standoff\":15},\"zerolinecolor\":\"white\",\"zerolinewidth\":2}}},\"title\":{\"font\":{\"color\":\"#4D5663\"}},\"xaxis\":{\"gridcolor\":\"#E1E5ED\",\"showgrid\":true,\"tickfont\":{\"color\":\"#4D5663\"},\"title\":{\"font\":{\"color\":\"#4D5663\"},\"text\":\"\"},\"zerolinecolor\":\"#E1E5ED\"},\"yaxis\":{\"gridcolor\":\"#E1E5ED\",\"showgrid\":true,\"tickfont\":{\"color\":\"#4D5663\"},\"title\":{\"font\":{\"color\":\"#4D5663\"},\"text\":\"\"},\"zerolinecolor\":\"#E1E5ED\"}},                        {\"showLink\": true, \"linkText\": \"Export to plot.ly\", \"plotlyServerURL\": \"https://plot.ly\", \"responsive\": true}                    ).then(function(){\n",
       "                            \n",
       "var gd = document.getElementById('ca481da5-bb5a-42da-ba3e-ad340b5d7f59');\n",
       "var x = new MutationObserver(function (mutations, observer) {{\n",
       "        var display = window.getComputedStyle(gd).display;\n",
       "        if (!display || display === 'none') {{\n",
       "            console.log([gd, 'removed!']);\n",
       "            Plotly.purge(gd);\n",
       "            observer.disconnect();\n",
       "        }}\n",
       "}});\n",
       "\n",
       "// Listen for the removal of the full notebook cells\n",
       "var notebookContainer = gd.closest('#notebook-container');\n",
       "if (notebookContainer) {{\n",
       "    x.observe(notebookContainer, {childList: true});\n",
       "}}\n",
       "\n",
       "// Listen for the clearing of the current output cell\n",
       "var outputEl = gd.closest('.output');\n",
       "if (outputEl) {{\n",
       "    x.observe(outputEl, {childList: true});\n",
       "}}\n",
       "\n",
       "                        })                };                });            </script>        </div>"
      ]
     },
     "metadata": {},
     "output_type": "display_data"
    }
   ],
   "source": [
    "df.iplot(kind='bubble', x='A', y='B', size='C')"
   ]
  },
  {
   "cell_type": "code",
   "execution_count": 43,
   "id": "03118eff",
   "metadata": {},
   "outputs": [
    {
     "data": {
      "application/vnd.plotly.v1+json": {
       "config": {
        "linkText": "Export to plot.ly",
        "plotlyServerURL": "https://plot.ly",
        "showLink": true
       },
       "data": [
        {
         "histfunc": "count",
         "histnorm": "",
         "marker": {
          "color": "rgba(255, 153, 51, 1.0)",
          "line": {
           "color": "#4D5663",
           "width": 1.3
          }
         },
         "name": "A",
         "nbinsx": 10,
         "opacity": 0.8,
         "orientation": "v",
         "type": "histogram",
         "x": [
          -0.5460778957347936,
          1.3014510422065746,
          0.26814934478756514,
          -0.3618191044714592,
          -0.7369237834399675,
          3.232474390779266,
          0.4502317191922599,
          0.29996219651162587,
          0.1722537891268259,
          -0.6669176939726003,
          1.1578674537274418,
          -1.476432366982033,
          -0.5472396471244979,
          -1.2937811853587022,
          -0.9013967416102897,
          0.8853025381342631,
          -1.1366898385165811,
          -2.6962483782363815,
          -1.6788450175371639,
          0.3546081661265342,
          0.7442380110818622,
          0.5619392224263491,
          0.6065249503129646,
          0.04089407242636777,
          -1.3342789853786823,
          -0.9369940551036597,
          0.10034758564092557,
          0.8075163635955258,
          0.38351490019648027,
          -0.3324193008656376,
          0.2797743330160391,
          -0.0026682896222340285,
          1.5101952298787567,
          0.8875873921209985,
          1.1495772264048136,
          -0.2464421692232896,
          1.8616344700460064,
          -0.2713449451449245,
          -1.8734698359308377,
          -0.4375931728140298,
          0.782786598083783,
          1.1427488896160929,
          -1.7014930434140594,
          0.7267623595379041,
          -0.007002364510007742,
          0.17509129779533658,
          -0.4781056073352823,
          0.5832965159892182,
          -0.6331491917976095,
          -0.3161961767682029,
          -2.3572250533205223,
          1.3512672934632202,
          0.05341203365733753,
          0.7670034141178904,
          0.18073432373892828,
          -0.7672344771558023,
          0.20558654605709664,
          -0.5544513388284268,
          1.5287039845218173,
          -1.1332355093479762,
          -1.4748315025375673,
          -1.1462469684745658,
          -1.052650035154753,
          -0.3907382513473276,
          -1.627183772248113,
          -0.3783231268569761,
          -0.1597912113636773,
          -1.3535219949676072,
          -0.23935950379079585,
          1.0159738780171244,
          -0.576711046906184,
          -0.7274673897933394,
          -1.4907578857702473,
          -0.7921446366064933,
          -0.08994575562284873,
          0.930250935265208,
          -1.3191164860374893,
          -1.3857346608655399,
          1.6340683152012712,
          1.170193417939178,
          -1.9931400227970575,
          -0.13615296286206194,
          0.0648707514248098,
          -0.5025897956063995,
          -1.845513405796715,
          -0.9477950010886944,
          0.2791081770738883,
          -0.9684113216516099,
          0.8229249871332075,
          0.4314515011373696,
          0.14872909873619033,
          0.2138849867192027,
          -1.2573571642428092,
          1.9379795654275749,
          -0.375126110803408,
          0.8139291956018956,
          0.37433213952728006,
          0.8346004863771042,
          -0.5062703709980042,
          0.6998141405879368
         ],
         "xaxis": "x",
         "yaxis": "y"
        },
        {
         "line": {
          "color": "rgba(128, 128, 128, 1.0)",
          "dash": "solid",
          "shape": "linear",
          "width": 1.3
         },
         "marker": {
          "size": 2,
          "symbol": "circle"
         },
         "mode": "markers",
         "name": "A",
         "text": "",
         "type": "scatter",
         "x": [
          0.8916549146321898,
          -0.3381931403080011,
          -0.37428192595009857,
          -0.9419524005632491,
          -1.0145977706243687,
          1.5583890754009588,
          -0.6852630085642236,
          0.6651332215213197,
          -0.9910188176038004,
          0.6161978813106868,
          0.3861938231042876,
          -0.60882693154804,
          0.19890215422838792,
          0.6775658736229073,
          0.797828468832904,
          0.07682513904133999,
          0.025107642292884074,
          -1.5576726094219517,
          1.4264356314033277,
          1.2666998992120595,
          -0.6943473865446161,
          -0.053895565447558316,
          0.4284264262379757,
          0.13208468398082687,
          0.7670307156234072,
          0.38390668729911087,
          0.6347177042230788,
          1.1974467440918999,
          0.2020632736198323,
          -1.0022455128645296,
          0.18371926512091438,
          -0.04109060733714235,
          -1.5481413250921956,
          -0.54934779822259,
          0.09252072296337743,
          -0.5367295945730247,
          -0.4777903101063822,
          0.10604568652569685,
          -0.8718547064946718,
          0.5708956722518306,
          0.06589086041506216,
          0.25580174667143174,
          -0.4312599780802227,
          -0.12443614311985786,
          1.5806599712009868,
          0.2870922514198373,
          0.5512944944835362,
          1.4527579119089358,
          0.2699387949848012,
          0.7904290473921192,
          -0.7816302662769503,
          -0.12821896698885438,
          -0.4225712340699086,
          -2.440144305643967,
          -0.9927129109667006,
          -0.18918780352731643,
          -0.09610392449157452,
          0.3554190174115922,
          -1.7864214361926745,
          -1.1073055045960427,
          -0.9630782474751012,
          0.10812185719468097,
          1.073523936772271,
          -0.19935412263787683,
          0.6908359830853447,
          -0.4429809411287429,
          -1.4187058463861983,
          -1.6721208685617281,
          -0.6786398548037761,
          0.7268002142268188,
          -0.4360824977259846,
          -0.23765490366988942,
          -1.4728284198921924,
          -0.01910884940631543,
          0.10765546033029476,
          1.8927129965967484,
          0.03255345460140715,
          1.0744477403084196,
          0.5661276059273651,
          -1.0592431238903615,
          0.786919426390002,
          1.2764749857577515,
          -0.14162598466362158,
          -0.5133580850066126,
          1.5161755740926746,
          -0.33416049948343557,
          1.7833299073862408,
          0.5139386130455855,
          -0.6842137040540731,
          -2.6483956539321154,
          1.111781386043757,
          2.744841648153119,
          0.011608699926791748,
          -0.2978790480255613,
          -1.5686049470141332,
          -1.3527125996567446,
          -0.8069995269798872,
          -0.8649491875996753,
          -1.129641165354729,
          1.933060854543772
         ],
         "xaxis": "x2",
         "y": [
          -0.5460778957347936,
          1.3014510422065746,
          0.26814934478756514,
          -0.3618191044714592,
          -0.7369237834399675,
          3.232474390779266,
          0.4502317191922599,
          0.29996219651162587,
          0.1722537891268259,
          -0.6669176939726003,
          1.1578674537274418,
          -1.476432366982033,
          -0.5472396471244979,
          -1.2937811853587022,
          -0.9013967416102897,
          0.8853025381342631,
          -1.1366898385165811,
          -2.6962483782363815,
          -1.6788450175371639,
          0.3546081661265342,
          0.7442380110818622,
          0.5619392224263491,
          0.6065249503129646,
          0.04089407242636777,
          -1.3342789853786823,
          -0.9369940551036597,
          0.10034758564092557,
          0.8075163635955258,
          0.38351490019648027,
          -0.3324193008656376,
          0.2797743330160391,
          -0.0026682896222340285,
          1.5101952298787567,
          0.8875873921209985,
          1.1495772264048136,
          -0.2464421692232896,
          1.8616344700460064,
          -0.2713449451449245,
          -1.8734698359308377,
          -0.4375931728140298,
          0.782786598083783,
          1.1427488896160929,
          -1.7014930434140594,
          0.7267623595379041,
          -0.007002364510007742,
          0.17509129779533658,
          -0.4781056073352823,
          0.5832965159892182,
          -0.6331491917976095,
          -0.3161961767682029,
          -2.3572250533205223,
          1.3512672934632202,
          0.05341203365733753,
          0.7670034141178904,
          0.18073432373892828,
          -0.7672344771558023,
          0.20558654605709664,
          -0.5544513388284268,
          1.5287039845218173,
          -1.1332355093479762,
          -1.4748315025375673,
          -1.1462469684745658,
          -1.052650035154753,
          -0.3907382513473276,
          -1.627183772248113,
          -0.3783231268569761,
          -0.1597912113636773,
          -1.3535219949676072,
          -0.23935950379079585,
          1.0159738780171244,
          -0.576711046906184,
          -0.7274673897933394,
          -1.4907578857702473,
          -0.7921446366064933,
          -0.08994575562284873,
          0.930250935265208,
          -1.3191164860374893,
          -1.3857346608655399,
          1.6340683152012712,
          1.170193417939178,
          -1.9931400227970575,
          -0.13615296286206194,
          0.0648707514248098,
          -0.5025897956063995,
          -1.845513405796715,
          -0.9477950010886944,
          0.2791081770738883,
          -0.9684113216516099,
          0.8229249871332075,
          0.4314515011373696,
          0.14872909873619033,
          0.2138849867192027,
          -1.2573571642428092,
          1.9379795654275749,
          -0.375126110803408,
          0.8139291956018956,
          0.37433213952728006,
          0.8346004863771042,
          -0.5062703709980042,
          0.6998141405879368
         ],
         "yaxis": "y2"
        },
        {
         "line": {
          "color": "rgba(128, 128, 128, 1.0)",
          "dash": "solid",
          "shape": "linear",
          "width": 1.3
         },
         "marker": {
          "size": 2,
          "symbol": "circle"
         },
         "mode": "markers",
         "name": "A",
         "text": "",
         "type": "scatter",
         "x": [
          -0.20330239236774128,
          0.32850101568085893,
          0.529542595028742,
          -1.6869438521556148,
          -0.12915954035899646,
          -0.29361414034583905,
          -1.0411915378410137,
          0.1655450402186426,
          0.6245227599578845,
          0.6780299903342727,
          -2.9290857736047786,
          0.461077292314986,
          1.1091891520463508,
          0.33644402919592176,
          0.4127408790834404,
          0.4176719457751997,
          -0.7460023909998824,
          -0.18561711514336504,
          -0.46564454618751433,
          0.15926935447160537,
          0.5783156105882734,
          0.6498088371009316,
          -0.5119302580892772,
          -0.01638721511848431,
          0.310058348939363,
          0.038928256609700576,
          -0.26008888312749373,
          -1.2617315627247143,
          0.06454665859839183,
          0.47483185016901536,
          -0.05846809624656749,
          1.4470724106911268,
          -1.8437534447744601,
          -0.021823481334008542,
          -0.4598326516335303,
          0.3157084829852417,
          -1.086482265263441,
          0.1126458838976049,
          -1.8193251733435594,
          1.3315552594184057,
          1.7596809193450778,
          1.739835596293713,
          -0.7630474665988405,
          0.10544336197836349,
          1.4076948529659261,
          -0.9138687942754058,
          0.2111116933980099,
          -0.42235606752361854,
          0.2679189907173422,
          0.5080811830371827,
          -0.8529529166914348,
          -0.5195609166522553,
          0.8811768808600744,
          -0.038377272851005687,
          1.4782130095657346,
          0.19355006817445572,
          1.0508600294180694,
          0.47121959127528307,
          -0.1999034912474286,
          1.7346578774154435,
          -0.2873035910578778,
          0.3893424633119317,
          -2.078545664242502,
          -0.8266949553779602,
          1.0827891174777793,
          1.5546785887935657,
          -0.4752780928615553,
          0.002957871234240924,
          -0.9326126230951465,
          1.2195596769465835,
          -0.7956573787575608,
          2.8696588406462302,
          -0.25251788733211367,
          -0.8305892104633876,
          0.08919573756281855,
          -0.7044374495911413,
          0.28848531661875715,
          -0.3717414926024388,
          0.8288440550131508,
          -0.38340128043684973,
          0.06574562706397219,
          2.0524525605093,
          -0.6405528750002505,
          -0.3340064376926966,
          1.2219996473694095,
          0.2194755290359963,
          2.955198772573274,
          -0.02685772437217304,
          0.26146694935304754,
          -1.0888714908255899,
          0.5099640075793971,
          -1.2173602966953139,
          -0.3036137386756566,
          0.8471957766098436,
          1.0297840502997417,
          1.8537466066157755,
          -0.7559521685658589,
          0.2445071826661215,
          0.7429875949033095,
          0.4823261097522082
         ],
         "xaxis": "x3",
         "y": [
          -0.5460778957347936,
          1.3014510422065746,
          0.26814934478756514,
          -0.3618191044714592,
          -0.7369237834399675,
          3.232474390779266,
          0.4502317191922599,
          0.29996219651162587,
          0.1722537891268259,
          -0.6669176939726003,
          1.1578674537274418,
          -1.476432366982033,
          -0.5472396471244979,
          -1.2937811853587022,
          -0.9013967416102897,
          0.8853025381342631,
          -1.1366898385165811,
          -2.6962483782363815,
          -1.6788450175371639,
          0.3546081661265342,
          0.7442380110818622,
          0.5619392224263491,
          0.6065249503129646,
          0.04089407242636777,
          -1.3342789853786823,
          -0.9369940551036597,
          0.10034758564092557,
          0.8075163635955258,
          0.38351490019648027,
          -0.3324193008656376,
          0.2797743330160391,
          -0.0026682896222340285,
          1.5101952298787567,
          0.8875873921209985,
          1.1495772264048136,
          -0.2464421692232896,
          1.8616344700460064,
          -0.2713449451449245,
          -1.8734698359308377,
          -0.4375931728140298,
          0.782786598083783,
          1.1427488896160929,
          -1.7014930434140594,
          0.7267623595379041,
          -0.007002364510007742,
          0.17509129779533658,
          -0.4781056073352823,
          0.5832965159892182,
          -0.6331491917976095,
          -0.3161961767682029,
          -2.3572250533205223,
          1.3512672934632202,
          0.05341203365733753,
          0.7670034141178904,
          0.18073432373892828,
          -0.7672344771558023,
          0.20558654605709664,
          -0.5544513388284268,
          1.5287039845218173,
          -1.1332355093479762,
          -1.4748315025375673,
          -1.1462469684745658,
          -1.052650035154753,
          -0.3907382513473276,
          -1.627183772248113,
          -0.3783231268569761,
          -0.1597912113636773,
          -1.3535219949676072,
          -0.23935950379079585,
          1.0159738780171244,
          -0.576711046906184,
          -0.7274673897933394,
          -1.4907578857702473,
          -0.7921446366064933,
          -0.08994575562284873,
          0.930250935265208,
          -1.3191164860374893,
          -1.3857346608655399,
          1.6340683152012712,
          1.170193417939178,
          -1.9931400227970575,
          -0.13615296286206194,
          0.0648707514248098,
          -0.5025897956063995,
          -1.845513405796715,
          -0.9477950010886944,
          0.2791081770738883,
          -0.9684113216516099,
          0.8229249871332075,
          0.4314515011373696,
          0.14872909873619033,
          0.2138849867192027,
          -1.2573571642428092,
          1.9379795654275749,
          -0.375126110803408,
          0.8139291956018956,
          0.37433213952728006,
          0.8346004863771042,
          -0.5062703709980042,
          0.6998141405879368
         ],
         "yaxis": "y3"
        },
        {
         "line": {
          "color": "rgba(128, 128, 128, 1.0)",
          "dash": "solid",
          "shape": "linear",
          "width": 1.3
         },
         "marker": {
          "size": 2,
          "symbol": "circle"
         },
         "mode": "markers",
         "name": "A",
         "text": "",
         "type": "scatter",
         "x": [
          0.6353847301831402,
          1.2009423784267994,
          -1.654844320111015,
          -0.8635523832067165,
          0.8436073081690776,
          0.0010283296707705861,
          0.7213232234941241,
          1.2615979277353082,
          1.4292327016337216,
          0.027287191889307012,
          -1.5180573636122134,
          -1.0131139254746897,
          0.7948617640038231,
          -1.408160297894933,
          -0.5012501529865498,
          1.5280332963554248,
          -0.7879092031693243,
          0.7669901510070474,
          -1.091735910194253,
          0.662536340034536,
          0.550001997833688,
          -0.3214729696376683,
          0.008292011859685321,
          -1.3698158321629847,
          0.8391122567630139,
          1.2785094720503718,
          1.1309681951149693,
          0.43715762373237255,
          -0.8719283319074831,
          0.5232332637202878,
          -0.9427769729935915,
          1.749152052334987,
          -0.7332203655606052,
          -1.730022600119727,
          -0.3071717755780072,
          -0.6574275508278046,
          -0.11120726606697393,
          -0.29807283502782583,
          2.007007347945856,
          -1.1248393061937714,
          -0.08331589907942558,
          -0.9624694892468075,
          -1.1772773034412958,
          0.5443833685090267,
          -2.383209166152728,
          -0.5654893309716007,
          0.15432201119291886,
          0.8195508234542466,
          0.41835284465192496,
          -0.10531200162672043,
          1.0245802846927696,
          -0.00916744004768294,
          -0.3619809134335411,
          1.0455709500178472,
          1.1226952193325705,
          -1.243767426208508,
          -0.1269245788752039,
          -1.138560695098012,
          0.012152255094927601,
          -0.3773469384695606,
          -0.1271188690590761,
          0.7691413459651985,
          0.6395681120462738,
          0.38786868367917465,
          0.7814950610131641,
          -0.003065856032941088,
          -0.08052791958464772,
          -0.000862227830624004,
          -0.14667204540993645,
          -0.6588016529198943,
          0.4760288970780797,
          -0.5010391118114504,
          -0.9547048325860107,
          1.4747680524072513,
          0.4344091007512491,
          -0.1871813519464555,
          -0.31693463148729906,
          0.16707302260475737,
          -1.3669967745199492,
          -0.12552365732428736,
          0.16638159317079995,
          0.33491507513827795,
          0.15025043754502934,
          -0.3472800351808697,
          1.7591954772545582,
          -0.29790728038059144,
          -3.201777800234756,
          -0.4018680720562205,
          0.808560116272953,
          0.37745942884408784,
          0.9703784233765854,
          -0.7888595069519375,
          0.3101314954838077,
          0.24078793877636165,
          0.9229850887876242,
          0.12831890641507618,
          0.7564594134938638,
          0.2643149845870508,
          1.2868130886986313,
          -1.4659236256700496
         ],
         "xaxis": "x4",
         "y": [
          -0.5460778957347936,
          1.3014510422065746,
          0.26814934478756514,
          -0.3618191044714592,
          -0.7369237834399675,
          3.232474390779266,
          0.4502317191922599,
          0.29996219651162587,
          0.1722537891268259,
          -0.6669176939726003,
          1.1578674537274418,
          -1.476432366982033,
          -0.5472396471244979,
          -1.2937811853587022,
          -0.9013967416102897,
          0.8853025381342631,
          -1.1366898385165811,
          -2.6962483782363815,
          -1.6788450175371639,
          0.3546081661265342,
          0.7442380110818622,
          0.5619392224263491,
          0.6065249503129646,
          0.04089407242636777,
          -1.3342789853786823,
          -0.9369940551036597,
          0.10034758564092557,
          0.8075163635955258,
          0.38351490019648027,
          -0.3324193008656376,
          0.2797743330160391,
          -0.0026682896222340285,
          1.5101952298787567,
          0.8875873921209985,
          1.1495772264048136,
          -0.2464421692232896,
          1.8616344700460064,
          -0.2713449451449245,
          -1.8734698359308377,
          -0.4375931728140298,
          0.782786598083783,
          1.1427488896160929,
          -1.7014930434140594,
          0.7267623595379041,
          -0.007002364510007742,
          0.17509129779533658,
          -0.4781056073352823,
          0.5832965159892182,
          -0.6331491917976095,
          -0.3161961767682029,
          -2.3572250533205223,
          1.3512672934632202,
          0.05341203365733753,
          0.7670034141178904,
          0.18073432373892828,
          -0.7672344771558023,
          0.20558654605709664,
          -0.5544513388284268,
          1.5287039845218173,
          -1.1332355093479762,
          -1.4748315025375673,
          -1.1462469684745658,
          -1.052650035154753,
          -0.3907382513473276,
          -1.627183772248113,
          -0.3783231268569761,
          -0.1597912113636773,
          -1.3535219949676072,
          -0.23935950379079585,
          1.0159738780171244,
          -0.576711046906184,
          -0.7274673897933394,
          -1.4907578857702473,
          -0.7921446366064933,
          -0.08994575562284873,
          0.930250935265208,
          -1.3191164860374893,
          -1.3857346608655399,
          1.6340683152012712,
          1.170193417939178,
          -1.9931400227970575,
          -0.13615296286206194,
          0.0648707514248098,
          -0.5025897956063995,
          -1.845513405796715,
          -0.9477950010886944,
          0.2791081770738883,
          -0.9684113216516099,
          0.8229249871332075,
          0.4314515011373696,
          0.14872909873619033,
          0.2138849867192027,
          -1.2573571642428092,
          1.9379795654275749,
          -0.375126110803408,
          0.8139291956018956,
          0.37433213952728006,
          0.8346004863771042,
          -0.5062703709980042,
          0.6998141405879368
         ],
         "yaxis": "y4"
        },
        {
         "line": {
          "color": "rgba(128, 128, 128, 1.0)",
          "dash": "solid",
          "shape": "linear",
          "width": 1.3
         },
         "marker": {
          "size": 2,
          "symbol": "circle"
         },
         "mode": "markers",
         "name": "B",
         "text": "",
         "type": "scatter",
         "x": [
          -0.5460778957347936,
          1.3014510422065746,
          0.26814934478756514,
          -0.3618191044714592,
          -0.7369237834399675,
          3.232474390779266,
          0.4502317191922599,
          0.29996219651162587,
          0.1722537891268259,
          -0.6669176939726003,
          1.1578674537274418,
          -1.476432366982033,
          -0.5472396471244979,
          -1.2937811853587022,
          -0.9013967416102897,
          0.8853025381342631,
          -1.1366898385165811,
          -2.6962483782363815,
          -1.6788450175371639,
          0.3546081661265342,
          0.7442380110818622,
          0.5619392224263491,
          0.6065249503129646,
          0.04089407242636777,
          -1.3342789853786823,
          -0.9369940551036597,
          0.10034758564092557,
          0.8075163635955258,
          0.38351490019648027,
          -0.3324193008656376,
          0.2797743330160391,
          -0.0026682896222340285,
          1.5101952298787567,
          0.8875873921209985,
          1.1495772264048136,
          -0.2464421692232896,
          1.8616344700460064,
          -0.2713449451449245,
          -1.8734698359308377,
          -0.4375931728140298,
          0.782786598083783,
          1.1427488896160929,
          -1.7014930434140594,
          0.7267623595379041,
          -0.007002364510007742,
          0.17509129779533658,
          -0.4781056073352823,
          0.5832965159892182,
          -0.6331491917976095,
          -0.3161961767682029,
          -2.3572250533205223,
          1.3512672934632202,
          0.05341203365733753,
          0.7670034141178904,
          0.18073432373892828,
          -0.7672344771558023,
          0.20558654605709664,
          -0.5544513388284268,
          1.5287039845218173,
          -1.1332355093479762,
          -1.4748315025375673,
          -1.1462469684745658,
          -1.052650035154753,
          -0.3907382513473276,
          -1.627183772248113,
          -0.3783231268569761,
          -0.1597912113636773,
          -1.3535219949676072,
          -0.23935950379079585,
          1.0159738780171244,
          -0.576711046906184,
          -0.7274673897933394,
          -1.4907578857702473,
          -0.7921446366064933,
          -0.08994575562284873,
          0.930250935265208,
          -1.3191164860374893,
          -1.3857346608655399,
          1.6340683152012712,
          1.170193417939178,
          -1.9931400227970575,
          -0.13615296286206194,
          0.0648707514248098,
          -0.5025897956063995,
          -1.845513405796715,
          -0.9477950010886944,
          0.2791081770738883,
          -0.9684113216516099,
          0.8229249871332075,
          0.4314515011373696,
          0.14872909873619033,
          0.2138849867192027,
          -1.2573571642428092,
          1.9379795654275749,
          -0.375126110803408,
          0.8139291956018956,
          0.37433213952728006,
          0.8346004863771042,
          -0.5062703709980042,
          0.6998141405879368
         ],
         "xaxis": "x5",
         "y": [
          0.8916549146321898,
          -0.3381931403080011,
          -0.37428192595009857,
          -0.9419524005632491,
          -1.0145977706243687,
          1.5583890754009588,
          -0.6852630085642236,
          0.6651332215213197,
          -0.9910188176038004,
          0.6161978813106868,
          0.3861938231042876,
          -0.60882693154804,
          0.19890215422838792,
          0.6775658736229073,
          0.797828468832904,
          0.07682513904133999,
          0.025107642292884074,
          -1.5576726094219517,
          1.4264356314033277,
          1.2666998992120595,
          -0.6943473865446161,
          -0.053895565447558316,
          0.4284264262379757,
          0.13208468398082687,
          0.7670307156234072,
          0.38390668729911087,
          0.6347177042230788,
          1.1974467440918999,
          0.2020632736198323,
          -1.0022455128645296,
          0.18371926512091438,
          -0.04109060733714235,
          -1.5481413250921956,
          -0.54934779822259,
          0.09252072296337743,
          -0.5367295945730247,
          -0.4777903101063822,
          0.10604568652569685,
          -0.8718547064946718,
          0.5708956722518306,
          0.06589086041506216,
          0.25580174667143174,
          -0.4312599780802227,
          -0.12443614311985786,
          1.5806599712009868,
          0.2870922514198373,
          0.5512944944835362,
          1.4527579119089358,
          0.2699387949848012,
          0.7904290473921192,
          -0.7816302662769503,
          -0.12821896698885438,
          -0.4225712340699086,
          -2.440144305643967,
          -0.9927129109667006,
          -0.18918780352731643,
          -0.09610392449157452,
          0.3554190174115922,
          -1.7864214361926745,
          -1.1073055045960427,
          -0.9630782474751012,
          0.10812185719468097,
          1.073523936772271,
          -0.19935412263787683,
          0.6908359830853447,
          -0.4429809411287429,
          -1.4187058463861983,
          -1.6721208685617281,
          -0.6786398548037761,
          0.7268002142268188,
          -0.4360824977259846,
          -0.23765490366988942,
          -1.4728284198921924,
          -0.01910884940631543,
          0.10765546033029476,
          1.8927129965967484,
          0.03255345460140715,
          1.0744477403084196,
          0.5661276059273651,
          -1.0592431238903615,
          0.786919426390002,
          1.2764749857577515,
          -0.14162598466362158,
          -0.5133580850066126,
          1.5161755740926746,
          -0.33416049948343557,
          1.7833299073862408,
          0.5139386130455855,
          -0.6842137040540731,
          -2.6483956539321154,
          1.111781386043757,
          2.744841648153119,
          0.011608699926791748,
          -0.2978790480255613,
          -1.5686049470141332,
          -1.3527125996567446,
          -0.8069995269798872,
          -0.8649491875996753,
          -1.129641165354729,
          1.933060854543772
         ],
         "yaxis": "y5"
        },
        {
         "histfunc": "count",
         "histnorm": "",
         "marker": {
          "color": "rgba(55, 128, 191, 1.0)",
          "line": {
           "color": "#4D5663",
           "width": 1.3
          }
         },
         "name": "B",
         "nbinsx": 10,
         "opacity": 0.8,
         "orientation": "v",
         "type": "histogram",
         "x": [
          0.8916549146321898,
          -0.3381931403080011,
          -0.37428192595009857,
          -0.9419524005632491,
          -1.0145977706243687,
          1.5583890754009588,
          -0.6852630085642236,
          0.6651332215213197,
          -0.9910188176038004,
          0.6161978813106868,
          0.3861938231042876,
          -0.60882693154804,
          0.19890215422838792,
          0.6775658736229073,
          0.797828468832904,
          0.07682513904133999,
          0.025107642292884074,
          -1.5576726094219517,
          1.4264356314033277,
          1.2666998992120595,
          -0.6943473865446161,
          -0.053895565447558316,
          0.4284264262379757,
          0.13208468398082687,
          0.7670307156234072,
          0.38390668729911087,
          0.6347177042230788,
          1.1974467440918999,
          0.2020632736198323,
          -1.0022455128645296,
          0.18371926512091438,
          -0.04109060733714235,
          -1.5481413250921956,
          -0.54934779822259,
          0.09252072296337743,
          -0.5367295945730247,
          -0.4777903101063822,
          0.10604568652569685,
          -0.8718547064946718,
          0.5708956722518306,
          0.06589086041506216,
          0.25580174667143174,
          -0.4312599780802227,
          -0.12443614311985786,
          1.5806599712009868,
          0.2870922514198373,
          0.5512944944835362,
          1.4527579119089358,
          0.2699387949848012,
          0.7904290473921192,
          -0.7816302662769503,
          -0.12821896698885438,
          -0.4225712340699086,
          -2.440144305643967,
          -0.9927129109667006,
          -0.18918780352731643,
          -0.09610392449157452,
          0.3554190174115922,
          -1.7864214361926745,
          -1.1073055045960427,
          -0.9630782474751012,
          0.10812185719468097,
          1.073523936772271,
          -0.19935412263787683,
          0.6908359830853447,
          -0.4429809411287429,
          -1.4187058463861983,
          -1.6721208685617281,
          -0.6786398548037761,
          0.7268002142268188,
          -0.4360824977259846,
          -0.23765490366988942,
          -1.4728284198921924,
          -0.01910884940631543,
          0.10765546033029476,
          1.8927129965967484,
          0.03255345460140715,
          1.0744477403084196,
          0.5661276059273651,
          -1.0592431238903615,
          0.786919426390002,
          1.2764749857577515,
          -0.14162598466362158,
          -0.5133580850066126,
          1.5161755740926746,
          -0.33416049948343557,
          1.7833299073862408,
          0.5139386130455855,
          -0.6842137040540731,
          -2.6483956539321154,
          1.111781386043757,
          2.744841648153119,
          0.011608699926791748,
          -0.2978790480255613,
          -1.5686049470141332,
          -1.3527125996567446,
          -0.8069995269798872,
          -0.8649491875996753,
          -1.129641165354729,
          1.933060854543772
         ],
         "xaxis": "x6",
         "yaxis": "y6"
        },
        {
         "line": {
          "color": "rgba(128, 128, 128, 1.0)",
          "dash": "solid",
          "shape": "linear",
          "width": 1.3
         },
         "marker": {
          "size": 2,
          "symbol": "circle"
         },
         "mode": "markers",
         "name": "B",
         "text": "",
         "type": "scatter",
         "x": [
          -0.20330239236774128,
          0.32850101568085893,
          0.529542595028742,
          -1.6869438521556148,
          -0.12915954035899646,
          -0.29361414034583905,
          -1.0411915378410137,
          0.1655450402186426,
          0.6245227599578845,
          0.6780299903342727,
          -2.9290857736047786,
          0.461077292314986,
          1.1091891520463508,
          0.33644402919592176,
          0.4127408790834404,
          0.4176719457751997,
          -0.7460023909998824,
          -0.18561711514336504,
          -0.46564454618751433,
          0.15926935447160537,
          0.5783156105882734,
          0.6498088371009316,
          -0.5119302580892772,
          -0.01638721511848431,
          0.310058348939363,
          0.038928256609700576,
          -0.26008888312749373,
          -1.2617315627247143,
          0.06454665859839183,
          0.47483185016901536,
          -0.05846809624656749,
          1.4470724106911268,
          -1.8437534447744601,
          -0.021823481334008542,
          -0.4598326516335303,
          0.3157084829852417,
          -1.086482265263441,
          0.1126458838976049,
          -1.8193251733435594,
          1.3315552594184057,
          1.7596809193450778,
          1.739835596293713,
          -0.7630474665988405,
          0.10544336197836349,
          1.4076948529659261,
          -0.9138687942754058,
          0.2111116933980099,
          -0.42235606752361854,
          0.2679189907173422,
          0.5080811830371827,
          -0.8529529166914348,
          -0.5195609166522553,
          0.8811768808600744,
          -0.038377272851005687,
          1.4782130095657346,
          0.19355006817445572,
          1.0508600294180694,
          0.47121959127528307,
          -0.1999034912474286,
          1.7346578774154435,
          -0.2873035910578778,
          0.3893424633119317,
          -2.078545664242502,
          -0.8266949553779602,
          1.0827891174777793,
          1.5546785887935657,
          -0.4752780928615553,
          0.002957871234240924,
          -0.9326126230951465,
          1.2195596769465835,
          -0.7956573787575608,
          2.8696588406462302,
          -0.25251788733211367,
          -0.8305892104633876,
          0.08919573756281855,
          -0.7044374495911413,
          0.28848531661875715,
          -0.3717414926024388,
          0.8288440550131508,
          -0.38340128043684973,
          0.06574562706397219,
          2.0524525605093,
          -0.6405528750002505,
          -0.3340064376926966,
          1.2219996473694095,
          0.2194755290359963,
          2.955198772573274,
          -0.02685772437217304,
          0.26146694935304754,
          -1.0888714908255899,
          0.5099640075793971,
          -1.2173602966953139,
          -0.3036137386756566,
          0.8471957766098436,
          1.0297840502997417,
          1.8537466066157755,
          -0.7559521685658589,
          0.2445071826661215,
          0.7429875949033095,
          0.4823261097522082
         ],
         "xaxis": "x7",
         "y": [
          0.8916549146321898,
          -0.3381931403080011,
          -0.37428192595009857,
          -0.9419524005632491,
          -1.0145977706243687,
          1.5583890754009588,
          -0.6852630085642236,
          0.6651332215213197,
          -0.9910188176038004,
          0.6161978813106868,
          0.3861938231042876,
          -0.60882693154804,
          0.19890215422838792,
          0.6775658736229073,
          0.797828468832904,
          0.07682513904133999,
          0.025107642292884074,
          -1.5576726094219517,
          1.4264356314033277,
          1.2666998992120595,
          -0.6943473865446161,
          -0.053895565447558316,
          0.4284264262379757,
          0.13208468398082687,
          0.7670307156234072,
          0.38390668729911087,
          0.6347177042230788,
          1.1974467440918999,
          0.2020632736198323,
          -1.0022455128645296,
          0.18371926512091438,
          -0.04109060733714235,
          -1.5481413250921956,
          -0.54934779822259,
          0.09252072296337743,
          -0.5367295945730247,
          -0.4777903101063822,
          0.10604568652569685,
          -0.8718547064946718,
          0.5708956722518306,
          0.06589086041506216,
          0.25580174667143174,
          -0.4312599780802227,
          -0.12443614311985786,
          1.5806599712009868,
          0.2870922514198373,
          0.5512944944835362,
          1.4527579119089358,
          0.2699387949848012,
          0.7904290473921192,
          -0.7816302662769503,
          -0.12821896698885438,
          -0.4225712340699086,
          -2.440144305643967,
          -0.9927129109667006,
          -0.18918780352731643,
          -0.09610392449157452,
          0.3554190174115922,
          -1.7864214361926745,
          -1.1073055045960427,
          -0.9630782474751012,
          0.10812185719468097,
          1.073523936772271,
          -0.19935412263787683,
          0.6908359830853447,
          -0.4429809411287429,
          -1.4187058463861983,
          -1.6721208685617281,
          -0.6786398548037761,
          0.7268002142268188,
          -0.4360824977259846,
          -0.23765490366988942,
          -1.4728284198921924,
          -0.01910884940631543,
          0.10765546033029476,
          1.8927129965967484,
          0.03255345460140715,
          1.0744477403084196,
          0.5661276059273651,
          -1.0592431238903615,
          0.786919426390002,
          1.2764749857577515,
          -0.14162598466362158,
          -0.5133580850066126,
          1.5161755740926746,
          -0.33416049948343557,
          1.7833299073862408,
          0.5139386130455855,
          -0.6842137040540731,
          -2.6483956539321154,
          1.111781386043757,
          2.744841648153119,
          0.011608699926791748,
          -0.2978790480255613,
          -1.5686049470141332,
          -1.3527125996567446,
          -0.8069995269798872,
          -0.8649491875996753,
          -1.129641165354729,
          1.933060854543772
         ],
         "yaxis": "y7"
        },
        {
         "line": {
          "color": "rgba(128, 128, 128, 1.0)",
          "dash": "solid",
          "shape": "linear",
          "width": 1.3
         },
         "marker": {
          "size": 2,
          "symbol": "circle"
         },
         "mode": "markers",
         "name": "B",
         "text": "",
         "type": "scatter",
         "x": [
          0.6353847301831402,
          1.2009423784267994,
          -1.654844320111015,
          -0.8635523832067165,
          0.8436073081690776,
          0.0010283296707705861,
          0.7213232234941241,
          1.2615979277353082,
          1.4292327016337216,
          0.027287191889307012,
          -1.5180573636122134,
          -1.0131139254746897,
          0.7948617640038231,
          -1.408160297894933,
          -0.5012501529865498,
          1.5280332963554248,
          -0.7879092031693243,
          0.7669901510070474,
          -1.091735910194253,
          0.662536340034536,
          0.550001997833688,
          -0.3214729696376683,
          0.008292011859685321,
          -1.3698158321629847,
          0.8391122567630139,
          1.2785094720503718,
          1.1309681951149693,
          0.43715762373237255,
          -0.8719283319074831,
          0.5232332637202878,
          -0.9427769729935915,
          1.749152052334987,
          -0.7332203655606052,
          -1.730022600119727,
          -0.3071717755780072,
          -0.6574275508278046,
          -0.11120726606697393,
          -0.29807283502782583,
          2.007007347945856,
          -1.1248393061937714,
          -0.08331589907942558,
          -0.9624694892468075,
          -1.1772773034412958,
          0.5443833685090267,
          -2.383209166152728,
          -0.5654893309716007,
          0.15432201119291886,
          0.8195508234542466,
          0.41835284465192496,
          -0.10531200162672043,
          1.0245802846927696,
          -0.00916744004768294,
          -0.3619809134335411,
          1.0455709500178472,
          1.1226952193325705,
          -1.243767426208508,
          -0.1269245788752039,
          -1.138560695098012,
          0.012152255094927601,
          -0.3773469384695606,
          -0.1271188690590761,
          0.7691413459651985,
          0.6395681120462738,
          0.38786868367917465,
          0.7814950610131641,
          -0.003065856032941088,
          -0.08052791958464772,
          -0.000862227830624004,
          -0.14667204540993645,
          -0.6588016529198943,
          0.4760288970780797,
          -0.5010391118114504,
          -0.9547048325860107,
          1.4747680524072513,
          0.4344091007512491,
          -0.1871813519464555,
          -0.31693463148729906,
          0.16707302260475737,
          -1.3669967745199492,
          -0.12552365732428736,
          0.16638159317079995,
          0.33491507513827795,
          0.15025043754502934,
          -0.3472800351808697,
          1.7591954772545582,
          -0.29790728038059144,
          -3.201777800234756,
          -0.4018680720562205,
          0.808560116272953,
          0.37745942884408784,
          0.9703784233765854,
          -0.7888595069519375,
          0.3101314954838077,
          0.24078793877636165,
          0.9229850887876242,
          0.12831890641507618,
          0.7564594134938638,
          0.2643149845870508,
          1.2868130886986313,
          -1.4659236256700496
         ],
         "xaxis": "x8",
         "y": [
          0.8916549146321898,
          -0.3381931403080011,
          -0.37428192595009857,
          -0.9419524005632491,
          -1.0145977706243687,
          1.5583890754009588,
          -0.6852630085642236,
          0.6651332215213197,
          -0.9910188176038004,
          0.6161978813106868,
          0.3861938231042876,
          -0.60882693154804,
          0.19890215422838792,
          0.6775658736229073,
          0.797828468832904,
          0.07682513904133999,
          0.025107642292884074,
          -1.5576726094219517,
          1.4264356314033277,
          1.2666998992120595,
          -0.6943473865446161,
          -0.053895565447558316,
          0.4284264262379757,
          0.13208468398082687,
          0.7670307156234072,
          0.38390668729911087,
          0.6347177042230788,
          1.1974467440918999,
          0.2020632736198323,
          -1.0022455128645296,
          0.18371926512091438,
          -0.04109060733714235,
          -1.5481413250921956,
          -0.54934779822259,
          0.09252072296337743,
          -0.5367295945730247,
          -0.4777903101063822,
          0.10604568652569685,
          -0.8718547064946718,
          0.5708956722518306,
          0.06589086041506216,
          0.25580174667143174,
          -0.4312599780802227,
          -0.12443614311985786,
          1.5806599712009868,
          0.2870922514198373,
          0.5512944944835362,
          1.4527579119089358,
          0.2699387949848012,
          0.7904290473921192,
          -0.7816302662769503,
          -0.12821896698885438,
          -0.4225712340699086,
          -2.440144305643967,
          -0.9927129109667006,
          -0.18918780352731643,
          -0.09610392449157452,
          0.3554190174115922,
          -1.7864214361926745,
          -1.1073055045960427,
          -0.9630782474751012,
          0.10812185719468097,
          1.073523936772271,
          -0.19935412263787683,
          0.6908359830853447,
          -0.4429809411287429,
          -1.4187058463861983,
          -1.6721208685617281,
          -0.6786398548037761,
          0.7268002142268188,
          -0.4360824977259846,
          -0.23765490366988942,
          -1.4728284198921924,
          -0.01910884940631543,
          0.10765546033029476,
          1.8927129965967484,
          0.03255345460140715,
          1.0744477403084196,
          0.5661276059273651,
          -1.0592431238903615,
          0.786919426390002,
          1.2764749857577515,
          -0.14162598466362158,
          -0.5133580850066126,
          1.5161755740926746,
          -0.33416049948343557,
          1.7833299073862408,
          0.5139386130455855,
          -0.6842137040540731,
          -2.6483956539321154,
          1.111781386043757,
          2.744841648153119,
          0.011608699926791748,
          -0.2978790480255613,
          -1.5686049470141332,
          -1.3527125996567446,
          -0.8069995269798872,
          -0.8649491875996753,
          -1.129641165354729,
          1.933060854543772
         ],
         "yaxis": "y8"
        },
        {
         "line": {
          "color": "rgba(128, 128, 128, 1.0)",
          "dash": "solid",
          "shape": "linear",
          "width": 1.3
         },
         "marker": {
          "size": 2,
          "symbol": "circle"
         },
         "mode": "markers",
         "name": "C",
         "text": "",
         "type": "scatter",
         "x": [
          -0.5460778957347936,
          1.3014510422065746,
          0.26814934478756514,
          -0.3618191044714592,
          -0.7369237834399675,
          3.232474390779266,
          0.4502317191922599,
          0.29996219651162587,
          0.1722537891268259,
          -0.6669176939726003,
          1.1578674537274418,
          -1.476432366982033,
          -0.5472396471244979,
          -1.2937811853587022,
          -0.9013967416102897,
          0.8853025381342631,
          -1.1366898385165811,
          -2.6962483782363815,
          -1.6788450175371639,
          0.3546081661265342,
          0.7442380110818622,
          0.5619392224263491,
          0.6065249503129646,
          0.04089407242636777,
          -1.3342789853786823,
          -0.9369940551036597,
          0.10034758564092557,
          0.8075163635955258,
          0.38351490019648027,
          -0.3324193008656376,
          0.2797743330160391,
          -0.0026682896222340285,
          1.5101952298787567,
          0.8875873921209985,
          1.1495772264048136,
          -0.2464421692232896,
          1.8616344700460064,
          -0.2713449451449245,
          -1.8734698359308377,
          -0.4375931728140298,
          0.782786598083783,
          1.1427488896160929,
          -1.7014930434140594,
          0.7267623595379041,
          -0.007002364510007742,
          0.17509129779533658,
          -0.4781056073352823,
          0.5832965159892182,
          -0.6331491917976095,
          -0.3161961767682029,
          -2.3572250533205223,
          1.3512672934632202,
          0.05341203365733753,
          0.7670034141178904,
          0.18073432373892828,
          -0.7672344771558023,
          0.20558654605709664,
          -0.5544513388284268,
          1.5287039845218173,
          -1.1332355093479762,
          -1.4748315025375673,
          -1.1462469684745658,
          -1.052650035154753,
          -0.3907382513473276,
          -1.627183772248113,
          -0.3783231268569761,
          -0.1597912113636773,
          -1.3535219949676072,
          -0.23935950379079585,
          1.0159738780171244,
          -0.576711046906184,
          -0.7274673897933394,
          -1.4907578857702473,
          -0.7921446366064933,
          -0.08994575562284873,
          0.930250935265208,
          -1.3191164860374893,
          -1.3857346608655399,
          1.6340683152012712,
          1.170193417939178,
          -1.9931400227970575,
          -0.13615296286206194,
          0.0648707514248098,
          -0.5025897956063995,
          -1.845513405796715,
          -0.9477950010886944,
          0.2791081770738883,
          -0.9684113216516099,
          0.8229249871332075,
          0.4314515011373696,
          0.14872909873619033,
          0.2138849867192027,
          -1.2573571642428092,
          1.9379795654275749,
          -0.375126110803408,
          0.8139291956018956,
          0.37433213952728006,
          0.8346004863771042,
          -0.5062703709980042,
          0.6998141405879368
         ],
         "xaxis": "x9",
         "y": [
          -0.20330239236774128,
          0.32850101568085893,
          0.529542595028742,
          -1.6869438521556148,
          -0.12915954035899646,
          -0.29361414034583905,
          -1.0411915378410137,
          0.1655450402186426,
          0.6245227599578845,
          0.6780299903342727,
          -2.9290857736047786,
          0.461077292314986,
          1.1091891520463508,
          0.33644402919592176,
          0.4127408790834404,
          0.4176719457751997,
          -0.7460023909998824,
          -0.18561711514336504,
          -0.46564454618751433,
          0.15926935447160537,
          0.5783156105882734,
          0.6498088371009316,
          -0.5119302580892772,
          -0.01638721511848431,
          0.310058348939363,
          0.038928256609700576,
          -0.26008888312749373,
          -1.2617315627247143,
          0.06454665859839183,
          0.47483185016901536,
          -0.05846809624656749,
          1.4470724106911268,
          -1.8437534447744601,
          -0.021823481334008542,
          -0.4598326516335303,
          0.3157084829852417,
          -1.086482265263441,
          0.1126458838976049,
          -1.8193251733435594,
          1.3315552594184057,
          1.7596809193450778,
          1.739835596293713,
          -0.7630474665988405,
          0.10544336197836349,
          1.4076948529659261,
          -0.9138687942754058,
          0.2111116933980099,
          -0.42235606752361854,
          0.2679189907173422,
          0.5080811830371827,
          -0.8529529166914348,
          -0.5195609166522553,
          0.8811768808600744,
          -0.038377272851005687,
          1.4782130095657346,
          0.19355006817445572,
          1.0508600294180694,
          0.47121959127528307,
          -0.1999034912474286,
          1.7346578774154435,
          -0.2873035910578778,
          0.3893424633119317,
          -2.078545664242502,
          -0.8266949553779602,
          1.0827891174777793,
          1.5546785887935657,
          -0.4752780928615553,
          0.002957871234240924,
          -0.9326126230951465,
          1.2195596769465835,
          -0.7956573787575608,
          2.8696588406462302,
          -0.25251788733211367,
          -0.8305892104633876,
          0.08919573756281855,
          -0.7044374495911413,
          0.28848531661875715,
          -0.3717414926024388,
          0.8288440550131508,
          -0.38340128043684973,
          0.06574562706397219,
          2.0524525605093,
          -0.6405528750002505,
          -0.3340064376926966,
          1.2219996473694095,
          0.2194755290359963,
          2.955198772573274,
          -0.02685772437217304,
          0.26146694935304754,
          -1.0888714908255899,
          0.5099640075793971,
          -1.2173602966953139,
          -0.3036137386756566,
          0.8471957766098436,
          1.0297840502997417,
          1.8537466066157755,
          -0.7559521685658589,
          0.2445071826661215,
          0.7429875949033095,
          0.4823261097522082
         ],
         "yaxis": "y9"
        },
        {
         "line": {
          "color": "rgba(128, 128, 128, 1.0)",
          "dash": "solid",
          "shape": "linear",
          "width": 1.3
         },
         "marker": {
          "size": 2,
          "symbol": "circle"
         },
         "mode": "markers",
         "name": "C",
         "text": "",
         "type": "scatter",
         "x": [
          0.8916549146321898,
          -0.3381931403080011,
          -0.37428192595009857,
          -0.9419524005632491,
          -1.0145977706243687,
          1.5583890754009588,
          -0.6852630085642236,
          0.6651332215213197,
          -0.9910188176038004,
          0.6161978813106868,
          0.3861938231042876,
          -0.60882693154804,
          0.19890215422838792,
          0.6775658736229073,
          0.797828468832904,
          0.07682513904133999,
          0.025107642292884074,
          -1.5576726094219517,
          1.4264356314033277,
          1.2666998992120595,
          -0.6943473865446161,
          -0.053895565447558316,
          0.4284264262379757,
          0.13208468398082687,
          0.7670307156234072,
          0.38390668729911087,
          0.6347177042230788,
          1.1974467440918999,
          0.2020632736198323,
          -1.0022455128645296,
          0.18371926512091438,
          -0.04109060733714235,
          -1.5481413250921956,
          -0.54934779822259,
          0.09252072296337743,
          -0.5367295945730247,
          -0.4777903101063822,
          0.10604568652569685,
          -0.8718547064946718,
          0.5708956722518306,
          0.06589086041506216,
          0.25580174667143174,
          -0.4312599780802227,
          -0.12443614311985786,
          1.5806599712009868,
          0.2870922514198373,
          0.5512944944835362,
          1.4527579119089358,
          0.2699387949848012,
          0.7904290473921192,
          -0.7816302662769503,
          -0.12821896698885438,
          -0.4225712340699086,
          -2.440144305643967,
          -0.9927129109667006,
          -0.18918780352731643,
          -0.09610392449157452,
          0.3554190174115922,
          -1.7864214361926745,
          -1.1073055045960427,
          -0.9630782474751012,
          0.10812185719468097,
          1.073523936772271,
          -0.19935412263787683,
          0.6908359830853447,
          -0.4429809411287429,
          -1.4187058463861983,
          -1.6721208685617281,
          -0.6786398548037761,
          0.7268002142268188,
          -0.4360824977259846,
          -0.23765490366988942,
          -1.4728284198921924,
          -0.01910884940631543,
          0.10765546033029476,
          1.8927129965967484,
          0.03255345460140715,
          1.0744477403084196,
          0.5661276059273651,
          -1.0592431238903615,
          0.786919426390002,
          1.2764749857577515,
          -0.14162598466362158,
          -0.5133580850066126,
          1.5161755740926746,
          -0.33416049948343557,
          1.7833299073862408,
          0.5139386130455855,
          -0.6842137040540731,
          -2.6483956539321154,
          1.111781386043757,
          2.744841648153119,
          0.011608699926791748,
          -0.2978790480255613,
          -1.5686049470141332,
          -1.3527125996567446,
          -0.8069995269798872,
          -0.8649491875996753,
          -1.129641165354729,
          1.933060854543772
         ],
         "xaxis": "x10",
         "y": [
          -0.20330239236774128,
          0.32850101568085893,
          0.529542595028742,
          -1.6869438521556148,
          -0.12915954035899646,
          -0.29361414034583905,
          -1.0411915378410137,
          0.1655450402186426,
          0.6245227599578845,
          0.6780299903342727,
          -2.9290857736047786,
          0.461077292314986,
          1.1091891520463508,
          0.33644402919592176,
          0.4127408790834404,
          0.4176719457751997,
          -0.7460023909998824,
          -0.18561711514336504,
          -0.46564454618751433,
          0.15926935447160537,
          0.5783156105882734,
          0.6498088371009316,
          -0.5119302580892772,
          -0.01638721511848431,
          0.310058348939363,
          0.038928256609700576,
          -0.26008888312749373,
          -1.2617315627247143,
          0.06454665859839183,
          0.47483185016901536,
          -0.05846809624656749,
          1.4470724106911268,
          -1.8437534447744601,
          -0.021823481334008542,
          -0.4598326516335303,
          0.3157084829852417,
          -1.086482265263441,
          0.1126458838976049,
          -1.8193251733435594,
          1.3315552594184057,
          1.7596809193450778,
          1.739835596293713,
          -0.7630474665988405,
          0.10544336197836349,
          1.4076948529659261,
          -0.9138687942754058,
          0.2111116933980099,
          -0.42235606752361854,
          0.2679189907173422,
          0.5080811830371827,
          -0.8529529166914348,
          -0.5195609166522553,
          0.8811768808600744,
          -0.038377272851005687,
          1.4782130095657346,
          0.19355006817445572,
          1.0508600294180694,
          0.47121959127528307,
          -0.1999034912474286,
          1.7346578774154435,
          -0.2873035910578778,
          0.3893424633119317,
          -2.078545664242502,
          -0.8266949553779602,
          1.0827891174777793,
          1.5546785887935657,
          -0.4752780928615553,
          0.002957871234240924,
          -0.9326126230951465,
          1.2195596769465835,
          -0.7956573787575608,
          2.8696588406462302,
          -0.25251788733211367,
          -0.8305892104633876,
          0.08919573756281855,
          -0.7044374495911413,
          0.28848531661875715,
          -0.3717414926024388,
          0.8288440550131508,
          -0.38340128043684973,
          0.06574562706397219,
          2.0524525605093,
          -0.6405528750002505,
          -0.3340064376926966,
          1.2219996473694095,
          0.2194755290359963,
          2.955198772573274,
          -0.02685772437217304,
          0.26146694935304754,
          -1.0888714908255899,
          0.5099640075793971,
          -1.2173602966953139,
          -0.3036137386756566,
          0.8471957766098436,
          1.0297840502997417,
          1.8537466066157755,
          -0.7559521685658589,
          0.2445071826661215,
          0.7429875949033095,
          0.4823261097522082
         ],
         "yaxis": "y10"
        },
        {
         "histfunc": "count",
         "histnorm": "",
         "marker": {
          "color": "rgba(50, 171, 96, 1.0)",
          "line": {
           "color": "#4D5663",
           "width": 1.3
          }
         },
         "name": "C",
         "nbinsx": 10,
         "opacity": 0.8,
         "orientation": "v",
         "type": "histogram",
         "x": [
          -0.20330239236774128,
          0.32850101568085893,
          0.529542595028742,
          -1.6869438521556148,
          -0.12915954035899646,
          -0.29361414034583905,
          -1.0411915378410137,
          0.1655450402186426,
          0.6245227599578845,
          0.6780299903342727,
          -2.9290857736047786,
          0.461077292314986,
          1.1091891520463508,
          0.33644402919592176,
          0.4127408790834404,
          0.4176719457751997,
          -0.7460023909998824,
          -0.18561711514336504,
          -0.46564454618751433,
          0.15926935447160537,
          0.5783156105882734,
          0.6498088371009316,
          -0.5119302580892772,
          -0.01638721511848431,
          0.310058348939363,
          0.038928256609700576,
          -0.26008888312749373,
          -1.2617315627247143,
          0.06454665859839183,
          0.47483185016901536,
          -0.05846809624656749,
          1.4470724106911268,
          -1.8437534447744601,
          -0.021823481334008542,
          -0.4598326516335303,
          0.3157084829852417,
          -1.086482265263441,
          0.1126458838976049,
          -1.8193251733435594,
          1.3315552594184057,
          1.7596809193450778,
          1.739835596293713,
          -0.7630474665988405,
          0.10544336197836349,
          1.4076948529659261,
          -0.9138687942754058,
          0.2111116933980099,
          -0.42235606752361854,
          0.2679189907173422,
          0.5080811830371827,
          -0.8529529166914348,
          -0.5195609166522553,
          0.8811768808600744,
          -0.038377272851005687,
          1.4782130095657346,
          0.19355006817445572,
          1.0508600294180694,
          0.47121959127528307,
          -0.1999034912474286,
          1.7346578774154435,
          -0.2873035910578778,
          0.3893424633119317,
          -2.078545664242502,
          -0.8266949553779602,
          1.0827891174777793,
          1.5546785887935657,
          -0.4752780928615553,
          0.002957871234240924,
          -0.9326126230951465,
          1.2195596769465835,
          -0.7956573787575608,
          2.8696588406462302,
          -0.25251788733211367,
          -0.8305892104633876,
          0.08919573756281855,
          -0.7044374495911413,
          0.28848531661875715,
          -0.3717414926024388,
          0.8288440550131508,
          -0.38340128043684973,
          0.06574562706397219,
          2.0524525605093,
          -0.6405528750002505,
          -0.3340064376926966,
          1.2219996473694095,
          0.2194755290359963,
          2.955198772573274,
          -0.02685772437217304,
          0.26146694935304754,
          -1.0888714908255899,
          0.5099640075793971,
          -1.2173602966953139,
          -0.3036137386756566,
          0.8471957766098436,
          1.0297840502997417,
          1.8537466066157755,
          -0.7559521685658589,
          0.2445071826661215,
          0.7429875949033095,
          0.4823261097522082
         ],
         "xaxis": "x11",
         "yaxis": "y11"
        },
        {
         "line": {
          "color": "rgba(128, 128, 128, 1.0)",
          "dash": "solid",
          "shape": "linear",
          "width": 1.3
         },
         "marker": {
          "size": 2,
          "symbol": "circle"
         },
         "mode": "markers",
         "name": "C",
         "text": "",
         "type": "scatter",
         "x": [
          0.6353847301831402,
          1.2009423784267994,
          -1.654844320111015,
          -0.8635523832067165,
          0.8436073081690776,
          0.0010283296707705861,
          0.7213232234941241,
          1.2615979277353082,
          1.4292327016337216,
          0.027287191889307012,
          -1.5180573636122134,
          -1.0131139254746897,
          0.7948617640038231,
          -1.408160297894933,
          -0.5012501529865498,
          1.5280332963554248,
          -0.7879092031693243,
          0.7669901510070474,
          -1.091735910194253,
          0.662536340034536,
          0.550001997833688,
          -0.3214729696376683,
          0.008292011859685321,
          -1.3698158321629847,
          0.8391122567630139,
          1.2785094720503718,
          1.1309681951149693,
          0.43715762373237255,
          -0.8719283319074831,
          0.5232332637202878,
          -0.9427769729935915,
          1.749152052334987,
          -0.7332203655606052,
          -1.730022600119727,
          -0.3071717755780072,
          -0.6574275508278046,
          -0.11120726606697393,
          -0.29807283502782583,
          2.007007347945856,
          -1.1248393061937714,
          -0.08331589907942558,
          -0.9624694892468075,
          -1.1772773034412958,
          0.5443833685090267,
          -2.383209166152728,
          -0.5654893309716007,
          0.15432201119291886,
          0.8195508234542466,
          0.41835284465192496,
          -0.10531200162672043,
          1.0245802846927696,
          -0.00916744004768294,
          -0.3619809134335411,
          1.0455709500178472,
          1.1226952193325705,
          -1.243767426208508,
          -0.1269245788752039,
          -1.138560695098012,
          0.012152255094927601,
          -0.3773469384695606,
          -0.1271188690590761,
          0.7691413459651985,
          0.6395681120462738,
          0.38786868367917465,
          0.7814950610131641,
          -0.003065856032941088,
          -0.08052791958464772,
          -0.000862227830624004,
          -0.14667204540993645,
          -0.6588016529198943,
          0.4760288970780797,
          -0.5010391118114504,
          -0.9547048325860107,
          1.4747680524072513,
          0.4344091007512491,
          -0.1871813519464555,
          -0.31693463148729906,
          0.16707302260475737,
          -1.3669967745199492,
          -0.12552365732428736,
          0.16638159317079995,
          0.33491507513827795,
          0.15025043754502934,
          -0.3472800351808697,
          1.7591954772545582,
          -0.29790728038059144,
          -3.201777800234756,
          -0.4018680720562205,
          0.808560116272953,
          0.37745942884408784,
          0.9703784233765854,
          -0.7888595069519375,
          0.3101314954838077,
          0.24078793877636165,
          0.9229850887876242,
          0.12831890641507618,
          0.7564594134938638,
          0.2643149845870508,
          1.2868130886986313,
          -1.4659236256700496
         ],
         "xaxis": "x12",
         "y": [
          -0.20330239236774128,
          0.32850101568085893,
          0.529542595028742,
          -1.6869438521556148,
          -0.12915954035899646,
          -0.29361414034583905,
          -1.0411915378410137,
          0.1655450402186426,
          0.6245227599578845,
          0.6780299903342727,
          -2.9290857736047786,
          0.461077292314986,
          1.1091891520463508,
          0.33644402919592176,
          0.4127408790834404,
          0.4176719457751997,
          -0.7460023909998824,
          -0.18561711514336504,
          -0.46564454618751433,
          0.15926935447160537,
          0.5783156105882734,
          0.6498088371009316,
          -0.5119302580892772,
          -0.01638721511848431,
          0.310058348939363,
          0.038928256609700576,
          -0.26008888312749373,
          -1.2617315627247143,
          0.06454665859839183,
          0.47483185016901536,
          -0.05846809624656749,
          1.4470724106911268,
          -1.8437534447744601,
          -0.021823481334008542,
          -0.4598326516335303,
          0.3157084829852417,
          -1.086482265263441,
          0.1126458838976049,
          -1.8193251733435594,
          1.3315552594184057,
          1.7596809193450778,
          1.739835596293713,
          -0.7630474665988405,
          0.10544336197836349,
          1.4076948529659261,
          -0.9138687942754058,
          0.2111116933980099,
          -0.42235606752361854,
          0.2679189907173422,
          0.5080811830371827,
          -0.8529529166914348,
          -0.5195609166522553,
          0.8811768808600744,
          -0.038377272851005687,
          1.4782130095657346,
          0.19355006817445572,
          1.0508600294180694,
          0.47121959127528307,
          -0.1999034912474286,
          1.7346578774154435,
          -0.2873035910578778,
          0.3893424633119317,
          -2.078545664242502,
          -0.8266949553779602,
          1.0827891174777793,
          1.5546785887935657,
          -0.4752780928615553,
          0.002957871234240924,
          -0.9326126230951465,
          1.2195596769465835,
          -0.7956573787575608,
          2.8696588406462302,
          -0.25251788733211367,
          -0.8305892104633876,
          0.08919573756281855,
          -0.7044374495911413,
          0.28848531661875715,
          -0.3717414926024388,
          0.8288440550131508,
          -0.38340128043684973,
          0.06574562706397219,
          2.0524525605093,
          -0.6405528750002505,
          -0.3340064376926966,
          1.2219996473694095,
          0.2194755290359963,
          2.955198772573274,
          -0.02685772437217304,
          0.26146694935304754,
          -1.0888714908255899,
          0.5099640075793971,
          -1.2173602966953139,
          -0.3036137386756566,
          0.8471957766098436,
          1.0297840502997417,
          1.8537466066157755,
          -0.7559521685658589,
          0.2445071826661215,
          0.7429875949033095,
          0.4823261097522082
         ],
         "yaxis": "y12"
        },
        {
         "line": {
          "color": "rgba(128, 128, 128, 1.0)",
          "dash": "solid",
          "shape": "linear",
          "width": 1.3
         },
         "marker": {
          "size": 2,
          "symbol": "circle"
         },
         "mode": "markers",
         "name": "D",
         "text": "",
         "type": "scatter",
         "x": [
          -0.5460778957347936,
          1.3014510422065746,
          0.26814934478756514,
          -0.3618191044714592,
          -0.7369237834399675,
          3.232474390779266,
          0.4502317191922599,
          0.29996219651162587,
          0.1722537891268259,
          -0.6669176939726003,
          1.1578674537274418,
          -1.476432366982033,
          -0.5472396471244979,
          -1.2937811853587022,
          -0.9013967416102897,
          0.8853025381342631,
          -1.1366898385165811,
          -2.6962483782363815,
          -1.6788450175371639,
          0.3546081661265342,
          0.7442380110818622,
          0.5619392224263491,
          0.6065249503129646,
          0.04089407242636777,
          -1.3342789853786823,
          -0.9369940551036597,
          0.10034758564092557,
          0.8075163635955258,
          0.38351490019648027,
          -0.3324193008656376,
          0.2797743330160391,
          -0.0026682896222340285,
          1.5101952298787567,
          0.8875873921209985,
          1.1495772264048136,
          -0.2464421692232896,
          1.8616344700460064,
          -0.2713449451449245,
          -1.8734698359308377,
          -0.4375931728140298,
          0.782786598083783,
          1.1427488896160929,
          -1.7014930434140594,
          0.7267623595379041,
          -0.007002364510007742,
          0.17509129779533658,
          -0.4781056073352823,
          0.5832965159892182,
          -0.6331491917976095,
          -0.3161961767682029,
          -2.3572250533205223,
          1.3512672934632202,
          0.05341203365733753,
          0.7670034141178904,
          0.18073432373892828,
          -0.7672344771558023,
          0.20558654605709664,
          -0.5544513388284268,
          1.5287039845218173,
          -1.1332355093479762,
          -1.4748315025375673,
          -1.1462469684745658,
          -1.052650035154753,
          -0.3907382513473276,
          -1.627183772248113,
          -0.3783231268569761,
          -0.1597912113636773,
          -1.3535219949676072,
          -0.23935950379079585,
          1.0159738780171244,
          -0.576711046906184,
          -0.7274673897933394,
          -1.4907578857702473,
          -0.7921446366064933,
          -0.08994575562284873,
          0.930250935265208,
          -1.3191164860374893,
          -1.3857346608655399,
          1.6340683152012712,
          1.170193417939178,
          -1.9931400227970575,
          -0.13615296286206194,
          0.0648707514248098,
          -0.5025897956063995,
          -1.845513405796715,
          -0.9477950010886944,
          0.2791081770738883,
          -0.9684113216516099,
          0.8229249871332075,
          0.4314515011373696,
          0.14872909873619033,
          0.2138849867192027,
          -1.2573571642428092,
          1.9379795654275749,
          -0.375126110803408,
          0.8139291956018956,
          0.37433213952728006,
          0.8346004863771042,
          -0.5062703709980042,
          0.6998141405879368
         ],
         "xaxis": "x13",
         "y": [
          0.6353847301831402,
          1.2009423784267994,
          -1.654844320111015,
          -0.8635523832067165,
          0.8436073081690776,
          0.0010283296707705861,
          0.7213232234941241,
          1.2615979277353082,
          1.4292327016337216,
          0.027287191889307012,
          -1.5180573636122134,
          -1.0131139254746897,
          0.7948617640038231,
          -1.408160297894933,
          -0.5012501529865498,
          1.5280332963554248,
          -0.7879092031693243,
          0.7669901510070474,
          -1.091735910194253,
          0.662536340034536,
          0.550001997833688,
          -0.3214729696376683,
          0.008292011859685321,
          -1.3698158321629847,
          0.8391122567630139,
          1.2785094720503718,
          1.1309681951149693,
          0.43715762373237255,
          -0.8719283319074831,
          0.5232332637202878,
          -0.9427769729935915,
          1.749152052334987,
          -0.7332203655606052,
          -1.730022600119727,
          -0.3071717755780072,
          -0.6574275508278046,
          -0.11120726606697393,
          -0.29807283502782583,
          2.007007347945856,
          -1.1248393061937714,
          -0.08331589907942558,
          -0.9624694892468075,
          -1.1772773034412958,
          0.5443833685090267,
          -2.383209166152728,
          -0.5654893309716007,
          0.15432201119291886,
          0.8195508234542466,
          0.41835284465192496,
          -0.10531200162672043,
          1.0245802846927696,
          -0.00916744004768294,
          -0.3619809134335411,
          1.0455709500178472,
          1.1226952193325705,
          -1.243767426208508,
          -0.1269245788752039,
          -1.138560695098012,
          0.012152255094927601,
          -0.3773469384695606,
          -0.1271188690590761,
          0.7691413459651985,
          0.6395681120462738,
          0.38786868367917465,
          0.7814950610131641,
          -0.003065856032941088,
          -0.08052791958464772,
          -0.000862227830624004,
          -0.14667204540993645,
          -0.6588016529198943,
          0.4760288970780797,
          -0.5010391118114504,
          -0.9547048325860107,
          1.4747680524072513,
          0.4344091007512491,
          -0.1871813519464555,
          -0.31693463148729906,
          0.16707302260475737,
          -1.3669967745199492,
          -0.12552365732428736,
          0.16638159317079995,
          0.33491507513827795,
          0.15025043754502934,
          -0.3472800351808697,
          1.7591954772545582,
          -0.29790728038059144,
          -3.201777800234756,
          -0.4018680720562205,
          0.808560116272953,
          0.37745942884408784,
          0.9703784233765854,
          -0.7888595069519375,
          0.3101314954838077,
          0.24078793877636165,
          0.9229850887876242,
          0.12831890641507618,
          0.7564594134938638,
          0.2643149845870508,
          1.2868130886986313,
          -1.4659236256700496
         ],
         "yaxis": "y13"
        },
        {
         "line": {
          "color": "rgba(128, 128, 128, 1.0)",
          "dash": "solid",
          "shape": "linear",
          "width": 1.3
         },
         "marker": {
          "size": 2,
          "symbol": "circle"
         },
         "mode": "markers",
         "name": "D",
         "text": "",
         "type": "scatter",
         "x": [
          0.8916549146321898,
          -0.3381931403080011,
          -0.37428192595009857,
          -0.9419524005632491,
          -1.0145977706243687,
          1.5583890754009588,
          -0.6852630085642236,
          0.6651332215213197,
          -0.9910188176038004,
          0.6161978813106868,
          0.3861938231042876,
          -0.60882693154804,
          0.19890215422838792,
          0.6775658736229073,
          0.797828468832904,
          0.07682513904133999,
          0.025107642292884074,
          -1.5576726094219517,
          1.4264356314033277,
          1.2666998992120595,
          -0.6943473865446161,
          -0.053895565447558316,
          0.4284264262379757,
          0.13208468398082687,
          0.7670307156234072,
          0.38390668729911087,
          0.6347177042230788,
          1.1974467440918999,
          0.2020632736198323,
          -1.0022455128645296,
          0.18371926512091438,
          -0.04109060733714235,
          -1.5481413250921956,
          -0.54934779822259,
          0.09252072296337743,
          -0.5367295945730247,
          -0.4777903101063822,
          0.10604568652569685,
          -0.8718547064946718,
          0.5708956722518306,
          0.06589086041506216,
          0.25580174667143174,
          -0.4312599780802227,
          -0.12443614311985786,
          1.5806599712009868,
          0.2870922514198373,
          0.5512944944835362,
          1.4527579119089358,
          0.2699387949848012,
          0.7904290473921192,
          -0.7816302662769503,
          -0.12821896698885438,
          -0.4225712340699086,
          -2.440144305643967,
          -0.9927129109667006,
          -0.18918780352731643,
          -0.09610392449157452,
          0.3554190174115922,
          -1.7864214361926745,
          -1.1073055045960427,
          -0.9630782474751012,
          0.10812185719468097,
          1.073523936772271,
          -0.19935412263787683,
          0.6908359830853447,
          -0.4429809411287429,
          -1.4187058463861983,
          -1.6721208685617281,
          -0.6786398548037761,
          0.7268002142268188,
          -0.4360824977259846,
          -0.23765490366988942,
          -1.4728284198921924,
          -0.01910884940631543,
          0.10765546033029476,
          1.8927129965967484,
          0.03255345460140715,
          1.0744477403084196,
          0.5661276059273651,
          -1.0592431238903615,
          0.786919426390002,
          1.2764749857577515,
          -0.14162598466362158,
          -0.5133580850066126,
          1.5161755740926746,
          -0.33416049948343557,
          1.7833299073862408,
          0.5139386130455855,
          -0.6842137040540731,
          -2.6483956539321154,
          1.111781386043757,
          2.744841648153119,
          0.011608699926791748,
          -0.2978790480255613,
          -1.5686049470141332,
          -1.3527125996567446,
          -0.8069995269798872,
          -0.8649491875996753,
          -1.129641165354729,
          1.933060854543772
         ],
         "xaxis": "x14",
         "y": [
          0.6353847301831402,
          1.2009423784267994,
          -1.654844320111015,
          -0.8635523832067165,
          0.8436073081690776,
          0.0010283296707705861,
          0.7213232234941241,
          1.2615979277353082,
          1.4292327016337216,
          0.027287191889307012,
          -1.5180573636122134,
          -1.0131139254746897,
          0.7948617640038231,
          -1.408160297894933,
          -0.5012501529865498,
          1.5280332963554248,
          -0.7879092031693243,
          0.7669901510070474,
          -1.091735910194253,
          0.662536340034536,
          0.550001997833688,
          -0.3214729696376683,
          0.008292011859685321,
          -1.3698158321629847,
          0.8391122567630139,
          1.2785094720503718,
          1.1309681951149693,
          0.43715762373237255,
          -0.8719283319074831,
          0.5232332637202878,
          -0.9427769729935915,
          1.749152052334987,
          -0.7332203655606052,
          -1.730022600119727,
          -0.3071717755780072,
          -0.6574275508278046,
          -0.11120726606697393,
          -0.29807283502782583,
          2.007007347945856,
          -1.1248393061937714,
          -0.08331589907942558,
          -0.9624694892468075,
          -1.1772773034412958,
          0.5443833685090267,
          -2.383209166152728,
          -0.5654893309716007,
          0.15432201119291886,
          0.8195508234542466,
          0.41835284465192496,
          -0.10531200162672043,
          1.0245802846927696,
          -0.00916744004768294,
          -0.3619809134335411,
          1.0455709500178472,
          1.1226952193325705,
          -1.243767426208508,
          -0.1269245788752039,
          -1.138560695098012,
          0.012152255094927601,
          -0.3773469384695606,
          -0.1271188690590761,
          0.7691413459651985,
          0.6395681120462738,
          0.38786868367917465,
          0.7814950610131641,
          -0.003065856032941088,
          -0.08052791958464772,
          -0.000862227830624004,
          -0.14667204540993645,
          -0.6588016529198943,
          0.4760288970780797,
          -0.5010391118114504,
          -0.9547048325860107,
          1.4747680524072513,
          0.4344091007512491,
          -0.1871813519464555,
          -0.31693463148729906,
          0.16707302260475737,
          -1.3669967745199492,
          -0.12552365732428736,
          0.16638159317079995,
          0.33491507513827795,
          0.15025043754502934,
          -0.3472800351808697,
          1.7591954772545582,
          -0.29790728038059144,
          -3.201777800234756,
          -0.4018680720562205,
          0.808560116272953,
          0.37745942884408784,
          0.9703784233765854,
          -0.7888595069519375,
          0.3101314954838077,
          0.24078793877636165,
          0.9229850887876242,
          0.12831890641507618,
          0.7564594134938638,
          0.2643149845870508,
          1.2868130886986313,
          -1.4659236256700496
         ],
         "yaxis": "y14"
        },
        {
         "line": {
          "color": "rgba(128, 128, 128, 1.0)",
          "dash": "solid",
          "shape": "linear",
          "width": 1.3
         },
         "marker": {
          "size": 2,
          "symbol": "circle"
         },
         "mode": "markers",
         "name": "D",
         "text": "",
         "type": "scatter",
         "x": [
          -0.20330239236774128,
          0.32850101568085893,
          0.529542595028742,
          -1.6869438521556148,
          -0.12915954035899646,
          -0.29361414034583905,
          -1.0411915378410137,
          0.1655450402186426,
          0.6245227599578845,
          0.6780299903342727,
          -2.9290857736047786,
          0.461077292314986,
          1.1091891520463508,
          0.33644402919592176,
          0.4127408790834404,
          0.4176719457751997,
          -0.7460023909998824,
          -0.18561711514336504,
          -0.46564454618751433,
          0.15926935447160537,
          0.5783156105882734,
          0.6498088371009316,
          -0.5119302580892772,
          -0.01638721511848431,
          0.310058348939363,
          0.038928256609700576,
          -0.26008888312749373,
          -1.2617315627247143,
          0.06454665859839183,
          0.47483185016901536,
          -0.05846809624656749,
          1.4470724106911268,
          -1.8437534447744601,
          -0.021823481334008542,
          -0.4598326516335303,
          0.3157084829852417,
          -1.086482265263441,
          0.1126458838976049,
          -1.8193251733435594,
          1.3315552594184057,
          1.7596809193450778,
          1.739835596293713,
          -0.7630474665988405,
          0.10544336197836349,
          1.4076948529659261,
          -0.9138687942754058,
          0.2111116933980099,
          -0.42235606752361854,
          0.2679189907173422,
          0.5080811830371827,
          -0.8529529166914348,
          -0.5195609166522553,
          0.8811768808600744,
          -0.038377272851005687,
          1.4782130095657346,
          0.19355006817445572,
          1.0508600294180694,
          0.47121959127528307,
          -0.1999034912474286,
          1.7346578774154435,
          -0.2873035910578778,
          0.3893424633119317,
          -2.078545664242502,
          -0.8266949553779602,
          1.0827891174777793,
          1.5546785887935657,
          -0.4752780928615553,
          0.002957871234240924,
          -0.9326126230951465,
          1.2195596769465835,
          -0.7956573787575608,
          2.8696588406462302,
          -0.25251788733211367,
          -0.8305892104633876,
          0.08919573756281855,
          -0.7044374495911413,
          0.28848531661875715,
          -0.3717414926024388,
          0.8288440550131508,
          -0.38340128043684973,
          0.06574562706397219,
          2.0524525605093,
          -0.6405528750002505,
          -0.3340064376926966,
          1.2219996473694095,
          0.2194755290359963,
          2.955198772573274,
          -0.02685772437217304,
          0.26146694935304754,
          -1.0888714908255899,
          0.5099640075793971,
          -1.2173602966953139,
          -0.3036137386756566,
          0.8471957766098436,
          1.0297840502997417,
          1.8537466066157755,
          -0.7559521685658589,
          0.2445071826661215,
          0.7429875949033095,
          0.4823261097522082
         ],
         "xaxis": "x15",
         "y": [
          0.6353847301831402,
          1.2009423784267994,
          -1.654844320111015,
          -0.8635523832067165,
          0.8436073081690776,
          0.0010283296707705861,
          0.7213232234941241,
          1.2615979277353082,
          1.4292327016337216,
          0.027287191889307012,
          -1.5180573636122134,
          -1.0131139254746897,
          0.7948617640038231,
          -1.408160297894933,
          -0.5012501529865498,
          1.5280332963554248,
          -0.7879092031693243,
          0.7669901510070474,
          -1.091735910194253,
          0.662536340034536,
          0.550001997833688,
          -0.3214729696376683,
          0.008292011859685321,
          -1.3698158321629847,
          0.8391122567630139,
          1.2785094720503718,
          1.1309681951149693,
          0.43715762373237255,
          -0.8719283319074831,
          0.5232332637202878,
          -0.9427769729935915,
          1.749152052334987,
          -0.7332203655606052,
          -1.730022600119727,
          -0.3071717755780072,
          -0.6574275508278046,
          -0.11120726606697393,
          -0.29807283502782583,
          2.007007347945856,
          -1.1248393061937714,
          -0.08331589907942558,
          -0.9624694892468075,
          -1.1772773034412958,
          0.5443833685090267,
          -2.383209166152728,
          -0.5654893309716007,
          0.15432201119291886,
          0.8195508234542466,
          0.41835284465192496,
          -0.10531200162672043,
          1.0245802846927696,
          -0.00916744004768294,
          -0.3619809134335411,
          1.0455709500178472,
          1.1226952193325705,
          -1.243767426208508,
          -0.1269245788752039,
          -1.138560695098012,
          0.012152255094927601,
          -0.3773469384695606,
          -0.1271188690590761,
          0.7691413459651985,
          0.6395681120462738,
          0.38786868367917465,
          0.7814950610131641,
          -0.003065856032941088,
          -0.08052791958464772,
          -0.000862227830624004,
          -0.14667204540993645,
          -0.6588016529198943,
          0.4760288970780797,
          -0.5010391118114504,
          -0.9547048325860107,
          1.4747680524072513,
          0.4344091007512491,
          -0.1871813519464555,
          -0.31693463148729906,
          0.16707302260475737,
          -1.3669967745199492,
          -0.12552365732428736,
          0.16638159317079995,
          0.33491507513827795,
          0.15025043754502934,
          -0.3472800351808697,
          1.7591954772545582,
          -0.29790728038059144,
          -3.201777800234756,
          -0.4018680720562205,
          0.808560116272953,
          0.37745942884408784,
          0.9703784233765854,
          -0.7888595069519375,
          0.3101314954838077,
          0.24078793877636165,
          0.9229850887876242,
          0.12831890641507618,
          0.7564594134938638,
          0.2643149845870508,
          1.2868130886986313,
          -1.4659236256700496
         ],
         "yaxis": "y15"
        },
        {
         "histfunc": "count",
         "histnorm": "",
         "marker": {
          "color": "rgba(128, 0, 128, 1.0)",
          "line": {
           "color": "#4D5663",
           "width": 1.3
          }
         },
         "name": "D",
         "nbinsx": 10,
         "opacity": 0.8,
         "orientation": "v",
         "type": "histogram",
         "x": [
          0.6353847301831402,
          1.2009423784267994,
          -1.654844320111015,
          -0.8635523832067165,
          0.8436073081690776,
          0.0010283296707705861,
          0.7213232234941241,
          1.2615979277353082,
          1.4292327016337216,
          0.027287191889307012,
          -1.5180573636122134,
          -1.0131139254746897,
          0.7948617640038231,
          -1.408160297894933,
          -0.5012501529865498,
          1.5280332963554248,
          -0.7879092031693243,
          0.7669901510070474,
          -1.091735910194253,
          0.662536340034536,
          0.550001997833688,
          -0.3214729696376683,
          0.008292011859685321,
          -1.3698158321629847,
          0.8391122567630139,
          1.2785094720503718,
          1.1309681951149693,
          0.43715762373237255,
          -0.8719283319074831,
          0.5232332637202878,
          -0.9427769729935915,
          1.749152052334987,
          -0.7332203655606052,
          -1.730022600119727,
          -0.3071717755780072,
          -0.6574275508278046,
          -0.11120726606697393,
          -0.29807283502782583,
          2.007007347945856,
          -1.1248393061937714,
          -0.08331589907942558,
          -0.9624694892468075,
          -1.1772773034412958,
          0.5443833685090267,
          -2.383209166152728,
          -0.5654893309716007,
          0.15432201119291886,
          0.8195508234542466,
          0.41835284465192496,
          -0.10531200162672043,
          1.0245802846927696,
          -0.00916744004768294,
          -0.3619809134335411,
          1.0455709500178472,
          1.1226952193325705,
          -1.243767426208508,
          -0.1269245788752039,
          -1.138560695098012,
          0.012152255094927601,
          -0.3773469384695606,
          -0.1271188690590761,
          0.7691413459651985,
          0.6395681120462738,
          0.38786868367917465,
          0.7814950610131641,
          -0.003065856032941088,
          -0.08052791958464772,
          -0.000862227830624004,
          -0.14667204540993645,
          -0.6588016529198943,
          0.4760288970780797,
          -0.5010391118114504,
          -0.9547048325860107,
          1.4747680524072513,
          0.4344091007512491,
          -0.1871813519464555,
          -0.31693463148729906,
          0.16707302260475737,
          -1.3669967745199492,
          -0.12552365732428736,
          0.16638159317079995,
          0.33491507513827795,
          0.15025043754502934,
          -0.3472800351808697,
          1.7591954772545582,
          -0.29790728038059144,
          -3.201777800234756,
          -0.4018680720562205,
          0.808560116272953,
          0.37745942884408784,
          0.9703784233765854,
          -0.7888595069519375,
          0.3101314954838077,
          0.24078793877636165,
          0.9229850887876242,
          0.12831890641507618,
          0.7564594134938638,
          0.2643149845870508,
          1.2868130886986313,
          -1.4659236256700496
         ],
         "xaxis": "x16",
         "yaxis": "y16"
        }
       ],
       "layout": {
        "bargap": 0.02,
        "legend": {
         "bgcolor": "#F5F6F9",
         "font": {
          "color": "#4D5663"
         }
        },
        "paper_bgcolor": "#F5F6F9",
        "plot_bgcolor": "#F5F6F9",
        "showlegend": false,
        "template": {
         "data": {
          "bar": [
           {
            "error_x": {
             "color": "#2a3f5f"
            },
            "error_y": {
             "color": "#2a3f5f"
            },
            "marker": {
             "line": {
              "color": "#E5ECF6",
              "width": 0.5
             },
             "pattern": {
              "fillmode": "overlay",
              "size": 10,
              "solidity": 0.2
             }
            },
            "type": "bar"
           }
          ],
          "barpolar": [
           {
            "marker": {
             "line": {
              "color": "#E5ECF6",
              "width": 0.5
             },
             "pattern": {
              "fillmode": "overlay",
              "size": 10,
              "solidity": 0.2
             }
            },
            "type": "barpolar"
           }
          ],
          "carpet": [
           {
            "aaxis": {
             "endlinecolor": "#2a3f5f",
             "gridcolor": "white",
             "linecolor": "white",
             "minorgridcolor": "white",
             "startlinecolor": "#2a3f5f"
            },
            "baxis": {
             "endlinecolor": "#2a3f5f",
             "gridcolor": "white",
             "linecolor": "white",
             "minorgridcolor": "white",
             "startlinecolor": "#2a3f5f"
            },
            "type": "carpet"
           }
          ],
          "choropleth": [
           {
            "colorbar": {
             "outlinewidth": 0,
             "ticks": ""
            },
            "type": "choropleth"
           }
          ],
          "contour": [
           {
            "colorbar": {
             "outlinewidth": 0,
             "ticks": ""
            },
            "colorscale": [
             [
              0,
              "#0d0887"
             ],
             [
              0.1111111111111111,
              "#46039f"
             ],
             [
              0.2222222222222222,
              "#7201a8"
             ],
             [
              0.3333333333333333,
              "#9c179e"
             ],
             [
              0.4444444444444444,
              "#bd3786"
             ],
             [
              0.5555555555555556,
              "#d8576b"
             ],
             [
              0.6666666666666666,
              "#ed7953"
             ],
             [
              0.7777777777777778,
              "#fb9f3a"
             ],
             [
              0.8888888888888888,
              "#fdca26"
             ],
             [
              1,
              "#f0f921"
             ]
            ],
            "type": "contour"
           }
          ],
          "contourcarpet": [
           {
            "colorbar": {
             "outlinewidth": 0,
             "ticks": ""
            },
            "type": "contourcarpet"
           }
          ],
          "heatmap": [
           {
            "colorbar": {
             "outlinewidth": 0,
             "ticks": ""
            },
            "colorscale": [
             [
              0,
              "#0d0887"
             ],
             [
              0.1111111111111111,
              "#46039f"
             ],
             [
              0.2222222222222222,
              "#7201a8"
             ],
             [
              0.3333333333333333,
              "#9c179e"
             ],
             [
              0.4444444444444444,
              "#bd3786"
             ],
             [
              0.5555555555555556,
              "#d8576b"
             ],
             [
              0.6666666666666666,
              "#ed7953"
             ],
             [
              0.7777777777777778,
              "#fb9f3a"
             ],
             [
              0.8888888888888888,
              "#fdca26"
             ],
             [
              1,
              "#f0f921"
             ]
            ],
            "type": "heatmap"
           }
          ],
          "heatmapgl": [
           {
            "colorbar": {
             "outlinewidth": 0,
             "ticks": ""
            },
            "colorscale": [
             [
              0,
              "#0d0887"
             ],
             [
              0.1111111111111111,
              "#46039f"
             ],
             [
              0.2222222222222222,
              "#7201a8"
             ],
             [
              0.3333333333333333,
              "#9c179e"
             ],
             [
              0.4444444444444444,
              "#bd3786"
             ],
             [
              0.5555555555555556,
              "#d8576b"
             ],
             [
              0.6666666666666666,
              "#ed7953"
             ],
             [
              0.7777777777777778,
              "#fb9f3a"
             ],
             [
              0.8888888888888888,
              "#fdca26"
             ],
             [
              1,
              "#f0f921"
             ]
            ],
            "type": "heatmapgl"
           }
          ],
          "histogram": [
           {
            "marker": {
             "pattern": {
              "fillmode": "overlay",
              "size": 10,
              "solidity": 0.2
             }
            },
            "type": "histogram"
           }
          ],
          "histogram2d": [
           {
            "colorbar": {
             "outlinewidth": 0,
             "ticks": ""
            },
            "colorscale": [
             [
              0,
              "#0d0887"
             ],
             [
              0.1111111111111111,
              "#46039f"
             ],
             [
              0.2222222222222222,
              "#7201a8"
             ],
             [
              0.3333333333333333,
              "#9c179e"
             ],
             [
              0.4444444444444444,
              "#bd3786"
             ],
             [
              0.5555555555555556,
              "#d8576b"
             ],
             [
              0.6666666666666666,
              "#ed7953"
             ],
             [
              0.7777777777777778,
              "#fb9f3a"
             ],
             [
              0.8888888888888888,
              "#fdca26"
             ],
             [
              1,
              "#f0f921"
             ]
            ],
            "type": "histogram2d"
           }
          ],
          "histogram2dcontour": [
           {
            "colorbar": {
             "outlinewidth": 0,
             "ticks": ""
            },
            "colorscale": [
             [
              0,
              "#0d0887"
             ],
             [
              0.1111111111111111,
              "#46039f"
             ],
             [
              0.2222222222222222,
              "#7201a8"
             ],
             [
              0.3333333333333333,
              "#9c179e"
             ],
             [
              0.4444444444444444,
              "#bd3786"
             ],
             [
              0.5555555555555556,
              "#d8576b"
             ],
             [
              0.6666666666666666,
              "#ed7953"
             ],
             [
              0.7777777777777778,
              "#fb9f3a"
             ],
             [
              0.8888888888888888,
              "#fdca26"
             ],
             [
              1,
              "#f0f921"
             ]
            ],
            "type": "histogram2dcontour"
           }
          ],
          "mesh3d": [
           {
            "colorbar": {
             "outlinewidth": 0,
             "ticks": ""
            },
            "type": "mesh3d"
           }
          ],
          "parcoords": [
           {
            "line": {
             "colorbar": {
              "outlinewidth": 0,
              "ticks": ""
             }
            },
            "type": "parcoords"
           }
          ],
          "pie": [
           {
            "automargin": true,
            "type": "pie"
           }
          ],
          "scatter": [
           {
            "fillpattern": {
             "fillmode": "overlay",
             "size": 10,
             "solidity": 0.2
            },
            "type": "scatter"
           }
          ],
          "scatter3d": [
           {
            "line": {
             "colorbar": {
              "outlinewidth": 0,
              "ticks": ""
             }
            },
            "marker": {
             "colorbar": {
              "outlinewidth": 0,
              "ticks": ""
             }
            },
            "type": "scatter3d"
           }
          ],
          "scattercarpet": [
           {
            "marker": {
             "colorbar": {
              "outlinewidth": 0,
              "ticks": ""
             }
            },
            "type": "scattercarpet"
           }
          ],
          "scattergeo": [
           {
            "marker": {
             "colorbar": {
              "outlinewidth": 0,
              "ticks": ""
             }
            },
            "type": "scattergeo"
           }
          ],
          "scattergl": [
           {
            "marker": {
             "colorbar": {
              "outlinewidth": 0,
              "ticks": ""
             }
            },
            "type": "scattergl"
           }
          ],
          "scattermapbox": [
           {
            "marker": {
             "colorbar": {
              "outlinewidth": 0,
              "ticks": ""
             }
            },
            "type": "scattermapbox"
           }
          ],
          "scatterpolar": [
           {
            "marker": {
             "colorbar": {
              "outlinewidth": 0,
              "ticks": ""
             }
            },
            "type": "scatterpolar"
           }
          ],
          "scatterpolargl": [
           {
            "marker": {
             "colorbar": {
              "outlinewidth": 0,
              "ticks": ""
             }
            },
            "type": "scatterpolargl"
           }
          ],
          "scatterternary": [
           {
            "marker": {
             "colorbar": {
              "outlinewidth": 0,
              "ticks": ""
             }
            },
            "type": "scatterternary"
           }
          ],
          "surface": [
           {
            "colorbar": {
             "outlinewidth": 0,
             "ticks": ""
            },
            "colorscale": [
             [
              0,
              "#0d0887"
             ],
             [
              0.1111111111111111,
              "#46039f"
             ],
             [
              0.2222222222222222,
              "#7201a8"
             ],
             [
              0.3333333333333333,
              "#9c179e"
             ],
             [
              0.4444444444444444,
              "#bd3786"
             ],
             [
              0.5555555555555556,
              "#d8576b"
             ],
             [
              0.6666666666666666,
              "#ed7953"
             ],
             [
              0.7777777777777778,
              "#fb9f3a"
             ],
             [
              0.8888888888888888,
              "#fdca26"
             ],
             [
              1,
              "#f0f921"
             ]
            ],
            "type": "surface"
           }
          ],
          "table": [
           {
            "cells": {
             "fill": {
              "color": "#EBF0F8"
             },
             "line": {
              "color": "white"
             }
            },
            "header": {
             "fill": {
              "color": "#C8D4E3"
             },
             "line": {
              "color": "white"
             }
            },
            "type": "table"
           }
          ]
         },
         "layout": {
          "annotationdefaults": {
           "arrowcolor": "#2a3f5f",
           "arrowhead": 0,
           "arrowwidth": 1
          },
          "autotypenumbers": "strict",
          "coloraxis": {
           "colorbar": {
            "outlinewidth": 0,
            "ticks": ""
           }
          },
          "colorscale": {
           "diverging": [
            [
             0,
             "#8e0152"
            ],
            [
             0.1,
             "#c51b7d"
            ],
            [
             0.2,
             "#de77ae"
            ],
            [
             0.3,
             "#f1b6da"
            ],
            [
             0.4,
             "#fde0ef"
            ],
            [
             0.5,
             "#f7f7f7"
            ],
            [
             0.6,
             "#e6f5d0"
            ],
            [
             0.7,
             "#b8e186"
            ],
            [
             0.8,
             "#7fbc41"
            ],
            [
             0.9,
             "#4d9221"
            ],
            [
             1,
             "#276419"
            ]
           ],
           "sequential": [
            [
             0,
             "#0d0887"
            ],
            [
             0.1111111111111111,
             "#46039f"
            ],
            [
             0.2222222222222222,
             "#7201a8"
            ],
            [
             0.3333333333333333,
             "#9c179e"
            ],
            [
             0.4444444444444444,
             "#bd3786"
            ],
            [
             0.5555555555555556,
             "#d8576b"
            ],
            [
             0.6666666666666666,
             "#ed7953"
            ],
            [
             0.7777777777777778,
             "#fb9f3a"
            ],
            [
             0.8888888888888888,
             "#fdca26"
            ],
            [
             1,
             "#f0f921"
            ]
           ],
           "sequentialminus": [
            [
             0,
             "#0d0887"
            ],
            [
             0.1111111111111111,
             "#46039f"
            ],
            [
             0.2222222222222222,
             "#7201a8"
            ],
            [
             0.3333333333333333,
             "#9c179e"
            ],
            [
             0.4444444444444444,
             "#bd3786"
            ],
            [
             0.5555555555555556,
             "#d8576b"
            ],
            [
             0.6666666666666666,
             "#ed7953"
            ],
            [
             0.7777777777777778,
             "#fb9f3a"
            ],
            [
             0.8888888888888888,
             "#fdca26"
            ],
            [
             1,
             "#f0f921"
            ]
           ]
          },
          "colorway": [
           "#636efa",
           "#EF553B",
           "#00cc96",
           "#ab63fa",
           "#FFA15A",
           "#19d3f3",
           "#FF6692",
           "#B6E880",
           "#FF97FF",
           "#FECB52"
          ],
          "font": {
           "color": "#2a3f5f"
          },
          "geo": {
           "bgcolor": "white",
           "lakecolor": "white",
           "landcolor": "#E5ECF6",
           "showlakes": true,
           "showland": true,
           "subunitcolor": "white"
          },
          "hoverlabel": {
           "align": "left"
          },
          "hovermode": "closest",
          "mapbox": {
           "style": "light"
          },
          "paper_bgcolor": "white",
          "plot_bgcolor": "#E5ECF6",
          "polar": {
           "angularaxis": {
            "gridcolor": "white",
            "linecolor": "white",
            "ticks": ""
           },
           "bgcolor": "#E5ECF6",
           "radialaxis": {
            "gridcolor": "white",
            "linecolor": "white",
            "ticks": ""
           }
          },
          "scene": {
           "xaxis": {
            "backgroundcolor": "#E5ECF6",
            "gridcolor": "white",
            "gridwidth": 2,
            "linecolor": "white",
            "showbackground": true,
            "ticks": "",
            "zerolinecolor": "white"
           },
           "yaxis": {
            "backgroundcolor": "#E5ECF6",
            "gridcolor": "white",
            "gridwidth": 2,
            "linecolor": "white",
            "showbackground": true,
            "ticks": "",
            "zerolinecolor": "white"
           },
           "zaxis": {
            "backgroundcolor": "#E5ECF6",
            "gridcolor": "white",
            "gridwidth": 2,
            "linecolor": "white",
            "showbackground": true,
            "ticks": "",
            "zerolinecolor": "white"
           }
          },
          "shapedefaults": {
           "line": {
            "color": "#2a3f5f"
           }
          },
          "ternary": {
           "aaxis": {
            "gridcolor": "white",
            "linecolor": "white",
            "ticks": ""
           },
           "baxis": {
            "gridcolor": "white",
            "linecolor": "white",
            "ticks": ""
           },
           "bgcolor": "#E5ECF6",
           "caxis": {
            "gridcolor": "white",
            "linecolor": "white",
            "ticks": ""
           }
          },
          "title": {
           "x": 0.05
          },
          "xaxis": {
           "automargin": true,
           "gridcolor": "white",
           "linecolor": "white",
           "ticks": "",
           "title": {
            "standoff": 15
           },
           "zerolinecolor": "white",
           "zerolinewidth": 2
          },
          "yaxis": {
           "automargin": true,
           "gridcolor": "white",
           "linecolor": "white",
           "ticks": "",
           "title": {
            "standoff": 15
           },
           "zerolinecolor": "white",
           "zerolinewidth": 2
          }
         }
        },
        "title": {
         "font": {
          "color": "#4D5663"
         }
        },
        "xaxis": {
         "anchor": "y",
         "domain": [
          0,
          0.2125
         ],
         "gridcolor": "#E1E5ED",
         "showgrid": false,
         "tickfont": {
          "color": "#4D5663"
         },
         "title": {
          "font": {
           "color": "#4D5663"
          },
          "text": ""
         },
         "zerolinecolor": "#E1E5ED"
        },
        "xaxis10": {
         "anchor": "y10",
         "domain": [
          0.2625,
          0.475
         ],
         "gridcolor": "#E1E5ED",
         "showgrid": false,
         "tickfont": {
          "color": "#4D5663"
         },
         "title": {
          "font": {
           "color": "#4D5663"
          },
          "text": ""
         },
         "zerolinecolor": "#E1E5ED"
        },
        "xaxis11": {
         "anchor": "y11",
         "domain": [
          0.525,
          0.7375
         ],
         "gridcolor": "#E1E5ED",
         "showgrid": false,
         "tickfont": {
          "color": "#4D5663"
         },
         "title": {
          "font": {
           "color": "#4D5663"
          },
          "text": ""
         },
         "zerolinecolor": "#E1E5ED"
        },
        "xaxis12": {
         "anchor": "y12",
         "domain": [
          0.7875,
          1
         ],
         "gridcolor": "#E1E5ED",
         "showgrid": false,
         "tickfont": {
          "color": "#4D5663"
         },
         "title": {
          "font": {
           "color": "#4D5663"
          },
          "text": ""
         },
         "zerolinecolor": "#E1E5ED"
        },
        "xaxis13": {
         "anchor": "y13",
         "domain": [
          0,
          0.2125
         ],
         "gridcolor": "#E1E5ED",
         "showgrid": false,
         "tickfont": {
          "color": "#4D5663"
         },
         "title": {
          "font": {
           "color": "#4D5663"
          },
          "text": ""
         },
         "zerolinecolor": "#E1E5ED"
        },
        "xaxis14": {
         "anchor": "y14",
         "domain": [
          0.2625,
          0.475
         ],
         "gridcolor": "#E1E5ED",
         "showgrid": false,
         "tickfont": {
          "color": "#4D5663"
         },
         "title": {
          "font": {
           "color": "#4D5663"
          },
          "text": ""
         },
         "zerolinecolor": "#E1E5ED"
        },
        "xaxis15": {
         "anchor": "y15",
         "domain": [
          0.525,
          0.7375
         ],
         "gridcolor": "#E1E5ED",
         "showgrid": false,
         "tickfont": {
          "color": "#4D5663"
         },
         "title": {
          "font": {
           "color": "#4D5663"
          },
          "text": ""
         },
         "zerolinecolor": "#E1E5ED"
        },
        "xaxis16": {
         "anchor": "y16",
         "domain": [
          0.7875,
          1
         ],
         "gridcolor": "#E1E5ED",
         "showgrid": false,
         "tickfont": {
          "color": "#4D5663"
         },
         "title": {
          "font": {
           "color": "#4D5663"
          },
          "text": ""
         },
         "zerolinecolor": "#E1E5ED"
        },
        "xaxis2": {
         "anchor": "y2",
         "domain": [
          0.2625,
          0.475
         ],
         "gridcolor": "#E1E5ED",
         "showgrid": false,
         "tickfont": {
          "color": "#4D5663"
         },
         "title": {
          "font": {
           "color": "#4D5663"
          },
          "text": ""
         },
         "zerolinecolor": "#E1E5ED"
        },
        "xaxis3": {
         "anchor": "y3",
         "domain": [
          0.525,
          0.7375
         ],
         "gridcolor": "#E1E5ED",
         "showgrid": false,
         "tickfont": {
          "color": "#4D5663"
         },
         "title": {
          "font": {
           "color": "#4D5663"
          },
          "text": ""
         },
         "zerolinecolor": "#E1E5ED"
        },
        "xaxis4": {
         "anchor": "y4",
         "domain": [
          0.7875,
          1
         ],
         "gridcolor": "#E1E5ED",
         "showgrid": false,
         "tickfont": {
          "color": "#4D5663"
         },
         "title": {
          "font": {
           "color": "#4D5663"
          },
          "text": ""
         },
         "zerolinecolor": "#E1E5ED"
        },
        "xaxis5": {
         "anchor": "y5",
         "domain": [
          0,
          0.2125
         ],
         "gridcolor": "#E1E5ED",
         "showgrid": false,
         "tickfont": {
          "color": "#4D5663"
         },
         "title": {
          "font": {
           "color": "#4D5663"
          },
          "text": ""
         },
         "zerolinecolor": "#E1E5ED"
        },
        "xaxis6": {
         "anchor": "y6",
         "domain": [
          0.2625,
          0.475
         ],
         "gridcolor": "#E1E5ED",
         "showgrid": false,
         "tickfont": {
          "color": "#4D5663"
         },
         "title": {
          "font": {
           "color": "#4D5663"
          },
          "text": ""
         },
         "zerolinecolor": "#E1E5ED"
        },
        "xaxis7": {
         "anchor": "y7",
         "domain": [
          0.525,
          0.7375
         ],
         "gridcolor": "#E1E5ED",
         "showgrid": false,
         "tickfont": {
          "color": "#4D5663"
         },
         "title": {
          "font": {
           "color": "#4D5663"
          },
          "text": ""
         },
         "zerolinecolor": "#E1E5ED"
        },
        "xaxis8": {
         "anchor": "y8",
         "domain": [
          0.7875,
          1
         ],
         "gridcolor": "#E1E5ED",
         "showgrid": false,
         "tickfont": {
          "color": "#4D5663"
         },
         "title": {
          "font": {
           "color": "#4D5663"
          },
          "text": ""
         },
         "zerolinecolor": "#E1E5ED"
        },
        "xaxis9": {
         "anchor": "y9",
         "domain": [
          0,
          0.2125
         ],
         "gridcolor": "#E1E5ED",
         "showgrid": false,
         "tickfont": {
          "color": "#4D5663"
         },
         "title": {
          "font": {
           "color": "#4D5663"
          },
          "text": ""
         },
         "zerolinecolor": "#E1E5ED"
        },
        "yaxis": {
         "anchor": "x",
         "domain": [
          0.8025,
          1
         ],
         "gridcolor": "#E1E5ED",
         "showgrid": false,
         "tickfont": {
          "color": "#4D5663"
         },
         "title": {
          "font": {
           "color": "#4D5663"
          },
          "text": ""
         },
         "zerolinecolor": "#E1E5ED"
        },
        "yaxis10": {
         "anchor": "x10",
         "domain": [
          0.2675,
          0.465
         ],
         "gridcolor": "#E1E5ED",
         "showgrid": false,
         "tickfont": {
          "color": "#4D5663"
         },
         "title": {
          "font": {
           "color": "#4D5663"
          },
          "text": ""
         },
         "zerolinecolor": "#E1E5ED"
        },
        "yaxis11": {
         "anchor": "x11",
         "domain": [
          0.2675,
          0.465
         ],
         "gridcolor": "#E1E5ED",
         "showgrid": false,
         "tickfont": {
          "color": "#4D5663"
         },
         "title": {
          "font": {
           "color": "#4D5663"
          },
          "text": ""
         },
         "zerolinecolor": "#E1E5ED"
        },
        "yaxis12": {
         "anchor": "x12",
         "domain": [
          0.2675,
          0.465
         ],
         "gridcolor": "#E1E5ED",
         "showgrid": false,
         "tickfont": {
          "color": "#4D5663"
         },
         "title": {
          "font": {
           "color": "#4D5663"
          },
          "text": ""
         },
         "zerolinecolor": "#E1E5ED"
        },
        "yaxis13": {
         "anchor": "x13",
         "domain": [
          0,
          0.1975
         ],
         "gridcolor": "#E1E5ED",
         "showgrid": false,
         "tickfont": {
          "color": "#4D5663"
         },
         "title": {
          "font": {
           "color": "#4D5663"
          },
          "text": ""
         },
         "zerolinecolor": "#E1E5ED"
        },
        "yaxis14": {
         "anchor": "x14",
         "domain": [
          0,
          0.1975
         ],
         "gridcolor": "#E1E5ED",
         "showgrid": false,
         "tickfont": {
          "color": "#4D5663"
         },
         "title": {
          "font": {
           "color": "#4D5663"
          },
          "text": ""
         },
         "zerolinecolor": "#E1E5ED"
        },
        "yaxis15": {
         "anchor": "x15",
         "domain": [
          0,
          0.1975
         ],
         "gridcolor": "#E1E5ED",
         "showgrid": false,
         "tickfont": {
          "color": "#4D5663"
         },
         "title": {
          "font": {
           "color": "#4D5663"
          },
          "text": ""
         },
         "zerolinecolor": "#E1E5ED"
        },
        "yaxis16": {
         "anchor": "x16",
         "domain": [
          0,
          0.1975
         ],
         "gridcolor": "#E1E5ED",
         "showgrid": false,
         "tickfont": {
          "color": "#4D5663"
         },
         "title": {
          "font": {
           "color": "#4D5663"
          },
          "text": ""
         },
         "zerolinecolor": "#E1E5ED"
        },
        "yaxis2": {
         "anchor": "x2",
         "domain": [
          0.8025,
          1
         ],
         "gridcolor": "#E1E5ED",
         "showgrid": false,
         "tickfont": {
          "color": "#4D5663"
         },
         "title": {
          "font": {
           "color": "#4D5663"
          },
          "text": ""
         },
         "zerolinecolor": "#E1E5ED"
        },
        "yaxis3": {
         "anchor": "x3",
         "domain": [
          0.8025,
          1
         ],
         "gridcolor": "#E1E5ED",
         "showgrid": false,
         "tickfont": {
          "color": "#4D5663"
         },
         "title": {
          "font": {
           "color": "#4D5663"
          },
          "text": ""
         },
         "zerolinecolor": "#E1E5ED"
        },
        "yaxis4": {
         "anchor": "x4",
         "domain": [
          0.8025,
          1
         ],
         "gridcolor": "#E1E5ED",
         "showgrid": false,
         "tickfont": {
          "color": "#4D5663"
         },
         "title": {
          "font": {
           "color": "#4D5663"
          },
          "text": ""
         },
         "zerolinecolor": "#E1E5ED"
        },
        "yaxis5": {
         "anchor": "x5",
         "domain": [
          0.535,
          0.7325
         ],
         "gridcolor": "#E1E5ED",
         "showgrid": false,
         "tickfont": {
          "color": "#4D5663"
         },
         "title": {
          "font": {
           "color": "#4D5663"
          },
          "text": ""
         },
         "zerolinecolor": "#E1E5ED"
        },
        "yaxis6": {
         "anchor": "x6",
         "domain": [
          0.535,
          0.7325
         ],
         "gridcolor": "#E1E5ED",
         "showgrid": false,
         "tickfont": {
          "color": "#4D5663"
         },
         "title": {
          "font": {
           "color": "#4D5663"
          },
          "text": ""
         },
         "zerolinecolor": "#E1E5ED"
        },
        "yaxis7": {
         "anchor": "x7",
         "domain": [
          0.535,
          0.7325
         ],
         "gridcolor": "#E1E5ED",
         "showgrid": false,
         "tickfont": {
          "color": "#4D5663"
         },
         "title": {
          "font": {
           "color": "#4D5663"
          },
          "text": ""
         },
         "zerolinecolor": "#E1E5ED"
        },
        "yaxis8": {
         "anchor": "x8",
         "domain": [
          0.535,
          0.7325
         ],
         "gridcolor": "#E1E5ED",
         "showgrid": false,
         "tickfont": {
          "color": "#4D5663"
         },
         "title": {
          "font": {
           "color": "#4D5663"
          },
          "text": ""
         },
         "zerolinecolor": "#E1E5ED"
        },
        "yaxis9": {
         "anchor": "x9",
         "domain": [
          0.2675,
          0.465
         ],
         "gridcolor": "#E1E5ED",
         "showgrid": false,
         "tickfont": {
          "color": "#4D5663"
         },
         "title": {
          "font": {
           "color": "#4D5663"
          },
          "text": ""
         },
         "zerolinecolor": "#E1E5ED"
        }
       }
      },
      "text/html": [
       "<div>                            <div id=\"c96ca04d-047f-4bbb-9916-e422648dc2bb\" class=\"plotly-graph-div\" style=\"height:525px; width:100%;\"></div>            <script type=\"text/javascript\">                require([\"plotly\"], function(Plotly) {                    window.PLOTLYENV=window.PLOTLYENV || {};\n",
       "                    window.PLOTLYENV.BASE_URL='https://plot.ly';                                    if (document.getElementById(\"c96ca04d-047f-4bbb-9916-e422648dc2bb\")) {                    Plotly.newPlot(                        \"c96ca04d-047f-4bbb-9916-e422648dc2bb\",                        [{\"histfunc\":\"count\",\"histnorm\":\"\",\"marker\":{\"color\":\"rgba(255, 153, 51, 1.0)\",\"line\":{\"color\":\"#4D5663\",\"width\":1.3}},\"name\":\"A\",\"nbinsx\":10,\"opacity\":0.8,\"orientation\":\"v\",\"x\":[-0.5460778957347936,1.3014510422065746,0.26814934478756514,-0.3618191044714592,-0.7369237834399675,3.232474390779266,0.4502317191922599,0.29996219651162587,0.1722537891268259,-0.6669176939726003,1.1578674537274418,-1.476432366982033,-0.5472396471244979,-1.2937811853587022,-0.9013967416102897,0.8853025381342631,-1.1366898385165811,-2.6962483782363815,-1.6788450175371639,0.3546081661265342,0.7442380110818622,0.5619392224263491,0.6065249503129646,0.04089407242636777,-1.3342789853786823,-0.9369940551036597,0.10034758564092557,0.8075163635955258,0.38351490019648027,-0.3324193008656376,0.2797743330160391,-0.0026682896222340285,1.5101952298787567,0.8875873921209985,1.1495772264048136,-0.2464421692232896,1.8616344700460064,-0.2713449451449245,-1.8734698359308377,-0.4375931728140298,0.782786598083783,1.1427488896160929,-1.7014930434140594,0.7267623595379041,-0.007002364510007742,0.17509129779533658,-0.4781056073352823,0.5832965159892182,-0.6331491917976095,-0.3161961767682029,-2.3572250533205223,1.3512672934632202,0.05341203365733753,0.7670034141178904,0.18073432373892828,-0.7672344771558023,0.20558654605709664,-0.5544513388284268,1.5287039845218173,-1.1332355093479762,-1.4748315025375673,-1.1462469684745658,-1.052650035154753,-0.3907382513473276,-1.627183772248113,-0.3783231268569761,-0.1597912113636773,-1.3535219949676072,-0.23935950379079585,1.0159738780171244,-0.576711046906184,-0.7274673897933394,-1.4907578857702473,-0.7921446366064933,-0.08994575562284873,0.930250935265208,-1.3191164860374893,-1.3857346608655399,1.6340683152012712,1.170193417939178,-1.9931400227970575,-0.13615296286206194,0.0648707514248098,-0.5025897956063995,-1.845513405796715,-0.9477950010886944,0.2791081770738883,-0.9684113216516099,0.8229249871332075,0.4314515011373696,0.14872909873619033,0.2138849867192027,-1.2573571642428092,1.9379795654275749,-0.375126110803408,0.8139291956018956,0.37433213952728006,0.8346004863771042,-0.5062703709980042,0.6998141405879368],\"xaxis\":\"x\",\"yaxis\":\"y\",\"type\":\"histogram\"},{\"line\":{\"color\":\"rgba(128, 128, 128, 1.0)\",\"dash\":\"solid\",\"shape\":\"linear\",\"width\":1.3},\"marker\":{\"size\":2,\"symbol\":\"circle\"},\"mode\":\"markers\",\"name\":\"A\",\"text\":\"\",\"x\":[0.8916549146321898,-0.3381931403080011,-0.37428192595009857,-0.9419524005632491,-1.0145977706243687,1.5583890754009588,-0.6852630085642236,0.6651332215213197,-0.9910188176038004,0.6161978813106868,0.3861938231042876,-0.60882693154804,0.19890215422838792,0.6775658736229073,0.797828468832904,0.07682513904133999,0.025107642292884074,-1.5576726094219517,1.4264356314033277,1.2666998992120595,-0.6943473865446161,-0.053895565447558316,0.4284264262379757,0.13208468398082687,0.7670307156234072,0.38390668729911087,0.6347177042230788,1.1974467440918999,0.2020632736198323,-1.0022455128645296,0.18371926512091438,-0.04109060733714235,-1.5481413250921956,-0.54934779822259,0.09252072296337743,-0.5367295945730247,-0.4777903101063822,0.10604568652569685,-0.8718547064946718,0.5708956722518306,0.06589086041506216,0.25580174667143174,-0.4312599780802227,-0.12443614311985786,1.5806599712009868,0.2870922514198373,0.5512944944835362,1.4527579119089358,0.2699387949848012,0.7904290473921192,-0.7816302662769503,-0.12821896698885438,-0.4225712340699086,-2.440144305643967,-0.9927129109667006,-0.18918780352731643,-0.09610392449157452,0.3554190174115922,-1.7864214361926745,-1.1073055045960427,-0.9630782474751012,0.10812185719468097,1.073523936772271,-0.19935412263787683,0.6908359830853447,-0.4429809411287429,-1.4187058463861983,-1.6721208685617281,-0.6786398548037761,0.7268002142268188,-0.4360824977259846,-0.23765490366988942,-1.4728284198921924,-0.01910884940631543,0.10765546033029476,1.8927129965967484,0.03255345460140715,1.0744477403084196,0.5661276059273651,-1.0592431238903615,0.786919426390002,1.2764749857577515,-0.14162598466362158,-0.5133580850066126,1.5161755740926746,-0.33416049948343557,1.7833299073862408,0.5139386130455855,-0.6842137040540731,-2.6483956539321154,1.111781386043757,2.744841648153119,0.011608699926791748,-0.2978790480255613,-1.5686049470141332,-1.3527125996567446,-0.8069995269798872,-0.8649491875996753,-1.129641165354729,1.933060854543772],\"xaxis\":\"x2\",\"y\":[-0.5460778957347936,1.3014510422065746,0.26814934478756514,-0.3618191044714592,-0.7369237834399675,3.232474390779266,0.4502317191922599,0.29996219651162587,0.1722537891268259,-0.6669176939726003,1.1578674537274418,-1.476432366982033,-0.5472396471244979,-1.2937811853587022,-0.9013967416102897,0.8853025381342631,-1.1366898385165811,-2.6962483782363815,-1.6788450175371639,0.3546081661265342,0.7442380110818622,0.5619392224263491,0.6065249503129646,0.04089407242636777,-1.3342789853786823,-0.9369940551036597,0.10034758564092557,0.8075163635955258,0.38351490019648027,-0.3324193008656376,0.2797743330160391,-0.0026682896222340285,1.5101952298787567,0.8875873921209985,1.1495772264048136,-0.2464421692232896,1.8616344700460064,-0.2713449451449245,-1.8734698359308377,-0.4375931728140298,0.782786598083783,1.1427488896160929,-1.7014930434140594,0.7267623595379041,-0.007002364510007742,0.17509129779533658,-0.4781056073352823,0.5832965159892182,-0.6331491917976095,-0.3161961767682029,-2.3572250533205223,1.3512672934632202,0.05341203365733753,0.7670034141178904,0.18073432373892828,-0.7672344771558023,0.20558654605709664,-0.5544513388284268,1.5287039845218173,-1.1332355093479762,-1.4748315025375673,-1.1462469684745658,-1.052650035154753,-0.3907382513473276,-1.627183772248113,-0.3783231268569761,-0.1597912113636773,-1.3535219949676072,-0.23935950379079585,1.0159738780171244,-0.576711046906184,-0.7274673897933394,-1.4907578857702473,-0.7921446366064933,-0.08994575562284873,0.930250935265208,-1.3191164860374893,-1.3857346608655399,1.6340683152012712,1.170193417939178,-1.9931400227970575,-0.13615296286206194,0.0648707514248098,-0.5025897956063995,-1.845513405796715,-0.9477950010886944,0.2791081770738883,-0.9684113216516099,0.8229249871332075,0.4314515011373696,0.14872909873619033,0.2138849867192027,-1.2573571642428092,1.9379795654275749,-0.375126110803408,0.8139291956018956,0.37433213952728006,0.8346004863771042,-0.5062703709980042,0.6998141405879368],\"yaxis\":\"y2\",\"type\":\"scatter\"},{\"line\":{\"color\":\"rgba(128, 128, 128, 1.0)\",\"dash\":\"solid\",\"shape\":\"linear\",\"width\":1.3},\"marker\":{\"size\":2,\"symbol\":\"circle\"},\"mode\":\"markers\",\"name\":\"A\",\"text\":\"\",\"x\":[-0.20330239236774128,0.32850101568085893,0.529542595028742,-1.6869438521556148,-0.12915954035899646,-0.29361414034583905,-1.0411915378410137,0.1655450402186426,0.6245227599578845,0.6780299903342727,-2.9290857736047786,0.461077292314986,1.1091891520463508,0.33644402919592176,0.4127408790834404,0.4176719457751997,-0.7460023909998824,-0.18561711514336504,-0.46564454618751433,0.15926935447160537,0.5783156105882734,0.6498088371009316,-0.5119302580892772,-0.01638721511848431,0.310058348939363,0.038928256609700576,-0.26008888312749373,-1.2617315627247143,0.06454665859839183,0.47483185016901536,-0.05846809624656749,1.4470724106911268,-1.8437534447744601,-0.021823481334008542,-0.4598326516335303,0.3157084829852417,-1.086482265263441,0.1126458838976049,-1.8193251733435594,1.3315552594184057,1.7596809193450778,1.739835596293713,-0.7630474665988405,0.10544336197836349,1.4076948529659261,-0.9138687942754058,0.2111116933980099,-0.42235606752361854,0.2679189907173422,0.5080811830371827,-0.8529529166914348,-0.5195609166522553,0.8811768808600744,-0.038377272851005687,1.4782130095657346,0.19355006817445572,1.0508600294180694,0.47121959127528307,-0.1999034912474286,1.7346578774154435,-0.2873035910578778,0.3893424633119317,-2.078545664242502,-0.8266949553779602,1.0827891174777793,1.5546785887935657,-0.4752780928615553,0.002957871234240924,-0.9326126230951465,1.2195596769465835,-0.7956573787575608,2.8696588406462302,-0.25251788733211367,-0.8305892104633876,0.08919573756281855,-0.7044374495911413,0.28848531661875715,-0.3717414926024388,0.8288440550131508,-0.38340128043684973,0.06574562706397219,2.0524525605093,-0.6405528750002505,-0.3340064376926966,1.2219996473694095,0.2194755290359963,2.955198772573274,-0.02685772437217304,0.26146694935304754,-1.0888714908255899,0.5099640075793971,-1.2173602966953139,-0.3036137386756566,0.8471957766098436,1.0297840502997417,1.8537466066157755,-0.7559521685658589,0.2445071826661215,0.7429875949033095,0.4823261097522082],\"xaxis\":\"x3\",\"y\":[-0.5460778957347936,1.3014510422065746,0.26814934478756514,-0.3618191044714592,-0.7369237834399675,3.232474390779266,0.4502317191922599,0.29996219651162587,0.1722537891268259,-0.6669176939726003,1.1578674537274418,-1.476432366982033,-0.5472396471244979,-1.2937811853587022,-0.9013967416102897,0.8853025381342631,-1.1366898385165811,-2.6962483782363815,-1.6788450175371639,0.3546081661265342,0.7442380110818622,0.5619392224263491,0.6065249503129646,0.04089407242636777,-1.3342789853786823,-0.9369940551036597,0.10034758564092557,0.8075163635955258,0.38351490019648027,-0.3324193008656376,0.2797743330160391,-0.0026682896222340285,1.5101952298787567,0.8875873921209985,1.1495772264048136,-0.2464421692232896,1.8616344700460064,-0.2713449451449245,-1.8734698359308377,-0.4375931728140298,0.782786598083783,1.1427488896160929,-1.7014930434140594,0.7267623595379041,-0.007002364510007742,0.17509129779533658,-0.4781056073352823,0.5832965159892182,-0.6331491917976095,-0.3161961767682029,-2.3572250533205223,1.3512672934632202,0.05341203365733753,0.7670034141178904,0.18073432373892828,-0.7672344771558023,0.20558654605709664,-0.5544513388284268,1.5287039845218173,-1.1332355093479762,-1.4748315025375673,-1.1462469684745658,-1.052650035154753,-0.3907382513473276,-1.627183772248113,-0.3783231268569761,-0.1597912113636773,-1.3535219949676072,-0.23935950379079585,1.0159738780171244,-0.576711046906184,-0.7274673897933394,-1.4907578857702473,-0.7921446366064933,-0.08994575562284873,0.930250935265208,-1.3191164860374893,-1.3857346608655399,1.6340683152012712,1.170193417939178,-1.9931400227970575,-0.13615296286206194,0.0648707514248098,-0.5025897956063995,-1.845513405796715,-0.9477950010886944,0.2791081770738883,-0.9684113216516099,0.8229249871332075,0.4314515011373696,0.14872909873619033,0.2138849867192027,-1.2573571642428092,1.9379795654275749,-0.375126110803408,0.8139291956018956,0.37433213952728006,0.8346004863771042,-0.5062703709980042,0.6998141405879368],\"yaxis\":\"y3\",\"type\":\"scatter\"},{\"line\":{\"color\":\"rgba(128, 128, 128, 1.0)\",\"dash\":\"solid\",\"shape\":\"linear\",\"width\":1.3},\"marker\":{\"size\":2,\"symbol\":\"circle\"},\"mode\":\"markers\",\"name\":\"A\",\"text\":\"\",\"x\":[0.6353847301831402,1.2009423784267994,-1.654844320111015,-0.8635523832067165,0.8436073081690776,0.0010283296707705861,0.7213232234941241,1.2615979277353082,1.4292327016337216,0.027287191889307012,-1.5180573636122134,-1.0131139254746897,0.7948617640038231,-1.408160297894933,-0.5012501529865498,1.5280332963554248,-0.7879092031693243,0.7669901510070474,-1.091735910194253,0.662536340034536,0.550001997833688,-0.3214729696376683,0.008292011859685321,-1.3698158321629847,0.8391122567630139,1.2785094720503718,1.1309681951149693,0.43715762373237255,-0.8719283319074831,0.5232332637202878,-0.9427769729935915,1.749152052334987,-0.7332203655606052,-1.730022600119727,-0.3071717755780072,-0.6574275508278046,-0.11120726606697393,-0.29807283502782583,2.007007347945856,-1.1248393061937714,-0.08331589907942558,-0.9624694892468075,-1.1772773034412958,0.5443833685090267,-2.383209166152728,-0.5654893309716007,0.15432201119291886,0.8195508234542466,0.41835284465192496,-0.10531200162672043,1.0245802846927696,-0.00916744004768294,-0.3619809134335411,1.0455709500178472,1.1226952193325705,-1.243767426208508,-0.1269245788752039,-1.138560695098012,0.012152255094927601,-0.3773469384695606,-0.1271188690590761,0.7691413459651985,0.6395681120462738,0.38786868367917465,0.7814950610131641,-0.003065856032941088,-0.08052791958464772,-0.000862227830624004,-0.14667204540993645,-0.6588016529198943,0.4760288970780797,-0.5010391118114504,-0.9547048325860107,1.4747680524072513,0.4344091007512491,-0.1871813519464555,-0.31693463148729906,0.16707302260475737,-1.3669967745199492,-0.12552365732428736,0.16638159317079995,0.33491507513827795,0.15025043754502934,-0.3472800351808697,1.7591954772545582,-0.29790728038059144,-3.201777800234756,-0.4018680720562205,0.808560116272953,0.37745942884408784,0.9703784233765854,-0.7888595069519375,0.3101314954838077,0.24078793877636165,0.9229850887876242,0.12831890641507618,0.7564594134938638,0.2643149845870508,1.2868130886986313,-1.4659236256700496],\"xaxis\":\"x4\",\"y\":[-0.5460778957347936,1.3014510422065746,0.26814934478756514,-0.3618191044714592,-0.7369237834399675,3.232474390779266,0.4502317191922599,0.29996219651162587,0.1722537891268259,-0.6669176939726003,1.1578674537274418,-1.476432366982033,-0.5472396471244979,-1.2937811853587022,-0.9013967416102897,0.8853025381342631,-1.1366898385165811,-2.6962483782363815,-1.6788450175371639,0.3546081661265342,0.7442380110818622,0.5619392224263491,0.6065249503129646,0.04089407242636777,-1.3342789853786823,-0.9369940551036597,0.10034758564092557,0.8075163635955258,0.38351490019648027,-0.3324193008656376,0.2797743330160391,-0.0026682896222340285,1.5101952298787567,0.8875873921209985,1.1495772264048136,-0.2464421692232896,1.8616344700460064,-0.2713449451449245,-1.8734698359308377,-0.4375931728140298,0.782786598083783,1.1427488896160929,-1.7014930434140594,0.7267623595379041,-0.007002364510007742,0.17509129779533658,-0.4781056073352823,0.5832965159892182,-0.6331491917976095,-0.3161961767682029,-2.3572250533205223,1.3512672934632202,0.05341203365733753,0.7670034141178904,0.18073432373892828,-0.7672344771558023,0.20558654605709664,-0.5544513388284268,1.5287039845218173,-1.1332355093479762,-1.4748315025375673,-1.1462469684745658,-1.052650035154753,-0.3907382513473276,-1.627183772248113,-0.3783231268569761,-0.1597912113636773,-1.3535219949676072,-0.23935950379079585,1.0159738780171244,-0.576711046906184,-0.7274673897933394,-1.4907578857702473,-0.7921446366064933,-0.08994575562284873,0.930250935265208,-1.3191164860374893,-1.3857346608655399,1.6340683152012712,1.170193417939178,-1.9931400227970575,-0.13615296286206194,0.0648707514248098,-0.5025897956063995,-1.845513405796715,-0.9477950010886944,0.2791081770738883,-0.9684113216516099,0.8229249871332075,0.4314515011373696,0.14872909873619033,0.2138849867192027,-1.2573571642428092,1.9379795654275749,-0.375126110803408,0.8139291956018956,0.37433213952728006,0.8346004863771042,-0.5062703709980042,0.6998141405879368],\"yaxis\":\"y4\",\"type\":\"scatter\"},{\"line\":{\"color\":\"rgba(128, 128, 128, 1.0)\",\"dash\":\"solid\",\"shape\":\"linear\",\"width\":1.3},\"marker\":{\"size\":2,\"symbol\":\"circle\"},\"mode\":\"markers\",\"name\":\"B\",\"text\":\"\",\"x\":[-0.5460778957347936,1.3014510422065746,0.26814934478756514,-0.3618191044714592,-0.7369237834399675,3.232474390779266,0.4502317191922599,0.29996219651162587,0.1722537891268259,-0.6669176939726003,1.1578674537274418,-1.476432366982033,-0.5472396471244979,-1.2937811853587022,-0.9013967416102897,0.8853025381342631,-1.1366898385165811,-2.6962483782363815,-1.6788450175371639,0.3546081661265342,0.7442380110818622,0.5619392224263491,0.6065249503129646,0.04089407242636777,-1.3342789853786823,-0.9369940551036597,0.10034758564092557,0.8075163635955258,0.38351490019648027,-0.3324193008656376,0.2797743330160391,-0.0026682896222340285,1.5101952298787567,0.8875873921209985,1.1495772264048136,-0.2464421692232896,1.8616344700460064,-0.2713449451449245,-1.8734698359308377,-0.4375931728140298,0.782786598083783,1.1427488896160929,-1.7014930434140594,0.7267623595379041,-0.007002364510007742,0.17509129779533658,-0.4781056073352823,0.5832965159892182,-0.6331491917976095,-0.3161961767682029,-2.3572250533205223,1.3512672934632202,0.05341203365733753,0.7670034141178904,0.18073432373892828,-0.7672344771558023,0.20558654605709664,-0.5544513388284268,1.5287039845218173,-1.1332355093479762,-1.4748315025375673,-1.1462469684745658,-1.052650035154753,-0.3907382513473276,-1.627183772248113,-0.3783231268569761,-0.1597912113636773,-1.3535219949676072,-0.23935950379079585,1.0159738780171244,-0.576711046906184,-0.7274673897933394,-1.4907578857702473,-0.7921446366064933,-0.08994575562284873,0.930250935265208,-1.3191164860374893,-1.3857346608655399,1.6340683152012712,1.170193417939178,-1.9931400227970575,-0.13615296286206194,0.0648707514248098,-0.5025897956063995,-1.845513405796715,-0.9477950010886944,0.2791081770738883,-0.9684113216516099,0.8229249871332075,0.4314515011373696,0.14872909873619033,0.2138849867192027,-1.2573571642428092,1.9379795654275749,-0.375126110803408,0.8139291956018956,0.37433213952728006,0.8346004863771042,-0.5062703709980042,0.6998141405879368],\"xaxis\":\"x5\",\"y\":[0.8916549146321898,-0.3381931403080011,-0.37428192595009857,-0.9419524005632491,-1.0145977706243687,1.5583890754009588,-0.6852630085642236,0.6651332215213197,-0.9910188176038004,0.6161978813106868,0.3861938231042876,-0.60882693154804,0.19890215422838792,0.6775658736229073,0.797828468832904,0.07682513904133999,0.025107642292884074,-1.5576726094219517,1.4264356314033277,1.2666998992120595,-0.6943473865446161,-0.053895565447558316,0.4284264262379757,0.13208468398082687,0.7670307156234072,0.38390668729911087,0.6347177042230788,1.1974467440918999,0.2020632736198323,-1.0022455128645296,0.18371926512091438,-0.04109060733714235,-1.5481413250921956,-0.54934779822259,0.09252072296337743,-0.5367295945730247,-0.4777903101063822,0.10604568652569685,-0.8718547064946718,0.5708956722518306,0.06589086041506216,0.25580174667143174,-0.4312599780802227,-0.12443614311985786,1.5806599712009868,0.2870922514198373,0.5512944944835362,1.4527579119089358,0.2699387949848012,0.7904290473921192,-0.7816302662769503,-0.12821896698885438,-0.4225712340699086,-2.440144305643967,-0.9927129109667006,-0.18918780352731643,-0.09610392449157452,0.3554190174115922,-1.7864214361926745,-1.1073055045960427,-0.9630782474751012,0.10812185719468097,1.073523936772271,-0.19935412263787683,0.6908359830853447,-0.4429809411287429,-1.4187058463861983,-1.6721208685617281,-0.6786398548037761,0.7268002142268188,-0.4360824977259846,-0.23765490366988942,-1.4728284198921924,-0.01910884940631543,0.10765546033029476,1.8927129965967484,0.03255345460140715,1.0744477403084196,0.5661276059273651,-1.0592431238903615,0.786919426390002,1.2764749857577515,-0.14162598466362158,-0.5133580850066126,1.5161755740926746,-0.33416049948343557,1.7833299073862408,0.5139386130455855,-0.6842137040540731,-2.6483956539321154,1.111781386043757,2.744841648153119,0.011608699926791748,-0.2978790480255613,-1.5686049470141332,-1.3527125996567446,-0.8069995269798872,-0.8649491875996753,-1.129641165354729,1.933060854543772],\"yaxis\":\"y5\",\"type\":\"scatter\"},{\"histfunc\":\"count\",\"histnorm\":\"\",\"marker\":{\"color\":\"rgba(55, 128, 191, 1.0)\",\"line\":{\"color\":\"#4D5663\",\"width\":1.3}},\"name\":\"B\",\"nbinsx\":10,\"opacity\":0.8,\"orientation\":\"v\",\"x\":[0.8916549146321898,-0.3381931403080011,-0.37428192595009857,-0.9419524005632491,-1.0145977706243687,1.5583890754009588,-0.6852630085642236,0.6651332215213197,-0.9910188176038004,0.6161978813106868,0.3861938231042876,-0.60882693154804,0.19890215422838792,0.6775658736229073,0.797828468832904,0.07682513904133999,0.025107642292884074,-1.5576726094219517,1.4264356314033277,1.2666998992120595,-0.6943473865446161,-0.053895565447558316,0.4284264262379757,0.13208468398082687,0.7670307156234072,0.38390668729911087,0.6347177042230788,1.1974467440918999,0.2020632736198323,-1.0022455128645296,0.18371926512091438,-0.04109060733714235,-1.5481413250921956,-0.54934779822259,0.09252072296337743,-0.5367295945730247,-0.4777903101063822,0.10604568652569685,-0.8718547064946718,0.5708956722518306,0.06589086041506216,0.25580174667143174,-0.4312599780802227,-0.12443614311985786,1.5806599712009868,0.2870922514198373,0.5512944944835362,1.4527579119089358,0.2699387949848012,0.7904290473921192,-0.7816302662769503,-0.12821896698885438,-0.4225712340699086,-2.440144305643967,-0.9927129109667006,-0.18918780352731643,-0.09610392449157452,0.3554190174115922,-1.7864214361926745,-1.1073055045960427,-0.9630782474751012,0.10812185719468097,1.073523936772271,-0.19935412263787683,0.6908359830853447,-0.4429809411287429,-1.4187058463861983,-1.6721208685617281,-0.6786398548037761,0.7268002142268188,-0.4360824977259846,-0.23765490366988942,-1.4728284198921924,-0.01910884940631543,0.10765546033029476,1.8927129965967484,0.03255345460140715,1.0744477403084196,0.5661276059273651,-1.0592431238903615,0.786919426390002,1.2764749857577515,-0.14162598466362158,-0.5133580850066126,1.5161755740926746,-0.33416049948343557,1.7833299073862408,0.5139386130455855,-0.6842137040540731,-2.6483956539321154,1.111781386043757,2.744841648153119,0.011608699926791748,-0.2978790480255613,-1.5686049470141332,-1.3527125996567446,-0.8069995269798872,-0.8649491875996753,-1.129641165354729,1.933060854543772],\"xaxis\":\"x6\",\"yaxis\":\"y6\",\"type\":\"histogram\"},{\"line\":{\"color\":\"rgba(128, 128, 128, 1.0)\",\"dash\":\"solid\",\"shape\":\"linear\",\"width\":1.3},\"marker\":{\"size\":2,\"symbol\":\"circle\"},\"mode\":\"markers\",\"name\":\"B\",\"text\":\"\",\"x\":[-0.20330239236774128,0.32850101568085893,0.529542595028742,-1.6869438521556148,-0.12915954035899646,-0.29361414034583905,-1.0411915378410137,0.1655450402186426,0.6245227599578845,0.6780299903342727,-2.9290857736047786,0.461077292314986,1.1091891520463508,0.33644402919592176,0.4127408790834404,0.4176719457751997,-0.7460023909998824,-0.18561711514336504,-0.46564454618751433,0.15926935447160537,0.5783156105882734,0.6498088371009316,-0.5119302580892772,-0.01638721511848431,0.310058348939363,0.038928256609700576,-0.26008888312749373,-1.2617315627247143,0.06454665859839183,0.47483185016901536,-0.05846809624656749,1.4470724106911268,-1.8437534447744601,-0.021823481334008542,-0.4598326516335303,0.3157084829852417,-1.086482265263441,0.1126458838976049,-1.8193251733435594,1.3315552594184057,1.7596809193450778,1.739835596293713,-0.7630474665988405,0.10544336197836349,1.4076948529659261,-0.9138687942754058,0.2111116933980099,-0.42235606752361854,0.2679189907173422,0.5080811830371827,-0.8529529166914348,-0.5195609166522553,0.8811768808600744,-0.038377272851005687,1.4782130095657346,0.19355006817445572,1.0508600294180694,0.47121959127528307,-0.1999034912474286,1.7346578774154435,-0.2873035910578778,0.3893424633119317,-2.078545664242502,-0.8266949553779602,1.0827891174777793,1.5546785887935657,-0.4752780928615553,0.002957871234240924,-0.9326126230951465,1.2195596769465835,-0.7956573787575608,2.8696588406462302,-0.25251788733211367,-0.8305892104633876,0.08919573756281855,-0.7044374495911413,0.28848531661875715,-0.3717414926024388,0.8288440550131508,-0.38340128043684973,0.06574562706397219,2.0524525605093,-0.6405528750002505,-0.3340064376926966,1.2219996473694095,0.2194755290359963,2.955198772573274,-0.02685772437217304,0.26146694935304754,-1.0888714908255899,0.5099640075793971,-1.2173602966953139,-0.3036137386756566,0.8471957766098436,1.0297840502997417,1.8537466066157755,-0.7559521685658589,0.2445071826661215,0.7429875949033095,0.4823261097522082],\"xaxis\":\"x7\",\"y\":[0.8916549146321898,-0.3381931403080011,-0.37428192595009857,-0.9419524005632491,-1.0145977706243687,1.5583890754009588,-0.6852630085642236,0.6651332215213197,-0.9910188176038004,0.6161978813106868,0.3861938231042876,-0.60882693154804,0.19890215422838792,0.6775658736229073,0.797828468832904,0.07682513904133999,0.025107642292884074,-1.5576726094219517,1.4264356314033277,1.2666998992120595,-0.6943473865446161,-0.053895565447558316,0.4284264262379757,0.13208468398082687,0.7670307156234072,0.38390668729911087,0.6347177042230788,1.1974467440918999,0.2020632736198323,-1.0022455128645296,0.18371926512091438,-0.04109060733714235,-1.5481413250921956,-0.54934779822259,0.09252072296337743,-0.5367295945730247,-0.4777903101063822,0.10604568652569685,-0.8718547064946718,0.5708956722518306,0.06589086041506216,0.25580174667143174,-0.4312599780802227,-0.12443614311985786,1.5806599712009868,0.2870922514198373,0.5512944944835362,1.4527579119089358,0.2699387949848012,0.7904290473921192,-0.7816302662769503,-0.12821896698885438,-0.4225712340699086,-2.440144305643967,-0.9927129109667006,-0.18918780352731643,-0.09610392449157452,0.3554190174115922,-1.7864214361926745,-1.1073055045960427,-0.9630782474751012,0.10812185719468097,1.073523936772271,-0.19935412263787683,0.6908359830853447,-0.4429809411287429,-1.4187058463861983,-1.6721208685617281,-0.6786398548037761,0.7268002142268188,-0.4360824977259846,-0.23765490366988942,-1.4728284198921924,-0.01910884940631543,0.10765546033029476,1.8927129965967484,0.03255345460140715,1.0744477403084196,0.5661276059273651,-1.0592431238903615,0.786919426390002,1.2764749857577515,-0.14162598466362158,-0.5133580850066126,1.5161755740926746,-0.33416049948343557,1.7833299073862408,0.5139386130455855,-0.6842137040540731,-2.6483956539321154,1.111781386043757,2.744841648153119,0.011608699926791748,-0.2978790480255613,-1.5686049470141332,-1.3527125996567446,-0.8069995269798872,-0.8649491875996753,-1.129641165354729,1.933060854543772],\"yaxis\":\"y7\",\"type\":\"scatter\"},{\"line\":{\"color\":\"rgba(128, 128, 128, 1.0)\",\"dash\":\"solid\",\"shape\":\"linear\",\"width\":1.3},\"marker\":{\"size\":2,\"symbol\":\"circle\"},\"mode\":\"markers\",\"name\":\"B\",\"text\":\"\",\"x\":[0.6353847301831402,1.2009423784267994,-1.654844320111015,-0.8635523832067165,0.8436073081690776,0.0010283296707705861,0.7213232234941241,1.2615979277353082,1.4292327016337216,0.027287191889307012,-1.5180573636122134,-1.0131139254746897,0.7948617640038231,-1.408160297894933,-0.5012501529865498,1.5280332963554248,-0.7879092031693243,0.7669901510070474,-1.091735910194253,0.662536340034536,0.550001997833688,-0.3214729696376683,0.008292011859685321,-1.3698158321629847,0.8391122567630139,1.2785094720503718,1.1309681951149693,0.43715762373237255,-0.8719283319074831,0.5232332637202878,-0.9427769729935915,1.749152052334987,-0.7332203655606052,-1.730022600119727,-0.3071717755780072,-0.6574275508278046,-0.11120726606697393,-0.29807283502782583,2.007007347945856,-1.1248393061937714,-0.08331589907942558,-0.9624694892468075,-1.1772773034412958,0.5443833685090267,-2.383209166152728,-0.5654893309716007,0.15432201119291886,0.8195508234542466,0.41835284465192496,-0.10531200162672043,1.0245802846927696,-0.00916744004768294,-0.3619809134335411,1.0455709500178472,1.1226952193325705,-1.243767426208508,-0.1269245788752039,-1.138560695098012,0.012152255094927601,-0.3773469384695606,-0.1271188690590761,0.7691413459651985,0.6395681120462738,0.38786868367917465,0.7814950610131641,-0.003065856032941088,-0.08052791958464772,-0.000862227830624004,-0.14667204540993645,-0.6588016529198943,0.4760288970780797,-0.5010391118114504,-0.9547048325860107,1.4747680524072513,0.4344091007512491,-0.1871813519464555,-0.31693463148729906,0.16707302260475737,-1.3669967745199492,-0.12552365732428736,0.16638159317079995,0.33491507513827795,0.15025043754502934,-0.3472800351808697,1.7591954772545582,-0.29790728038059144,-3.201777800234756,-0.4018680720562205,0.808560116272953,0.37745942884408784,0.9703784233765854,-0.7888595069519375,0.3101314954838077,0.24078793877636165,0.9229850887876242,0.12831890641507618,0.7564594134938638,0.2643149845870508,1.2868130886986313,-1.4659236256700496],\"xaxis\":\"x8\",\"y\":[0.8916549146321898,-0.3381931403080011,-0.37428192595009857,-0.9419524005632491,-1.0145977706243687,1.5583890754009588,-0.6852630085642236,0.6651332215213197,-0.9910188176038004,0.6161978813106868,0.3861938231042876,-0.60882693154804,0.19890215422838792,0.6775658736229073,0.797828468832904,0.07682513904133999,0.025107642292884074,-1.5576726094219517,1.4264356314033277,1.2666998992120595,-0.6943473865446161,-0.053895565447558316,0.4284264262379757,0.13208468398082687,0.7670307156234072,0.38390668729911087,0.6347177042230788,1.1974467440918999,0.2020632736198323,-1.0022455128645296,0.18371926512091438,-0.04109060733714235,-1.5481413250921956,-0.54934779822259,0.09252072296337743,-0.5367295945730247,-0.4777903101063822,0.10604568652569685,-0.8718547064946718,0.5708956722518306,0.06589086041506216,0.25580174667143174,-0.4312599780802227,-0.12443614311985786,1.5806599712009868,0.2870922514198373,0.5512944944835362,1.4527579119089358,0.2699387949848012,0.7904290473921192,-0.7816302662769503,-0.12821896698885438,-0.4225712340699086,-2.440144305643967,-0.9927129109667006,-0.18918780352731643,-0.09610392449157452,0.3554190174115922,-1.7864214361926745,-1.1073055045960427,-0.9630782474751012,0.10812185719468097,1.073523936772271,-0.19935412263787683,0.6908359830853447,-0.4429809411287429,-1.4187058463861983,-1.6721208685617281,-0.6786398548037761,0.7268002142268188,-0.4360824977259846,-0.23765490366988942,-1.4728284198921924,-0.01910884940631543,0.10765546033029476,1.8927129965967484,0.03255345460140715,1.0744477403084196,0.5661276059273651,-1.0592431238903615,0.786919426390002,1.2764749857577515,-0.14162598466362158,-0.5133580850066126,1.5161755740926746,-0.33416049948343557,1.7833299073862408,0.5139386130455855,-0.6842137040540731,-2.6483956539321154,1.111781386043757,2.744841648153119,0.011608699926791748,-0.2978790480255613,-1.5686049470141332,-1.3527125996567446,-0.8069995269798872,-0.8649491875996753,-1.129641165354729,1.933060854543772],\"yaxis\":\"y8\",\"type\":\"scatter\"},{\"line\":{\"color\":\"rgba(128, 128, 128, 1.0)\",\"dash\":\"solid\",\"shape\":\"linear\",\"width\":1.3},\"marker\":{\"size\":2,\"symbol\":\"circle\"},\"mode\":\"markers\",\"name\":\"C\",\"text\":\"\",\"x\":[-0.5460778957347936,1.3014510422065746,0.26814934478756514,-0.3618191044714592,-0.7369237834399675,3.232474390779266,0.4502317191922599,0.29996219651162587,0.1722537891268259,-0.6669176939726003,1.1578674537274418,-1.476432366982033,-0.5472396471244979,-1.2937811853587022,-0.9013967416102897,0.8853025381342631,-1.1366898385165811,-2.6962483782363815,-1.6788450175371639,0.3546081661265342,0.7442380110818622,0.5619392224263491,0.6065249503129646,0.04089407242636777,-1.3342789853786823,-0.9369940551036597,0.10034758564092557,0.8075163635955258,0.38351490019648027,-0.3324193008656376,0.2797743330160391,-0.0026682896222340285,1.5101952298787567,0.8875873921209985,1.1495772264048136,-0.2464421692232896,1.8616344700460064,-0.2713449451449245,-1.8734698359308377,-0.4375931728140298,0.782786598083783,1.1427488896160929,-1.7014930434140594,0.7267623595379041,-0.007002364510007742,0.17509129779533658,-0.4781056073352823,0.5832965159892182,-0.6331491917976095,-0.3161961767682029,-2.3572250533205223,1.3512672934632202,0.05341203365733753,0.7670034141178904,0.18073432373892828,-0.7672344771558023,0.20558654605709664,-0.5544513388284268,1.5287039845218173,-1.1332355093479762,-1.4748315025375673,-1.1462469684745658,-1.052650035154753,-0.3907382513473276,-1.627183772248113,-0.3783231268569761,-0.1597912113636773,-1.3535219949676072,-0.23935950379079585,1.0159738780171244,-0.576711046906184,-0.7274673897933394,-1.4907578857702473,-0.7921446366064933,-0.08994575562284873,0.930250935265208,-1.3191164860374893,-1.3857346608655399,1.6340683152012712,1.170193417939178,-1.9931400227970575,-0.13615296286206194,0.0648707514248098,-0.5025897956063995,-1.845513405796715,-0.9477950010886944,0.2791081770738883,-0.9684113216516099,0.8229249871332075,0.4314515011373696,0.14872909873619033,0.2138849867192027,-1.2573571642428092,1.9379795654275749,-0.375126110803408,0.8139291956018956,0.37433213952728006,0.8346004863771042,-0.5062703709980042,0.6998141405879368],\"xaxis\":\"x9\",\"y\":[-0.20330239236774128,0.32850101568085893,0.529542595028742,-1.6869438521556148,-0.12915954035899646,-0.29361414034583905,-1.0411915378410137,0.1655450402186426,0.6245227599578845,0.6780299903342727,-2.9290857736047786,0.461077292314986,1.1091891520463508,0.33644402919592176,0.4127408790834404,0.4176719457751997,-0.7460023909998824,-0.18561711514336504,-0.46564454618751433,0.15926935447160537,0.5783156105882734,0.6498088371009316,-0.5119302580892772,-0.01638721511848431,0.310058348939363,0.038928256609700576,-0.26008888312749373,-1.2617315627247143,0.06454665859839183,0.47483185016901536,-0.05846809624656749,1.4470724106911268,-1.8437534447744601,-0.021823481334008542,-0.4598326516335303,0.3157084829852417,-1.086482265263441,0.1126458838976049,-1.8193251733435594,1.3315552594184057,1.7596809193450778,1.739835596293713,-0.7630474665988405,0.10544336197836349,1.4076948529659261,-0.9138687942754058,0.2111116933980099,-0.42235606752361854,0.2679189907173422,0.5080811830371827,-0.8529529166914348,-0.5195609166522553,0.8811768808600744,-0.038377272851005687,1.4782130095657346,0.19355006817445572,1.0508600294180694,0.47121959127528307,-0.1999034912474286,1.7346578774154435,-0.2873035910578778,0.3893424633119317,-2.078545664242502,-0.8266949553779602,1.0827891174777793,1.5546785887935657,-0.4752780928615553,0.002957871234240924,-0.9326126230951465,1.2195596769465835,-0.7956573787575608,2.8696588406462302,-0.25251788733211367,-0.8305892104633876,0.08919573756281855,-0.7044374495911413,0.28848531661875715,-0.3717414926024388,0.8288440550131508,-0.38340128043684973,0.06574562706397219,2.0524525605093,-0.6405528750002505,-0.3340064376926966,1.2219996473694095,0.2194755290359963,2.955198772573274,-0.02685772437217304,0.26146694935304754,-1.0888714908255899,0.5099640075793971,-1.2173602966953139,-0.3036137386756566,0.8471957766098436,1.0297840502997417,1.8537466066157755,-0.7559521685658589,0.2445071826661215,0.7429875949033095,0.4823261097522082],\"yaxis\":\"y9\",\"type\":\"scatter\"},{\"line\":{\"color\":\"rgba(128, 128, 128, 1.0)\",\"dash\":\"solid\",\"shape\":\"linear\",\"width\":1.3},\"marker\":{\"size\":2,\"symbol\":\"circle\"},\"mode\":\"markers\",\"name\":\"C\",\"text\":\"\",\"x\":[0.8916549146321898,-0.3381931403080011,-0.37428192595009857,-0.9419524005632491,-1.0145977706243687,1.5583890754009588,-0.6852630085642236,0.6651332215213197,-0.9910188176038004,0.6161978813106868,0.3861938231042876,-0.60882693154804,0.19890215422838792,0.6775658736229073,0.797828468832904,0.07682513904133999,0.025107642292884074,-1.5576726094219517,1.4264356314033277,1.2666998992120595,-0.6943473865446161,-0.053895565447558316,0.4284264262379757,0.13208468398082687,0.7670307156234072,0.38390668729911087,0.6347177042230788,1.1974467440918999,0.2020632736198323,-1.0022455128645296,0.18371926512091438,-0.04109060733714235,-1.5481413250921956,-0.54934779822259,0.09252072296337743,-0.5367295945730247,-0.4777903101063822,0.10604568652569685,-0.8718547064946718,0.5708956722518306,0.06589086041506216,0.25580174667143174,-0.4312599780802227,-0.12443614311985786,1.5806599712009868,0.2870922514198373,0.5512944944835362,1.4527579119089358,0.2699387949848012,0.7904290473921192,-0.7816302662769503,-0.12821896698885438,-0.4225712340699086,-2.440144305643967,-0.9927129109667006,-0.18918780352731643,-0.09610392449157452,0.3554190174115922,-1.7864214361926745,-1.1073055045960427,-0.9630782474751012,0.10812185719468097,1.073523936772271,-0.19935412263787683,0.6908359830853447,-0.4429809411287429,-1.4187058463861983,-1.6721208685617281,-0.6786398548037761,0.7268002142268188,-0.4360824977259846,-0.23765490366988942,-1.4728284198921924,-0.01910884940631543,0.10765546033029476,1.8927129965967484,0.03255345460140715,1.0744477403084196,0.5661276059273651,-1.0592431238903615,0.786919426390002,1.2764749857577515,-0.14162598466362158,-0.5133580850066126,1.5161755740926746,-0.33416049948343557,1.7833299073862408,0.5139386130455855,-0.6842137040540731,-2.6483956539321154,1.111781386043757,2.744841648153119,0.011608699926791748,-0.2978790480255613,-1.5686049470141332,-1.3527125996567446,-0.8069995269798872,-0.8649491875996753,-1.129641165354729,1.933060854543772],\"xaxis\":\"x10\",\"y\":[-0.20330239236774128,0.32850101568085893,0.529542595028742,-1.6869438521556148,-0.12915954035899646,-0.29361414034583905,-1.0411915378410137,0.1655450402186426,0.6245227599578845,0.6780299903342727,-2.9290857736047786,0.461077292314986,1.1091891520463508,0.33644402919592176,0.4127408790834404,0.4176719457751997,-0.7460023909998824,-0.18561711514336504,-0.46564454618751433,0.15926935447160537,0.5783156105882734,0.6498088371009316,-0.5119302580892772,-0.01638721511848431,0.310058348939363,0.038928256609700576,-0.26008888312749373,-1.2617315627247143,0.06454665859839183,0.47483185016901536,-0.05846809624656749,1.4470724106911268,-1.8437534447744601,-0.021823481334008542,-0.4598326516335303,0.3157084829852417,-1.086482265263441,0.1126458838976049,-1.8193251733435594,1.3315552594184057,1.7596809193450778,1.739835596293713,-0.7630474665988405,0.10544336197836349,1.4076948529659261,-0.9138687942754058,0.2111116933980099,-0.42235606752361854,0.2679189907173422,0.5080811830371827,-0.8529529166914348,-0.5195609166522553,0.8811768808600744,-0.038377272851005687,1.4782130095657346,0.19355006817445572,1.0508600294180694,0.47121959127528307,-0.1999034912474286,1.7346578774154435,-0.2873035910578778,0.3893424633119317,-2.078545664242502,-0.8266949553779602,1.0827891174777793,1.5546785887935657,-0.4752780928615553,0.002957871234240924,-0.9326126230951465,1.2195596769465835,-0.7956573787575608,2.8696588406462302,-0.25251788733211367,-0.8305892104633876,0.08919573756281855,-0.7044374495911413,0.28848531661875715,-0.3717414926024388,0.8288440550131508,-0.38340128043684973,0.06574562706397219,2.0524525605093,-0.6405528750002505,-0.3340064376926966,1.2219996473694095,0.2194755290359963,2.955198772573274,-0.02685772437217304,0.26146694935304754,-1.0888714908255899,0.5099640075793971,-1.2173602966953139,-0.3036137386756566,0.8471957766098436,1.0297840502997417,1.8537466066157755,-0.7559521685658589,0.2445071826661215,0.7429875949033095,0.4823261097522082],\"yaxis\":\"y10\",\"type\":\"scatter\"},{\"histfunc\":\"count\",\"histnorm\":\"\",\"marker\":{\"color\":\"rgba(50, 171, 96, 1.0)\",\"line\":{\"color\":\"#4D5663\",\"width\":1.3}},\"name\":\"C\",\"nbinsx\":10,\"opacity\":0.8,\"orientation\":\"v\",\"x\":[-0.20330239236774128,0.32850101568085893,0.529542595028742,-1.6869438521556148,-0.12915954035899646,-0.29361414034583905,-1.0411915378410137,0.1655450402186426,0.6245227599578845,0.6780299903342727,-2.9290857736047786,0.461077292314986,1.1091891520463508,0.33644402919592176,0.4127408790834404,0.4176719457751997,-0.7460023909998824,-0.18561711514336504,-0.46564454618751433,0.15926935447160537,0.5783156105882734,0.6498088371009316,-0.5119302580892772,-0.01638721511848431,0.310058348939363,0.038928256609700576,-0.26008888312749373,-1.2617315627247143,0.06454665859839183,0.47483185016901536,-0.05846809624656749,1.4470724106911268,-1.8437534447744601,-0.021823481334008542,-0.4598326516335303,0.3157084829852417,-1.086482265263441,0.1126458838976049,-1.8193251733435594,1.3315552594184057,1.7596809193450778,1.739835596293713,-0.7630474665988405,0.10544336197836349,1.4076948529659261,-0.9138687942754058,0.2111116933980099,-0.42235606752361854,0.2679189907173422,0.5080811830371827,-0.8529529166914348,-0.5195609166522553,0.8811768808600744,-0.038377272851005687,1.4782130095657346,0.19355006817445572,1.0508600294180694,0.47121959127528307,-0.1999034912474286,1.7346578774154435,-0.2873035910578778,0.3893424633119317,-2.078545664242502,-0.8266949553779602,1.0827891174777793,1.5546785887935657,-0.4752780928615553,0.002957871234240924,-0.9326126230951465,1.2195596769465835,-0.7956573787575608,2.8696588406462302,-0.25251788733211367,-0.8305892104633876,0.08919573756281855,-0.7044374495911413,0.28848531661875715,-0.3717414926024388,0.8288440550131508,-0.38340128043684973,0.06574562706397219,2.0524525605093,-0.6405528750002505,-0.3340064376926966,1.2219996473694095,0.2194755290359963,2.955198772573274,-0.02685772437217304,0.26146694935304754,-1.0888714908255899,0.5099640075793971,-1.2173602966953139,-0.3036137386756566,0.8471957766098436,1.0297840502997417,1.8537466066157755,-0.7559521685658589,0.2445071826661215,0.7429875949033095,0.4823261097522082],\"xaxis\":\"x11\",\"yaxis\":\"y11\",\"type\":\"histogram\"},{\"line\":{\"color\":\"rgba(128, 128, 128, 1.0)\",\"dash\":\"solid\",\"shape\":\"linear\",\"width\":1.3},\"marker\":{\"size\":2,\"symbol\":\"circle\"},\"mode\":\"markers\",\"name\":\"C\",\"text\":\"\",\"x\":[0.6353847301831402,1.2009423784267994,-1.654844320111015,-0.8635523832067165,0.8436073081690776,0.0010283296707705861,0.7213232234941241,1.2615979277353082,1.4292327016337216,0.027287191889307012,-1.5180573636122134,-1.0131139254746897,0.7948617640038231,-1.408160297894933,-0.5012501529865498,1.5280332963554248,-0.7879092031693243,0.7669901510070474,-1.091735910194253,0.662536340034536,0.550001997833688,-0.3214729696376683,0.008292011859685321,-1.3698158321629847,0.8391122567630139,1.2785094720503718,1.1309681951149693,0.43715762373237255,-0.8719283319074831,0.5232332637202878,-0.9427769729935915,1.749152052334987,-0.7332203655606052,-1.730022600119727,-0.3071717755780072,-0.6574275508278046,-0.11120726606697393,-0.29807283502782583,2.007007347945856,-1.1248393061937714,-0.08331589907942558,-0.9624694892468075,-1.1772773034412958,0.5443833685090267,-2.383209166152728,-0.5654893309716007,0.15432201119291886,0.8195508234542466,0.41835284465192496,-0.10531200162672043,1.0245802846927696,-0.00916744004768294,-0.3619809134335411,1.0455709500178472,1.1226952193325705,-1.243767426208508,-0.1269245788752039,-1.138560695098012,0.012152255094927601,-0.3773469384695606,-0.1271188690590761,0.7691413459651985,0.6395681120462738,0.38786868367917465,0.7814950610131641,-0.003065856032941088,-0.08052791958464772,-0.000862227830624004,-0.14667204540993645,-0.6588016529198943,0.4760288970780797,-0.5010391118114504,-0.9547048325860107,1.4747680524072513,0.4344091007512491,-0.1871813519464555,-0.31693463148729906,0.16707302260475737,-1.3669967745199492,-0.12552365732428736,0.16638159317079995,0.33491507513827795,0.15025043754502934,-0.3472800351808697,1.7591954772545582,-0.29790728038059144,-3.201777800234756,-0.4018680720562205,0.808560116272953,0.37745942884408784,0.9703784233765854,-0.7888595069519375,0.3101314954838077,0.24078793877636165,0.9229850887876242,0.12831890641507618,0.7564594134938638,0.2643149845870508,1.2868130886986313,-1.4659236256700496],\"xaxis\":\"x12\",\"y\":[-0.20330239236774128,0.32850101568085893,0.529542595028742,-1.6869438521556148,-0.12915954035899646,-0.29361414034583905,-1.0411915378410137,0.1655450402186426,0.6245227599578845,0.6780299903342727,-2.9290857736047786,0.461077292314986,1.1091891520463508,0.33644402919592176,0.4127408790834404,0.4176719457751997,-0.7460023909998824,-0.18561711514336504,-0.46564454618751433,0.15926935447160537,0.5783156105882734,0.6498088371009316,-0.5119302580892772,-0.01638721511848431,0.310058348939363,0.038928256609700576,-0.26008888312749373,-1.2617315627247143,0.06454665859839183,0.47483185016901536,-0.05846809624656749,1.4470724106911268,-1.8437534447744601,-0.021823481334008542,-0.4598326516335303,0.3157084829852417,-1.086482265263441,0.1126458838976049,-1.8193251733435594,1.3315552594184057,1.7596809193450778,1.739835596293713,-0.7630474665988405,0.10544336197836349,1.4076948529659261,-0.9138687942754058,0.2111116933980099,-0.42235606752361854,0.2679189907173422,0.5080811830371827,-0.8529529166914348,-0.5195609166522553,0.8811768808600744,-0.038377272851005687,1.4782130095657346,0.19355006817445572,1.0508600294180694,0.47121959127528307,-0.1999034912474286,1.7346578774154435,-0.2873035910578778,0.3893424633119317,-2.078545664242502,-0.8266949553779602,1.0827891174777793,1.5546785887935657,-0.4752780928615553,0.002957871234240924,-0.9326126230951465,1.2195596769465835,-0.7956573787575608,2.8696588406462302,-0.25251788733211367,-0.8305892104633876,0.08919573756281855,-0.7044374495911413,0.28848531661875715,-0.3717414926024388,0.8288440550131508,-0.38340128043684973,0.06574562706397219,2.0524525605093,-0.6405528750002505,-0.3340064376926966,1.2219996473694095,0.2194755290359963,2.955198772573274,-0.02685772437217304,0.26146694935304754,-1.0888714908255899,0.5099640075793971,-1.2173602966953139,-0.3036137386756566,0.8471957766098436,1.0297840502997417,1.8537466066157755,-0.7559521685658589,0.2445071826661215,0.7429875949033095,0.4823261097522082],\"yaxis\":\"y12\",\"type\":\"scatter\"},{\"line\":{\"color\":\"rgba(128, 128, 128, 1.0)\",\"dash\":\"solid\",\"shape\":\"linear\",\"width\":1.3},\"marker\":{\"size\":2,\"symbol\":\"circle\"},\"mode\":\"markers\",\"name\":\"D\",\"text\":\"\",\"x\":[-0.5460778957347936,1.3014510422065746,0.26814934478756514,-0.3618191044714592,-0.7369237834399675,3.232474390779266,0.4502317191922599,0.29996219651162587,0.1722537891268259,-0.6669176939726003,1.1578674537274418,-1.476432366982033,-0.5472396471244979,-1.2937811853587022,-0.9013967416102897,0.8853025381342631,-1.1366898385165811,-2.6962483782363815,-1.6788450175371639,0.3546081661265342,0.7442380110818622,0.5619392224263491,0.6065249503129646,0.04089407242636777,-1.3342789853786823,-0.9369940551036597,0.10034758564092557,0.8075163635955258,0.38351490019648027,-0.3324193008656376,0.2797743330160391,-0.0026682896222340285,1.5101952298787567,0.8875873921209985,1.1495772264048136,-0.2464421692232896,1.8616344700460064,-0.2713449451449245,-1.8734698359308377,-0.4375931728140298,0.782786598083783,1.1427488896160929,-1.7014930434140594,0.7267623595379041,-0.007002364510007742,0.17509129779533658,-0.4781056073352823,0.5832965159892182,-0.6331491917976095,-0.3161961767682029,-2.3572250533205223,1.3512672934632202,0.05341203365733753,0.7670034141178904,0.18073432373892828,-0.7672344771558023,0.20558654605709664,-0.5544513388284268,1.5287039845218173,-1.1332355093479762,-1.4748315025375673,-1.1462469684745658,-1.052650035154753,-0.3907382513473276,-1.627183772248113,-0.3783231268569761,-0.1597912113636773,-1.3535219949676072,-0.23935950379079585,1.0159738780171244,-0.576711046906184,-0.7274673897933394,-1.4907578857702473,-0.7921446366064933,-0.08994575562284873,0.930250935265208,-1.3191164860374893,-1.3857346608655399,1.6340683152012712,1.170193417939178,-1.9931400227970575,-0.13615296286206194,0.0648707514248098,-0.5025897956063995,-1.845513405796715,-0.9477950010886944,0.2791081770738883,-0.9684113216516099,0.8229249871332075,0.4314515011373696,0.14872909873619033,0.2138849867192027,-1.2573571642428092,1.9379795654275749,-0.375126110803408,0.8139291956018956,0.37433213952728006,0.8346004863771042,-0.5062703709980042,0.6998141405879368],\"xaxis\":\"x13\",\"y\":[0.6353847301831402,1.2009423784267994,-1.654844320111015,-0.8635523832067165,0.8436073081690776,0.0010283296707705861,0.7213232234941241,1.2615979277353082,1.4292327016337216,0.027287191889307012,-1.5180573636122134,-1.0131139254746897,0.7948617640038231,-1.408160297894933,-0.5012501529865498,1.5280332963554248,-0.7879092031693243,0.7669901510070474,-1.091735910194253,0.662536340034536,0.550001997833688,-0.3214729696376683,0.008292011859685321,-1.3698158321629847,0.8391122567630139,1.2785094720503718,1.1309681951149693,0.43715762373237255,-0.8719283319074831,0.5232332637202878,-0.9427769729935915,1.749152052334987,-0.7332203655606052,-1.730022600119727,-0.3071717755780072,-0.6574275508278046,-0.11120726606697393,-0.29807283502782583,2.007007347945856,-1.1248393061937714,-0.08331589907942558,-0.9624694892468075,-1.1772773034412958,0.5443833685090267,-2.383209166152728,-0.5654893309716007,0.15432201119291886,0.8195508234542466,0.41835284465192496,-0.10531200162672043,1.0245802846927696,-0.00916744004768294,-0.3619809134335411,1.0455709500178472,1.1226952193325705,-1.243767426208508,-0.1269245788752039,-1.138560695098012,0.012152255094927601,-0.3773469384695606,-0.1271188690590761,0.7691413459651985,0.6395681120462738,0.38786868367917465,0.7814950610131641,-0.003065856032941088,-0.08052791958464772,-0.000862227830624004,-0.14667204540993645,-0.6588016529198943,0.4760288970780797,-0.5010391118114504,-0.9547048325860107,1.4747680524072513,0.4344091007512491,-0.1871813519464555,-0.31693463148729906,0.16707302260475737,-1.3669967745199492,-0.12552365732428736,0.16638159317079995,0.33491507513827795,0.15025043754502934,-0.3472800351808697,1.7591954772545582,-0.29790728038059144,-3.201777800234756,-0.4018680720562205,0.808560116272953,0.37745942884408784,0.9703784233765854,-0.7888595069519375,0.3101314954838077,0.24078793877636165,0.9229850887876242,0.12831890641507618,0.7564594134938638,0.2643149845870508,1.2868130886986313,-1.4659236256700496],\"yaxis\":\"y13\",\"type\":\"scatter\"},{\"line\":{\"color\":\"rgba(128, 128, 128, 1.0)\",\"dash\":\"solid\",\"shape\":\"linear\",\"width\":1.3},\"marker\":{\"size\":2,\"symbol\":\"circle\"},\"mode\":\"markers\",\"name\":\"D\",\"text\":\"\",\"x\":[0.8916549146321898,-0.3381931403080011,-0.37428192595009857,-0.9419524005632491,-1.0145977706243687,1.5583890754009588,-0.6852630085642236,0.6651332215213197,-0.9910188176038004,0.6161978813106868,0.3861938231042876,-0.60882693154804,0.19890215422838792,0.6775658736229073,0.797828468832904,0.07682513904133999,0.025107642292884074,-1.5576726094219517,1.4264356314033277,1.2666998992120595,-0.6943473865446161,-0.053895565447558316,0.4284264262379757,0.13208468398082687,0.7670307156234072,0.38390668729911087,0.6347177042230788,1.1974467440918999,0.2020632736198323,-1.0022455128645296,0.18371926512091438,-0.04109060733714235,-1.5481413250921956,-0.54934779822259,0.09252072296337743,-0.5367295945730247,-0.4777903101063822,0.10604568652569685,-0.8718547064946718,0.5708956722518306,0.06589086041506216,0.25580174667143174,-0.4312599780802227,-0.12443614311985786,1.5806599712009868,0.2870922514198373,0.5512944944835362,1.4527579119089358,0.2699387949848012,0.7904290473921192,-0.7816302662769503,-0.12821896698885438,-0.4225712340699086,-2.440144305643967,-0.9927129109667006,-0.18918780352731643,-0.09610392449157452,0.3554190174115922,-1.7864214361926745,-1.1073055045960427,-0.9630782474751012,0.10812185719468097,1.073523936772271,-0.19935412263787683,0.6908359830853447,-0.4429809411287429,-1.4187058463861983,-1.6721208685617281,-0.6786398548037761,0.7268002142268188,-0.4360824977259846,-0.23765490366988942,-1.4728284198921924,-0.01910884940631543,0.10765546033029476,1.8927129965967484,0.03255345460140715,1.0744477403084196,0.5661276059273651,-1.0592431238903615,0.786919426390002,1.2764749857577515,-0.14162598466362158,-0.5133580850066126,1.5161755740926746,-0.33416049948343557,1.7833299073862408,0.5139386130455855,-0.6842137040540731,-2.6483956539321154,1.111781386043757,2.744841648153119,0.011608699926791748,-0.2978790480255613,-1.5686049470141332,-1.3527125996567446,-0.8069995269798872,-0.8649491875996753,-1.129641165354729,1.933060854543772],\"xaxis\":\"x14\",\"y\":[0.6353847301831402,1.2009423784267994,-1.654844320111015,-0.8635523832067165,0.8436073081690776,0.0010283296707705861,0.7213232234941241,1.2615979277353082,1.4292327016337216,0.027287191889307012,-1.5180573636122134,-1.0131139254746897,0.7948617640038231,-1.408160297894933,-0.5012501529865498,1.5280332963554248,-0.7879092031693243,0.7669901510070474,-1.091735910194253,0.662536340034536,0.550001997833688,-0.3214729696376683,0.008292011859685321,-1.3698158321629847,0.8391122567630139,1.2785094720503718,1.1309681951149693,0.43715762373237255,-0.8719283319074831,0.5232332637202878,-0.9427769729935915,1.749152052334987,-0.7332203655606052,-1.730022600119727,-0.3071717755780072,-0.6574275508278046,-0.11120726606697393,-0.29807283502782583,2.007007347945856,-1.1248393061937714,-0.08331589907942558,-0.9624694892468075,-1.1772773034412958,0.5443833685090267,-2.383209166152728,-0.5654893309716007,0.15432201119291886,0.8195508234542466,0.41835284465192496,-0.10531200162672043,1.0245802846927696,-0.00916744004768294,-0.3619809134335411,1.0455709500178472,1.1226952193325705,-1.243767426208508,-0.1269245788752039,-1.138560695098012,0.012152255094927601,-0.3773469384695606,-0.1271188690590761,0.7691413459651985,0.6395681120462738,0.38786868367917465,0.7814950610131641,-0.003065856032941088,-0.08052791958464772,-0.000862227830624004,-0.14667204540993645,-0.6588016529198943,0.4760288970780797,-0.5010391118114504,-0.9547048325860107,1.4747680524072513,0.4344091007512491,-0.1871813519464555,-0.31693463148729906,0.16707302260475737,-1.3669967745199492,-0.12552365732428736,0.16638159317079995,0.33491507513827795,0.15025043754502934,-0.3472800351808697,1.7591954772545582,-0.29790728038059144,-3.201777800234756,-0.4018680720562205,0.808560116272953,0.37745942884408784,0.9703784233765854,-0.7888595069519375,0.3101314954838077,0.24078793877636165,0.9229850887876242,0.12831890641507618,0.7564594134938638,0.2643149845870508,1.2868130886986313,-1.4659236256700496],\"yaxis\":\"y14\",\"type\":\"scatter\"},{\"line\":{\"color\":\"rgba(128, 128, 128, 1.0)\",\"dash\":\"solid\",\"shape\":\"linear\",\"width\":1.3},\"marker\":{\"size\":2,\"symbol\":\"circle\"},\"mode\":\"markers\",\"name\":\"D\",\"text\":\"\",\"x\":[-0.20330239236774128,0.32850101568085893,0.529542595028742,-1.6869438521556148,-0.12915954035899646,-0.29361414034583905,-1.0411915378410137,0.1655450402186426,0.6245227599578845,0.6780299903342727,-2.9290857736047786,0.461077292314986,1.1091891520463508,0.33644402919592176,0.4127408790834404,0.4176719457751997,-0.7460023909998824,-0.18561711514336504,-0.46564454618751433,0.15926935447160537,0.5783156105882734,0.6498088371009316,-0.5119302580892772,-0.01638721511848431,0.310058348939363,0.038928256609700576,-0.26008888312749373,-1.2617315627247143,0.06454665859839183,0.47483185016901536,-0.05846809624656749,1.4470724106911268,-1.8437534447744601,-0.021823481334008542,-0.4598326516335303,0.3157084829852417,-1.086482265263441,0.1126458838976049,-1.8193251733435594,1.3315552594184057,1.7596809193450778,1.739835596293713,-0.7630474665988405,0.10544336197836349,1.4076948529659261,-0.9138687942754058,0.2111116933980099,-0.42235606752361854,0.2679189907173422,0.5080811830371827,-0.8529529166914348,-0.5195609166522553,0.8811768808600744,-0.038377272851005687,1.4782130095657346,0.19355006817445572,1.0508600294180694,0.47121959127528307,-0.1999034912474286,1.7346578774154435,-0.2873035910578778,0.3893424633119317,-2.078545664242502,-0.8266949553779602,1.0827891174777793,1.5546785887935657,-0.4752780928615553,0.002957871234240924,-0.9326126230951465,1.2195596769465835,-0.7956573787575608,2.8696588406462302,-0.25251788733211367,-0.8305892104633876,0.08919573756281855,-0.7044374495911413,0.28848531661875715,-0.3717414926024388,0.8288440550131508,-0.38340128043684973,0.06574562706397219,2.0524525605093,-0.6405528750002505,-0.3340064376926966,1.2219996473694095,0.2194755290359963,2.955198772573274,-0.02685772437217304,0.26146694935304754,-1.0888714908255899,0.5099640075793971,-1.2173602966953139,-0.3036137386756566,0.8471957766098436,1.0297840502997417,1.8537466066157755,-0.7559521685658589,0.2445071826661215,0.7429875949033095,0.4823261097522082],\"xaxis\":\"x15\",\"y\":[0.6353847301831402,1.2009423784267994,-1.654844320111015,-0.8635523832067165,0.8436073081690776,0.0010283296707705861,0.7213232234941241,1.2615979277353082,1.4292327016337216,0.027287191889307012,-1.5180573636122134,-1.0131139254746897,0.7948617640038231,-1.408160297894933,-0.5012501529865498,1.5280332963554248,-0.7879092031693243,0.7669901510070474,-1.091735910194253,0.662536340034536,0.550001997833688,-0.3214729696376683,0.008292011859685321,-1.3698158321629847,0.8391122567630139,1.2785094720503718,1.1309681951149693,0.43715762373237255,-0.8719283319074831,0.5232332637202878,-0.9427769729935915,1.749152052334987,-0.7332203655606052,-1.730022600119727,-0.3071717755780072,-0.6574275508278046,-0.11120726606697393,-0.29807283502782583,2.007007347945856,-1.1248393061937714,-0.08331589907942558,-0.9624694892468075,-1.1772773034412958,0.5443833685090267,-2.383209166152728,-0.5654893309716007,0.15432201119291886,0.8195508234542466,0.41835284465192496,-0.10531200162672043,1.0245802846927696,-0.00916744004768294,-0.3619809134335411,1.0455709500178472,1.1226952193325705,-1.243767426208508,-0.1269245788752039,-1.138560695098012,0.012152255094927601,-0.3773469384695606,-0.1271188690590761,0.7691413459651985,0.6395681120462738,0.38786868367917465,0.7814950610131641,-0.003065856032941088,-0.08052791958464772,-0.000862227830624004,-0.14667204540993645,-0.6588016529198943,0.4760288970780797,-0.5010391118114504,-0.9547048325860107,1.4747680524072513,0.4344091007512491,-0.1871813519464555,-0.31693463148729906,0.16707302260475737,-1.3669967745199492,-0.12552365732428736,0.16638159317079995,0.33491507513827795,0.15025043754502934,-0.3472800351808697,1.7591954772545582,-0.29790728038059144,-3.201777800234756,-0.4018680720562205,0.808560116272953,0.37745942884408784,0.9703784233765854,-0.7888595069519375,0.3101314954838077,0.24078793877636165,0.9229850887876242,0.12831890641507618,0.7564594134938638,0.2643149845870508,1.2868130886986313,-1.4659236256700496],\"yaxis\":\"y15\",\"type\":\"scatter\"},{\"histfunc\":\"count\",\"histnorm\":\"\",\"marker\":{\"color\":\"rgba(128, 0, 128, 1.0)\",\"line\":{\"color\":\"#4D5663\",\"width\":1.3}},\"name\":\"D\",\"nbinsx\":10,\"opacity\":0.8,\"orientation\":\"v\",\"x\":[0.6353847301831402,1.2009423784267994,-1.654844320111015,-0.8635523832067165,0.8436073081690776,0.0010283296707705861,0.7213232234941241,1.2615979277353082,1.4292327016337216,0.027287191889307012,-1.5180573636122134,-1.0131139254746897,0.7948617640038231,-1.408160297894933,-0.5012501529865498,1.5280332963554248,-0.7879092031693243,0.7669901510070474,-1.091735910194253,0.662536340034536,0.550001997833688,-0.3214729696376683,0.008292011859685321,-1.3698158321629847,0.8391122567630139,1.2785094720503718,1.1309681951149693,0.43715762373237255,-0.8719283319074831,0.5232332637202878,-0.9427769729935915,1.749152052334987,-0.7332203655606052,-1.730022600119727,-0.3071717755780072,-0.6574275508278046,-0.11120726606697393,-0.29807283502782583,2.007007347945856,-1.1248393061937714,-0.08331589907942558,-0.9624694892468075,-1.1772773034412958,0.5443833685090267,-2.383209166152728,-0.5654893309716007,0.15432201119291886,0.8195508234542466,0.41835284465192496,-0.10531200162672043,1.0245802846927696,-0.00916744004768294,-0.3619809134335411,1.0455709500178472,1.1226952193325705,-1.243767426208508,-0.1269245788752039,-1.138560695098012,0.012152255094927601,-0.3773469384695606,-0.1271188690590761,0.7691413459651985,0.6395681120462738,0.38786868367917465,0.7814950610131641,-0.003065856032941088,-0.08052791958464772,-0.000862227830624004,-0.14667204540993645,-0.6588016529198943,0.4760288970780797,-0.5010391118114504,-0.9547048325860107,1.4747680524072513,0.4344091007512491,-0.1871813519464555,-0.31693463148729906,0.16707302260475737,-1.3669967745199492,-0.12552365732428736,0.16638159317079995,0.33491507513827795,0.15025043754502934,-0.3472800351808697,1.7591954772545582,-0.29790728038059144,-3.201777800234756,-0.4018680720562205,0.808560116272953,0.37745942884408784,0.9703784233765854,-0.7888595069519375,0.3101314954838077,0.24078793877636165,0.9229850887876242,0.12831890641507618,0.7564594134938638,0.2643149845870508,1.2868130886986313,-1.4659236256700496],\"xaxis\":\"x16\",\"yaxis\":\"y16\",\"type\":\"histogram\"}],                        {\"bargap\":0.02,\"legend\":{\"bgcolor\":\"#F5F6F9\",\"font\":{\"color\":\"#4D5663\"}},\"paper_bgcolor\":\"#F5F6F9\",\"plot_bgcolor\":\"#F5F6F9\",\"showlegend\":false,\"template\":{\"data\":{\"barpolar\":[{\"marker\":{\"line\":{\"color\":\"#E5ECF6\",\"width\":0.5},\"pattern\":{\"fillmode\":\"overlay\",\"size\":10,\"solidity\":0.2}},\"type\":\"barpolar\"}],\"bar\":[{\"error_x\":{\"color\":\"#2a3f5f\"},\"error_y\":{\"color\":\"#2a3f5f\"},\"marker\":{\"line\":{\"color\":\"#E5ECF6\",\"width\":0.5},\"pattern\":{\"fillmode\":\"overlay\",\"size\":10,\"solidity\":0.2}},\"type\":\"bar\"}],\"carpet\":[{\"aaxis\":{\"endlinecolor\":\"#2a3f5f\",\"gridcolor\":\"white\",\"linecolor\":\"white\",\"minorgridcolor\":\"white\",\"startlinecolor\":\"#2a3f5f\"},\"baxis\":{\"endlinecolor\":\"#2a3f5f\",\"gridcolor\":\"white\",\"linecolor\":\"white\",\"minorgridcolor\":\"white\",\"startlinecolor\":\"#2a3f5f\"},\"type\":\"carpet\"}],\"choropleth\":[{\"colorbar\":{\"outlinewidth\":0,\"ticks\":\"\"},\"type\":\"choropleth\"}],\"contourcarpet\":[{\"colorbar\":{\"outlinewidth\":0,\"ticks\":\"\"},\"type\":\"contourcarpet\"}],\"contour\":[{\"colorbar\":{\"outlinewidth\":0,\"ticks\":\"\"},\"colorscale\":[[0.0,\"#0d0887\"],[0.1111111111111111,\"#46039f\"],[0.2222222222222222,\"#7201a8\"],[0.3333333333333333,\"#9c179e\"],[0.4444444444444444,\"#bd3786\"],[0.5555555555555556,\"#d8576b\"],[0.6666666666666666,\"#ed7953\"],[0.7777777777777778,\"#fb9f3a\"],[0.8888888888888888,\"#fdca26\"],[1.0,\"#f0f921\"]],\"type\":\"contour\"}],\"heatmapgl\":[{\"colorbar\":{\"outlinewidth\":0,\"ticks\":\"\"},\"colorscale\":[[0.0,\"#0d0887\"],[0.1111111111111111,\"#46039f\"],[0.2222222222222222,\"#7201a8\"],[0.3333333333333333,\"#9c179e\"],[0.4444444444444444,\"#bd3786\"],[0.5555555555555556,\"#d8576b\"],[0.6666666666666666,\"#ed7953\"],[0.7777777777777778,\"#fb9f3a\"],[0.8888888888888888,\"#fdca26\"],[1.0,\"#f0f921\"]],\"type\":\"heatmapgl\"}],\"heatmap\":[{\"colorbar\":{\"outlinewidth\":0,\"ticks\":\"\"},\"colorscale\":[[0.0,\"#0d0887\"],[0.1111111111111111,\"#46039f\"],[0.2222222222222222,\"#7201a8\"],[0.3333333333333333,\"#9c179e\"],[0.4444444444444444,\"#bd3786\"],[0.5555555555555556,\"#d8576b\"],[0.6666666666666666,\"#ed7953\"],[0.7777777777777778,\"#fb9f3a\"],[0.8888888888888888,\"#fdca26\"],[1.0,\"#f0f921\"]],\"type\":\"heatmap\"}],\"histogram2dcontour\":[{\"colorbar\":{\"outlinewidth\":0,\"ticks\":\"\"},\"colorscale\":[[0.0,\"#0d0887\"],[0.1111111111111111,\"#46039f\"],[0.2222222222222222,\"#7201a8\"],[0.3333333333333333,\"#9c179e\"],[0.4444444444444444,\"#bd3786\"],[0.5555555555555556,\"#d8576b\"],[0.6666666666666666,\"#ed7953\"],[0.7777777777777778,\"#fb9f3a\"],[0.8888888888888888,\"#fdca26\"],[1.0,\"#f0f921\"]],\"type\":\"histogram2dcontour\"}],\"histogram2d\":[{\"colorbar\":{\"outlinewidth\":0,\"ticks\":\"\"},\"colorscale\":[[0.0,\"#0d0887\"],[0.1111111111111111,\"#46039f\"],[0.2222222222222222,\"#7201a8\"],[0.3333333333333333,\"#9c179e\"],[0.4444444444444444,\"#bd3786\"],[0.5555555555555556,\"#d8576b\"],[0.6666666666666666,\"#ed7953\"],[0.7777777777777778,\"#fb9f3a\"],[0.8888888888888888,\"#fdca26\"],[1.0,\"#f0f921\"]],\"type\":\"histogram2d\"}],\"histogram\":[{\"marker\":{\"pattern\":{\"fillmode\":\"overlay\",\"size\":10,\"solidity\":0.2}},\"type\":\"histogram\"}],\"mesh3d\":[{\"colorbar\":{\"outlinewidth\":0,\"ticks\":\"\"},\"type\":\"mesh3d\"}],\"parcoords\":[{\"line\":{\"colorbar\":{\"outlinewidth\":0,\"ticks\":\"\"}},\"type\":\"parcoords\"}],\"pie\":[{\"automargin\":true,\"type\":\"pie\"}],\"scatter3d\":[{\"line\":{\"colorbar\":{\"outlinewidth\":0,\"ticks\":\"\"}},\"marker\":{\"colorbar\":{\"outlinewidth\":0,\"ticks\":\"\"}},\"type\":\"scatter3d\"}],\"scattercarpet\":[{\"marker\":{\"colorbar\":{\"outlinewidth\":0,\"ticks\":\"\"}},\"type\":\"scattercarpet\"}],\"scattergeo\":[{\"marker\":{\"colorbar\":{\"outlinewidth\":0,\"ticks\":\"\"}},\"type\":\"scattergeo\"}],\"scattergl\":[{\"marker\":{\"colorbar\":{\"outlinewidth\":0,\"ticks\":\"\"}},\"type\":\"scattergl\"}],\"scattermapbox\":[{\"marker\":{\"colorbar\":{\"outlinewidth\":0,\"ticks\":\"\"}},\"type\":\"scattermapbox\"}],\"scatterpolargl\":[{\"marker\":{\"colorbar\":{\"outlinewidth\":0,\"ticks\":\"\"}},\"type\":\"scatterpolargl\"}],\"scatterpolar\":[{\"marker\":{\"colorbar\":{\"outlinewidth\":0,\"ticks\":\"\"}},\"type\":\"scatterpolar\"}],\"scatter\":[{\"fillpattern\":{\"fillmode\":\"overlay\",\"size\":10,\"solidity\":0.2},\"type\":\"scatter\"}],\"scatterternary\":[{\"marker\":{\"colorbar\":{\"outlinewidth\":0,\"ticks\":\"\"}},\"type\":\"scatterternary\"}],\"surface\":[{\"colorbar\":{\"outlinewidth\":0,\"ticks\":\"\"},\"colorscale\":[[0.0,\"#0d0887\"],[0.1111111111111111,\"#46039f\"],[0.2222222222222222,\"#7201a8\"],[0.3333333333333333,\"#9c179e\"],[0.4444444444444444,\"#bd3786\"],[0.5555555555555556,\"#d8576b\"],[0.6666666666666666,\"#ed7953\"],[0.7777777777777778,\"#fb9f3a\"],[0.8888888888888888,\"#fdca26\"],[1.0,\"#f0f921\"]],\"type\":\"surface\"}],\"table\":[{\"cells\":{\"fill\":{\"color\":\"#EBF0F8\"},\"line\":{\"color\":\"white\"}},\"header\":{\"fill\":{\"color\":\"#C8D4E3\"},\"line\":{\"color\":\"white\"}},\"type\":\"table\"}]},\"layout\":{\"annotationdefaults\":{\"arrowcolor\":\"#2a3f5f\",\"arrowhead\":0,\"arrowwidth\":1},\"autotypenumbers\":\"strict\",\"coloraxis\":{\"colorbar\":{\"outlinewidth\":0,\"ticks\":\"\"}},\"colorscale\":{\"diverging\":[[0,\"#8e0152\"],[0.1,\"#c51b7d\"],[0.2,\"#de77ae\"],[0.3,\"#f1b6da\"],[0.4,\"#fde0ef\"],[0.5,\"#f7f7f7\"],[0.6,\"#e6f5d0\"],[0.7,\"#b8e186\"],[0.8,\"#7fbc41\"],[0.9,\"#4d9221\"],[1,\"#276419\"]],\"sequential\":[[0.0,\"#0d0887\"],[0.1111111111111111,\"#46039f\"],[0.2222222222222222,\"#7201a8\"],[0.3333333333333333,\"#9c179e\"],[0.4444444444444444,\"#bd3786\"],[0.5555555555555556,\"#d8576b\"],[0.6666666666666666,\"#ed7953\"],[0.7777777777777778,\"#fb9f3a\"],[0.8888888888888888,\"#fdca26\"],[1.0,\"#f0f921\"]],\"sequentialminus\":[[0.0,\"#0d0887\"],[0.1111111111111111,\"#46039f\"],[0.2222222222222222,\"#7201a8\"],[0.3333333333333333,\"#9c179e\"],[0.4444444444444444,\"#bd3786\"],[0.5555555555555556,\"#d8576b\"],[0.6666666666666666,\"#ed7953\"],[0.7777777777777778,\"#fb9f3a\"],[0.8888888888888888,\"#fdca26\"],[1.0,\"#f0f921\"]]},\"colorway\":[\"#636efa\",\"#EF553B\",\"#00cc96\",\"#ab63fa\",\"#FFA15A\",\"#19d3f3\",\"#FF6692\",\"#B6E880\",\"#FF97FF\",\"#FECB52\"],\"font\":{\"color\":\"#2a3f5f\"},\"geo\":{\"bgcolor\":\"white\",\"lakecolor\":\"white\",\"landcolor\":\"#E5ECF6\",\"showlakes\":true,\"showland\":true,\"subunitcolor\":\"white\"},\"hoverlabel\":{\"align\":\"left\"},\"hovermode\":\"closest\",\"mapbox\":{\"style\":\"light\"},\"paper_bgcolor\":\"white\",\"plot_bgcolor\":\"#E5ECF6\",\"polar\":{\"angularaxis\":{\"gridcolor\":\"white\",\"linecolor\":\"white\",\"ticks\":\"\"},\"bgcolor\":\"#E5ECF6\",\"radialaxis\":{\"gridcolor\":\"white\",\"linecolor\":\"white\",\"ticks\":\"\"}},\"scene\":{\"xaxis\":{\"backgroundcolor\":\"#E5ECF6\",\"gridcolor\":\"white\",\"gridwidth\":2,\"linecolor\":\"white\",\"showbackground\":true,\"ticks\":\"\",\"zerolinecolor\":\"white\"},\"yaxis\":{\"backgroundcolor\":\"#E5ECF6\",\"gridcolor\":\"white\",\"gridwidth\":2,\"linecolor\":\"white\",\"showbackground\":true,\"ticks\":\"\",\"zerolinecolor\":\"white\"},\"zaxis\":{\"backgroundcolor\":\"#E5ECF6\",\"gridcolor\":\"white\",\"gridwidth\":2,\"linecolor\":\"white\",\"showbackground\":true,\"ticks\":\"\",\"zerolinecolor\":\"white\"}},\"shapedefaults\":{\"line\":{\"color\":\"#2a3f5f\"}},\"ternary\":{\"aaxis\":{\"gridcolor\":\"white\",\"linecolor\":\"white\",\"ticks\":\"\"},\"baxis\":{\"gridcolor\":\"white\",\"linecolor\":\"white\",\"ticks\":\"\"},\"bgcolor\":\"#E5ECF6\",\"caxis\":{\"gridcolor\":\"white\",\"linecolor\":\"white\",\"ticks\":\"\"}},\"title\":{\"x\":0.05},\"xaxis\":{\"automargin\":true,\"gridcolor\":\"white\",\"linecolor\":\"white\",\"ticks\":\"\",\"title\":{\"standoff\":15},\"zerolinecolor\":\"white\",\"zerolinewidth\":2},\"yaxis\":{\"automargin\":true,\"gridcolor\":\"white\",\"linecolor\":\"white\",\"ticks\":\"\",\"title\":{\"standoff\":15},\"zerolinecolor\":\"white\",\"zerolinewidth\":2}}},\"title\":{\"font\":{\"color\":\"#4D5663\"}},\"xaxis\":{\"anchor\":\"y\",\"domain\":[0.0,0.2125],\"gridcolor\":\"#E1E5ED\",\"showgrid\":false,\"tickfont\":{\"color\":\"#4D5663\"},\"title\":{\"font\":{\"color\":\"#4D5663\"},\"text\":\"\"},\"zerolinecolor\":\"#E1E5ED\"},\"yaxis\":{\"anchor\":\"x\",\"domain\":[0.8025,1.0],\"gridcolor\":\"#E1E5ED\",\"showgrid\":false,\"tickfont\":{\"color\":\"#4D5663\"},\"title\":{\"font\":{\"color\":\"#4D5663\"},\"text\":\"\"},\"zerolinecolor\":\"#E1E5ED\"},\"xaxis2\":{\"anchor\":\"y2\",\"domain\":[0.2625,0.475],\"gridcolor\":\"#E1E5ED\",\"showgrid\":false,\"tickfont\":{\"color\":\"#4D5663\"},\"title\":{\"font\":{\"color\":\"#4D5663\"},\"text\":\"\"},\"zerolinecolor\":\"#E1E5ED\"},\"yaxis2\":{\"anchor\":\"x2\",\"domain\":[0.8025,1.0],\"gridcolor\":\"#E1E5ED\",\"showgrid\":false,\"tickfont\":{\"color\":\"#4D5663\"},\"title\":{\"font\":{\"color\":\"#4D5663\"},\"text\":\"\"},\"zerolinecolor\":\"#E1E5ED\"},\"xaxis3\":{\"anchor\":\"y3\",\"domain\":[0.525,0.7375],\"gridcolor\":\"#E1E5ED\",\"showgrid\":false,\"tickfont\":{\"color\":\"#4D5663\"},\"title\":{\"font\":{\"color\":\"#4D5663\"},\"text\":\"\"},\"zerolinecolor\":\"#E1E5ED\"},\"yaxis3\":{\"anchor\":\"x3\",\"domain\":[0.8025,1.0],\"gridcolor\":\"#E1E5ED\",\"showgrid\":false,\"tickfont\":{\"color\":\"#4D5663\"},\"title\":{\"font\":{\"color\":\"#4D5663\"},\"text\":\"\"},\"zerolinecolor\":\"#E1E5ED\"},\"xaxis4\":{\"anchor\":\"y4\",\"domain\":[0.7875,1.0],\"gridcolor\":\"#E1E5ED\",\"showgrid\":false,\"tickfont\":{\"color\":\"#4D5663\"},\"title\":{\"font\":{\"color\":\"#4D5663\"},\"text\":\"\"},\"zerolinecolor\":\"#E1E5ED\"},\"yaxis4\":{\"anchor\":\"x4\",\"domain\":[0.8025,1.0],\"gridcolor\":\"#E1E5ED\",\"showgrid\":false,\"tickfont\":{\"color\":\"#4D5663\"},\"title\":{\"font\":{\"color\":\"#4D5663\"},\"text\":\"\"},\"zerolinecolor\":\"#E1E5ED\"},\"xaxis5\":{\"anchor\":\"y5\",\"domain\":[0.0,0.2125],\"gridcolor\":\"#E1E5ED\",\"showgrid\":false,\"tickfont\":{\"color\":\"#4D5663\"},\"title\":{\"font\":{\"color\":\"#4D5663\"},\"text\":\"\"},\"zerolinecolor\":\"#E1E5ED\"},\"yaxis5\":{\"anchor\":\"x5\",\"domain\":[0.535,0.7325],\"gridcolor\":\"#E1E5ED\",\"showgrid\":false,\"tickfont\":{\"color\":\"#4D5663\"},\"title\":{\"font\":{\"color\":\"#4D5663\"},\"text\":\"\"},\"zerolinecolor\":\"#E1E5ED\"},\"xaxis6\":{\"anchor\":\"y6\",\"domain\":[0.2625,0.475],\"gridcolor\":\"#E1E5ED\",\"showgrid\":false,\"tickfont\":{\"color\":\"#4D5663\"},\"title\":{\"font\":{\"color\":\"#4D5663\"},\"text\":\"\"},\"zerolinecolor\":\"#E1E5ED\"},\"yaxis6\":{\"anchor\":\"x6\",\"domain\":[0.535,0.7325],\"gridcolor\":\"#E1E5ED\",\"showgrid\":false,\"tickfont\":{\"color\":\"#4D5663\"},\"title\":{\"font\":{\"color\":\"#4D5663\"},\"text\":\"\"},\"zerolinecolor\":\"#E1E5ED\"},\"xaxis7\":{\"anchor\":\"y7\",\"domain\":[0.525,0.7375],\"gridcolor\":\"#E1E5ED\",\"showgrid\":false,\"tickfont\":{\"color\":\"#4D5663\"},\"title\":{\"font\":{\"color\":\"#4D5663\"},\"text\":\"\"},\"zerolinecolor\":\"#E1E5ED\"},\"yaxis7\":{\"anchor\":\"x7\",\"domain\":[0.535,0.7325],\"gridcolor\":\"#E1E5ED\",\"showgrid\":false,\"tickfont\":{\"color\":\"#4D5663\"},\"title\":{\"font\":{\"color\":\"#4D5663\"},\"text\":\"\"},\"zerolinecolor\":\"#E1E5ED\"},\"xaxis8\":{\"anchor\":\"y8\",\"domain\":[0.7875,1.0],\"gridcolor\":\"#E1E5ED\",\"showgrid\":false,\"tickfont\":{\"color\":\"#4D5663\"},\"title\":{\"font\":{\"color\":\"#4D5663\"},\"text\":\"\"},\"zerolinecolor\":\"#E1E5ED\"},\"yaxis8\":{\"anchor\":\"x8\",\"domain\":[0.535,0.7325],\"gridcolor\":\"#E1E5ED\",\"showgrid\":false,\"tickfont\":{\"color\":\"#4D5663\"},\"title\":{\"font\":{\"color\":\"#4D5663\"},\"text\":\"\"},\"zerolinecolor\":\"#E1E5ED\"},\"xaxis9\":{\"anchor\":\"y9\",\"domain\":[0.0,0.2125],\"gridcolor\":\"#E1E5ED\",\"showgrid\":false,\"tickfont\":{\"color\":\"#4D5663\"},\"title\":{\"font\":{\"color\":\"#4D5663\"},\"text\":\"\"},\"zerolinecolor\":\"#E1E5ED\"},\"yaxis9\":{\"anchor\":\"x9\",\"domain\":[0.2675,0.465],\"gridcolor\":\"#E1E5ED\",\"showgrid\":false,\"tickfont\":{\"color\":\"#4D5663\"},\"title\":{\"font\":{\"color\":\"#4D5663\"},\"text\":\"\"},\"zerolinecolor\":\"#E1E5ED\"},\"xaxis10\":{\"anchor\":\"y10\",\"domain\":[0.2625,0.475],\"gridcolor\":\"#E1E5ED\",\"showgrid\":false,\"tickfont\":{\"color\":\"#4D5663\"},\"title\":{\"font\":{\"color\":\"#4D5663\"},\"text\":\"\"},\"zerolinecolor\":\"#E1E5ED\"},\"yaxis10\":{\"anchor\":\"x10\",\"domain\":[0.2675,0.465],\"gridcolor\":\"#E1E5ED\",\"showgrid\":false,\"tickfont\":{\"color\":\"#4D5663\"},\"title\":{\"font\":{\"color\":\"#4D5663\"},\"text\":\"\"},\"zerolinecolor\":\"#E1E5ED\"},\"xaxis11\":{\"anchor\":\"y11\",\"domain\":[0.525,0.7375],\"gridcolor\":\"#E1E5ED\",\"showgrid\":false,\"tickfont\":{\"color\":\"#4D5663\"},\"title\":{\"font\":{\"color\":\"#4D5663\"},\"text\":\"\"},\"zerolinecolor\":\"#E1E5ED\"},\"yaxis11\":{\"anchor\":\"x11\",\"domain\":[0.2675,0.465],\"gridcolor\":\"#E1E5ED\",\"showgrid\":false,\"tickfont\":{\"color\":\"#4D5663\"},\"title\":{\"font\":{\"color\":\"#4D5663\"},\"text\":\"\"},\"zerolinecolor\":\"#E1E5ED\"},\"xaxis12\":{\"anchor\":\"y12\",\"domain\":[0.7875,1.0],\"gridcolor\":\"#E1E5ED\",\"showgrid\":false,\"tickfont\":{\"color\":\"#4D5663\"},\"title\":{\"font\":{\"color\":\"#4D5663\"},\"text\":\"\"},\"zerolinecolor\":\"#E1E5ED\"},\"yaxis12\":{\"anchor\":\"x12\",\"domain\":[0.2675,0.465],\"gridcolor\":\"#E1E5ED\",\"showgrid\":false,\"tickfont\":{\"color\":\"#4D5663\"},\"title\":{\"font\":{\"color\":\"#4D5663\"},\"text\":\"\"},\"zerolinecolor\":\"#E1E5ED\"},\"xaxis13\":{\"anchor\":\"y13\",\"domain\":[0.0,0.2125],\"gridcolor\":\"#E1E5ED\",\"showgrid\":false,\"tickfont\":{\"color\":\"#4D5663\"},\"title\":{\"font\":{\"color\":\"#4D5663\"},\"text\":\"\"},\"zerolinecolor\":\"#E1E5ED\"},\"yaxis13\":{\"anchor\":\"x13\",\"domain\":[0.0,0.1975],\"gridcolor\":\"#E1E5ED\",\"showgrid\":false,\"tickfont\":{\"color\":\"#4D5663\"},\"title\":{\"font\":{\"color\":\"#4D5663\"},\"text\":\"\"},\"zerolinecolor\":\"#E1E5ED\"},\"xaxis14\":{\"anchor\":\"y14\",\"domain\":[0.2625,0.475],\"gridcolor\":\"#E1E5ED\",\"showgrid\":false,\"tickfont\":{\"color\":\"#4D5663\"},\"title\":{\"font\":{\"color\":\"#4D5663\"},\"text\":\"\"},\"zerolinecolor\":\"#E1E5ED\"},\"yaxis14\":{\"anchor\":\"x14\",\"domain\":[0.0,0.1975],\"gridcolor\":\"#E1E5ED\",\"showgrid\":false,\"tickfont\":{\"color\":\"#4D5663\"},\"title\":{\"font\":{\"color\":\"#4D5663\"},\"text\":\"\"},\"zerolinecolor\":\"#E1E5ED\"},\"xaxis15\":{\"anchor\":\"y15\",\"domain\":[0.525,0.7375],\"gridcolor\":\"#E1E5ED\",\"showgrid\":false,\"tickfont\":{\"color\":\"#4D5663\"},\"title\":{\"font\":{\"color\":\"#4D5663\"},\"text\":\"\"},\"zerolinecolor\":\"#E1E5ED\"},\"yaxis15\":{\"anchor\":\"x15\",\"domain\":[0.0,0.1975],\"gridcolor\":\"#E1E5ED\",\"showgrid\":false,\"tickfont\":{\"color\":\"#4D5663\"},\"title\":{\"font\":{\"color\":\"#4D5663\"},\"text\":\"\"},\"zerolinecolor\":\"#E1E5ED\"},\"xaxis16\":{\"anchor\":\"y16\",\"domain\":[0.7875,1.0],\"gridcolor\":\"#E1E5ED\",\"showgrid\":false,\"tickfont\":{\"color\":\"#4D5663\"},\"title\":{\"font\":{\"color\":\"#4D5663\"},\"text\":\"\"},\"zerolinecolor\":\"#E1E5ED\"},\"yaxis16\":{\"anchor\":\"x16\",\"domain\":[0.0,0.1975],\"gridcolor\":\"#E1E5ED\",\"showgrid\":false,\"tickfont\":{\"color\":\"#4D5663\"},\"title\":{\"font\":{\"color\":\"#4D5663\"},\"text\":\"\"},\"zerolinecolor\":\"#E1E5ED\"}},                        {\"showLink\": true, \"linkText\": \"Export to plot.ly\", \"plotlyServerURL\": \"https://plot.ly\", \"responsive\": true}                    ).then(function(){\n",
       "                            \n",
       "var gd = document.getElementById('c96ca04d-047f-4bbb-9916-e422648dc2bb');\n",
       "var x = new MutationObserver(function (mutations, observer) {{\n",
       "        var display = window.getComputedStyle(gd).display;\n",
       "        if (!display || display === 'none') {{\n",
       "            console.log([gd, 'removed!']);\n",
       "            Plotly.purge(gd);\n",
       "            observer.disconnect();\n",
       "        }}\n",
       "}});\n",
       "\n",
       "// Listen for the removal of the full notebook cells\n",
       "var notebookContainer = gd.closest('#notebook-container');\n",
       "if (notebookContainer) {{\n",
       "    x.observe(notebookContainer, {childList: true});\n",
       "}}\n",
       "\n",
       "// Listen for the clearing of the current output cell\n",
       "var outputEl = gd.closest('.output');\n",
       "if (outputEl) {{\n",
       "    x.observe(outputEl, {childList: true});\n",
       "}}\n",
       "\n",
       "                        })                };                });            </script>        </div>"
      ]
     },
     "metadata": {},
     "output_type": "display_data"
    }
   ],
   "source": [
    "df.scatter_matrix()"
   ]
  },
  {
   "cell_type": "code",
   "execution_count": null,
   "id": "df1049d2",
   "metadata": {},
   "outputs": [],
   "source": []
  },
  {
   "cell_type": "code",
   "execution_count": null,
   "id": "510ec00f",
   "metadata": {},
   "outputs": [],
   "source": []
  },
  {
   "cell_type": "code",
   "execution_count": null,
   "id": "745aedc3",
   "metadata": {},
   "outputs": [],
   "source": []
  },
  {
   "cell_type": "code",
   "execution_count": null,
   "id": "39e0d78f",
   "metadata": {},
   "outputs": [],
   "source": []
  },
  {
   "cell_type": "code",
   "execution_count": null,
   "id": "0b3ff769",
   "metadata": {},
   "outputs": [],
   "source": []
  },
  {
   "cell_type": "code",
   "execution_count": null,
   "id": "5470256b",
   "metadata": {},
   "outputs": [],
   "source": []
  }
 ],
 "metadata": {
  "kernelspec": {
   "display_name": "Python 3 (ipykernel)",
   "language": "python",
   "name": "python3"
  },
  "language_info": {
   "codemirror_mode": {
    "name": "ipython",
    "version": 3
   },
   "file_extension": ".py",
   "mimetype": "text/x-python",
   "name": "python",
   "nbconvert_exporter": "python",
   "pygments_lexer": "ipython3",
   "version": "3.9.12"
  }
 },
 "nbformat": 4,
 "nbformat_minor": 5
}
